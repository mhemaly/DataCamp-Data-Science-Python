{
  "nbformat": 4,
  "nbformat_minor": 0,
  "metadata": {
    "colab": {
      "name": "Introduction to Importing Data in Python.ipynb",
      "provenance": []
    },
    "kernelspec": {
      "name": "python3",
      "display_name": "Python 3"
    },
    "language_info": {
      "name": "python"
    }
  },
  "cells": [
    {
      "cell_type": "markdown",
      "metadata": {
        "id": "Hyb1l7FyFBdB"
      },
      "source": [
        "**Importing entire text files**\n",
        "\n",
        "\n",
        "\n",
        "In this exercise, you'll be working with the file moby_dick.txt. It is a text file that contains the opening sentences of Moby Dick, one of the great American novels! Here you'll get experience opening a text file, printing its contents to the shell and, finally, closing it.\n",
        "\n",
        "Instructions(100 XP):\n",
        "\n",
        "Open the file moby_dick.txt as read-only and store it in the variable file. Make sure to pass the filename enclosed in quotation marks ''.\n",
        "Print the contents of the file to the shell using the print() function. As Hugo showed in the video, you'll need to apply the method read() to the object file.\n",
        "Check whether the file is closed by executing print(file.closed).\n",
        "Close the file using the close() method.\n",
        "Check again that the file is closed as you did above."
      ]
    },
    {
      "cell_type": "code",
      "metadata": {
        "colab": {
          "base_uri": "https://localhost:8080/"
        },
        "id": "JUuPi6IXE7zw",
        "outputId": "a4f03d0c-fe0d-43d0-a77d-7863786d7f88"
      },
      "source": [
        "# Open a file: file\n",
        "file = open('moby_dick.txt', 'r')\n",
        "\n",
        "# Print it\n",
        "print(file.read())\n",
        "\n",
        "# Check whether file is closed\n",
        "print(file.closed)\n",
        "\n",
        "# Close file\n",
        "file.close()\n",
        "\n",
        "# Check whether file is closed\n",
        "print(file.closed)\n"
      ],
      "execution_count": 4,
      "outputs": [
        {
          "output_type": "stream",
          "text": [
            "CHAPTER 1. Loomings.\n",
            "\n",
            "Call me Ishmael. Some years ago--never mind how long precisely--having\n",
            "little or no money in my purse, and nothing particular to interest me on\n",
            "shore, I thought I would sail about a little and see the watery part of\n",
            "the world. It is a way I have of driving off the spleen and regulating\n",
            "the circulation. Whenever I find myself growing grim about the mouth;\n",
            "whenever it is a damp, drizzly November in my soul; whenever I find\n",
            "myself involuntarily pausing before coffin warehouses, and bringing up\n",
            "the rear of every funeral I meet; and especially whenever my hypos get\n",
            "such an upper hand of me, that it requires a strong moral principle to\n",
            "prevent me from deliberately stepping into the street, and methodically\n",
            "knocking people's hats off--then, I account it high time to get to sea\n",
            "as soon as I can. This is my substitute for pistol and ball. With a\n",
            "philosophical flourish Cato throws himself upon his sword; I quietly\n",
            "take to the ship. There is nothing surprising in this. If they but knew\n",
            "it, almost all men in their degree, some time or other, cherish very\n",
            "nearly the same feelings towards the ocean with me.\n",
            "False\n",
            "True\n"
          ],
          "name": "stdout"
        }
      ]
    },
    {
      "cell_type": "markdown",
      "metadata": {
        "id": "MSW8duoaGbDY"
      },
      "source": [
        "**Importing text files line by line**\n",
        "\n",
        "For large files, we may not want to print all of their content to the shell: you may wish to print only the first few lines. Enter the readline() method, which allows you to do this. When a file called file is open, you can print out the first line by executing file.readline(). If you execute the same command again, the second line will print, and so on.\n",
        "\n",
        "\n",
        "In the introductory video, Hugo also introduced the concept of a context manager. He showed that you can bind a variable file by using a context manager construct:\n",
        "\n",
        "\n",
        "with open('huck_finn.txt') as file:\n",
        "While still within this construct, the variable file will be bound to open('huck_finn.txt'); thus, to print the file to the shell, all the code you need to execute is:\n",
        "\n",
        "\n",
        "with open('huck_finn.txt') as file:\n",
        "    print(file.readline())\n",
        "You'll now use these tools to print the first few lines of moby_dick.txt!\n",
        "\n",
        "\n",
        "Instructions(100 XP)\n",
        "\n",
        "\n",
        "Open moby_dick.txt using the with context manager and the variable file.\n",
        "Print the first three lines of the file to the shell by using readline() three times within the context manager.\n",
        "\n",
        "Take Hint (-30 XP)"
      ]
    },
    {
      "cell_type": "code",
      "metadata": {
        "colab": {
          "base_uri": "https://localhost:8080/"
        },
        "id": "i8wmowVfGcuF",
        "outputId": "75aea13f-0d07-4598-bad7-172fad71487c"
      },
      "source": [
        "# Read & print the first 3 lines\n",
        "with open('moby_dick.txt') as file:\n",
        "    print(file.readline())\n",
        "    print(file.readline())\n",
        "    print(file.readline())"
      ],
      "execution_count": 5,
      "outputs": [
        {
          "output_type": "stream",
          "text": [
            "CHAPTER 1. Loomings.\n",
            "\n",
            "\n",
            "\n",
            "Call me Ishmael. Some years ago--never mind how long precisely--having\n",
            "\n"
          ],
          "name": "stdout"
        }
      ]
    },
    {
      "cell_type": "markdown",
      "metadata": {
        "id": "mQY5m5EbGhE0"
      },
      "source": [
        "Pop quiz: examples of flat files\n",
        "You're now well-versed in importing text files and you're about to become a wiz at importing flat files. But can you remember exactly what a flat file is? Test your knowledge by answering the following question: which of these file types below is NOT an example of a flat file?\n",
        "\n",
        "Answer the question\n",
        "50XP\n",
        "Possible Answers\n",
        "\n",
        "***A .csv file.***\n",
        "press\n",
        "1\n",
        "\n",
        "A tab-delimited .txt.\n",
        "press\n",
        "2\n",
        "\n",
        "A relational database (e.g. PostgreSQL).\n",
        "press\n"
      ]
    },
    {
      "cell_type": "markdown",
      "metadata": {
        "id": "Hk1XJN-lG_xx"
      },
      "source": [
        "**Pop quiz: what exactly are flat files?**\n",
        "\n",
        "Which of the following statements about flat files is incorrect?\n",
        "\n",
        "Answer the question\n",
        "50XP\n",
        "Possible Answers\n",
        "\n",
        "\n",
        " **Flat files consist of rows and each row is called a record.\n",
        "press1**\n",
        "\n",
        "\n",
        "Flat files consist of multiple tables with structured relationships between the tables.\n",
        "press\n",
        "2\n",
        "\n",
        "A record in a flat file is composed of fields or attributes, each of which contains at most one item of information.\n",
        "press\n",
        "3\n",
        "\n",
        "Flat files are pervasive in data science.\n",
        "press\n"
      ]
    },
    {
      "cell_type": "markdown",
      "metadata": {
        "id": "XUSiFfuGHPJC"
      },
      "source": [
        "**Why we like flat files and the Zen of Python**\n",
        "\n",
        "In PythonLand, there are currently hundreds of Python Enhancement Proposals, commonly referred to as PEPs. PEP8, for example, is a standard style guide for Python, written by our sensei Guido van Rossum himself. It is the basis for how we here at DataCamp ask our instructors to style their code. Another one of my favorites is PEP20, commonly called the Zen of Python. Its abstract is as follows:\n",
        "\n",
        "Long time Pythoneer Tim Peters succinctly channels the BDFL's guiding principles for Python's design into 20 aphorisms, only 19 of which have been written down.\n",
        "\n",
        "If you don't know what the acronym BDFL stands for, I suggest that you look here. You can print the Zen of Python in your shell by typing import this into it! You're going to do this now and the 5th aphorism (line) will say something of particular interest.\n",
        "\n",
        "The question you need to answer is: what is the 5th aphorism of the Zen of Python?\n",
        "\n",
        "Instructions\n",
        "50 XP\n",
        "\n",
        "Possible Answers\n",
        "\n",
        "\n",
        "***Flat is better than nested.***\n",
        "\n",
        "Flat files are essential for data science.\n",
        "\n",
        "The world is representable as a flat file.\n",
        "\n",
        "Flatness is in the eye of the beholder.\n",
        "\n",
        "Submit Answer\n",
        "\n",
        "Take Hint (-15 XP)"
      ]
    },
    {
      "cell_type": "markdown",
      "metadata": {
        "id": "jy93TofqHbBZ"
      },
      "source": [
        "**Using NumPy to import flat files**\n",
        "\n",
        "\n",
        "In this exercise, you're now going to load the MNIST digit recognition dataset using the numpy function loadtxt() and see just how easy it can be:\n",
        "\n",
        "The first argument will be the filename.\n",
        "The second will be the delimiter which, in this case, is a comma.\n",
        "You can find more information about the MNIST dataset here on the webpage of Yann LeCun, who is currently Director of AI Research at Facebook and Founding Director of the NYU Center for Data Science, among many other things.\n",
        "\n",
        "Instructions(100 XP):\n",
        "\n",
        "\n",
        "Fill in the arguments of np.loadtxt() by passing file and a comma ',' for the delimiter.\n",
        "Fill in the argument of print() to print the type of the object digits. Use the function type().\n",
        "Execute the rest of the code to visualize one of the rows of the data.\n",
        "\n",
        "Take Hint (-30 XP)"
      ]
    },
    {
      "cell_type": "code",
      "metadata": {
        "colab": {
          "base_uri": "https://localhost:8080/",
          "height": 282
        },
        "id": "4gXJy-BtG_Ny",
        "outputId": "f91ba4df-ba4c-403c-bab5-bc6a4cefcce4"
      },
      "source": [
        "# Import package\n",
        "import matplotlib.pyplot as plt\n",
        "import numpy as np\n",
        "\n",
        "# Assign filename to variable: file\n",
        "file = 'digits.csv'\n",
        "\n",
        "# Load file as array: digits\n",
        "digits = np.loadtxt(file, delimiter=',')\n",
        "\n",
        "# Print datatype of digits\n",
        "print(type(digits))\n",
        "\n",
        "# Select and reshape a row\n",
        "im = digits[21, 1:]\n",
        "im_sq = np.reshape(im, (28, 28))\n",
        "\n",
        "# Plot reshaped data (matplotlib.pyplot already loaded as plt)\n",
        "plt.imshow(im_sq, cmap='Greys', interpolation='nearest')\n",
        "plt.show()\n"
      ],
      "execution_count": 9,
      "outputs": [
        {
          "output_type": "stream",
          "text": [
            "<class 'numpy.ndarray'>\n"
          ],
          "name": "stdout"
        },
        {
          "output_type": "display_data",
          "data": {
            "image/png": "[encoded data removed]",
            "text/plain": [
              "<Figure size 432x288 with 1 Axes>"
            ]
          },
          "metadata": {
            "tags": [],
            "needs_background": "light"
          }
        }
      ]
    },
    {
      "cell_type": "markdown",
      "metadata": {
        "id": "wxigC1LpGrkY"
      },
      "source": [
        "**Customizing your NumPy import**\n",
        "\n",
        "\n",
        "What if there are rows, such as a header, that you don't want to import? What if your file has a delimiter other than a comma? What if you only wish to import particular columns?\n",
        "\n",
        "There are a number of arguments that np.loadtxt() takes that you'll find useful:\n",
        "\n",
        "delimiter changes the delimiter that loadtxt() is expecting.\n",
        "You can use ',' for comma-delimited.\n",
        "You can use '\\t' for tab-delimited.\n",
        "skiprows allows you to specify how many rows (not indices) you wish to skip\n",
        "usecols takes a list of the indices of the columns you wish to keep.\n",
        "The file that you'll be importing, digits_header.txt, has a header and is tab-delimited.\n",
        "\n",
        "Instructions(100 XP):\n",
        "\n",
        "\n",
        "Complete the arguments of np.loadtxt(): the file you're importing is tab-delimited, you want to skip the first row and you only want to import the first and third columns.\n",
        "Complete the argument of the print() call in order to print the entire array that you just imported.\n",
        "\n",
        "Take Hint (-30 XP)"
      ]
    },
    {
      "cell_type": "code",
      "metadata": {
        "colab": {
          "base_uri": "https://localhost:8080/"
        },
        "id": "hfLtdh2JIcSB",
        "outputId": "07b74437-c7e7-436b-8014-1c9b44722645"
      },
      "source": [
        "# Import numpy\n",
        "import numpy as np\n",
        "\n",
        "# Assign the filename: file\n",
        "file = 'digits_header.txt'\n",
        "\n",
        "# Load the data: data\n",
        "data = np.loadtxt(file, delimiter='\\t', skiprows=1, usecols=(0,2))\n",
        "\n",
        "# Print data\n",
        "print(data)\n"
      ],
      "execution_count": 10,
      "outputs": [
        {
          "output_type": "stream",
          "text": [
            "[[1. 0.]\n",
            " [0. 0.]\n",
            " [1. 0.]\n",
            " [4. 0.]\n",
            " [0. 0.]\n",
            " [0. 0.]\n",
            " [7. 0.]\n",
            " [3. 0.]\n",
            " [5. 0.]\n",
            " [3. 0.]\n",
            " [8. 0.]\n",
            " [9. 0.]\n",
            " [1. 0.]\n",
            " [3. 0.]\n",
            " [3. 0.]\n",
            " [1. 0.]\n",
            " [2. 0.]\n",
            " [0. 0.]\n",
            " [7. 0.]\n",
            " [5. 0.]\n",
            " [8. 0.]\n",
            " [6. 0.]\n",
            " [2. 0.]\n",
            " [0. 0.]\n",
            " [2. 0.]\n",
            " [3. 0.]\n",
            " [6. 0.]\n",
            " [9. 0.]\n",
            " [9. 0.]\n",
            " [7. 0.]\n",
            " [8. 0.]\n",
            " [9. 0.]\n",
            " [4. 0.]\n",
            " [9. 0.]\n",
            " [2. 0.]\n",
            " [1. 0.]\n",
            " [3. 0.]\n",
            " [1. 0.]\n",
            " [1. 0.]\n",
            " [4. 0.]\n",
            " [9. 0.]\n",
            " [1. 0.]\n",
            " [4. 0.]\n",
            " [4. 0.]\n",
            " [2. 0.]\n",
            " [6. 0.]\n",
            " [3. 0.]\n",
            " [7. 0.]\n",
            " [7. 0.]\n",
            " [4. 0.]\n",
            " [7. 0.]\n",
            " [5. 0.]\n",
            " [1. 0.]\n",
            " [9. 0.]\n",
            " [0. 0.]\n",
            " [2. 0.]\n",
            " [2. 0.]\n",
            " [3. 0.]\n",
            " [9. 0.]\n",
            " [1. 0.]\n",
            " [1. 0.]\n",
            " [1. 0.]\n",
            " [5. 0.]\n",
            " [0. 0.]\n",
            " [6. 0.]]\n"
          ],
          "name": "stdout"
        }
      ]
    },
    {
      "cell_type": "markdown",
      "metadata": {
        "id": "HPb_9ve0IW2K"
      },
      "source": [
        "**Importing different datatypes**\n",
        "\n",
        "\n",
        "The file seaslug.txt\n",
        "\n",
        "has a text header, consisting of strings\n",
        "is tab-delimited.\n",
        "These data consists of percentage of sea slug larvae that had metamorphosed in a given time period. Read more here.\n",
        "\n",
        "Due to the header, if you tried to import it as-is using np.loadtxt(), Python would throw you a ValueError and tell you that it could not convert string to float. There are two ways to deal with this: firstly, you can set the data type argument dtype equal to str (for string).\n",
        "\n",
        "Alternatively, you can skip the first row as we have seen before, using the skiprows argument.\n",
        "\n",
        "Instructions(100 XP):\n",
        "\n",
        "\n",
        "Complete the first call to np.loadtxt() by passing file as the first argument.\n",
        "Execute print(data[0]) to print the first element of data.\n",
        "Complete the second call to np.loadtxt(). The file you're importing is tab-delimited, the datatype is float, and you want to skip the first row.\n",
        "Print the 10th element of data_float by completing the print() command. Be guided by the previous print() call.\n",
        "Execute the rest of the code to visualize the data.\n",
        "\n",
        "Take Hint (-30 XP)"
      ]
    },
    {
      "cell_type": "code",
      "metadata": {
        "colab": {
          "base_uri": "https://localhost:8080/",
          "height": 313
        },
        "id": "rITrbBjBJQzb",
        "outputId": "51f4a46c-53fd-4ff8-ab09-f81c6da6953f"
      },
      "source": [
        "# Assign filename: file\n",
        "file = 'seaslug.txt'\n",
        "\n",
        "# Import file: data\n",
        "data = np.loadtxt(file, delimiter='\\t', dtype=str)\n",
        "\n",
        "# Print the first element of data\n",
        "print(data[0])\n",
        "\n",
        "# Import data as floats and skip the first row: data_float\n",
        "data_float = np.loadtxt(file, delimiter='\\t', dtype=float, skiprows=1)\n",
        "\n",
        "# Print the 10th element of data_float\n",
        "print(data_float[9])\n",
        "\n",
        "# Plot a scatterplot of the data\n",
        "plt.scatter(data_float[:, 0], data_float[:, 1])\n",
        "plt.xlabel('time (min.)')\n",
        "plt.ylabel('percentage of larvae')\n",
        "plt.show()\n"
      ],
      "execution_count": 11,
      "outputs": [
        {
          "output_type": "stream",
          "text": [
            "['Time' 'Percent']\n",
            "[0.    0.357]\n"
          ],
          "name": "stdout"
        },
        {
          "output_type": "display_data",
          "data": {
            "image/png": "[encoded data removed]",
            "text/plain": [
              "<Figure size 432x288 with 1 Axes>"
            ]
          },
          "metadata": {
            "tags": [],
            "needs_background": "light"
          }
        }
      ]
    },
    {
      "cell_type": "markdown",
      "metadata": {
        "id": "OjP-TsTyJTpZ"
      },
      "source": [
        "**Working with mixed datatypes (1)**\n",
        "\n",
        "\n",
        "Much of the time you will need to import datasets which have different datatypes in different columns; one column may contain strings and another floats, for example. The function np.loadtxt() will freak at this. There is another function, np.genfromtxt(), which can handle such structures. If we pass dtype=None to it, it will figure out what types each column should be.\n",
        "\n",
        "Import 'titanic.csv' using the function np.genfromtxt() as follows:\n",
        "\n",
        "data = np.genfromtxt('titanic.csv', delimiter=',', names=True, dtype=None)\n",
        "Here, the first argument is the filename, the second specifies the delimiter , and the third argument names tells us there is a header. Because the data are of different types, data is an object called a structured array. Because numpy arrays have to contain elements that are all the same type, the structured array solves this by being a 1D array, where each element of the array is a row of the flat file imported. You can test this by checking out the array's shape in the shell by executing np.shape(data).\n",
        "\n",
        "Accessing rows and columns of structured arrays is super-intuitive: to get the ith row, merely execute data[i] and to get the column with name 'Fare', execute data['Fare'].\n",
        "\n",
        "After importing the Titanic data as a structured array (as per the instructions above), print the entire column with the name Survived to the shell. What are the last 4 values of this column?\n",
        "\n",
        "Instructions\n",
        "50 XP\n",
        "\n",
        "\n",
        "Possible Answers\n",
        "\n",
        "1,0,0,1.\n",
        "\n",
        "1,2,0,0.\n",
        "\n",
        "***1,0,1,0.***\n",
        "\n",
        "0,1,1,1.\n",
        "\n",
        "Submit Answer\n",
        "\n",
        "Take Hint (-15 XP)"
      ]
    },
    {
      "cell_type": "markdown",
      "metadata": {
        "id": "IaWECTCPJdnJ"
      },
      "source": [
        "Working with mixed datatypes (2)\n",
        "\n",
        "\n",
        "You have just used np.genfromtxt() to import data containing mixed datatypes. There is also another function np.recfromcsv() that behaves similarly to np.genfromtxt(), except that its default dtype is None. In this exercise, you'll practice using this to achieve the same result.\n",
        "\n",
        "Instructions:\n",
        "100 XP\n",
        "\n",
        "\n",
        "Import titanic.csv using the function np.recfromcsv() and assign it to the variable, d. You'll only need to pass file to it because it has the defaults delimiter=',' and names=True in addition to dtype=None!\n",
        "Run the remaining code to print the first three entries of the resulting array d."
      ]
    },
    {
      "cell_type": "code",
      "metadata": {
        "colab": {
          "base_uri": "https://localhost:8080/"
        },
        "id": "TeMXqTDZJbpJ",
        "outputId": "3f9291b4-9dda-4151-9d6f-db3677658550"
      },
      "source": [
        "# Assign the filename: file\n",
        "file = 'titanic.csv'\n",
        "\n",
        "# Import file using np.recfromcsv: d\n",
        "d = np.recfromcsv('titanic.csv', delimiter =',' , names=True, dtype=None)\n",
        "\n",
        "# Print out first three entries of d\n",
        "print(d[:3])\n"
      ],
      "execution_count": 18,
      "outputs": [
        {
          "output_type": "stream",
          "text": [
            "[(1, 1, b'Allen- Miss. Elisabeth Walton', b'female', 29.    , 0, 0, b'24160', 211.3375, b'B5', b'S', b'2', -1, b'St Louis- MO')\n",
            " (1, 1, b'Allison- Master. Hudson Trevor', b'male',  0.9167, 1, 2, b'113781', 151.55  , b'C22 C26', b'S', b'11', -1, b'Montreal- PQ / Chesterville- ON')\n",
            " (1, 0, b'Allison- Miss. Helen Loraine', b'female',  2.    , 1, 2, b'113781', 151.55  , b'C22 C26', b'S', b'', -1, b'Montreal- PQ / Chesterville- ON')]\n"
          ],
          "name": "stdout"
        },
        {
          "output_type": "stream",
          "text": [
            "/usr/local/lib/python3.7/dist-packages/numpy/lib/npyio.py:2349: VisibleDeprecationWarning: Reading unicode strings without specifying the encoding argument is deprecated. Set the encoding, use None for the system default.\n",
            "  output = genfromtxt(fname, **kwargs)\n"
          ],
          "name": "stderr"
        }
      ]
    },
    {
      "cell_type": "markdown",
      "metadata": {
        "id": "YyiV-S53LiAi"
      },
      "source": [
        "**Using pandas to import flat files as DataFrames (1)**\n",
        "\n",
        "\n",
        "In the last exercise, you were able to import flat files containing columns with different datatypes as numpy arrays. However, the DataFrame object in pandas is a more appropriate structure in which to store such data and, thankfully, we can easily import files of mixed data types as DataFrames using the pandas functions read_csv() and read_table().\n",
        "\n",
        "Instructions(100 XP):\n",
        "\n",
        "\n",
        "Import the pandas package using the alias pd.\n",
        "Read titanic.csv into a DataFrame called df. The file name is already stored in the file object.\n",
        "In a print() call, view the head of the DataFrame."
      ]
    },
    {
      "cell_type": "code",
      "metadata": {
        "colab": {
          "base_uri": "https://localhost:8080/"
        },
        "id": "KJ-_BkAJLmwx",
        "outputId": "8cbe2b86-0ad0-4c59-f01a-647d5797be26"
      },
      "source": [
        "# Import pandas as pd\n",
        "import pandas as pd\n",
        "\n",
        "# Assign the filename: file\n",
        "file = 'titanic.csv'\n",
        "\n",
        "# Read the file into a DataFrame: df\n",
        "df = pd.read_csv(file)\n",
        "\n",
        "# View the head of the DataFrame\n",
        "print(df.head())\n"
      ],
      "execution_count": 19,
      "outputs": [
        {
          "output_type": "stream",
          "text": [
            "   pclass  survived  ...   body                        home.dest\n",
            "0       1         1  ...    NaN                     St Louis- MO\n",
            "1       1         1  ...    NaN  Montreal- PQ / Chesterville- ON\n",
            "2       1         0  ...    NaN  Montreal- PQ / Chesterville- ON\n",
            "3       1         0  ...  135.0  Montreal- PQ / Chesterville- ON\n",
            "4       1         0  ...    NaN  Montreal- PQ / Chesterville- ON\n",
            "\n",
            "[5 rows x 14 columns]\n"
          ],
          "name": "stdout"
        }
      ]
    },
    {
      "cell_type": "markdown",
      "metadata": {
        "id": "sUeBimg1Lmfx"
      },
      "source": [
        "**Using pandas to import flat files as DataFrames (2)**\n",
        "\n",
        "\n",
        "In the last exercise, you were able to import flat files into a pandas DataFrame. As a bonus, it is then straightforward to retrieve the corresponding numpy array using the attribute values. You'll now have a chance to do this using the MNIST dataset, which is available as digits.csv.\n",
        "\n",
        "Instructions(100 XP):\n",
        "\n",
        "\n",
        "Import the first 5 rows of the file into a DataFrame using the function pd.read_csv() and assign the result to data. You'll need to use the arguments nrows and header (there is no header in this file).\n",
        "Build a numpy array from the resulting DataFrame in data and assign to data_array.\n",
        "Execute print(type(data_array)) to print the datatype of data_array."
      ]
    },
    {
      "cell_type": "code",
      "metadata": {
        "colab": {
          "base_uri": "https://localhost:8080/"
        },
        "id": "qPwHctJaLubJ",
        "outputId": "f42028d5-bd4b-48f1-9f3e-b0b5790a6022"
      },
      "source": [
        "# Assign the filename: file\n",
        "file = 'digits.csv'\n",
        "\n",
        "# Read the first 5 rows of the file into a DataFrame: data\n",
        "data = pd.read_csv(file,nrows =5,header=None)\n",
        "\n",
        "# Build a numpy array from the DataFrame: data_array\n",
        "data_array = np.array(data)\n",
        "\n",
        "# Print the datatype of data_array to the shell\n",
        "print(type(data_array))"
      ],
      "execution_count": 20,
      "outputs": [
        {
          "output_type": "stream",
          "text": [
            "<class 'numpy.ndarray'>\n"
          ],
          "name": "stdout"
        }
      ]
    },
    {
      "cell_type": "markdown",
      "metadata": {
        "id": "GKfH6hjOLyJr"
      },
      "source": [
        "**Customizing your pandas import**\n",
        "\n",
        "\n",
        "The pandas package is also great at dealing with many of the issues you will encounter when importing data as a data scientist, such as comments occurring in flat files, empty lines and missing values. Note that missing values are also commonly referred to as NA or NaN. To wrap up this chapter, you're now going to import a slightly corrupted copy of the Titanic dataset titanic_corrupt.txt, which\n",
        "\n",
        "contains comments after the character '#'\n",
        "is tab-delimited.\n",
        "\n",
        "\n",
        "Instructions(100 XP):\n",
        "\n",
        "\n",
        "Complete the sep (the pandas version of delim), comment and na_values arguments of pd.read_csv(). comment takes characters that comments occur after in the file, which in this case is '#'. na_values takes a list of strings to recognize as NA/NaN, in this case the string 'Nothing'.\n",
        "Execute the rest of the code to print the head of the resulting DataFrame and plot the histogram of the 'Age' of passengers aboard the Titanic.\n",
        "\n",
        "Take Hint (-30 XP)"
      ]
    },
    {
      "cell_type": "code",
      "metadata": {
        "colab": {
          "base_uri": "https://localhost:8080/",
          "height": 430
        },
        "id": "5KmxgGHlL2ZM",
        "outputId": "93dd393e-6b3d-4122-ac8c-012cbfe2e95d"
      },
      "source": [
        "# Import matplotlib.pyplot as plt\n",
        "import matplotlib.pyplot as plt\n",
        "\n",
        "# Assign filename: file\n",
        "file = 'titanic_corrupt.txt'\n",
        "\n",
        "# Import file: data\n",
        "data = pd.read_csv(file, sep='\\t', comment='#', na_values='Nothing')\n",
        "\n",
        "# Print the head of the DataFrame\n",
        "print(data.head())\n",
        "\n",
        "# Plot 'Age' variable in a histogram\n",
        "pd.DataFrame.hist(data[['Age']])\n",
        "plt.xlabel('Age (years)')\n",
        "plt.ylabel('count')\n",
        "plt.show()\n"
      ],
      "execution_count": 22,
      "outputs": [
        {
          "output_type": "stream",
          "text": [
            "   PassengerId  Survived  Pclass  ...     Fare  Cabin  Embarked\n",
            "0            1         0     NaN  ...   7.2500    NaN         S\n",
            "1            2         1     NaN  ...  71.2833    C85         C\n",
            "2            3         1     3.0  ...   7.9250    NaN         S\n",
            "3            4         1     1.0  ...  53.1000   C123         S\n",
            "4            5         0     3.0  ...   8.0500    NaN         S\n",
            "\n",
            "[5 rows x 11 columns]\n"
          ],
          "name": "stdout"
        },
        {
          "output_type": "display_data",
          "data": {
            "image/png": "[encoded data removed]",
            "text/plain": [
              "<Figure size 432x288 with 1 Axes>"
            ]
          },
          "metadata": {
            "tags": [],
            "needs_background": "light"
          }
        }
      ]
    },
    {
      "cell_type": "markdown",
      "metadata": {
        "id": "0DsXiEX5MP4a"
      },
      "source": [
        "**Not so flat any more**\n",
        "\n",
        "\n",
        "In Chapter 1, you learned how to use the IPython magic command ! ls to explore your current working directory. You can also do this natively in Python using the library os, which consists of miscellaneous operating system interfaces.\n",
        "\n",
        "The first line of the following code imports the library os, the second line stores the name of the current directory in a string called wd and the third outputs the contents of the directory in a list to the shell.\n",
        "\n",
        "import os\n",
        "wd = os.getcwd()\n",
        "os.listdir(wd)\n",
        "Run this code in the IPython shell and answer the following questions. Ignore the files that begin with ..\n",
        "\n",
        "Check out the contents of your current directory and answer the following questions: (1) which file is in your directory and NOT an example of a flat file; (2) why is it not a flat file?\n",
        "\n",
        "Instructions: (50 XP)\n",
        "\n",
        "\n",
        "Possible Answers\n",
        "\n",
        "database.db is not a flat file because relational databases contain structured relationships and flat files do not.\n",
        "\n",
        "**battledeath.xlsx is not a flat because it is a spreadsheet consisting of many sheets, not a single table.**\n",
        "*italicized text*\n",
        "\n",
        "\n",
        "titanic.txt is not a flat file because it is a .txt, not a .csv.\n",
        "\n",
        "Submit Answer\n",
        "\n",
        "Take Hint (-15 XP)"
      ]
    },
    {
      "cell_type": "markdown",
      "metadata": {
        "id": "zKOYiybeNSa1"
      },
      "source": [
        "**Loading a pickled file**\n",
        "\n",
        "\n",
        "There are a number of datatypes that cannot be saved easily to flat files, such as lists and dictionaries. If you want your files to be human readable, you may want to save them as text files in a clever manner. JSONs, which you will see in a later chapter, are appropriate for Python dictionaries.\n",
        "\n",
        "However, if you merely want to be able to import them into Python, you can serialize them. All this means is converting the object into a sequence of bytes, or a bytestream.\n",
        "\n",
        "In this exercise, you'll import the pickle package, open a previously pickled data structure from a file and load it.\n",
        "\n",
        "Instructions:(100 XP)\n",
        "\n",
        "\n",
        "Import the pickle package.\n",
        "Complete the second argument of open() so that it is read only for a binary file. This argument will be a string of two letters, one signifying 'read only', the other 'binary'.\n",
        "Pass the correct argument to pickle.load(); it should use the variable that is bound to open.\n",
        "Print the data, d.\n",
        "Print the datatype of d; take your mind back to your previous use of the function type().\n",
        "\n",
        "Take Hint (-30 XP)"
      ]
    },
    {
      "cell_type": "code",
      "metadata": {
        "colab": {
          "base_uri": "https://localhost:8080/"
        },
        "id": "lZlTiXoYNP2_",
        "outputId": "6834b192-25ef-4e94-da13-e471ee1a281e"
      },
      "source": [
        "# Import pickle package\n",
        "import pickle\n",
        "\n",
        "# Open pickle file and load data: d\n",
        "with open('data.pkl', 'rb') as file:\n",
        "    #d = pickle.load(file)\n",
        "    d = pd.read_pickle(file)\n",
        "\n",
        "# Print d\n",
        "print(d)\n",
        "\n",
        "# Print datatype of d\n",
        "print(type(d))"
      ],
      "execution_count": 31,
      "outputs": [
        {
          "output_type": "stream",
          "text": [
            "               cue  action  reward\n",
            "subject trial                     \n",
            "4       0        0       3      23\n",
            "        1        1       2      14\n",
            "        2        0       1       8\n",
            "        3        0       0      -3\n",
            "        4        1       1      -8\n",
            "...            ...     ...     ...\n",
            "69      355      1       0      -3\n",
            "        356      2       1       8\n",
            "        357      2       1      -8\n",
            "        358      2       1       8\n",
            "        359      1       0      -3\n",
            "\n",
            "[15480 rows x 3 columns]\n",
            "<class 'pandas.core.frame.DataFrame'>\n"
          ],
          "name": "stdout"
        }
      ]
    },
    {
      "cell_type": "markdown",
      "metadata": {
        "id": "QgL4BTBfNkYH"
      },
      "source": [
        "**Listing sheets in Excel files**\n",
        "\n",
        "Whether you like it or not, any working data scientist will need to deal with Excel spreadsheets at some point in time. You won't always want to do so in Excel, however!\n",
        "\n",
        "Here, you'll learn how to use pandas to import Excel spreadsheets and how to list the names of the sheets in any loaded .xlsx file.\n",
        "\n",
        "Recall from the video that, given an Excel file imported into a variable spreadsheet, you can retrieve a list of the sheet names using the attribute spreadsheet.sheet_names.\n",
        "\n",
        "Specifically, you'll be loading and checking out the spreadsheet 'battledeath.xlsx', modified from the Peace Research Institute Oslo's (PRIO) dataset. This data contains age-adjusted mortality rates due to war in various countries over several years.\n",
        "\n",
        "Instructions:(100 XP)\n",
        "\n",
        "\n",
        "Assign the spreadsheet filename (provided above) to the variable file.\n",
        "Pass the correct argument to pd.ExcelFile() to load the file using pandas, assigning the result to the variable xls.\n",
        "Print the sheetnames of the Excel spreadsheet by passing the necessary argument to the print() function.\n",
        "\n",
        "Take Hint (-30 XP)"
      ]
    },
    {
      "cell_type": "code",
      "metadata": {
        "colab": {
          "base_uri": "https://localhost:8080/"
        },
        "id": "EeNbEUm3Norp",
        "outputId": "f24c0abd-3071-4c41-e0a6-585d71ddd9cd"
      },
      "source": [
        "# Import pandas\n",
        "import pandas as pd\n",
        "\n",
        "# Assign spreadsheet filename: file\n",
        "file = 'battledeath.xlsx'\n",
        "\n",
        "# Load spreadsheet: xls\n",
        "xls = pd.ExcelFile(file)\n",
        "\n",
        "# Print sheet names\n",
        "print(xls.sheet_names)\n"
      ],
      "execution_count": 25,
      "outputs": [
        {
          "output_type": "stream",
          "text": [
            "['2002', '2004']\n"
          ],
          "name": "stdout"
        }
      ]
    },
    {
      "cell_type": "markdown",
      "metadata": {
        "id": "GGA1FPvSN6Uc"
      },
      "source": [
        "**Importing sheets from Excel files**\n",
        "\n",
        "\n",
        "In the previous exercises, you saw that the Excel file contains two sheets, '2002' and '2004'. The next step is to import these.\n",
        "\n",
        "In this exercise, you'll learn how to import any given sheet of your loaded .xlsx file as a DataFrame. You'll be able to do so by specifying either the sheet's name or its index.\n",
        "\n",
        "The spreadsheet 'battledeath.xlsx' is already loaded as xls.\n",
        "\n",
        "Instructions(100 XP):\n",
        "\n",
        "\n",
        "Load the sheet '2004' into the DataFrame df1 using its name as a string.\n",
        "Print the head of df1 to the shell.\n",
        "Load the sheet 2002 into the DataFrame df2 using its index (0).\n",
        "Print the head of df2 to the shell."
      ]
    },
    {
      "cell_type": "code",
      "metadata": {
        "colab": {
          "base_uri": "https://localhost:8080/"
        },
        "id": "4FnEF9AhN-W8",
        "outputId": "5f6c03a9-0475-43f8-fa5e-219e8d50bc84"
      },
      "source": [
        "# Load a sheet into a DataFrame by name: df1\n",
        "df1 = xls.parse('2004')\n",
        "\n",
        "# Print the head of the DataFrame df1\n",
        "print(df1.head())\n",
        "\n",
        "# Load a sheet into a DataFrame by index: df2\n",
        "df2 = xls.parse(0)\n",
        "\n",
        "# Print the head of the DataFrame df2\n",
        "print(df2.head())"
      ],
      "execution_count": 27,
      "outputs": [
        {
          "output_type": "stream",
          "text": [
            "  War(country)      2004\n",
            "0  Afghanistan  9.451028\n",
            "1      Albania  0.130354\n",
            "2      Algeria  3.407277\n",
            "3      Andorra  0.000000\n",
            "4       Angola  2.597931\n",
            "  War, age-adjusted mortality due to       2002\n",
            "0                        Afghanistan  36.083990\n",
            "1                            Albania   0.128908\n",
            "2                            Algeria  18.314120\n",
            "3                            Andorra   0.000000\n",
            "4                             Angola  18.964560\n"
          ],
          "name": "stdout"
        }
      ]
    },
    {
      "cell_type": "markdown",
      "metadata": {
        "id": "tSWcnEddOAoq"
      },
      "source": [
        "**Customizing your spreadsheet import**\n",
        "\n",
        "Here, you'll parse your spreadsheets and use additional arguments to skip rows, rename columns and select only particular columns.\n",
        "\n",
        "The spreadsheet 'battledeath.xlsx' is already loaded as xls.\n",
        "\n",
        "As before, you'll use the method parse(). This time, however, you'll add the additional arguments skiprows, names and usecols. These skip rows, name the columns and designate which columns to parse, respectively. All these arguments can be assigned to lists containing the specific row numbers, strings and column numbers, as appropriate.\n",
        "\n",
        "Instructions(100 XP):\n",
        "\n",
        "\n",
        "Parse the first sheet by index. In doing so, skip the first row of data and name the columns 'Country' and 'AAM due to War (2002)' using the argument names. The values passed to skiprows and names all need to be of type list.\n",
        "Parse the second sheet by index. In doing so, parse only the first column with the usecols parameter, skip the first row and rename the column 'Country'. The argument passed to usecols also needs to be of type list."
      ]
    },
    {
      "cell_type": "code",
      "metadata": {
        "colab": {
          "base_uri": "https://localhost:8080/"
        },
        "id": "eY5EB4JuQXg1",
        "outputId": "4462f18c-d972-4088-ecfd-6689a949e16c"
      },
      "source": [
        "# Parse the first sheet and rename the columns: df1\n",
        "df1 = xls.parse(0, skiprows=[1], names=['Country', 'AAM due to War (2002)'])\n",
        "\n",
        "# Print the head of the DataFrame df1\n",
        "print(df1.head())\n",
        "\n",
        "# Parse the first column of the second sheet and rename the column: df2\n",
        "df2 = xls.parse(1, usecols=[0], skiprows=[0], names=['Country'])\n",
        "\n",
        "# Print the head of the DataFrame df2\n",
        "print(df2.head())\n"
      ],
      "execution_count": 32,
      "outputs": [
        {
          "output_type": "stream",
          "text": [
            "               Country  AAM due to War (2002)\n",
            "0              Albania               0.128908\n",
            "1              Algeria              18.314120\n",
            "2              Andorra               0.000000\n",
            "3               Angola              18.964560\n",
            "4  Antigua and Barbuda               0.000000\n",
            "               Country\n",
            "0              Albania\n",
            "1              Algeria\n",
            "2              Andorra\n",
            "3               Angola\n",
            "4  Antigua and Barbuda\n"
          ],
          "name": "stdout"
        }
      ]
    },
    {
      "cell_type": "markdown",
      "metadata": {
        "id": "R0dD_0a4QbEa"
      },
      "source": [
        "**How to import SAS7BDAT**\n",
        "\n",
        "How do you correctly import the function SAS7BDAT() from the package sas7bdat?\n",
        "\n",
        "Answer the question\n",
        "50XP\n",
        "Possible Answers\n",
        "\n",
        "**import SAS7BDAT from sas7bdat**\n",
        "press\n",
        "1\n",
        "\n",
        "from SAS7BDAT import sas7bdat\n",
        "press\n",
        "2\n",
        "\n",
        "import sas7bdat from SAS7BDAT\n",
        "press\n",
        "3\n",
        "\n",
        "from sas7bdat import SAS7BDAT\n",
        "press\n",
        "4\n",
        "\n",
        "Take Hint (-15 XP)"
      ]
    },
    {
      "cell_type": "markdown",
      "metadata": {
        "id": "GtlgutC5QkTa"
      },
      "source": [
        "**Importing SAS files**\n",
        "\n",
        "\n",
        "In this exercise, you'll figure out how to import a SAS file as a DataFrame using SAS7BDAT and pandas. The file 'sales.sas7bdat' is already in your working directory and both pandas and matplotlib.pyplot have already been imported as follows:\n",
        "\n",
        "import pandas as pd\n",
        "import matplotlib.pyplot as plt\n",
        "The data are adapted from the website of the undergraduate text book Principles of Econometrics by Hill, Griffiths and Lim.\n",
        "\n",
        "Instructions(100 XP):\n",
        "\n",
        "Import the module SAS7BDAT from the library sas7bdat.\n",
        "In the context of the file 'sales.sas7bdat', load its contents to a DataFrame df_sas, using the method to_data_frame() on the object file.\n",
        "Print the head of the DataFrame df_sas.\n",
        "Execute your entire script to produce a histogram plot!\n",
        "\n",
        "Take Hint (-30 XP)"
      ]
    },
    {
      "cell_type": "code",
      "metadata": {
        "colab": {
          "base_uri": "https://localhost:8080/"
        },
        "id": "jiR3Af9fRA_N",
        "outputId": "38a83e99-826b-4e5b-d044-a18bfda43134"
      },
      "source": [
        "pip install sas7bdat\n"
      ],
      "execution_count": 35,
      "outputs": [
        {
          "output_type": "stream",
          "text": [
            "Collecting sas7bdat\n",
            "  Downloading sas7bdat-2.2.3.tar.gz (16 kB)\n",
            "Requirement already satisfied: six>=1.8.0 in /usr/local/lib/python3.7/dist-packages (from sas7bdat) (1.15.0)\n",
            "Building wheels for collected packages: sas7bdat\n",
            "  Building wheel for sas7bdat (setup.py) ... \u001b[?25l\u001b[?25hdone\n",
            "  Created wheel for sas7bdat: filename=sas7bdat-2.2.3-py3-none-any.whl size=16308 sha256=c4311bd82a22420bbdac88cb0ea769094a4d7b9580c11577838f7fddde002440\n",
            "  Stored in directory: /root/.cache/pip/wheels/69/dd/ca/1fd7bf96640d87457056b763e015e20d8e566041bd3273d966\n",
            "Successfully built sas7bdat\n",
            "Installing collected packages: sas7bdat\n",
            "Successfully installed sas7bdat-2.2.3\n"
          ],
          "name": "stdout"
        }
      ]
    },
    {
      "cell_type": "code",
      "metadata": {
        "colab": {
          "base_uri": "https://localhost:8080/",
          "height": 382
        },
        "id": "0KTiLd0HQqpD",
        "outputId": "c3179cc0-62bd-402b-e74a-c856f3604b4c"
      },
      "source": [
        "# Import sas7bdat package\n",
        "\n",
        "from sas7bdat import SAS7BDAT\n",
        "\n",
        "# Save file to a DataFrame: df_sas\n",
        "with SAS7BDAT('sales.sas7bdat') as file:\n",
        "    df_sas = file.to_data_frame()\n",
        "\n",
        "# Print head of DataFrame\n",
        "print(df_sas.head())\n",
        "\n",
        "# Plot histogram of DataFrame features (pandas and pyplot already imported)\n",
        "pd.DataFrame.hist(df_sas[['P']])\n",
        "plt.ylabel('count')\n",
        "plt.show()"
      ],
      "execution_count": 36,
      "outputs": [
        {
          "output_type": "stream",
          "text": [
            "     YEAR     P           S\n",
            "0  1950.0  12.9  181.899994\n",
            "1  1951.0  11.9  245.000000\n",
            "2  1952.0  10.7  250.199997\n",
            "3  1953.0  11.3  265.899994\n",
            "4  1954.0  11.2  248.500000\n"
          ],
          "name": "stdout"
        },
        {
          "output_type": "display_data",
          "data": {
            "image/png": "[encoded data removed]",
            "text/plain": [
              "<Figure size 432x288 with 1 Axes>"
            ]
          },
          "metadata": {
            "tags": [],
            "needs_background": "light"
          }
        }
      ]
    },
    {
      "cell_type": "markdown",
      "metadata": {
        "id": "3nTBHrWxRM7a"
      },
      "source": [
        "**Using read_stata to import Stata files**\n",
        "\n",
        "The pandas package has been imported in the environment as pd and the file disarea.dta is in your working directory. The data consist of disease extents for several diseases in various countries (more information can be found here).\n",
        "\n",
        "What is the correct way of using the read_stata() function to import disarea.dta into the object df?\n",
        "\n",
        "Instructions(50 XP):\n",
        "\n",
        "Possible Answers\n",
        "\n",
        "df = 'disarea.dta'\n",
        "\n",
        "df = read_stata.pd('disarea.dta')\n",
        "\n",
        "\n",
        "**df = pd.read_stata('disarea.dta')**\n",
        "\n",
        "\n",
        "df = pd.read_stata(disarea.dta)\n",
        "\n",
        "Submit Answer\n",
        "\n",
        "Take Hint (-15 XP)"
      ]
    },
    {
      "cell_type": "markdown",
      "metadata": {
        "id": "G-OnW2sqRUva"
      },
      "source": [
        "**Importing Stata files**:\n",
        "\n",
        "\n",
        "Here, you'll gain expertise in importing Stata files as DataFrames using the pd.read_stata() function from pandas. The last exercise's file, 'disarea.dta', is still in your working directory.\n",
        "\n",
        "Instructions(100 XP):\n",
        "\n",
        "\n",
        "Use pd.read_stata() to load the file 'disarea.dta' into the DataFrame df.\n",
        "Print the head of the DataFrame df.\n",
        "Visualize your results by plotting a histogram of the column disa10. We’ve already provided this code for you, so just run it!\n",
        "\n",
        "Take Hint (-30 XP)"
      ]
    },
    {
      "cell_type": "code",
      "metadata": {
        "colab": {
          "base_uri": "https://localhost:8080/",
          "height": 430
        },
        "id": "h-cgRTjsRakE",
        "outputId": "13a8cccc-2d4c-4b9f-fe59-59c8a5341ca5"
      },
      "source": [
        "# Import pandas\n",
        "import pandas as pd\n",
        "\n",
        "# Load Stata file into a pandas DataFrame: df\n",
        "df = pd.read_stata('disarea.dta')\n",
        "\n",
        "# Print the head of the DataFrame df\n",
        "print(df.head())\n",
        "\n",
        "# Plot histogram of one column of the DataFrame\n",
        "pd.DataFrame.hist(df[['disa10']])\n",
        "plt.xlabel('Extent of disease')\n",
        "plt.ylabel('Number of countries')\n",
        "plt.show()\n"
      ],
      "execution_count": 37,
      "outputs": [
        {
          "output_type": "stream",
          "text": [
            "  wbcode               country  disa1  disa2  ...  disa22  disa23  disa24  disa25\n",
            "0    AFG           Afghanistan   0.00   0.00  ...    0.00    0.02    0.00    0.00\n",
            "1    AGO                Angola   0.32   0.02  ...    0.99    0.98    0.61    0.00\n",
            "2    ALB               Albania   0.00   0.00  ...    0.00    0.00    0.00    0.16\n",
            "3    ARE  United Arab Emirates   0.00   0.00  ...    0.00    0.00    0.00    0.00\n",
            "4    ARG             Argentina   0.00   0.24  ...    0.00    0.01    0.00    0.11\n",
            "\n",
            "[5 rows x 27 columns]\n"
          ],
          "name": "stdout"
        },
        {
          "output_type": "display_data",
          "data": {
            "image/png": "[encoded data removed]",
            "text/plain": [
              "<Figure size 432x288 with 1 Axes>"
            ]
          },
          "metadata": {
            "tags": [],
            "needs_background": "light"
          }
        }
      ]
    },
    {
      "cell_type": "markdown",
      "metadata": {
        "id": "0B6kO6FSRcUz"
      },
      "source": [
        "**Using File to import HDF5 files**\n",
        "\n",
        "\n",
        "The h5py package has been imported in the environment and the file LIGO_data.hdf5 is loaded in the object h5py_file.\n",
        "\n",
        "What is the correct way of using the h5py function, File(), to import the file in h5py_file into an object, h5py_data, for reading only?\n",
        "\n",
        "Instructions (50 XP):\n",
        "\n",
        "\n",
        "Possible Answers\n",
        "\n",
        "h5py_data = File(h5py_file, 'r')\n",
        "\n",
        "\n",
        "**h5py_data = h5py.File(h5py_file, 'r')**\n",
        "\n",
        "\n",
        "h5py_data = h5py.File(h5py_file, read)\n",
        "\n",
        "h5py_data = h5py.File(h5py_file, 'read')\n",
        "\n",
        "Submit Answer\n",
        "\n",
        "Take Hint (-15 XP)"
      ]
    },
    {
      "cell_type": "markdown",
      "metadata": {
        "id": "eDO_LvfFRjfz"
      },
      "source": [
        "**Using h5py to import HDF5 files**\n",
        "\n",
        "\n",
        "The file 'LIGO_data.hdf5' is already in your working directory. In this exercise, you'll import it using the h5py library. You'll also print out its datatype to confirm you have imported it correctly. You'll then study the structure of the file in order to see precisely what HDF groups it contains.\n",
        "\n",
        "You can find the LIGO data plus loads of documentation and tutorials here. There is also a great tutorial on Signal Processing with the data here.\n",
        "\n",
        "Instructions(100 XP):\n",
        "\n",
        "\n",
        "Import the package h5py.\n",
        "Assign the name of the file to the variable file.\n",
        "Load the file as read only into the variable data.\n",
        "Print the datatype of data.\n",
        "Print the names of the groups in the HDF5 file 'LIGO_data.hdf5'.\n",
        "\n",
        "Take Hint (-30 XP)"
      ]
    },
    {
      "cell_type": "code",
      "metadata": {
        "colab": {
          "base_uri": "https://localhost:8080/"
        },
        "id": "bcWJJ_PgRoE9",
        "outputId": "d4a56a0d-86be-4643-a777-ed233d9c3e80"
      },
      "source": [
        "# Import packages\n",
        "import numpy as np\n",
        "import h5py\n",
        "\n",
        "# Assign filename: file\n",
        "file = 'LIGO_data.hdf5'\n",
        "\n",
        "# Load file: data\n",
        "data = h5py.File(file, 'r')\n",
        "\n",
        "# Print the datatype of the loaded file\n",
        "print(type(data))\n",
        "\n",
        "# Print the keys of the file\n",
        "for key in data.keys():\n",
        "    print(key)\n"
      ],
      "execution_count": 57,
      "outputs": [
        {
          "output_type": "stream",
          "text": [
            "<class 'h5py._hl.files.File'>\n",
            "meta\n",
            "quality\n",
            "strain\n"
          ],
          "name": "stdout"
        }
      ]
    },
    {
      "cell_type": "markdown",
      "metadata": {
        "id": "I17qMNGNRplk"
      },
      "source": [
        "**Extracting data from your HDF5 file**\n",
        "\n",
        "\n",
        "In this exercise, you'll extract some of the LIGO experiment's actual data from the HDF5 file and you'll visualize it.\n",
        "\n",
        "To do so, you'll need to first explore the HDF5 group 'strain'.\n",
        "\n",
        "Instructions(100 XP)\n",
        "\n",
        "\n",
        "Assign the HDF5 group data['strain'] to group.\n",
        "In the for loop, print out the keys of the HDF5 group in group.\n",
        "Assign to the variable strain the values of the time series data data['strain']['Strain'] using the attribute .value.\n",
        "Set num_samples equal to 10000, the number of time points we wish to sample.\n",
        "Execute the rest of the code to produce a plot of the time series data in LIGO_data.hdf5.\n",
        "\n",
        "Take Hint (-30 XP)"
      ]
    },
    {
      "cell_type": "code",
      "metadata": {
        "colab": {
          "base_uri": "https://localhost:8080/",
          "height": 307
        },
        "id": "ds0Fnti0R_MQ",
        "outputId": "02292730-4abc-4d4d-b6ea-6fb092430928"
      },
      "source": [
        "# Get the HDF5 group: group\n",
        "group = data['strain']\n",
        "\n",
        "# Check out keys of group\n",
        "for key in group.keys():\n",
        "    print(key)\n",
        "\n",
        "# Set variable equal to time series data: strain\n",
        "#strain = data['strain']['Strain'].value()\n",
        "strain = data['strain']['Strain']\n",
        "\n",
        "# Set number of time points to sample: num_samples\n",
        "num_samples = 10000\n",
        "\n",
        "# Set time vector\n",
        "time = np.arange(0, 1, 1/num_samples)\n",
        "\n",
        "# Plot data\n",
        "plt.plot(time, strain[:num_samples])\n",
        "plt.xlabel('GPS Time (s)')\n",
        "plt.ylabel('strain')\n",
        "plt.show()\n"
      ],
      "execution_count": 62,
      "outputs": [
        {
          "output_type": "stream",
          "text": [
            "Strain\n"
          ],
          "name": "stdout"
        },
        {
          "output_type": "display_data",
          "data": {
            "image/png": "[encoded data removed]",
            "text/plain": [
              "<Figure size 432x288 with 1 Axes>"
            ]
          },
          "metadata": {
            "tags": [],
            "needs_background": "light"
          }
        }
      ]
    },
    {
      "cell_type": "markdown",
      "metadata": {
        "id": "VptVtDeET5xM"
      },
      "source": [
        "**Loading .mat files**\n",
        "\n",
        "In this exercise, you'll figure out how to load a MATLAB file using scipy.io.loadmat() and you'll discover what Python datatype it yields.\n",
        "\n",
        "The file 'albeck_gene_expression.mat' is in your working directory. This file contains gene expression data from the Albeck Lab at UC Davis. You can find the data and some great documentation here.\n",
        "\n",
        "Instructions(100 XP)\n",
        "\n",
        "Import the package scipy.io.\n",
        "Load the file 'albeck_gene_expression.mat' into the variable mat; do so using the function scipy.io.loadmat().\n",
        "Use the function type() to print the datatype of mat to the IPython shell."
      ]
    },
    {
      "cell_type": "code",
      "metadata": {
        "colab": {
          "base_uri": "https://localhost:8080/"
        },
        "id": "sT0vjXrhT_E8",
        "outputId": "44058708-d199-4856-e858-dff573f2ba04"
      },
      "source": [
        "# Import package\n",
        "import scipy.io\n",
        "\n",
        "# Load MATLAB file: mat\n",
        "mat = scipy.io.loadmat('albeck_gene_expression.mat')\n",
        "\n",
        "# Print the datatype type of mat\n",
        "print(type(mat))\n"
      ],
      "execution_count": 44,
      "outputs": [
        {
          "output_type": "stream",
          "text": [
            "<class 'dict'>\n"
          ],
          "name": "stdout"
        }
      ]
    },
    {
      "cell_type": "markdown",
      "metadata": {
        "id": "cPgYw7mfUVoD"
      },
      "source": [
        "**The structure of .mat in Python**\n",
        "\n",
        "Here, you'll discover what is in the MATLAB dictionary that you loaded in the previous exercise.\n",
        "\n",
        "The file 'albeck_gene_expression.mat' is already loaded into the variable mat. The following libraries have already been imported as follows:\n",
        "\n",
        "import scipy.io\n",
        "import matplotlib.pyplot as plt\n",
        "import numpy as np\n",
        "Once again, this file contains gene expression data from the Albeck Lab at UCDavis. You can find the data and some great documentation here.\n",
        "\n",
        "Instructions(100 XP):\n",
        "\n",
        "\n",
        "Use the method .keys() on the dictionary mat to print the keys. Most of these keys (in fact the ones that do NOT begin and end with '__') are variables from the corresponding MATLAB environment.\n",
        "Print the type of the value corresponding to the key 'CYratioCyt' in mat. Recall that mat['CYratioCyt'] accesses the value.\n",
        "Print the shape of the value corresponding to the key 'CYratioCyt' using the numpy function shape().\n",
        "Execute the entire script to see some oscillatory gene expression data!\n",
        "\n",
        "Take Hint (-30 XP)"
      ]
    },
    {
      "cell_type": "code",
      "metadata": {
        "colab": {
          "base_uri": "https://localhost:8080/",
          "height": 345
        },
        "id": "eS8N_VixUcHl",
        "outputId": "3fa19313-d7d0-4269-9991-2b1ce3c4d35a"
      },
      "source": [
        "# Print the keys of the MATLAB dictionary\n",
        "print(mat.keys())\n",
        "\n",
        "# Print the type of the value corresponding to the key 'CYratioCyt'\n",
        "print(type(mat['CYratioCyt']))\n",
        "\n",
        "# Print the shape of the value corresponding to the key 'CYratioCyt'\n",
        "print(mat['CYratioCyt'].shape)\n",
        "\n",
        "# Subset the array and plot it\n",
        "data = mat['CYratioCyt'][25, 5:]\n",
        "fig = plt.figure()\n",
        "plt.plot(data)\n",
        "plt.xlabel('time (min.)')\n",
        "plt.ylabel('normalized fluorescence (measure of expression)')\n",
        "plt.show()\n"
      ],
      "execution_count": 45,
      "outputs": [
        {
          "output_type": "stream",
          "text": [
            "dict_keys(['__header__', '__version__', '__globals__', 'rfpCyt', 'rfpNuc', 'cfpNuc', 'cfpCyt', 'yfpNuc', 'yfpCyt', 'CYratioCyt'])\n",
            "<class 'numpy.ndarray'>\n",
            "(200, 137)\n"
          ],
          "name": "stdout"
        },
        {
          "output_type": "display_data",
          "data": {
            "image/png": "[encoded data removed]",
            "text/plain": [
              "<Figure size 432x288 with 1 Axes>"
            ]
          },
          "metadata": {
            "tags": [],
            "needs_background": "light"
          }
        }
      ]
    },
    {
      "cell_type": "markdown",
      "metadata": {
        "id": "jzdCGkK0UhI7"
      },
      "source": [
        "**Pop quiz: The relational model**\n",
        "\n",
        "Which of the following is not part of the relational model?\n",
        "\n",
        "Answer the question\n",
        "50XP\n",
        "Possible Answers\n",
        "\n",
        "\n",
        "\n",
        "**Each row or record in a table represents an instance of an entity type .press1 **\n",
        "\n",
        "\n",
        "\n",
        "Each column in a table represents an attribute or feature of an instance.\n",
        "press\n",
        "2\n",
        "\n",
        "Every table contains a primary key column, which has a unique entry for each row.\n",
        "press\n",
        "3\n",
        "\n",
        "A database consists of at least 3 tables.\n",
        "press\n",
        "4\n",
        "\n",
        "There are relations between tables.\n",
        "press\n",
        "5\n",
        "\n",
        "Take Hint (-15 XP)"
      ]
    },
    {
      "cell_type": "markdown",
      "metadata": {
        "id": "39NxGfhcUwi-"
      },
      "source": [
        "**Creating a database engine**\n",
        "\n",
        "\n",
        "Here, you're going to fire up your very first SQL engine. You'll create an engine to connect to the SQLite database 'Chinook.sqlite', which is in your working directory. Remember that to create an engine to connect to 'Northwind.sqlite', Hugo executed the command\n",
        "\n",
        "engine = create_engine('sqlite:///Northwind.sqlite')\n",
        "Here, 'sqlite:///Northwind.sqlite' is called the connection string to the SQLite database Northwind.sqlite. A little bit of background on the Chinook database: the Chinook database contains information about a semi-fictional digital media store in which media data is real and customer, employee and sales data has been manually created.\n",
        "\n",
        "Why the name Chinook, you ask? According to their website,\n",
        "\n",
        "The name of this sample database was based on the Northwind database. Chinooks are winds in the interior West of North America, where the Canadian Prairies and Great Plains meet various mountain ranges. Chinooks are most prevalent over southern Alberta in Canada. Chinook is a good name choice for a database that intends to be an alternative to Northwind.\n",
        "\n",
        "Instructions(100 XP):\n",
        "\n",
        "\n",
        "Import the function create_engine from the module sqlalchemy.\n",
        "Create an engine to connect to the SQLite database 'Chinook.sqlite' and assign it to engine.\n",
        "\n",
        "Take Hint (-30 XP)"
      ]
    },
    {
      "cell_type": "code",
      "metadata": {
        "id": "JfRgx64OU3Dr"
      },
      "source": [
        "# Import necessary module\n",
        "from sqlalchemy import create_engine\n",
        "\n",
        "# Create engine: engine\n",
        "engine = create_engine('sqlite:///Chinook.sqlite')"
      ],
      "execution_count": 46,
      "outputs": []
    },
    {
      "cell_type": "markdown",
      "metadata": {
        "id": "mCwV6WlxU5lT"
      },
      "source": [
        "**What are the tables in the database?**\n",
        "\n",
        "In this exercise, you'll once again create an engine to connect to 'Chinook.sqlite'. Before you can get any data out of the database, however, you'll need to know what tables it contains!\n",
        "\n",
        "To this end, you'll save the table names to a list using the method table_names() on the engine and then you will print the list.\n",
        "\n",
        "Instructions(100 XP):\n",
        "\n",
        "\n",
        "Import the function create_engine from the module sqlalchemy.\n",
        "Create an engine to connect to the SQLite database 'Chinook.sqlite' and assign it to engine.\n",
        "Using the method table_names() on the engine engine, assign the table names of 'Chinook.sqlite' to the variable table_names.\n",
        "Print the object table_names to the shell.\n",
        "\n",
        "Take Hint (-30 XP)"
      ]
    },
    {
      "cell_type": "code",
      "metadata": {
        "colab": {
          "base_uri": "https://localhost:8080/"
        },
        "id": "0uonh40LU9Ar",
        "outputId": "02b1aef1-4235-4810-9849-ccf7ca566663"
      },
      "source": [
        "# Import necessary module\n",
        "from sqlalchemy import create_engine\n",
        "\n",
        "# Create engine: engine\n",
        "engine = create_engine('sqlite:///Chinook.sqlite')\n",
        "\n",
        "# Save the table names to a list: table_names\n",
        "table_names = engine.table_names()\n",
        "\n",
        "# Print the table names to the shell\n",
        "print(table_names)\n"
      ],
      "execution_count": 47,
      "outputs": [
        {
          "output_type": "stream",
          "text": [
            "['Album', 'Artist', 'Customer', 'Employee', 'Genre', 'Invoice', 'InvoiceLine', 'MediaType', 'Playlist', 'PlaylistTrack', 'Track']\n"
          ],
          "name": "stdout"
        },
        {
          "output_type": "stream",
          "text": [
            "/usr/local/lib/python3.7/dist-packages/ipykernel_launcher.py:8: SADeprecationWarning: The Engine.table_names() method is deprecated and will be removed in a future release.  Please refer to Inspector.get_table_names(). (deprecated since: 1.4)\n",
            "  \n"
          ],
          "name": "stderr"
        }
      ]
    },
    {
      "cell_type": "markdown",
      "metadata": {
        "id": "swGsLkVpU-nj"
      },
      "source": [
        "**The Hello World of SQL Queries!**\n",
        "\n",
        "Now, it's time for liftoff! In this exercise, you'll perform the Hello World of SQL queries, SELECT, in order to retrieve all columns of the table Album in the Chinook database. Recall that the query SELECT * selects all columns.\n",
        "\n",
        "Instructions(100 XP):\n",
        "\n",
        "Open the engine connection as con using the method connect() on the engine.\n",
        "Execute the query that selects ALL columns from the Album table. Store the results in rs.\n",
        "Store all of your query results in the DataFrame df by applying the fetchall() method to the results rs.\n",
        "Close the connection!\n",
        "\n",
        "Take Hint (-30 XP)"
      ]
    },
    {
      "cell_type": "code",
      "metadata": {
        "colab": {
          "base_uri": "https://localhost:8080/"
        },
        "id": "0O1UFl7AVFKj",
        "outputId": "930ed675-2a6f-4cca-eb94-e1050c571cf7"
      },
      "source": [
        "# Import packages\n",
        "from sqlalchemy import create_engine\n",
        "import pandas as pd\n",
        "\n",
        "# Create engine: engine\n",
        "engine = create_engine('sqlite:///Chinook.sqlite')\n",
        "\n",
        "# Open engine connection: con\n",
        "con = engine.connect()\n",
        "\n",
        "# Perform query: rs\n",
        "rs = con.execute(\"SELECT * FROM Album\")\n",
        "\n",
        "# Save results of the query to DataFrame: df\n",
        "df = pd.DataFrame(rs.fetchall())\n",
        "\n",
        "# Close connection\n",
        "con.close()\n",
        "\n",
        "# Print head of DataFrame df\n",
        "print(df.head())\n"
      ],
      "execution_count": 48,
      "outputs": [
        {
          "output_type": "stream",
          "text": [
            "   0                                      1  2\n",
            "0  1  For Those About To Rock We Salute You  1\n",
            "1  2                      Balls to the Wall  2\n",
            "2  3                      Restless and Wild  2\n",
            "3  4                      Let There Be Rock  1\n",
            "4  5                               Big Ones  3\n"
          ],
          "name": "stdout"
        }
      ]
    },
    {
      "cell_type": "markdown",
      "metadata": {
        "id": "WLZTGLTWVG0L"
      },
      "source": [
        "**Customizing the Hello World of SQL Queries**\n",
        "\n",
        "Congratulations on executing your first SQL query! Now you're going to figure out how to customize your query in order to:\n",
        "\n",
        "Select specified columns from a table;\n",
        "Select a specified number of rows;\n",
        "Import column names from the database table.\n",
        "Recall that Hugo performed a very similar query customization in the video:\n",
        "\n",
        "engine = create_engine('sqlite:///Northwind.sqlite')\n",
        "\n",
        "with engine.connect() as con:\n",
        "    rs = con.execute(\"SELECT OrderID, OrderDate, ShipName FROM Orders\")\n",
        "    df = pd.DataFrame(rs.fetchmany(size=5))\n",
        "    df.columns = rs.keys()\n",
        "Packages have already been imported as follows:\n",
        "\n",
        "from sqlalchemy import create_engine\n",
        "import pandas as pd\n",
        "The engine has also already been created:\n",
        "\n",
        "engine = create_engine('sqlite:///Chinook.sqlite')\n",
        "The engine connection is already open with the statement\n",
        "\n",
        "with engine.connect() as con:\n",
        "All the code you need to complete is within this context.\n",
        "\n",
        "Instructions(100 XP):\n",
        "\n",
        "\n",
        "Execute the SQL query that selects the columns LastName and Title from the Employee table. Store the results in the variable rs.\n",
        "Apply the method fetchmany() to rs in order to retrieve 3 of the records. Store them in the DataFrame df.\n",
        "Using the rs object, set the DataFrame's column names to the corresponding names of the table columns.\n",
        "\n",
        "Take Hint (-30 XP)"
      ]
    },
    {
      "cell_type": "code",
      "metadata": {
        "colab": {
          "base_uri": "https://localhost:8080/"
        },
        "id": "IM_si0zTVNiF",
        "outputId": "58464bfa-ca0c-4ad2-b32e-83e01e3b74e8"
      },
      "source": [
        "# Open engine in context manager\n",
        "# Perform query and save results to DataFrame: df\n",
        "with engine.connect() as con:\n",
        "    rs = con.execute(\"SELECT LastName, Title FROM Employee\")\n",
        "    df = pd.DataFrame(rs.fetchmany(size=3))\n",
        "    df.columns = rs.keys()\n",
        "\n",
        "# Print the length of the DataFrame df\n",
        "print(len(df))\n",
        "\n",
        "# Print the head of the DataFrame df\n",
        "print(df.head())"
      ],
      "execution_count": 49,
      "outputs": [
        {
          "output_type": "stream",
          "text": [
            "3\n",
            "  LastName                Title\n",
            "0    Adams      General Manager\n",
            "1  Edwards        Sales Manager\n",
            "2  Peacock  Sales Support Agent\n"
          ],
          "name": "stdout"
        }
      ]
    },
    {
      "cell_type": "markdown",
      "metadata": {
        "id": "f15zUD1qVQh6"
      },
      "source": [
        "**Filtering your database records using SQL's WHERE**\n",
        "\n",
        "You can now execute a basic SQL query to select records from any table in your database and you can also perform simple query customizations to select particular columns and numbers of rows.\n",
        "\n",
        "There are a couple more standard SQL query chops that will aid you in your journey to becoming an SQL ninja.\n",
        "\n",
        "Let's say, for example that you wanted to get all records from the Customer table of the Chinook database for which the Country is 'Canada'. You can do this very easily in SQL using a SELECT statement followed by a WHERE clause as follows:\n",
        "\n",
        "SELECT * FROM Customer WHERE Country = 'Canada'\n",
        "In fact, you can filter any SELECT statement by any condition using a WHERE clause. This is called filtering your records.\n",
        "\n",
        "In this interactive exercise, you'll select all records of the Employee table for which 'EmployeeId' is greater than or equal to 6.\n",
        "\n",
        "Packages are already imported as follows:\n",
        "\n",
        "import pandas as pd\n",
        "from sqlalchemy import create_engine\n",
        "Query away!\n",
        "\n",
        "Instructions(100 XP):\n",
        "\n",
        "\n",
        "Complete the argument of create_engine() so that the engine for the SQLite database 'Chinook.sqlite' is created.\n",
        "Execute the query that selects all records from the Employee table where 'EmployeeId' is greater than or equal to 6. Use the >= operator and assign the results to rs.\n",
        "Apply the method fetchall() to rs in order to fetch all records in rs. Store them in the DataFrame df.\n",
        "Using the rs object, set the DataFrame's column names to the corresponding names of the table columns.\n",
        "\n",
        "Take Hint (-30 XP)"
      ]
    },
    {
      "cell_type": "code",
      "metadata": {
        "colab": {
          "base_uri": "https://localhost:8080/"
        },
        "id": "Nup5IjScVU58",
        "outputId": "669d5ea1-07e9-4773-dd70-73dffbf55f1b"
      },
      "source": [
        "# Create engine: engine\n",
        "engine = create_engine('sqlite:///Chinook.sqlite')\n",
        "\n",
        "# Open engine in context manager\n",
        "# Perform query and save results to DataFrame: df\n",
        "with engine.connect() as con:\n",
        "    rs = con.execute(\"SELECT * FROM Employee WHERE EmployeeId >= 6\")\n",
        "    df = pd.DataFrame(rs.fetchall())\n",
        "    df.columns = rs.keys()\n",
        "\n",
        "# Print the head of the DataFrame df\n",
        "print(df.head())"
      ],
      "execution_count": 50,
      "outputs": [
        {
          "output_type": "stream",
          "text": [
            "   EmployeeId  LastName  ...                Fax                    Email\n",
            "0           6  Mitchell  ...  +1 (403) 246-9899  michael@chinookcorp.com\n",
            "1           7      King  ...  +1 (403) 456-8485   robert@chinookcorp.com\n",
            "2           8  Callahan  ...  +1 (403) 467-8772    laura@chinookcorp.com\n",
            "\n",
            "[3 rows x 15 columns]\n"
          ],
          "name": "stdout"
        }
      ]
    },
    {
      "cell_type": "markdown",
      "metadata": {
        "id": "YEZFwps_VWHC"
      },
      "source": [
        "**Ordering your SQL records with ORDER BY**\n",
        "\n",
        "You can also order your SQL query results. For example, if you wanted to get all records from the Customer table of the Chinook database and order them in increasing order by the column SupportRepId, you could do so with the following query:\n",
        "\n",
        "\"SELECT * FROM Customer ORDER BY SupportRepId\"\n",
        "In fact, you can order any SELECT statement by any column.\n",
        "\n",
        "In this interactive exercise, you'll select all records of the Employee table and order them in increasing order by the column BirthDate.\n",
        "\n",
        "Packages are already imported as follows:\n",
        "\n",
        "import pandas as pd\n",
        "from sqlalchemy import create_engine\n",
        "Get querying!\n",
        "\n",
        "Instructions(100 XP):\n",
        "\n",
        "\n",
        "Using the function create_engine(), create an engine for the SQLite database Chinook.sqlite and assign it to the variable engine.\n",
        "In the context manager, execute the query that selects all records from the Employee table and orders them in increasing order by the column BirthDate. Assign the result to rs.\n",
        "In a call to pd.DataFrame(), apply the method fetchall() to rs in order to fetch all records in rs. Store them in the DataFrame df.\n",
        "Set the DataFrame's column names to the corresponding names of the table columns.\n",
        "\n",
        "Take Hint (-30 XP)"
      ]
    },
    {
      "cell_type": "code",
      "metadata": {
        "colab": {
          "base_uri": "https://localhost:8080/"
        },
        "id": "1SoM3YmPVca8",
        "outputId": "9840653d-7234-446f-d38e-08f7951d826e"
      },
      "source": [
        "# Create engine: engine\n",
        "engine = create_engine('sqlite:///Chinook.sqlite')\n",
        "\n",
        "# Open engine in context manager\n",
        "with engine.connect() as con:\n",
        "    rs = con.execute(\"SELECT * FROM Employee Order by BirthDate ASC\")\n",
        "    df = pd.DataFrame(rs.fetchall())\n",
        "    # Set the DataFrame's column names\n",
        "    df.columns = rs.keys()\n",
        "\n",
        "# Print head of DataFrame\n",
        "print(df.head())\n"
      ],
      "execution_count": 51,
      "outputs": [
        {
          "output_type": "stream",
          "text": [
            "   EmployeeId  LastName  ...                Fax                     Email\n",
            "0           4      Park  ...  +1 (403) 263-4289  margaret@chinookcorp.com\n",
            "1           2   Edwards  ...  +1 (403) 262-3322     nancy@chinookcorp.com\n",
            "2           1     Adams  ...  +1 (780) 428-3457    andrew@chinookcorp.com\n",
            "3           5   Johnson  ...   1 (780) 836-9543     steve@chinookcorp.com\n",
            "4           8  Callahan  ...  +1 (403) 467-8772     laura@chinookcorp.com\n",
            "\n",
            "[5 rows x 15 columns]\n"
          ],
          "name": "stdout"
        }
      ]
    },
    {
      "cell_type": "markdown",
      "metadata": {
        "id": "qO6vYUyCVf40"
      },
      "source": [
        "**Pandas and The Hello World of SQL Queries!**\n",
        "\n",
        "Here, you'll take advantage of the power of pandas to write the results of your SQL query to a DataFrame in one swift line of Python code!\n",
        "\n",
        "You'll first import pandas and create the SQLite 'Chinook.sqlite' engine. Then you'll query the database to select all records from the Album table.\n",
        "\n",
        "Recall that to select all records from the Orders table in the Northwind database, Hugo executed the following command:\n",
        "\n",
        "df = pd.read_sql_query(\"SELECT * FROM Orders\", engine)\n",
        "Instructions(100 XP):\n",
        "\n",
        "\n",
        "Import the pandas package using the alias pd.\n",
        "Using the function create_engine(), create an engine for the SQLite database Chinook.sqlite and assign it to the variable engine.\n",
        "Use the pandas function read_sql_query() to assign to the variable df the DataFrame of results from the following query: select all records from the table Album.\n",
        "The remainder of the code is included to confirm that the DataFrame created by this method is equal to that created by the previous method that you learned.\n",
        "\n",
        "Take Hint (-30 XP)"
      ]
    },
    {
      "cell_type": "code",
      "metadata": {
        "colab": {
          "base_uri": "https://localhost:8080/"
        },
        "id": "NXE8x0qxVju2",
        "outputId": "abfe07e8-edfd-4766-a13c-898f1db9acd6"
      },
      "source": [
        "# Import packages\n",
        "from sqlalchemy import create_engine\n",
        "import pandas as pd\n",
        "\n",
        "# Create engine: engine\n",
        "engine = create_engine('sqlite:///Chinook.sqlite')\n",
        "\n",
        "# Execute query and store records in DataFrame: df\n",
        "df = pd.read_sql_query(\"SELECT * FROM Album\", engine)\n",
        "\n",
        "# Print head of DataFrame\n",
        "print(df.head())\n",
        "\n",
        "# Open engine in context manager and store query result in df1\n",
        "with engine.connect() as con:\n",
        "    rs = con.execute(\"SELECT * FROM Album\")\n",
        "    df1 = pd.DataFrame(rs.fetchall())\n",
        "    df1.columns = rs.keys()\n",
        "\n",
        "# Confirm that both methods yield the same result\n",
        "print(df.equals(df1))"
      ],
      "execution_count": 52,
      "outputs": [
        {
          "output_type": "stream",
          "text": [
            "   AlbumId                                  Title  ArtistId\n",
            "0        1  For Those About To Rock We Salute You         1\n",
            "1        2                      Balls to the Wall         2\n",
            "2        3                      Restless and Wild         2\n",
            "3        4                      Let There Be Rock         1\n",
            "4        5                               Big Ones         3\n",
            "True\n"
          ],
          "name": "stdout"
        }
      ]
    },
    {
      "cell_type": "markdown",
      "metadata": {
        "id": "2dxoiu_BVmt7"
      },
      "source": [
        "**Pandas for more complex querying**\n",
        "\n",
        "Here, you'll become more familiar with the pandas function read_sql_query() by using it to execute a more complex query: a SELECT statement followed by both a WHERE clause AND an ORDER BY clause.\n",
        "\n",
        "You'll build a DataFrame that contains the rows of the Employee table for which the EmployeeId is greater than or equal to 6 and you'll order these entries by BirthDate.\n",
        "\n",
        "Instructions(100 XP)\n",
        "\n",
        "Using the function create_engine(), create an engine for the SQLite database Chinook.sqlite and assign it to the variable engine.\n",
        "Use the pandas function read_sql_query() to assign to the variable df the DataFrame of results from the following query: select all records from the Employee table where the EmployeeId is greater than or equal to 6 and ordered by BirthDate (make sure to use WHERE and ORDER BY in this precise order).\n",
        "\n",
        "Take Hint (-30 XP)"
      ]
    },
    {
      "cell_type": "code",
      "metadata": {
        "colab": {
          "base_uri": "https://localhost:8080/"
        },
        "id": "T5ZTMxNOVpWm",
        "outputId": "f8234485-f8ac-4183-f62b-a9b12f61a609"
      },
      "source": [
        "# Import packages\n",
        "from sqlalchemy import create_engine\n",
        "import pandas as pd\n",
        "\n",
        "# Create engine: engine\n",
        "engine = create_engine('sqlite:///Chinook.sqlite')\n",
        "\n",
        "# Execute query and store records in DataFrame: df\n",
        "df = pd.read_sql_query(\"SELECT * FROM Employee WHERE EmployeeId >= 6 ORDER By BirthDate\", engine) \n",
        "\n",
        "# Print head of DataFrame\n",
        "print(df.head())\n"
      ],
      "execution_count": 53,
      "outputs": [
        {
          "output_type": "stream",
          "text": [
            "   EmployeeId  LastName  ...                Fax                    Email\n",
            "0           8  Callahan  ...  +1 (403) 467-8772    laura@chinookcorp.com\n",
            "1           7      King  ...  +1 (403) 456-8485   robert@chinookcorp.com\n",
            "2           6  Mitchell  ...  +1 (403) 246-9899  michael@chinookcorp.com\n",
            "\n",
            "[3 rows x 15 columns]\n"
          ],
          "name": "stdout"
        }
      ]
    },
    {
      "cell_type": "markdown",
      "metadata": {
        "id": "kUYroD5yVscU"
      },
      "source": [
        "**The power of SQL lies in relationships between tables: INNER JOIN**\n",
        "\n",
        "Here, you'll perform your first INNER JOIN! You'll be working with your favourite SQLite database, Chinook.sqlite. For each record in the Album table, you'll extract the Title along with the Name of the Artist. The latter will come from the Artist table and so you will need to INNER JOIN these two tables on the ArtistID column of both.\n",
        "\n",
        "Recall that to INNER JOIN the Orders and Customers tables from the Northwind database, Hugo executed the following SQL query:\n",
        "\n",
        "\"SELECT OrderID, CompanyName FROM Orders INNER JOIN Customers on Orders.CustomerID = Customers.CustomerID\"\n",
        "The following code has already been executed to import the necessary packages and to create the engine:\n",
        "\n",
        "import pandas as pd\n",
        "from sqlalchemy import create_engine\n",
        "engine = create_engine('sqlite:///Chinook.sqlite')\n",
        "\n",
        "Instructions(100 XP):\n",
        "\n",
        "\n",
        "Assign to rs the results from the following query: select all the records, extracting the Title of the record and Name of the artist of each record from the Album table and the Artist table, respectively. To do so, INNER JOIN these two tables on the ArtistID column of both.\n",
        "In a call to pd.DataFrame(), apply the method fetchall() to rs in order to fetch all records in rs. Store them in the DataFrame df.\n",
        "Set the DataFrame's column names to the corresponding names of the table columns.\n",
        "\n",
        "Take Hint (-30 XP)"
      ]
    },
    {
      "cell_type": "code",
      "metadata": {
        "colab": {
          "base_uri": "https://localhost:8080/"
        },
        "id": "_FNNZvG7Vv_z",
        "outputId": "7e60a226-7ff6-4737-907a-efb0d6d17397"
      },
      "source": [
        "# Open engine in context manager\n",
        "# Perform query and save results to DataFrame: df\n",
        "with engine.connect() as con:\n",
        "    #rs = con.execute(\"SELECT Title , Name FROM Album, Artist\")\n",
        "    rs = con.execute(\"SELECT Title, Name FROM Album INNER JOIN Artist on Album.ArtistID = Artist.ArtistID\")\n",
        "    df = pd.DataFrame(rs.fetchall())\n",
        "    df.columns = rs.keys()\n",
        "\n",
        "# Print head of DataFrame df\n",
        "print(df.head())\n"
      ],
      "execution_count": 54,
      "outputs": [
        {
          "output_type": "stream",
          "text": [
            "                                   Title       Name\n",
            "0  For Those About To Rock We Salute You      AC/DC\n",
            "1                      Balls to the Wall     Accept\n",
            "2                      Restless and Wild     Accept\n",
            "3                      Let There Be Rock      AC/DC\n",
            "4                               Big Ones  Aerosmith\n"
          ],
          "name": "stdout"
        }
      ]
    },
    {
      "cell_type": "markdown",
      "metadata": {
        "id": "wai7PYw1V178"
      },
      "source": [
        "**Filtering your INNER JOIN**\n",
        "\n",
        "Congrats on performing your first INNER JOIN! You're now going to finish this chapter with one final exercise in which you perform an INNER JOIN and filter the result using a WHERE clause.\n",
        "\n",
        "Recall that to INNER JOIN the Orders and Customers tables from the Northwind database, Hugo executed the following SQL query:\n",
        "\n",
        "\"SELECT OrderID, CompanyName FROM Orders INNER JOIN Customers on Orders.CustomerID = Customers.CustomerID\"\n",
        "The following code has already been executed to import the necessary packages and to create the engine:\n",
        "\n",
        "import pandas as pd\n",
        "from sqlalchemy import create_engine\n",
        "engine = create_engine('sqlite:///Chinook.sqlite')\n",
        "\n",
        "Instructions(100 XP):\n",
        "\n",
        "\n",
        "Use the pandas function read_sql_query() to assign to the variable df the DataFrame of results from the following query: select all records from PlaylistTrack INNER JOIN Track on PlaylistTrack.TrackId = Track.TrackId that satisfy the condition Milliseconds < 250000.\n",
        "\n",
        "Take Hint (-30 XP)"
      ]
    },
    {
      "cell_type": "code",
      "metadata": {
        "colab": {
          "base_uri": "https://localhost:8080/"
        },
        "id": "9VfgSjUeV6aO",
        "outputId": "5948bb60-0606-48f7-8be5-e8e33da3fb87"
      },
      "source": [
        "# Execute query and store records in DataFrame: df\n",
        "df = pd.read_sql_query(\"SELECT * FROM PlaylistTrack INNER JOIN Track on PlaylistTrack.TrackId = Track.TrackId WHERE Milliseconds < 250000\", engine)\n",
        "\n",
        "# Print head of DataFrame\n",
        "print(df.head())"
      ],
      "execution_count": 55,
      "outputs": [
        {
          "output_type": "stream",
          "text": [
            "   PlaylistId  TrackId  TrackId  ... Milliseconds    Bytes  UnitPrice\n",
            "0           1     3390     3390  ...       217732  3559040       0.99\n",
            "1           1     3392     3392  ...       230758  3766605       0.99\n",
            "2           1     3393     3393  ...       218916  3577821       0.99\n",
            "3           1     3394     3394  ...       228366  3728955       0.99\n",
            "4           1     3395     3395  ...       213831  3497176       0.99\n",
            "\n",
            "[5 rows x 11 columns]\n"
          ],
          "name": "stdout"
        }
      ]
    }
  ]
}