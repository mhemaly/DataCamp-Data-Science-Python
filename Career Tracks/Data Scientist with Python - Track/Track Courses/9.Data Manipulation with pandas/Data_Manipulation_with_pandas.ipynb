{
  "nbformat": 4,
  "nbformat_minor": 0,
  "metadata": {
    "colab": {
      "name": "Data Manipulation with pandas.ipynb",
      "provenance": [],
      "collapsed_sections": []
    },
    "kernelspec": {
      "name": "python3",
      "display_name": "Python 3"
    },
    "language_info": {
      "name": "python"
    }
  },
  "cells": [
    {
      "cell_type": "markdown",
      "metadata": {
        "id": "CkWM538YEmqH"
      },
      "source": [
        "**Inspecting a DataFrame**\n",
        "\n",
        "When you get a new DataFrame to work with, the first thing you need to do is explore it and see what it contains. There are several useful methods and attributes for this.\n",
        "\n",
        ".head() returns the first few rows (the “head” of the DataFrame).\n",
        ".info() shows information on each of the columns, such as the data type and number of missing values.\n",
        ".shape returns the number of rows and columns of the DataFrame.\n",
        ".describe() calculates a few summary statistics for each column.\n",
        "homelessness is a DataFrame containing estimates of homelessness in each U.S. state in 2018. The individual column is the number of homeless individuals not part of a family with children. The family_members column is the number of homeless individuals part of a family with children. The state_pop column is the state's total population.\n",
        "\n",
        "pandas is imported for you.\n",
        "\n",
        "Instructions(25 XP):\n",
        "\n",
        "Print the head of the homelessness DataFrame.\n",
        "Print information about the column types and missing values in homelessness.\n",
        "Print the number of rows and columns in homelessness.\n",
        "Print some summary statistics that describe the homelessness DataFrame.\n",
        "\n"
      ]
    },
    {
      "cell_type": "code",
      "metadata": {
        "id": "TV9ac6X4FqGg"
      },
      "source": [
        "import pandas as pd\n",
        "homelessness = pd.read_csv('homelessness.csv')"
      ],
      "execution_count": 5,
      "outputs": []
    },
    {
      "cell_type": "code",
      "metadata": {
        "colab": {
          "base_uri": "https://localhost:8080/"
        },
        "id": "4P2qZEtVEkzX",
        "outputId": "6999c98b-16bd-44c6-c0fd-8c5369eb67f3"
      },
      "source": [
        "#1\n",
        "# Print the head of the homelessness data\n",
        "print(homelessness.head())\n",
        "#2\n",
        "# Print information about homelessness\n",
        "print(homelessness.info())\n",
        "#3\n",
        "# Print the shape of homelessness\n",
        "print(homelessness.shape)\n",
        "#4\n",
        "# Print a description of homelessness\n",
        "print(homelessness.describe())\n"
      ],
      "execution_count": 6,
      "outputs": [
        {
          "output_type": "stream",
          "text": [
            "   Unnamed: 0              region  ... family_members  state_pop\n",
            "0           0  East South Central  ...          864.0    4887681\n",
            "1           1             Pacific  ...          582.0     735139\n",
            "2           2            Mountain  ...         2606.0    7158024\n",
            "3           3  West South Central  ...          432.0    3009733\n",
            "4           4             Pacific  ...        20964.0   39461588\n",
            "\n",
            "[5 rows x 6 columns]\n",
            "<class 'pandas.core.frame.DataFrame'>\n",
            "RangeIndex: 51 entries, 0 to 50\n",
            "Data columns (total 6 columns):\n",
            " #   Column          Non-Null Count  Dtype  \n",
            "---  ------          --------------  -----  \n",
            " 0   Unnamed: 0      51 non-null     int64  \n",
            " 1   region          51 non-null     object \n",
            " 2   state           51 non-null     object \n",
            " 3   individuals     51 non-null     float64\n",
            " 4   family_members  51 non-null     float64\n",
            " 5   state_pop       51 non-null     int64  \n",
            "dtypes: float64(2), int64(2), object(2)\n",
            "memory usage: 2.5+ KB\n",
            "None\n",
            "(51, 6)\n",
            "       Unnamed: 0    individuals  family_members     state_pop\n",
            "count   51.000000      51.000000       51.000000  5.100000e+01\n",
            "mean    25.000000    7225.784314     3504.882353  6.405637e+06\n",
            "std     14.866069   15991.025083     7805.411811  7.327258e+06\n",
            "min      0.000000     434.000000       75.000000  5.776010e+05\n",
            "25%     12.500000    1446.500000      592.000000  1.777414e+06\n",
            "50%     25.000000    3082.000000     1482.000000  4.461153e+06\n",
            "75%     37.500000    6781.500000     3196.000000  7.340946e+06\n",
            "max     50.000000  109008.000000    52070.000000  3.946159e+07\n"
          ],
          "name": "stdout"
        }
      ]
    },
    {
      "cell_type": "markdown",
      "metadata": {
        "id": "lEJ2g2nxGLF3"
      },
      "source": [
        "**Parts of a DataFrame**\n",
        "\n",
        "To better understand DataFrame objects, it's useful to know that they consist of three components, stored as attributes:\n",
        "\n",
        ".values: A two-dimensional NumPy array of values.\n",
        ".columns: An index of columns: the column names.\n",
        ".index: An index for the rows: either row numbers or row names.\n",
        "You can usually think of indexes as a list of strings or numbers, though the pandas Index data type allows for more sophisticated options. (These will be covered later in the course.)\n",
        "\n",
        "homelessness is available.\n",
        "\n",
        "Instructions(100 XP):\n",
        "\n",
        "Import pandas using the alias pd.\n",
        "Print a 2D NumPy array of the values in homelessness.\n",
        "Print the column names of homelessness.\n",
        "Print the index of homelessness.\n",
        "\n",
        "Take Hint (-30 XP)"
      ]
    },
    {
      "cell_type": "code",
      "metadata": {
        "colab": {
          "base_uri": "https://localhost:8080/"
        },
        "id": "ZUKWGxASGLdP",
        "outputId": "1cebb887-afa9-439e-a5f6-362a55ea508c"
      },
      "source": [
        "# Import pandas using the alias pd\n",
        "import pandas as pd\n",
        "\n",
        "# Print the values of homelessness\n",
        "print(homelessness.values)\n",
        "\n",
        "# Print the column index of homelessness\n",
        "print(homelessness.columns)\n",
        "\n",
        "# Print the row index of homelessness\n",
        "print(homelessness.index)"
      ],
      "execution_count": 7,
      "outputs": [
        {
          "output_type": "stream",
          "text": [
            "[[0 'East South Central' 'Alabama' 2570.0 864.0 4887681]\n",
            " [1 'Pacific' 'Alaska' 1434.0 582.0 735139]\n",
            " [2 'Mountain' 'Arizona' 7259.0 2606.0 7158024]\n",
            " [3 'West South Central' 'Arkansas' 2280.0 432.0 3009733]\n",
            " [4 'Pacific' 'California' 109008.0 20964.0 39461588]\n",
            " [5 'Mountain' 'Colorado' 7607.0 3250.0 5691287]\n",
            " [6 'New England' 'Connecticut' 2280.0 1696.0 3571520]\n",
            " [7 'South Atlantic' 'Delaware' 708.0 374.0 965479]\n",
            " [8 'South Atlantic' 'District of Columbia' 3770.0 3134.0 701547]\n",
            " [9 'South Atlantic' 'Florida' 21443.0 9587.0 21244317]\n",
            " [10 'South Atlantic' 'Georgia' 6943.0 2556.0 10511131]\n",
            " [11 'Pacific' 'Hawaii' 4131.0 2399.0 1420593]\n",
            " [12 'Mountain' 'Idaho' 1297.0 715.0 1750536]\n",
            " [13 'East North Central' 'Illinois' 6752.0 3891.0 12723071]\n",
            " [14 'East North Central' 'Indiana' 3776.0 1482.0 6695497]\n",
            " [15 'West North Central' 'Iowa' 1711.0 1038.0 3148618]\n",
            " [16 'West North Central' 'Kansas' 1443.0 773.0 2911359]\n",
            " [17 'East South Central' 'Kentucky' 2735.0 953.0 4461153]\n",
            " [18 'West South Central' 'Louisiana' 2540.0 519.0 4659690]\n",
            " [19 'New England' 'Maine' 1450.0 1066.0 1339057]\n",
            " [20 'South Atlantic' 'Maryland' 4914.0 2230.0 6035802]\n",
            " [21 'New England' 'Massachusetts' 6811.0 13257.0 6882635]\n",
            " [22 'East North Central' 'Michigan' 5209.0 3142.0 9984072]\n",
            " [23 'West North Central' 'Minnesota' 3993.0 3250.0 5606249]\n",
            " [24 'East South Central' 'Mississippi' 1024.0 328.0 2981020]\n",
            " [25 'West North Central' 'Missouri' 3776.0 2107.0 6121623]\n",
            " [26 'Mountain' 'Montana' 983.0 422.0 1060665]\n",
            " [27 'West North Central' 'Nebraska' 1745.0 676.0 1925614]\n",
            " [28 'Mountain' 'Nevada' 7058.0 486.0 3027341]\n",
            " [29 'New England' 'New Hampshire' 835.0 615.0 1353465]\n",
            " [30 'Mid-Atlantic' 'New Jersey' 6048.0 3350.0 8886025]\n",
            " [31 'Mountain' 'New Mexico' 1949.0 602.0 2092741]\n",
            " [32 'Mid-Atlantic' 'New York' 39827.0 52070.0 19530351]\n",
            " [33 'South Atlantic' 'North Carolina' 6451.0 2817.0 10381615]\n",
            " [34 'West North Central' 'North Dakota' 467.0 75.0 758080]\n",
            " [35 'East North Central' 'Ohio' 6929.0 3320.0 11676341]\n",
            " [36 'West South Central' 'Oklahoma' 2823.0 1048.0 3940235]\n",
            " [37 'Pacific' 'Oregon' 11139.0 3337.0 4181886]\n",
            " [38 'Mid-Atlantic' 'Pennsylvania' 8163.0 5349.0 12800922]\n",
            " [39 'New England' 'Rhode Island' 747.0 354.0 1058287]\n",
            " [40 'South Atlantic' 'South Carolina' 3082.0 851.0 5084156]\n",
            " [41 'West North Central' 'South Dakota' 836.0 323.0 878698]\n",
            " [42 'East South Central' 'Tennessee' 6139.0 1744.0 6771631]\n",
            " [43 'West South Central' 'Texas' 19199.0 6111.0 28628666]\n",
            " [44 'Mountain' 'Utah' 1904.0 972.0 3153550]\n",
            " [45 'New England' 'Vermont' 780.0 511.0 624358]\n",
            " [46 'South Atlantic' 'Virginia' 3928.0 2047.0 8501286]\n",
            " [47 'Pacific' 'Washington' 16424.0 5880.0 7523869]\n",
            " [48 'South Atlantic' 'West Virginia' 1021.0 222.0 1804291]\n",
            " [49 'East North Central' 'Wisconsin' 2740.0 2167.0 5807406]\n",
            " [50 'Mountain' 'Wyoming' 434.0 205.0 577601]]\n",
            "Index(['Unnamed: 0', 'region', 'state', 'individuals', 'family_members',\n",
            "       'state_pop'],\n",
            "      dtype='object')\n",
            "RangeIndex(start=0, stop=51, step=1)\n"
          ],
          "name": "stdout"
        }
      ]
    },
    {
      "cell_type": "markdown",
      "metadata": {
        "id": "N4TI4WSrGLjX"
      },
      "source": [
        "**Sorting rows**\n",
        "\n",
        "Finding interesting bits of data in a DataFrame is often easier if you change the order of the rows. You can sort the rows by passing a column name to .sort_values().\n",
        "\n",
        "In cases where rows have the same value (this is common if you sort on a categorical variable), you may wish to break the ties by sorting on another column. You can sort on multiple columns in this way by passing a list of column names.\n",
        "\n",
        "Sort on …\tSyntax\n",
        "one column\tdf.sort_values(\"breed\")\n",
        "multiple columns\tdf.sort_values([\"breed\", \"weight_kg\"])\n",
        "By combining .sort_values() with .head(), you can answer questions in the form, \"What are the top cases where…?\".\n",
        "\n",
        "homelessness is available and pandas is loaded as pd.\n",
        "\n",
        "Instructions (35*3 XP)\n",
        "\n",
        "Sort homelessness by the number of homeless individuals, from smallest to largest, and save this as homelessness_ind.\n",
        "\n",
        "Print the head of the sorted DataFrame.\n",
        "__________\n",
        "Sort homelessness by the number of homeless family_members in descending order, and save this as homelessness_fam.\n",
        "\n",
        "Print the head of the sorted DataFrame.\n",
        "__________\n",
        "Sort homelessness first by region (ascending), and then by number of family members (descending). Save this as homelessness_reg_fam.\n",
        "\n",
        "Print the head of the sorted DataFrame."
      ]
    },
    {
      "cell_type": "code",
      "metadata": {
        "colab": {
          "base_uri": "https://localhost:8080/"
        },
        "id": "okYB8SwQGLoP",
        "outputId": "cf68e5af-c64a-4aa0-bd08-1fe5b69ccebc"
      },
      "source": [
        "# Sort homelessness by individual\n",
        "homelessness_ind = homelessness.sort_values(\"individuals\")\n",
        "\n",
        "# Print the top few rows\n",
        "print(homelessness_ind.head())"
      ],
      "execution_count": 8,
      "outputs": [
        {
          "output_type": "stream",
          "text": [
            "    Unnamed: 0              region  ... family_members  state_pop\n",
            "50          50            Mountain  ...          205.0     577601\n",
            "34          34  West North Central  ...           75.0     758080\n",
            "7            7      South Atlantic  ...          374.0     965479\n",
            "39          39         New England  ...          354.0    1058287\n",
            "45          45         New England  ...          511.0     624358\n",
            "\n",
            "[5 rows x 6 columns]\n"
          ],
          "name": "stdout"
        }
      ]
    },
    {
      "cell_type": "code",
      "metadata": {
        "colab": {
          "base_uri": "https://localhost:8080/"
        },
        "id": "RYXf2tr2GrqP",
        "outputId": "40e74351-8c8d-4e9a-a86e-67cdf1b10cc9"
      },
      "source": [
        "# Sort homelessness by descending family members\n",
        "homelessness_fam = homelessness.sort_values(\"family_members\", ascending=False)\n",
        "\n",
        "# Print the top few rows\n",
        "print(homelessness_fam.head())"
      ],
      "execution_count": 9,
      "outputs": [
        {
          "output_type": "stream",
          "text": [
            "    Unnamed: 0              region  ... family_members  state_pop\n",
            "32          32        Mid-Atlantic  ...        52070.0   19530351\n",
            "4            4             Pacific  ...        20964.0   39461588\n",
            "21          21         New England  ...        13257.0    6882635\n",
            "9            9      South Atlantic  ...         9587.0   21244317\n",
            "43          43  West South Central  ...         6111.0   28628666\n",
            "\n",
            "[5 rows x 6 columns]\n"
          ],
          "name": "stdout"
        }
      ]
    },
    {
      "cell_type": "code",
      "metadata": {
        "colab": {
          "base_uri": "https://localhost:8080/"
        },
        "id": "LMwCP_tIGu2h",
        "outputId": "a29e078b-c0e9-4dc5-efd2-5668139c87ca"
      },
      "source": [
        "# Sort homelessness by region, then descending family members\n",
        "homelessness_reg_fam = homelessness.sort_values([\"region\",\"family_members\"], ascending=[True,False])\n",
        "\n",
        "# Print the top few rows\n",
        "print(homelessness_reg_fam.head())"
      ],
      "execution_count": 10,
      "outputs": [
        {
          "output_type": "stream",
          "text": [
            "    Unnamed: 0              region  ... family_members  state_pop\n",
            "13          13  East North Central  ...         3891.0   12723071\n",
            "35          35  East North Central  ...         3320.0   11676341\n",
            "22          22  East North Central  ...         3142.0    9984072\n",
            "49          49  East North Central  ...         2167.0    5807406\n",
            "14          14  East North Central  ...         1482.0    6695497\n",
            "\n",
            "[5 rows x 6 columns]\n"
          ],
          "name": "stdout"
        }
      ]
    },
    {
      "cell_type": "markdown",
      "metadata": {
        "id": "SX7y95lkGLxX"
      },
      "source": [
        "**Subsetting columns**\n",
        "\n",
        "When working with data, you may not need all of the variables in your dataset. Square brackets ([]) can be used to select only the columns that matter to you in an order that makes sense to you. To select only \"col_a\" of the DataFrame df, use\n",
        "\n",
        "`df[\"col_a\"]`\n",
        "To select \"col_a\" and \"col_b\" of df, use\n",
        "\n",
        "`df[[\"col_a\", \"col_b\"]]`\n",
        "homelessness is available and pandas is loaded as pd.\n",
        "\n",
        "Instructions (3*35 XP):\n",
        "\n",
        "Create a DataFrame called individuals that contains only the individuals column of homelessness.\n",
        "\n",
        "Print the head of the result.\n",
        "_________\n",
        "Create a DataFrame called state_fam that contains only the state and family_members columns of homelessness, in that order.\n",
        "\n",
        "Print the head of the result.\n",
        "_________\n",
        "Create a DataFrame called ind_state that contains the individuals and state columns of homelessness, in that order.\n",
        "\n",
        "Print the head of the result."
      ]
    },
    {
      "cell_type": "code",
      "metadata": {
        "colab": {
          "base_uri": "https://localhost:8080/"
        },
        "id": "UWVNp69wG-xg",
        "outputId": "e525c4b0-eed1-4227-e277-ddc8c6c3b335"
      },
      "source": [
        "# Select the individuals column\n",
        "individuals = homelessness[\"individuals\"]\n",
        "\n",
        "# Print the head of the result\n",
        "print(individuals.head())"
      ],
      "execution_count": 11,
      "outputs": [
        {
          "output_type": "stream",
          "text": [
            "0      2570.0\n",
            "1      1434.0\n",
            "2      7259.0\n",
            "3      2280.0\n",
            "4    109008.0\n",
            "Name: individuals, dtype: float64\n"
          ],
          "name": "stdout"
        }
      ]
    },
    {
      "cell_type": "code",
      "metadata": {
        "colab": {
          "base_uri": "https://localhost:8080/"
        },
        "id": "TX5o3v9dG-33",
        "outputId": "dbdad015-f141-4df6-cd2f-673cb67058f9"
      },
      "source": [
        "# Select the state and family_members columns\n",
        "state_fam = homelessness[[\"state\",\"family_members\"]]\n",
        "\n",
        "# Print the head of the result\n",
        "print(state_fam.head())"
      ],
      "execution_count": 12,
      "outputs": [
        {
          "output_type": "stream",
          "text": [
            "        state  family_members\n",
            "0     Alabama           864.0\n",
            "1      Alaska           582.0\n",
            "2     Arizona          2606.0\n",
            "3    Arkansas           432.0\n",
            "4  California         20964.0\n"
          ],
          "name": "stdout"
        }
      ]
    },
    {
      "cell_type": "code",
      "metadata": {
        "colab": {
          "base_uri": "https://localhost:8080/"
        },
        "id": "3ji5lOecG--P",
        "outputId": "5eb16f96-bf6d-41cd-fa54-f70bb4a4f0aa"
      },
      "source": [
        "# Select only the individuals and state columns, in that order\n",
        "ind_state = homelessness[[\"individuals\",\"state\"]]\n",
        "\n",
        "# Print the head of the result\n",
        "print(ind_state.head())"
      ],
      "execution_count": 13,
      "outputs": [
        {
          "output_type": "stream",
          "text": [
            "   individuals       state\n",
            "0       2570.0     Alabama\n",
            "1       1434.0      Alaska\n",
            "2       7259.0     Arizona\n",
            "3       2280.0    Arkansas\n",
            "4     109008.0  California\n"
          ],
          "name": "stdout"
        }
      ]
    },
    {
      "cell_type": "markdown",
      "metadata": {
        "id": "YGUoQtkyGL64"
      },
      "source": [
        "**Subsetting rows**\n",
        "\n",
        "A large part of data science is about finding which bits of your dataset are interesting. One of the simplest techniques for this is to find a subset of rows that match some criteria. This is sometimes known as filtering rows or selecting rows.\n",
        "\n",
        "There are many ways to subset a DataFrame, perhaps the most common is to use relational operators to return True or False for each row, then pass that inside square brackets.\n",
        "\n",
        "\n",
        "\n",
        "```\n",
        "dogs[dogs[\"height_cm\"] > 60]\n",
        "dogs[dogs[\"color\"] == \"tan\"]\n",
        "```\n",
        "\n",
        "\n",
        "You can filter for multiple conditions at once by using the \"bitwise and\" operator, &.\n",
        "\n",
        "`dogs[(dogs[\"height_cm\"] > 60) & (dogs[\"color\"] == \"tan\")]`\n",
        "homelessness is available and pandas is loaded as pd.\n",
        "\n",
        "Instructions (3*35 XP)\n",
        "\n",
        "Filter homelessness for cases where the number of individuals is greater than ten thousand, assigning to ind_gt_10k. View the printed result.\n",
        "\n",
        "Filter homelessness for cases where the USA Census region is \"Mountain\", assigning to mountain_reg. View the printed result.\n",
        "\n",
        "Filter homelessness for cases where the number of family_members is less than one thousand and the region is \"Pacific\", assigning to fam_lt_1k_pac. View the printed result."
      ]
    },
    {
      "cell_type": "code",
      "metadata": {
        "colab": {
          "base_uri": "https://localhost:8080/"
        },
        "id": "xEAj3JoUHJDA",
        "outputId": "5829a967-35cb-4d9e-8d56-c8b3449ab4cc"
      },
      "source": [
        "# Filter for rows where individuals is greater than 10000\n",
        "ind_gt_10k = homelessness[homelessness[\"individuals\"] > 10000 ]\n",
        "\n",
        "# See the result\n",
        "print(ind_gt_10k)"
      ],
      "execution_count": 14,
      "outputs": [
        {
          "output_type": "stream",
          "text": [
            "    Unnamed: 0              region  ... family_members  state_pop\n",
            "4            4             Pacific  ...        20964.0   39461588\n",
            "9            9      South Atlantic  ...         9587.0   21244317\n",
            "32          32        Mid-Atlantic  ...        52070.0   19530351\n",
            "37          37             Pacific  ...         3337.0    4181886\n",
            "43          43  West South Central  ...         6111.0   28628666\n",
            "47          47             Pacific  ...         5880.0    7523869\n",
            "\n",
            "[6 rows x 6 columns]\n"
          ],
          "name": "stdout"
        }
      ]
    },
    {
      "cell_type": "code",
      "metadata": {
        "colab": {
          "base_uri": "https://localhost:8080/"
        },
        "id": "YUMv_EBqGL2R",
        "outputId": "ca59543b-47ef-47e8-ef0d-65c9e5c935af"
      },
      "source": [
        "# Filter for rows where region is Mountain\n",
        "mountain_reg = homelessness[homelessness[\"region\"] == \"Mountain\"]\n",
        "\n",
        "# See the result\n",
        "print(mountain_reg)"
      ],
      "execution_count": 15,
      "outputs": [
        {
          "output_type": "stream",
          "text": [
            "    Unnamed: 0    region       state  individuals  family_members  state_pop\n",
            "2            2  Mountain     Arizona       7259.0          2606.0    7158024\n",
            "5            5  Mountain    Colorado       7607.0          3250.0    5691287\n",
            "12          12  Mountain       Idaho       1297.0           715.0    1750536\n",
            "26          26  Mountain     Montana        983.0           422.0    1060665\n",
            "28          28  Mountain      Nevada       7058.0           486.0    3027341\n",
            "31          31  Mountain  New Mexico       1949.0           602.0    2092741\n",
            "44          44  Mountain        Utah       1904.0           972.0    3153550\n",
            "50          50  Mountain     Wyoming        434.0           205.0     577601\n"
          ],
          "name": "stdout"
        }
      ]
    },
    {
      "cell_type": "code",
      "metadata": {
        "colab": {
          "base_uri": "https://localhost:8080/"
        },
        "id": "VnuJCwsAGL-v",
        "outputId": "b5657102-2d05-4b03-9b4d-5b160888ef9b"
      },
      "source": [
        "# Filter for rows where family_members is less than 1000 \n",
        "# and region is Pacific\n",
        "fam_lt_1k_pac = homelessness[(homelessness[\"family_members\"] < 1000) & (homelessness[\"region\"] == \"Pacific\" )]\n",
        "\n",
        "# See the result\n",
        "print(fam_lt_1k_pac)"
      ],
      "execution_count": 16,
      "outputs": [
        {
          "output_type": "stream",
          "text": [
            "   Unnamed: 0   region   state  individuals  family_members  state_pop\n",
            "1           1  Pacific  Alaska       1434.0           582.0     735139\n"
          ],
          "name": "stdout"
        }
      ]
    },
    {
      "cell_type": "markdown",
      "metadata": {
        "id": "9XX65xu8GMDj"
      },
      "source": [
        "**Subsetting rows by categorical variables**\n",
        "\n",
        "Subsetting data based on a categorical variable often involves using the \"or\" operator (|) to select rows from multiple categories. This can get tedious when you want all states in one of three different regions, for example. Instead, use the .isin() method, which will allow you to tackle this problem by writing one condition instead of three separate ones.\n",
        "\n",
        "\n",
        "\n",
        "```\n",
        "colors = [\"brown\", \"black\", \"tan\"]\n",
        "condition = dogs[\"color\"].isin(colors)\n",
        "dogs[condition]\n",
        "```\n",
        "\n",
        "\n",
        "homelessness is available and pandas is loaded as pd.\n",
        "\n",
        "Instructions (2*50 XP):\n",
        "\n",
        "Filter homelessness for cases where the USA census region is \"South Atlantic\" or it is \"Mid-Atlantic\", assigning to south_mid_atlantic. View the printed result.\n",
        "__________________\n",
        "Filter homelessness for cases where the USA census state is in the list of Mojave states, canu, assigning to mojave_homelessness. View the printed result."
      ]
    },
    {
      "cell_type": "code",
      "metadata": {
        "colab": {
          "base_uri": "https://localhost:8080/"
        },
        "id": "1Rrt8dD3GMHw",
        "outputId": "3d04306e-c3e4-4378-e716-6909134bd0ec"
      },
      "source": [
        "# Subset for rows in South Atlantic or Mid-Atlantic regions\n",
        "south_mid_atlantic = homelessness[homelessness[\"region\"].isin([\"South Atlantic\",\"Mid-Atlantic\"])]\n",
        "\n",
        "# See the result\n",
        "print(south_mid_atlantic)"
      ],
      "execution_count": 17,
      "outputs": [
        {
          "output_type": "stream",
          "text": [
            "    Unnamed: 0          region  ... family_members  state_pop\n",
            "7            7  South Atlantic  ...          374.0     965479\n",
            "8            8  South Atlantic  ...         3134.0     701547\n",
            "9            9  South Atlantic  ...         9587.0   21244317\n",
            "10          10  South Atlantic  ...         2556.0   10511131\n",
            "20          20  South Atlantic  ...         2230.0    6035802\n",
            "30          30    Mid-Atlantic  ...         3350.0    8886025\n",
            "32          32    Mid-Atlantic  ...        52070.0   19530351\n",
            "33          33  South Atlantic  ...         2817.0   10381615\n",
            "38          38    Mid-Atlantic  ...         5349.0   12800922\n",
            "40          40  South Atlantic  ...          851.0    5084156\n",
            "46          46  South Atlantic  ...         2047.0    8501286\n",
            "48          48  South Atlantic  ...          222.0    1804291\n",
            "\n",
            "[12 rows x 6 columns]\n"
          ],
          "name": "stdout"
        }
      ]
    },
    {
      "cell_type": "code",
      "metadata": {
        "colab": {
          "base_uri": "https://localhost:8080/"
        },
        "id": "3tD4hToEHgwC",
        "outputId": "e5615174-5aab-4ca8-e659-8e5d052e2663"
      },
      "source": [
        "# The Mojave Desert states\n",
        "canu = [\"California\", \"Arizona\", \"Nevada\", \"Utah\"]\n",
        "\n",
        "# Filter for rows in the Mojave Desert states\n",
        "mojave_homelessness = homelessness[homelessness[\"state\"].isin(canu)]\n",
        "\n",
        "# See the result\n",
        "print(mojave_homelessness)"
      ],
      "execution_count": 18,
      "outputs": [
        {
          "output_type": "stream",
          "text": [
            "    Unnamed: 0    region       state  individuals  family_members  state_pop\n",
            "2            2  Mountain     Arizona       7259.0          2606.0    7158024\n",
            "4            4   Pacific  California     109008.0         20964.0   39461588\n",
            "28          28  Mountain      Nevada       7058.0           486.0    3027341\n",
            "44          44  Mountain        Utah       1904.0           972.0    3153550\n"
          ],
          "name": "stdout"
        }
      ]
    },
    {
      "cell_type": "markdown",
      "metadata": {
        "id": "Hej2a3sgHloo"
      },
      "source": [
        "**Adding new columns**\n",
        "\n",
        "You aren't stuck with just the data you are given. Instead, you can add new columns to a DataFrame. This has many names, such as transforming, mutating, and feature engineering.\n",
        "\n",
        "You can create new columns from scratch, but it is also common to derive them from other columns, for example, by adding columns together or by changing their units.\n",
        "\n",
        "homelessness is available and pandas is loaded as pd.\n",
        "\n",
        "Instructions(100 XP):\n",
        "\n",
        "Add a new column to homelessness, named total, containing the sum of the individuals and family_members columns.\n",
        "Add another column to homelessness, named p_individuals, containing the proportion of homeless people in each state who are individuals.\n",
        "\n",
        "Take Hint (-30 XP)"
      ]
    },
    {
      "cell_type": "code",
      "metadata": {
        "colab": {
          "base_uri": "https://localhost:8080/"
        },
        "id": "E1et3MrUHl1o",
        "outputId": "84152aa6-51fb-4db4-971f-20b910420fde"
      },
      "source": [
        "# Add total col as sum of individuals and family_members\n",
        "homelessness['total'] = homelessness['individuals'] + homelessness['family_members']\n",
        "\n",
        "# Add p_individuals col as proportion of individuals\n",
        "homelessness['p_individuals'] = homelessness['individuals'] / homelessness['total']\n",
        "\n",
        "# See the result\n",
        "print(homelessness)"
      ],
      "execution_count": 19,
      "outputs": [
        {
          "output_type": "stream",
          "text": [
            "    Unnamed: 0              region  ...     total  p_individuals\n",
            "0            0  East South Central  ...    3434.0       0.748398\n",
            "1            1             Pacific  ...    2016.0       0.711310\n",
            "2            2            Mountain  ...    9865.0       0.735834\n",
            "3            3  West South Central  ...    2712.0       0.840708\n",
            "4            4             Pacific  ...  129972.0       0.838704\n",
            "5            5            Mountain  ...   10857.0       0.700654\n",
            "6            6         New England  ...    3976.0       0.573441\n",
            "7            7      South Atlantic  ...    1082.0       0.654344\n",
            "8            8      South Atlantic  ...    6904.0       0.546060\n",
            "9            9      South Atlantic  ...   31030.0       0.691041\n",
            "10          10      South Atlantic  ...    9499.0       0.730919\n",
            "11          11             Pacific  ...    6530.0       0.632619\n",
            "12          12            Mountain  ...    2012.0       0.644632\n",
            "13          13  East North Central  ...   10643.0       0.634408\n",
            "14          14  East North Central  ...    5258.0       0.718144\n",
            "15          15  West North Central  ...    2749.0       0.622408\n",
            "16          16  West North Central  ...    2216.0       0.651173\n",
            "17          17  East South Central  ...    3688.0       0.741594\n",
            "18          18  West South Central  ...    3059.0       0.830337\n",
            "19          19         New England  ...    2516.0       0.576312\n",
            "20          20      South Atlantic  ...    7144.0       0.687850\n",
            "21          21         New England  ...   20068.0       0.339396\n",
            "22          22  East North Central  ...    8351.0       0.623758\n",
            "23          23  West North Central  ...    7243.0       0.551291\n",
            "24          24  East South Central  ...    1352.0       0.757396\n",
            "25          25  West North Central  ...    5883.0       0.641849\n",
            "26          26            Mountain  ...    1405.0       0.699644\n",
            "27          27  West North Central  ...    2421.0       0.720777\n",
            "28          28            Mountain  ...    7544.0       0.935578\n",
            "29          29         New England  ...    1450.0       0.575862\n",
            "30          30        Mid-Atlantic  ...    9398.0       0.643541\n",
            "31          31            Mountain  ...    2551.0       0.764014\n",
            "32          32        Mid-Atlantic  ...   91897.0       0.433387\n",
            "33          33      South Atlantic  ...    9268.0       0.696051\n",
            "34          34  West North Central  ...     542.0       0.861624\n",
            "35          35  East North Central  ...   10249.0       0.676066\n",
            "36          36  West South Central  ...    3871.0       0.729269\n",
            "37          37             Pacific  ...   14476.0       0.769481\n",
            "38          38        Mid-Atlantic  ...   13512.0       0.604130\n",
            "39          39         New England  ...    1101.0       0.678474\n",
            "40          40      South Atlantic  ...    3933.0       0.783626\n",
            "41          41  West North Central  ...    1159.0       0.721311\n",
            "42          42  East South Central  ...    7883.0       0.778764\n",
            "43          43  West South Central  ...   25310.0       0.758554\n",
            "44          44            Mountain  ...    2876.0       0.662031\n",
            "45          45         New England  ...    1291.0       0.604183\n",
            "46          46      South Atlantic  ...    5975.0       0.657406\n",
            "47          47             Pacific  ...   22304.0       0.736370\n",
            "48          48      South Atlantic  ...    1243.0       0.821400\n",
            "49          49  East North Central  ...    4907.0       0.558386\n",
            "50          50            Mountain  ...     639.0       0.679186\n",
            "\n",
            "[51 rows x 8 columns]\n"
          ],
          "name": "stdout"
        }
      ]
    },
    {
      "cell_type": "markdown",
      "metadata": {
        "id": "plujqF9-Hl7A"
      },
      "source": [
        "**Combo-attack!**\n",
        "\n",
        "You've seen the four most common types of data manipulation: sorting rows, subsetting columns, subsetting rows, and adding new columns. In a real-life data analysis, you can mix and match these four manipulations to answer a multitude of questions.\n",
        "\n",
        "In this exercise, you'll answer the question, \"Which state has the highest number of homeless individuals per 10,000 people in the state?\" Combine your new pandas skills to find out.\n",
        "\n",
        "Instructions(100 XP):\n",
        "\n",
        "Add a column to homelessness, indiv_per_10k, containing the number of homeless individuals per ten thousand people in each state.\n",
        "Subset rows where indiv_per_10k is higher than 20, assigning to high_homelessness.\n",
        "Sort high_homelessness by descending indiv_per_10k, assigning to high_homelessness_srt.\n",
        "Select only the state and indiv_per_10k columns of high_homelessness_srt and save as result. Look at the result.\n",
        "\n",
        "Take Hint (-30 XP)"
      ]
    },
    {
      "cell_type": "code",
      "metadata": {
        "colab": {
          "base_uri": "https://localhost:8080/"
        },
        "id": "XJfFioZoHl_2",
        "outputId": "213682e2-c12f-4514-ee1a-2604a2ac0152"
      },
      "source": [
        "# Create indiv_per_10k col as homeless individuals per 10k state pop\n",
        "homelessness[\"indiv_per_10k\"] = 10000 * homelessness[\"individuals\"] / homelessness[\"state_pop\"] \n",
        "\n",
        "# Subset rows for indiv_per_10k greater than 20\n",
        "high_homelessness = homelessness[homelessness[\"indiv_per_10k\"] > 20]\n",
        "\n",
        "# Sort high_homelessness by descending indiv_per_10k\n",
        "high_homelessness_srt = high_homelessness.sort_values([\"indiv_per_10k\"] , ascending = False)\n",
        "\n",
        "# From high_homelessness_srt, select the state and indiv_per_10k cols\n",
        "result = high_homelessness_srt[[\"state\",\"indiv_per_10k\"]]\n",
        "\n",
        "# See the result\n",
        "print(result)"
      ],
      "execution_count": 20,
      "outputs": [
        {
          "output_type": "stream",
          "text": [
            "                   state  indiv_per_10k\n",
            "8   District of Columbia      53.738381\n",
            "11                Hawaii      29.079406\n",
            "4             California      27.623825\n",
            "37                Oregon      26.636307\n",
            "28                Nevada      23.314189\n",
            "47            Washington      21.829195\n",
            "32              New York      20.392363\n"
          ],
          "name": "stdout"
        }
      ]
    },
    {
      "cell_type": "markdown",
      "metadata": {
        "id": "P-b42XY1HmFA"
      },
      "source": [
        "**Mean and median**\n",
        "\n",
        "Summary statistics are exactly what they sound like - they summarize many numbers in one statistic. For example, mean, median, minimum, maximum, and standard deviation are summary statistics. Calculating summary statistics allows you to get a better sense of your data, even if there's a lot of it.\n",
        "\n",
        "sales is available and pandas is loaded as pd.\n",
        "\n",
        "Instructions(100 XP):\n",
        "\n",
        "Explore your new DataFrame first by printing the first few rows of the sales DataFrame.\n",
        "Print information about the columns in sales.\n",
        "Print the mean of the weekly_sales column.\n",
        "Print the median of the weekly_sales column.\n",
        "\n",
        "Take Hint (-30 XP)"
      ]
    },
    {
      "cell_type": "code",
      "metadata": {
        "id": "UZSr7aYVxd7U"
      },
      "source": [
        "sales = pd.read_csv('sales.csv')"
      ],
      "execution_count": 21,
      "outputs": []
    },
    {
      "cell_type": "code",
      "metadata": {
        "colab": {
          "base_uri": "https://localhost:8080/"
        },
        "id": "5OoCmKzDHmJ2",
        "outputId": "93d40c30-403c-4ec8-c1e7-ac9b66f03b00"
      },
      "source": [
        "# Print the head of the sales DataFrame\n",
        "print(sales.head())\n",
        "\n",
        "# Print the info about the sales DataFrame\n",
        "print(sales.info())\n",
        "\n",
        "# Print the mean of weekly_sales\n",
        "print(sales[\"weekly_sales\"].mean())\n",
        "\n",
        "# Print the median of weekly_sales\n",
        "print(sales[\"weekly_sales\"].median())"
      ],
      "execution_count": 22,
      "outputs": [
        {
          "output_type": "stream",
          "text": [
            "   Unnamed: 0  store type  ...  temperature_c fuel_price_usd_per_l  unemployment\n",
            "0           0      1    A  ...       5.727778             0.679451         8.106\n",
            "1           1      1    A  ...       8.055556             0.693452         8.106\n",
            "2           2      1    A  ...      16.816667             0.718284         7.808\n",
            "3           3      1    A  ...      22.527778             0.748928         7.808\n",
            "4           4      1    A  ...      27.050000             0.714586         7.808\n",
            "\n",
            "[5 rows x 10 columns]\n",
            "<class 'pandas.core.frame.DataFrame'>\n",
            "RangeIndex: 10774 entries, 0 to 10773\n",
            "Data columns (total 10 columns):\n",
            " #   Column                Non-Null Count  Dtype  \n",
            "---  ------                --------------  -----  \n",
            " 0   Unnamed: 0            10774 non-null  int64  \n",
            " 1   store                 10774 non-null  int64  \n",
            " 2   type                  10774 non-null  object \n",
            " 3   department            10774 non-null  int64  \n",
            " 4   date                  10774 non-null  object \n",
            " 5   weekly_sales          10774 non-null  float64\n",
            " 6   is_holiday            10774 non-null  bool   \n",
            " 7   temperature_c         10774 non-null  float64\n",
            " 8   fuel_price_usd_per_l  10774 non-null  float64\n",
            " 9   unemployment          10774 non-null  float64\n",
            "dtypes: bool(1), float64(4), int64(3), object(2)\n",
            "memory usage: 768.2+ KB\n",
            "None\n",
            "23843.950148505668\n",
            "12049.064999999999\n"
          ],
          "name": "stdout"
        }
      ]
    },
    {
      "cell_type": "markdown",
      "metadata": {
        "id": "RkYGDnaLHmRI"
      },
      "source": [
        "**Summarizing dates**\n",
        "\n",
        "Summary statistics can also be calculated on date columns that have values with the data type datetime64. Some summary statistics — like mean — don't make a ton of sense on dates, but others are super helpful, for example, minimum and maximum, which allow you to see what time range your data covers.\n",
        "\n",
        "sales is available and pandas is loaded as pd.\n",
        "\n",
        "Instructions(100 XP):\n",
        "\n",
        "Print the maximum of the date column.\n",
        "Print the minimum of the date column.\n",
        "\n",
        "Take Hint (-30 XP)"
      ]
    },
    {
      "cell_type": "code",
      "metadata": {
        "colab": {
          "base_uri": "https://localhost:8080/"
        },
        "id": "cEv29Jm7HmZh",
        "outputId": "e83a853c-2bba-4e52-eb94-d9d558f0dfe4"
      },
      "source": [
        "# Print the maximum of the date column\n",
        "print(sales[\"date\"].max())\n",
        "\n",
        "# Print the minimum of the date column\n",
        "print(sales[\"date\"].min())"
      ],
      "execution_count": 23,
      "outputs": [
        {
          "output_type": "stream",
          "text": [
            "2012-10-26\n",
            "2010-02-05\n"
          ],
          "name": "stdout"
        }
      ]
    },
    {
      "cell_type": "markdown",
      "metadata": {
        "id": "kbMVTqxvx2om"
      },
      "source": [
        "**Efficient summaries**\n",
        "\n",
        "While pandas and NumPy have tons of functions, sometimes, you may need a different function to summarize your data.\n",
        "\n",
        "The .agg() method allows you to apply your own custom functions to a DataFrame, as well as apply functions to more than one column of a DataFrame at once, making your aggregations super-efficient. For example,\n",
        "\n",
        "df['column'].agg(function)\n",
        "In the custom function for this exercise, \"IQR\" is short for inter-quartile range, which is the 75th percentile minus the 25th percentile. It's an alternative to standard deviation that is helpful if your data contains outliers.\n",
        "\n",
        "sales is available and pandas is loaded as pd.\n",
        "\n",
        "Instructions(3*35 XP):\n",
        "\n",
        "\n",
        "Use the custom iqr function defined for you along with .agg() to print the IQR of the temperature_c column of sales.\n",
        "_________\n",
        "Update the column selection to use the custom iqr function with .agg() to print the IQR of temperature_c, fuel_price_usd_per_l, and unemployment, in that order.\n",
        "_________\n",
        "Update the aggregation functions called by .agg(): include iqr and np.median in that order."
      ]
    },
    {
      "cell_type": "code",
      "metadata": {
        "colab": {
          "base_uri": "https://localhost:8080/"
        },
        "id": "Ituuoqo-x21T",
        "outputId": "35ff3291-9e96-4998-8c1e-c07a46c309c2"
      },
      "source": [
        "# A custom IQR function\n",
        "def iqr(column):\n",
        "    return column.quantile(0.75) - column.quantile(0.25)\n",
        "    \n",
        "# Print IQR of the temperature_c column\n",
        "print(sales[\"temperature_c\"].agg(iqr))"
      ],
      "execution_count": 24,
      "outputs": [
        {
          "output_type": "stream",
          "text": [
            "16.58333333333334\n"
          ],
          "name": "stdout"
        }
      ]
    },
    {
      "cell_type": "code",
      "metadata": {
        "colab": {
          "base_uri": "https://localhost:8080/"
        },
        "id": "uu-ndTpTx25S",
        "outputId": "82894a3a-1706-4680-c6b5-ad6e30d3881e"
      },
      "source": [
        "# A custom IQR function\n",
        "def iqr(column):\n",
        "    return column.quantile(0.75) - column.quantile(0.25)\n",
        "\n",
        "# Update to print IQR of temperature_c, fuel_price_usd_per_l, & unemployment\n",
        "print(sales[[\"temperature_c\", \"fuel_price_usd_per_l\", \"unemployment\"]].agg(iqr))"
      ],
      "execution_count": 25,
      "outputs": [
        {
          "output_type": "stream",
          "text": [
            "temperature_c           16.583333\n",
            "fuel_price_usd_per_l     0.073176\n",
            "unemployment             0.565000\n",
            "dtype: float64\n"
          ],
          "name": "stdout"
        }
      ]
    },
    {
      "cell_type": "code",
      "metadata": {
        "colab": {
          "base_uri": "https://localhost:8080/"
        },
        "id": "GNC7UMOOx3Ej",
        "outputId": "1198c71c-3e8e-4075-f790-32b4c4d7c468"
      },
      "source": [
        "# Import NumPy and create custom IQR function\n",
        "import numpy as np\n",
        "def iqr(column):\n",
        "    return column.quantile(0.75) - column.quantile(0.25)\n",
        "\n",
        "# Update to print IQR and median of temperature_c, fuel_price_usd_per_l, & unemployment\n",
        "print(sales[[\"temperature_c\", \"fuel_price_usd_per_l\", \"unemployment\"]].agg([iqr, np.median]))"
      ],
      "execution_count": 26,
      "outputs": [
        {
          "output_type": "stream",
          "text": [
            "        temperature_c  fuel_price_usd_per_l  unemployment\n",
            "iqr         16.583333              0.073176         0.565\n",
            "median      16.966667              0.743381         8.099\n"
          ],
          "name": "stdout"
        }
      ]
    },
    {
      "cell_type": "markdown",
      "metadata": {
        "id": "iLp49EeBx3Sz"
      },
      "source": [
        "**Cumulative statistics**\n",
        "\n",
        "Cumulative statistics can also be helpful in tracking summary statistics over time. In this exercise, you'll calculate the cumulative sum and cumulative max of a department's weekly sales, which will allow you to identify what the total sales were so far as well as what the highest weekly sales were so far.\n",
        "\n",
        "A DataFrame called sales_1_1 has been created for you, which contains the sales data for department 1 of store 1. pandas is loaded as pd.\n",
        "\n",
        "Instructions(100 XP):\n",
        "\n",
        "Sort the rows of sales_1_1 by the date column in ascending order.\n",
        "________\n",
        "Get the cumulative sum of weekly_sales and add it as a new column of sales_1_1 called cum_weekly_sales.\n",
        "________\n",
        "Get the cumulative maximum of weekly_sales, and add it as a column called cum_max_sales.\n",
        "________\n",
        "Print the date, weekly_sales, cum_weekly_sales, and cum_max_sales columns.\n",
        "\n",
        "Take Hint (-30 XP)"
      ]
    },
    {
      "cell_type": "code",
      "metadata": {
        "id": "_vKgB8JmybMP"
      },
      "source": [
        "sales_1_1 = pd.read_csv('sales.csv')"
      ],
      "execution_count": 28,
      "outputs": []
    },
    {
      "cell_type": "code",
      "metadata": {
        "colab": {
          "base_uri": "https://localhost:8080/"
        },
        "id": "gjoKU9lCyXjN",
        "outputId": "d22f5c74-88ba-40ef-d346-d9970ab87260"
      },
      "source": [
        "# Sort sales_1_1 by date\n",
        "sales_1_1 = sales_1_1.sort_values(\"date\")\n",
        "\n",
        "# Get the cumulative sum of weekly_sales, add as cum_weekly_sales col\n",
        "sales_1_1[\"cum_weekly_sales\"] = sales_1_1[\"weekly_sales\"].cumsum()\n",
        "\n",
        "# Get the cumulative max of weekly_sales, add as cum_max_sales col\n",
        "sales_1_1[\"cum_max_sales\"] = sales_1_1[\"weekly_sales\"].cummax()\n",
        "\n",
        "# See the columns you calculated\n",
        "print(sales_1_1[[\"date\", \"weekly_sales\", \"cum_weekly_sales\", \"cum_max_sales\"]])"
      ],
      "execution_count": 29,
      "outputs": [
        {
          "output_type": "stream",
          "text": [
            "             date  weekly_sales  cum_weekly_sales  cum_max_sales\n",
            "0      2010-02-05      24924.50      2.492450e+04       24924.50\n",
            "6437   2010-02-05      38597.52      6.352202e+04       38597.52\n",
            "1249   2010-02-05       3840.21      6.736223e+04       38597.52\n",
            "6449   2010-02-05      17590.59      8.495282e+04       38597.52\n",
            "6461   2010-02-05       4929.87      8.988269e+04       38597.52\n",
            "...           ...           ...               ...            ...\n",
            "3592   2012-10-05        440.00      2.568932e+08      293966.05\n",
            "8108   2012-10-05        660.00      2.568938e+08      293966.05\n",
            "10773  2012-10-05        915.00      2.568947e+08      293966.05\n",
            "6257   2012-10-12          3.00      2.568947e+08      293966.05\n",
            "3384   2012-10-26        -21.63      2.568947e+08      293966.05\n",
            "\n",
            "[10774 rows x 4 columns]\n"
          ],
          "name": "stdout"
        }
      ]
    },
    {
      "cell_type": "markdown",
      "metadata": {
        "id": "uBgrZjl8ymWD"
      },
      "source": [
        "**Dropping duplicates**\n",
        "\n",
        "Removing duplicates is an essential skill to get accurate counts because often, you don't want to count the same thing multiple times. In this exercise, you'll create some new DataFrames using unique values from sales.\n",
        "\n",
        "sales is available and pandas is imported as pd.\n",
        "\n",
        "Instructions(100 XP):\n",
        "\n",
        "Remove rows of sales with duplicate pairs of store and type and save as store_types and print the head.\n",
        "_____\n",
        "Remove rows of sales with duplicate pairs of store and department and save as store_depts and print the head.\n",
        "_____\n",
        "Subset the rows that are holiday weeks using the is_holiday column, and drop the duplicate dates, saving as holiday_dates.\n",
        "_____\n",
        "Select the date column of holiday_dates, and print.\n",
        "\n",
        "Take Hint (-30 XP)"
      ]
    },
    {
      "cell_type": "code",
      "metadata": {
        "colab": {
          "base_uri": "https://localhost:8080/"
        },
        "id": "vX8xEW4-yvB0",
        "outputId": "81a5f17c-6bec-4798-c112-356f3b5a61d2"
      },
      "source": [
        "# Drop duplicate store/type combinations\n",
        "store_types = sales.drop_duplicates(subset=[\"store\",\"type\"])\n",
        "print(store_types.head())\n",
        "\n",
        "# Drop duplicate store/department combinations\n",
        "store_depts = sales.drop_duplicates(subset=[\"store\",\"department\"])\n",
        "print(store_depts.head())\n",
        "\n",
        "# Subset the rows where is_holiday is True and drop duplicate dates\n",
        "holiday_dates = sales[sales[\"is_holiday\"]].drop_duplicates(subset=\"date\")\n",
        "\n",
        "# Print date col of holiday_dates\n",
        "print(holiday_dates)"
      ],
      "execution_count": 30,
      "outputs": [
        {
          "output_type": "stream",
          "text": [
            "      Unnamed: 0  store type  ...  temperature_c fuel_price_usd_per_l  unemployment\n",
            "0              0      1    A  ...       5.727778             0.679451         8.106\n",
            "901          901      2    A  ...       4.550000             0.679451         8.324\n",
            "1798        1798      4    A  ...       6.533333             0.686319         8.623\n",
            "2699        2699      6    A  ...       4.683333             0.679451         7.259\n",
            "3593        3593     10    B  ...      12.411111             0.782478         9.765\n",
            "\n",
            "[5 rows x 10 columns]\n",
            "    Unnamed: 0  store type  ...  temperature_c fuel_price_usd_per_l  unemployment\n",
            "0            0      1    A  ...       5.727778             0.679451         8.106\n",
            "12          12      1    A  ...       5.727778             0.679451         8.106\n",
            "24          24      1    A  ...       5.727778             0.679451         8.106\n",
            "36          36      1    A  ...       5.727778             0.679451         8.106\n",
            "48          48      1    A  ...       5.727778             0.679451         8.106\n",
            "\n",
            "[5 rows x 10 columns]\n",
            "      Unnamed: 0  store type  ...  temperature_c fuel_price_usd_per_l  unemployment\n",
            "498          498      1    A  ...      25.938889             0.677602         7.787\n",
            "691          691      1    A  ...      15.633333             0.854861         7.866\n",
            "2315        2315      4    A  ...      -1.755556             0.679715         8.623\n",
            "6735        6735     19    A  ...      22.333333             1.076766         8.193\n",
            "6810        6810     19    A  ...      -1.861111             0.881278         8.067\n",
            "6815        6815     19    A  ...       0.338889             1.010723         7.943\n",
            "6820        6820     19    A  ...      20.155556             1.038197         7.806\n",
            "\n",
            "[7 rows x 10 columns]\n"
          ],
          "name": "stdout"
        }
      ]
    },
    {
      "cell_type": "markdown",
      "metadata": {
        "id": "QbVJQ6VRyzlk"
      },
      "source": [
        "**Counting categorical variables**\n",
        "\n",
        "Counting is a great way to get an overview of your data and to spot curiosities that you might not notice otherwise. In this exercise, you'll count the number of each type of store and the number of each department number using the DataFrames you created in the previous exercise:\n",
        "\n",
        "# Drop duplicate store/type combinations\n",
        "store_types = sales.drop_duplicates(subset=[\"store\", \"type\"])\n",
        "\n",
        "# Drop duplicate store/department combinations\n",
        "store_depts = sales.drop_duplicates(subset=[\"store\", \"department\"])\n",
        "The store_types and store_depts DataFrames you created in the last exercise are available, and pandas is imported as pd.\n",
        "\n",
        "Instructions(100 XP):\n",
        "\n",
        "Count the number of stores of each store type in store_types.\n",
        "\n",
        "Count the proportion of stores of each store type in store_types.\n",
        "\n",
        "Count the number of different departments in store_depts, sorting the counts in descending order.\n",
        "\n",
        "Count the proportion of different departments in store_depts, sorting the proportions in descending order.\n",
        "\n",
        "\n",
        "Take Hint (-30 XP)"
      ]
    },
    {
      "cell_type": "code",
      "metadata": {
        "colab": {
          "base_uri": "https://localhost:8080/"
        },
        "id": "uaLPRZc3yvK7",
        "outputId": "037988f3-b049-450a-b68c-9dad4cc66ec6"
      },
      "source": [
        "# Count the number of stores of each type\n",
        "store_counts = store_types[\"type\"].value_counts()\n",
        "print(store_counts)\n",
        "\n",
        "# Get the proportion of stores of each type\n",
        "store_props = store_types[\"type\"].value_counts(normalize=True)\n",
        "print(store_props)\n",
        "\n",
        "# Count the number of each department number and sort\n",
        "dept_counts_sorted = store_depts[\"department\"].value_counts(sort=True)\n",
        "print(dept_counts_sorted)\n",
        "\n",
        "# Get the proportion of departments of each number and sort\n",
        "dept_props_sorted = store_depts[\"department\"].value_counts(sort=True, normalize=True)\n",
        "print(dept_props_sorted)"
      ],
      "execution_count": 31,
      "outputs": [
        {
          "output_type": "stream",
          "text": [
            "A    11\n",
            "B     1\n",
            "Name: type, dtype: int64\n",
            "A    0.916667\n",
            "B    0.083333\n",
            "Name: type, dtype: float64\n",
            "41    12\n",
            "30    12\n",
            "23    12\n",
            "24    12\n",
            "25    12\n",
            "      ..\n",
            "37    10\n",
            "48     8\n",
            "50     6\n",
            "39     4\n",
            "43     2\n",
            "Name: department, Length: 80, dtype: int64\n",
            "41    0.012917\n",
            "30    0.012917\n",
            "23    0.012917\n",
            "24    0.012917\n",
            "25    0.012917\n",
            "        ...   \n",
            "37    0.010764\n",
            "48    0.008611\n",
            "50    0.006459\n",
            "39    0.004306\n",
            "43    0.002153\n",
            "Name: department, Length: 80, dtype: float64\n"
          ],
          "name": "stdout"
        }
      ]
    },
    {
      "cell_type": "markdown",
      "metadata": {
        "id": "GEF5C8Wey93s"
      },
      "source": [
        "**What percent of sales occurred at each store type?**\n",
        "\n",
        "While .groupby() is useful, you can calculate grouped summary statistics without it.\n",
        "\n",
        "Walmart distinguishes three types of stores: \"supercenters,\" \"discount stores,\" and \"neighborhood markets,\" encoded in this dataset as type \"A,\" \"B,\" and \"C.\" In this exercise, you'll calculate the total sales made at each store type, without using .groupby(). You can then use these numbers to see what proportion of Walmart's total sales were made at each type.\n",
        "\n",
        "sales is available and pandas is imported as pd.\n",
        "\n",
        "Instructions(100 XP):\n",
        "\n",
        "Calculate the total weekly_sales over the whole dataset.\n",
        "\n",
        "Subset for type \"A\" stores, and calculate their total weekly sales.\n",
        "\n",
        "Do the same for type \"B\" and type \"C\" stores.\n",
        "\n",
        "Combine the A/B/C results into a list, and divide by sales_all to get the proportion of sales by type.\n",
        "\n",
        "\n",
        "Take Hint (-30 XP)"
      ]
    },
    {
      "cell_type": "code",
      "metadata": {
        "colab": {
          "base_uri": "https://localhost:8080/"
        },
        "id": "NxnCFbuVyvPT",
        "outputId": "f4093f09-1350-4e37-c0c8-f045aa9588db"
      },
      "source": [
        "# Calc total weekly sales\n",
        "sales_all = sales[\"weekly_sales\"].sum()\n",
        "\n",
        "# Subset for type A stores, calc total weekly sales\n",
        "sales_A = sales[sales[\"type\"] == \"A\"][\"weekly_sales\"].sum()\n",
        "\n",
        "# Subset for type B stores, calc total weekly sales\n",
        "sales_B = sales[sales[\"type\"] == \"B\"][\"weekly_sales\"].sum()\n",
        "\n",
        "# Subset for type C stores, calc total weekly sales\n",
        "sales_C = sales[sales[\"type\"] == \"C\"][\"weekly_sales\"].sum()\n",
        "\n",
        "# Get proportion for each type\n",
        "sales_propn_by_type = [sales_A, sales_B, sales_C] / sales_all\n",
        "print(sales_propn_by_type)"
      ],
      "execution_count": 32,
      "outputs": [
        {
          "output_type": "stream",
          "text": [
            "[0.9097747 0.0902253 0.       ]\n"
          ],
          "name": "stdout"
        }
      ]
    },
    {
      "cell_type": "markdown",
      "metadata": {
        "id": "ytfE7aJNzEVb"
      },
      "source": [
        "**Calculations with .groupby()**\n",
        "\n",
        "The .groupby() method makes life much easier. In this exercise, you'll perform the same calculations as last time, except you'll use the .groupby() method. You'll also perform calculations on data grouped by two variables to see if sales differ by store type depending on if it's a holiday week or not.\n",
        "\n",
        "sales is available and pandas is loaded as pd.\n",
        "\n",
        "Instructions(2*50 XP):\n",
        "\n",
        "Group sales by \"type\", take the sum of \"weekly_sales\", and store as sales_by_type.\n",
        "_____\n",
        "Calculate the proportion of sales at each store type by dividing by the sum of sales_by_type. Assign to sales_propn_by_type.\n",
        "_____\n",
        "Group sales by \"type\" and \"is_holiday\", take the sum of weekly_sales, and store as sales_by_type_is_holiday.\n",
        "\n"
      ]
    },
    {
      "cell_type": "code",
      "metadata": {
        "colab": {
          "base_uri": "https://localhost:8080/"
        },
        "id": "U9PRVUpTyvRy",
        "outputId": "2360fee1-d04a-4bb8-c044-dc41d09bb57b"
      },
      "source": [
        "# Group by type; calc total weekly sales\n",
        "sales_by_type = sales.groupby(\"type\")[\"weekly_sales\"].sum()\n",
        "\n",
        "# Get proportion for each type\n",
        "sales_propn_by_type = sales_by_type / sum(sales_by_type)\n",
        "print(sales_propn_by_type)"
      ],
      "execution_count": 33,
      "outputs": [
        {
          "output_type": "stream",
          "text": [
            "type\n",
            "A    0.909775\n",
            "B    0.090225\n",
            "Name: weekly_sales, dtype: float64\n"
          ],
          "name": "stdout"
        }
      ]
    },
    {
      "cell_type": "code",
      "metadata": {
        "colab": {
          "base_uri": "https://localhost:8080/"
        },
        "id": "G5VgcTAYzQvU",
        "outputId": "508b0ae3-34ee-4f5b-fe95-902a5079dc44"
      },
      "source": [
        "# From previous step\n",
        "sales_by_type = sales.groupby(\"type\")[\"weekly_sales\"].sum()\n",
        "\n",
        "# Group by type and is_holiday; calc total weekly sales\n",
        "sales_by_type_is_holiday = sales.groupby([\"type\",\"is_holiday\"])[\"weekly_sales\"].sum()\n",
        "print(sales_by_type_is_holiday)"
      ],
      "execution_count": 34,
      "outputs": [
        {
          "output_type": "stream",
          "text": [
            "type  is_holiday\n",
            "A     False         2.336927e+08\n",
            "      True          2.360181e+04\n",
            "B     False         2.317678e+07\n",
            "      True          1.621410e+03\n",
            "Name: weekly_sales, dtype: float64\n"
          ],
          "name": "stdout"
        }
      ]
    },
    {
      "cell_type": "markdown",
      "metadata": {
        "id": "jnbYp4yhzSSc"
      },
      "source": [
        "**Multiple grouped summaries**\n",
        "\n",
        "Earlier in this chapter, you saw that the .agg() method is useful to compute multiple statistics on multiple variables. It also works with grouped data. NumPy, which is imported as np, has many different summary statistics functions, including: np.min, np.max, np.mean, and np.median.\n",
        "\n",
        "sales is available and pandas is imported as pd.\n",
        "\n",
        "Instructions(100 XP):\n",
        "\n",
        "Import numpy with the alias np.\n",
        "____\n",
        "Get the min, max, mean, and median of weekly_sales for each store type using .groupby() and .agg(). Store this as sales_stats. Make sure to use numpy functions!\n",
        "____\n",
        "Get the min, max, mean, and median of unemployment and fuel_price_usd_per_l for each store type. Store this as unemp_fuel_stats.\n",
        "\n",
        "\n",
        "Take Hint (-30 XP)"
      ]
    },
    {
      "cell_type": "code",
      "metadata": {
        "colab": {
          "base_uri": "https://localhost:8080/"
        },
        "id": "x75ftutWzSiZ",
        "outputId": "9a78fb78-9456-4521-e7eb-55ba0db09882"
      },
      "source": [
        "# Import numpy with the alias np\n",
        "import numpy as np\n",
        "\n",
        "# For each store type, aggregate weekly_sales: get min, max, mean, and median\n",
        "sales_stats = sales.groupby(\"type\")[\"weekly_sales\"].agg([np.min ,np.max ,np.mean,np.median])\n",
        "\n",
        "# Print sales_stats\n",
        "print(sales_stats)\n",
        "\n",
        "# For each store type, aggregate unemployment and fuel_price_usd_per_l: get min, max, mean, and median\n",
        "unemp_fuel_stats = sales.groupby(\"type\")[\"unemployment\",\"fuel_price_usd_per_l\"].agg([np.min ,np.max ,np.mean,np.median])\n",
        "\n",
        "# Print unemp_fuel_stats\n",
        "print(unemp_fuel_stats)"
      ],
      "execution_count": 35,
      "outputs": [
        {
          "output_type": "stream",
          "text": [
            "        amin       amax          mean    median\n",
            "type                                           \n",
            "A    -1098.0  293966.05  23674.667242  11943.92\n",
            "B     -798.0  232558.51  25696.678370  13336.08\n",
            "     unemployment                   ... fuel_price_usd_per_l                    \n",
            "             amin   amax      mean  ...                 amax      mean    median\n",
            "type                                ...                                         \n",
            "A           3.879  8.992  7.972611  ...             1.107410  0.744619  0.735455\n",
            "B           7.170  9.765  9.279323  ...             1.107674  0.805858  0.803348\n",
            "\n",
            "[2 rows x 8 columns]\n"
          ],
          "name": "stdout"
        },
        {
          "output_type": "stream",
          "text": [
            "/usr/local/lib/python3.7/dist-packages/ipykernel_launcher.py:11: FutureWarning: Indexing with multiple keys (implicitly converted to a tuple of keys) will be deprecated, use a list instead.\n",
            "  # This is added back by InteractiveShellApp.init_path()\n"
          ],
          "name": "stderr"
        }
      ]
    },
    {
      "cell_type": "markdown",
      "metadata": {
        "id": "IiE3xKiIzeGl"
      },
      "source": [
        "**Pivoting on one variable**\n",
        "\n",
        "Pivot tables are the standard way of aggregating data in spreadsheets. In pandas, pivot tables are essentially just another way of performing grouped calculations. That is, the .pivot_table() method is just an alternative to .groupby().\n",
        "\n",
        "In this exercise, you'll perform calculations using .pivot_table() to replicate the calculations you performed in the last lesson using .groupby().\n",
        "\n",
        "sales is available and pandas is imported as pd.\n",
        "\n",
        "Instructions(3*35 XP):\n",
        "\n",
        "Get the mean weekly_sales by type using .pivot_table() and store as mean_sales_by_type.\n",
        "_____\n",
        "Get the mean and median (using NumPy functions) of weekly_sales by type using .pivot_table() and store as mean_med_sales_by_type.\n",
        "_____\n",
        "Get the mean of weekly_sales by type and is_holiday using .pivot_table() and store as mean_sales_by_type_holiday\n"
      ]
    },
    {
      "cell_type": "code",
      "metadata": {
        "colab": {
          "base_uri": "https://localhost:8080/"
        },
        "id": "ZI8cwm02zp7Y",
        "outputId": "7820b82c-18a3-4189-965d-8bec8111fbaf"
      },
      "source": [
        "# Pivot for mean weekly_sales for each store type\n",
        "mean_sales_by_type = sales.pivot_table(values = \"weekly_sales\", index=\"type\")\n",
        "\n",
        "# Print mean_sales_by_type\n",
        "print(mean_sales_by_type)"
      ],
      "execution_count": 36,
      "outputs": [
        {
          "output_type": "stream",
          "text": [
            "      weekly_sales\n",
            "type              \n",
            "A     23674.667242\n",
            "B     25696.678370\n"
          ],
          "name": "stdout"
        }
      ]
    },
    {
      "cell_type": "code",
      "metadata": {
        "colab": {
          "base_uri": "https://localhost:8080/"
        },
        "id": "FWY5SX5bzqB_",
        "outputId": "2fcbc9d7-84c5-4f76-e11d-bdc157480958"
      },
      "source": [
        "# Import NumPy as np\n",
        "import numpy as np\n",
        "\n",
        "# Pivot for mean and median weekly_sales for each store type\n",
        "mean_med_sales_by_type = sales.pivot_table(values=\"weekly_sales\", index=\"type\",aggfunc=[np.mean, np.median])\n",
        "\n",
        "# Print mean_med_sales_by_type\n",
        "print(mean_med_sales_by_type)"
      ],
      "execution_count": 37,
      "outputs": [
        {
          "output_type": "stream",
          "text": [
            "              mean       median\n",
            "      weekly_sales weekly_sales\n",
            "type                           \n",
            "A     23674.667242     11943.92\n",
            "B     25696.678370     13336.08\n"
          ],
          "name": "stdout"
        }
      ]
    },
    {
      "cell_type": "code",
      "metadata": {
        "colab": {
          "base_uri": "https://localhost:8080/"
        },
        "id": "UEoxhkD0zqG9",
        "outputId": "198b7755-8201-4665-930f-3cb0e7ccf86d"
      },
      "source": [
        "# Pivot for mean weekly_sales by store type and holiday \n",
        "mean_sales_by_type_holiday = sales.pivot_table(values=\"weekly_sales\", index=\"type\",columns=\"is_holiday\")\n",
        "\n",
        "# Print mean_sales_by_type_holiday\n",
        "print(mean_sales_by_type_holiday)"
      ],
      "execution_count": 38,
      "outputs": [
        {
          "output_type": "stream",
          "text": [
            "is_holiday         False      True \n",
            "type                               \n",
            "A           23768.583523  590.04525\n",
            "B           25751.980533  810.70500\n"
          ],
          "name": "stdout"
        }
      ]
    },
    {
      "cell_type": "markdown",
      "metadata": {
        "id": "DxGd2_-vzwxM"
      },
      "source": [
        "**Fill in missing values and sum values with pivot tables**\n",
        "\n",
        "The .pivot_table() method has several useful arguments, including fill_value and margins.\n",
        "\n",
        "fill_value replaces missing values with a real value (known as imputation). What to replace missing values with is a topic big enough to have its own course (Dealing with Missing Data in Python), but the simplest thing to do is to substitute a dummy value.\n",
        "margins is a shortcut for when you pivoted by two variables, but also wanted to pivot by each of those variables separately: it gives the row and column totals of the pivot table contents.\n",
        "In this exercise, you'll practice using these arguments to up your pivot table skills, which will help you crunch numbers more efficiently!\n",
        "\n",
        "sales is available and pandas is imported as pd.\n",
        "\n",
        "Instructions(2*50 XP):\n",
        "\n",
        "Print the mean weekly_sales by department and type, filling in any missing values with 0.\n",
        "\n",
        "Print the mean weekly_sales by department and type, filling in any missing values with 0 and summing all rows and columns."
      ]
    },
    {
      "cell_type": "code",
      "metadata": {
        "colab": {
          "base_uri": "https://localhost:8080/"
        },
        "id": "CGZf69vxz12t",
        "outputId": "5fe722dd-fb6b-4e9e-fdea-d36650f9f3bf"
      },
      "source": [
        "# Print mean weekly_sales by department and type; fill missing values with 0\n",
        "print(sales.pivot_table(values=\"weekly_sales\", index=\"department\", columns=\"type\", fill_value=0))"
      ],
      "execution_count": 39,
      "outputs": [
        {
          "output_type": "stream",
          "text": [
            "type                    A              B\n",
            "department                              \n",
            "1            30961.725379   44050.626667\n",
            "2            67600.158788  112958.526667\n",
            "3            17160.002955   30580.655000\n",
            "4            44285.399091   51219.654167\n",
            "5            34821.011364   63236.875000\n",
            "...                   ...            ...\n",
            "95          123933.787121   77082.102500\n",
            "96           21367.042857    9528.538333\n",
            "97           28471.266970    5828.873333\n",
            "98           12875.423182     217.428333\n",
            "99             379.123659       0.000000\n",
            "\n",
            "[80 rows x 2 columns]\n"
          ],
          "name": "stdout"
        }
      ]
    },
    {
      "cell_type": "code",
      "metadata": {
        "colab": {
          "base_uri": "https://localhost:8080/"
        },
        "id": "QoYH412qz3VN",
        "outputId": "8c0c469a-79ba-4c44-96e3-c54715234664"
      },
      "source": [
        "# Print the mean weekly_sales by department and type; fill missing values with 0s; sum all rows and cols\n",
        "print(sales.pivot_table(values=\"weekly_sales\", index=\"department\", columns=\"type\", fill_value=0,margins=True))"
      ],
      "execution_count": 40,
      "outputs": [
        {
          "output_type": "stream",
          "text": [
            "type                   A              B           All\n",
            "department                                           \n",
            "1           30961.725379   44050.626667  32052.467153\n",
            "2           67600.158788  112958.526667  71380.022778\n",
            "3           17160.002955   30580.655000  18278.390625\n",
            "4           44285.399091   51219.654167  44863.253681\n",
            "5           34821.011364   63236.875000  37189.000000\n",
            "...                  ...            ...           ...\n",
            "96          21367.042857    9528.538333  20337.607681\n",
            "97          28471.266970    5828.873333  26584.400833\n",
            "98          12875.423182     217.428333  11820.590278\n",
            "99            379.123659       0.000000    379.123659\n",
            "All         23674.667242   25696.678370  23843.950149\n",
            "\n",
            "[81 rows x 3 columns]\n"
          ],
          "name": "stdout"
        }
      ]
    },
    {
      "cell_type": "markdown",
      "metadata": {
        "id": "JJsmjuPx7IhU"
      },
      "source": [
        "**Setting and removing indexes**\n",
        "\n",
        "pandas allows you to designate columns as an index. This enables cleaner code when taking subsets (as well as providing more efficient lookup under some circumstances).\n",
        "\n",
        "In this chapter, you'll be exploring temperatures, a DataFrame of average temperatures in cities around the world. pandas is loaded as pd.\n",
        "\n",
        "Instructions(100 XP):\n",
        "\n",
        "Look at temperatures.\n",
        "Set the index of temperatures to \"city\", assigning to temperatures_ind.\n",
        "Look at temperatures_ind. How is it different from temperatures?\n",
        "Reset the index of temperatures_ind, keeping its contents.\n",
        "Reset the index of temperatures_ind, dropping its contents.\n",
        "\n",
        "Take Hint (-30 XP)"
      ]
    },
    {
      "cell_type": "code",
      "metadata": {
        "id": "wK0irywR7Ug3"
      },
      "source": [
        "temperatures = pd.read_csv('temperatures.csv')"
      ],
      "execution_count": 42,
      "outputs": []
    },
    {
      "cell_type": "code",
      "metadata": {
        "colab": {
          "base_uri": "https://localhost:8080/"
        },
        "id": "fvFPYAH17PyG",
        "outputId": "e844a5fa-bb72-446d-82e6-e62582dc162d"
      },
      "source": [
        "# Look at temperatures\n",
        "print(temperatures)\n",
        "\n",
        "# Index temperatures by city\n",
        "temperatures_ind = temperatures.set_index([\"city\"])\n",
        "\n",
        "# Look at temperatures_ind\n",
        "print(temperatures_ind)\n",
        "\n",
        "# Reset the index, keeping its contents\n",
        "print(temperatures_ind.reset_index())\n",
        "\n",
        "# Reset the index, dropping its contents\n",
        "print(temperatures_ind.reset_index(drop=True))"
      ],
      "execution_count": 43,
      "outputs": [
        {
          "output_type": "stream",
          "text": [
            "       Unnamed: 0        date     city        country  avg_temp_c\n",
            "0               0  2000-01-01  Abidjan  Côte D'Ivoire      27.293\n",
            "1               1  2000-02-01  Abidjan  Côte D'Ivoire      27.685\n",
            "2               2  2000-03-01  Abidjan  Côte D'Ivoire      29.061\n",
            "3               3  2000-04-01  Abidjan  Côte D'Ivoire      28.162\n",
            "4               4  2000-05-01  Abidjan  Côte D'Ivoire      27.547\n",
            "...           ...         ...      ...            ...         ...\n",
            "16495       16495  2013-05-01     Xian          China      18.979\n",
            "16496       16496  2013-06-01     Xian          China      23.522\n",
            "16497       16497  2013-07-01     Xian          China      25.251\n",
            "16498       16498  2013-08-01     Xian          China      24.528\n",
            "16499       16499  2013-09-01     Xian          China         NaN\n",
            "\n",
            "[16500 rows x 5 columns]\n",
            "         Unnamed: 0        date        country  avg_temp_c\n",
            "city                                                      \n",
            "Abidjan           0  2000-01-01  Côte D'Ivoire      27.293\n",
            "Abidjan           1  2000-02-01  Côte D'Ivoire      27.685\n",
            "Abidjan           2  2000-03-01  Côte D'Ivoire      29.061\n",
            "Abidjan           3  2000-04-01  Côte D'Ivoire      28.162\n",
            "Abidjan           4  2000-05-01  Côte D'Ivoire      27.547\n",
            "...             ...         ...            ...         ...\n",
            "Xian          16495  2013-05-01          China      18.979\n",
            "Xian          16496  2013-06-01          China      23.522\n",
            "Xian          16497  2013-07-01          China      25.251\n",
            "Xian          16498  2013-08-01          China      24.528\n",
            "Xian          16499  2013-09-01          China         NaN\n",
            "\n",
            "[16500 rows x 4 columns]\n",
            "          city  Unnamed: 0        date        country  avg_temp_c\n",
            "0      Abidjan           0  2000-01-01  Côte D'Ivoire      27.293\n",
            "1      Abidjan           1  2000-02-01  Côte D'Ivoire      27.685\n",
            "2      Abidjan           2  2000-03-01  Côte D'Ivoire      29.061\n",
            "3      Abidjan           3  2000-04-01  Côte D'Ivoire      28.162\n",
            "4      Abidjan           4  2000-05-01  Côte D'Ivoire      27.547\n",
            "...        ...         ...         ...            ...         ...\n",
            "16495     Xian       16495  2013-05-01          China      18.979\n",
            "16496     Xian       16496  2013-06-01          China      23.522\n",
            "16497     Xian       16497  2013-07-01          China      25.251\n",
            "16498     Xian       16498  2013-08-01          China      24.528\n",
            "16499     Xian       16499  2013-09-01          China         NaN\n",
            "\n",
            "[16500 rows x 5 columns]\n",
            "       Unnamed: 0        date        country  avg_temp_c\n",
            "0               0  2000-01-01  Côte D'Ivoire      27.293\n",
            "1               1  2000-02-01  Côte D'Ivoire      27.685\n",
            "2               2  2000-03-01  Côte D'Ivoire      29.061\n",
            "3               3  2000-04-01  Côte D'Ivoire      28.162\n",
            "4               4  2000-05-01  Côte D'Ivoire      27.547\n",
            "...           ...         ...            ...         ...\n",
            "16495       16495  2013-05-01          China      18.979\n",
            "16496       16496  2013-06-01          China      23.522\n",
            "16497       16497  2013-07-01          China      25.251\n",
            "16498       16498  2013-08-01          China      24.528\n",
            "16499       16499  2013-09-01          China         NaN\n",
            "\n",
            "[16500 rows x 4 columns]\n"
          ],
          "name": "stdout"
        }
      ]
    },
    {
      "cell_type": "markdown",
      "metadata": {
        "id": "-lA8sH9V7bpA"
      },
      "source": [
        "**Subsetting with .loc[]**\n",
        "\n",
        "The killer feature for indexes is .loc[]: a subsetting method that accepts index values. When you pass it a single argument, it will take a subset of rows.\n",
        "\n",
        "The code for subsetting using .loc[] can be easier to read than standard square bracket subsetting, which can make your code less burdensome to maintain.\n",
        "\n",
        "pandas is loaded as pd. temperatures and temperatures_ind are available; the latter is indexed by city.\n",
        "\n",
        "Instructions(100 XP):\n",
        "\n",
        "Create a list called cities that contains \"Moscow\" and \"Saint Petersburg\".\n",
        "Use [] subsetting to filter temperatures for rows where the city column takes a value in the cities list.\n",
        "Use .loc[] subsetting to filter temperatures_ind for rows where the city is in the cities list.\n",
        "\n",
        "Take Hint (-30 XP)"
      ]
    },
    {
      "cell_type": "code",
      "metadata": {
        "colab": {
          "base_uri": "https://localhost:8080/"
        },
        "id": "qnfl_b0B7g81",
        "outputId": "b44bb8c0-0a9f-479e-fa8e-6d93717788ec"
      },
      "source": [
        "# Make a list of cities to subset on\n",
        "cities = [\"Moscow\" , \"Saint Petersburg\"]\n",
        "\n",
        "# Subset temperatures using square brackets\n",
        "print(temperatures[temperatures[\"city\"].isin(cities)])\n",
        "\n",
        "# Subset temperatures_ind using .loc[]\n",
        "print(temperatures_ind.loc[cities])"
      ],
      "execution_count": 44,
      "outputs": [
        {
          "output_type": "stream",
          "text": [
            "       Unnamed: 0        date              city country  avg_temp_c\n",
            "10725       10725  2000-01-01            Moscow  Russia      -7.313\n",
            "10726       10726  2000-02-01            Moscow  Russia      -3.551\n",
            "10727       10727  2000-03-01            Moscow  Russia      -1.661\n",
            "10728       10728  2000-04-01            Moscow  Russia      10.096\n",
            "10729       10729  2000-05-01            Moscow  Russia      10.357\n",
            "...           ...         ...               ...     ...         ...\n",
            "13360       13360  2013-05-01  Saint Petersburg  Russia      12.355\n",
            "13361       13361  2013-06-01  Saint Petersburg  Russia      17.185\n",
            "13362       13362  2013-07-01  Saint Petersburg  Russia      17.234\n",
            "13363       13363  2013-08-01  Saint Petersburg  Russia      17.153\n",
            "13364       13364  2013-09-01  Saint Petersburg  Russia         NaN\n",
            "\n",
            "[330 rows x 5 columns]\n",
            "                  Unnamed: 0        date country  avg_temp_c\n",
            "city                                                        \n",
            "Moscow                 10725  2000-01-01  Russia      -7.313\n",
            "Moscow                 10726  2000-02-01  Russia      -3.551\n",
            "Moscow                 10727  2000-03-01  Russia      -1.661\n",
            "Moscow                 10728  2000-04-01  Russia      10.096\n",
            "Moscow                 10729  2000-05-01  Russia      10.357\n",
            "...                      ...         ...     ...         ...\n",
            "Saint Petersburg       13360  2013-05-01  Russia      12.355\n",
            "Saint Petersburg       13361  2013-06-01  Russia      17.185\n",
            "Saint Petersburg       13362  2013-07-01  Russia      17.234\n",
            "Saint Petersburg       13363  2013-08-01  Russia      17.153\n",
            "Saint Petersburg       13364  2013-09-01  Russia         NaN\n",
            "\n",
            "[330 rows x 4 columns]\n"
          ],
          "name": "stdout"
        }
      ]
    },
    {
      "cell_type": "markdown",
      "metadata": {
        "id": "aNlyTEYu89l3"
      },
      "source": [
        "**Setting multi-level indexes**\n",
        "\n",
        "Indexes can also be made out of multiple columns, forming a multi-level index (sometimes called a hierarchical index). There is a trade-off to using these.\n",
        "\n",
        "The benefit is that multi-level indexes make it more natural to reason about nested categorical variables. For example, in a clinical trial, you might have control and treatment groups. Then each test subject belongs to one or another group, and we can say that a test subject is nested inside the treatment group. Similarly, in the temperature dataset, the city is located in the country, so we can say a city is nested inside the country.\n",
        "\n",
        "The main downside is that the code for manipulating indexes is different from the code for manipulating columns, so you have to learn two syntaxes and keep track of how your data is represented.\n",
        "\n",
        "pandas is loaded as pd. temperatures is available.\n",
        "\n",
        "Instructions(100 XP):\n",
        "\n",
        "Set the index of temperatures to the \"country\" and \"city\" columns, and assign this to temperatures_ind.\n",
        "\n",
        "Specify two country/city pairs to keep: \"Brazil\"/\"Rio De Janeiro\" and \"Pakistan\"/\"Lahore\", assigning to rows_to_keep.\n",
        "\n",
        "Print and subset temperatures_ind for rows_to_keep using .loc[].\n",
        "\n",
        "Take Hint (-30 XP)"
      ]
    },
    {
      "cell_type": "code",
      "metadata": {
        "colab": {
          "base_uri": "https://localhost:8080/"
        },
        "id": "4_iGEZ3H9Evd",
        "outputId": "38541225-7a9e-4e95-d96d-4cf23a2ff70c"
      },
      "source": [
        "# Index temperatures by country & city\n",
        "temperatures_ind = temperatures.set_index(['country','city'])\n",
        "\n",
        "# List of tuples: Brazil, Rio De Janeiro & Pakistan, Lahore\n",
        "rows_to_keep = [(\"Brazil\",\"Rio De Janeiro\"),(\"Pakistan\",\"Lahore\") ]\n",
        "\n",
        "# Subset for rows to keep\n",
        "print(temperatures_ind.loc[rows_to_keep])"
      ],
      "execution_count": 45,
      "outputs": [
        {
          "output_type": "stream",
          "text": [
            "                         Unnamed: 0        date  avg_temp_c\n",
            "country  city                                              \n",
            "Brazil   Rio De Janeiro       12540  2000-01-01      25.974\n",
            "         Rio De Janeiro       12541  2000-02-01      26.699\n",
            "         Rio De Janeiro       12542  2000-03-01      26.270\n",
            "         Rio De Janeiro       12543  2000-04-01      25.750\n",
            "         Rio De Janeiro       12544  2000-05-01      24.356\n",
            "...                             ...         ...         ...\n",
            "Pakistan Lahore                8575  2013-05-01      33.457\n",
            "         Lahore                8576  2013-06-01      34.456\n",
            "         Lahore                8577  2013-07-01      33.279\n",
            "         Lahore                8578  2013-08-01      31.511\n",
            "         Lahore                8579  2013-09-01         NaN\n",
            "\n",
            "[330 rows x 3 columns]\n"
          ],
          "name": "stdout"
        }
      ]
    },
    {
      "cell_type": "markdown",
      "metadata": {
        "id": "aXrOf6PM-k7u"
      },
      "source": [
        "**Sorting by index values**\n",
        "\n",
        "Previously, you changed the order of the rows in a DataFrame by calling .sort_values(). It's also useful to be able to sort by elements in the index. For this, you need to use .sort_index().\n",
        "\n",
        "pandas is loaded as pd. temperatures_ind has a multi-level index of country and city, and is available.\n",
        "\n",
        "Instructions(100 XP):\n",
        "\n",
        "Sort temperatures_ind by the index values.\n",
        "\n",
        "Sort temperatures_ind by the index values at the \"city\" level.\n",
        "\n",
        "Sort temperatures_ind by ascending country then descending city.\n",
        "\n",
        "Take Hint (-30 XP)"
      ]
    },
    {
      "cell_type": "code",
      "metadata": {
        "colab": {
          "base_uri": "https://localhost:8080/"
        },
        "id": "verftmtp-p2d",
        "outputId": "2e93204c-4a96-43fb-fb29-671d4ec0fe78"
      },
      "source": [
        "# Sort temperatures_ind by index values\n",
        "print(temperatures_ind.sort_index())\n",
        "\n",
        "# Sort temperatures_ind by index values at the city level\n",
        "print(temperatures_ind.sort_index(level=[\"city\"]))\n",
        "\n",
        "# Sort temperatures_ind by country then descending city\n",
        "print(temperatures_ind.sort_index(level=[\"country\", \"city\"], ascending=[True, False]))"
      ],
      "execution_count": 46,
      "outputs": [
        {
          "output_type": "stream",
          "text": [
            "                    Unnamed: 0        date  avg_temp_c\n",
            "country     city                                      \n",
            "Afghanistan Kabul         7260  2000-01-01       3.326\n",
            "            Kabul         7261  2000-02-01       3.454\n",
            "            Kabul         7262  2000-03-01       9.612\n",
            "            Kabul         7263  2000-04-01      17.925\n",
            "            Kabul         7264  2000-05-01      24.658\n",
            "...                        ...         ...         ...\n",
            "Zimbabwe    Harare        5605  2013-05-01      18.298\n",
            "            Harare        5606  2013-06-01      17.020\n",
            "            Harare        5607  2013-07-01      16.299\n",
            "            Harare        5608  2013-08-01      19.232\n",
            "            Harare        5609  2013-09-01         NaN\n",
            "\n",
            "[16500 rows x 3 columns]\n",
            "                       Unnamed: 0        date  avg_temp_c\n",
            "country       city                                       \n",
            "Côte D'Ivoire Abidjan           0  2000-01-01      27.293\n",
            "              Abidjan           1  2000-02-01      27.685\n",
            "              Abidjan           2  2000-03-01      29.061\n",
            "              Abidjan           3  2000-04-01      28.162\n",
            "              Abidjan           4  2000-05-01      27.547\n",
            "...                           ...         ...         ...\n",
            "China         Xian          16495  2013-05-01      18.979\n",
            "              Xian          16496  2013-06-01      23.522\n",
            "              Xian          16497  2013-07-01      25.251\n",
            "              Xian          16498  2013-08-01      24.528\n",
            "              Xian          16499  2013-09-01         NaN\n",
            "\n",
            "[16500 rows x 3 columns]\n",
            "                    Unnamed: 0        date  avg_temp_c\n",
            "country     city                                      \n",
            "Afghanistan Kabul         7260  2000-01-01       3.326\n",
            "            Kabul         7261  2000-02-01       3.454\n",
            "            Kabul         7262  2000-03-01       9.612\n",
            "            Kabul         7263  2000-04-01      17.925\n",
            "            Kabul         7264  2000-05-01      24.658\n",
            "...                        ...         ...         ...\n",
            "Zimbabwe    Harare        5605  2013-05-01      18.298\n",
            "            Harare        5606  2013-06-01      17.020\n",
            "            Harare        5607  2013-07-01      16.299\n",
            "            Harare        5608  2013-08-01      19.232\n",
            "            Harare        5609  2013-09-01         NaN\n",
            "\n",
            "[16500 rows x 3 columns]\n"
          ],
          "name": "stdout"
        }
      ]
    },
    {
      "cell_type": "markdown",
      "metadata": {
        "id": "cuyxMF6wIpyx"
      },
      "source": [
        "**Slicing index values**\n",
        "\n",
        "Slicing lets you select consecutive elements of an object using first:last syntax. DataFrames can be sliced by index values or by row/column number; we'll start with the first case. This involves slicing inside the .loc[] method.\n",
        "\n",
        "Compared to slicing lists, there are a few things to remember.\n",
        "\n",
        "You can only slice an index if the index is sorted (using .sort_index()).\n",
        "To slice at the outer level, first and last can be strings.\n",
        "To slice at inner levels, first and last should be tuples.\n",
        "If you pass a single slice to .loc[], it will slice the rows.\n",
        "pandas is loaded as pd. temperatures_ind has country and city in the index, and is available.\n",
        "\n",
        "Instructions(100 XP):\n",
        "\n",
        "Sort the index of temperatures_ind.\n",
        "Use slicing with .loc[] to get these subsets:\n",
        "from Pakistan to Russia.\n",
        "from Lahore to Moscow. (This will return nonsense.)\n",
        "from Pakistan, Lahore to Russia, Moscow.\n",
        "\n",
        "Take Hint (-30 XP)"
      ]
    },
    {
      "cell_type": "code",
      "metadata": {
        "colab": {
          "base_uri": "https://localhost:8080/"
        },
        "id": "jCTLxaQ1J0Os",
        "outputId": "54b4815d-077d-413f-c931-bcd168bac48b"
      },
      "source": [
        "# Sort the index of temperatures_ind\n",
        "temperatures_srt = temperatures_ind.sort_index()\n",
        "\n",
        "# Subset rows from Pakistan to Russia\n",
        "print(temperatures_srt.loc['Pakistan': 'Russia'])\n",
        "\n",
        "# Try to subset rows from Lahore to Moscow\n",
        "print(temperatures_srt.loc['Lahore': 'Moscow'])\n",
        "\n",
        "# Subset rows from Pakistan, Lahore to Russia, Moscow\n",
        "print(temperatures_srt.loc[(\"Pakistan\",\"Lahore\"): (\"Russia\",\"Moscow\")])"
      ],
      "execution_count": 47,
      "outputs": [
        {
          "output_type": "stream",
          "text": [
            "                           Unnamed: 0        date  avg_temp_c\n",
            "country  city                                                \n",
            "Pakistan Faisalabad              4785  2000-01-01      12.792\n",
            "         Faisalabad              4786  2000-02-01      14.339\n",
            "         Faisalabad              4787  2000-03-01      20.309\n",
            "         Faisalabad              4788  2000-04-01      29.072\n",
            "         Faisalabad              4789  2000-05-01      34.845\n",
            "...                               ...         ...         ...\n",
            "Russia   Saint Petersburg       13360  2013-05-01      12.355\n",
            "         Saint Petersburg       13361  2013-06-01      17.185\n",
            "         Saint Petersburg       13362  2013-07-01      17.234\n",
            "         Saint Petersburg       13363  2013-08-01      17.153\n",
            "         Saint Petersburg       13364  2013-09-01         NaN\n",
            "\n",
            "[1155 rows x 3 columns]\n",
            "                    Unnamed: 0        date  avg_temp_c\n",
            "country city                                          \n",
            "Mexico  Mexico           10230  2000-01-01      12.694\n",
            "        Mexico           10231  2000-02-01      14.677\n",
            "        Mexico           10232  2000-03-01      17.376\n",
            "        Mexico           10233  2000-04-01      18.294\n",
            "        Mexico           10234  2000-05-01      18.562\n",
            "...                        ...         ...         ...\n",
            "Morocco Casablanca        3130  2013-05-01      19.217\n",
            "        Casablanca        3131  2013-06-01      23.649\n",
            "        Casablanca        3132  2013-07-01      27.488\n",
            "        Casablanca        3133  2013-08-01      27.952\n",
            "        Casablanca        3134  2013-09-01         NaN\n",
            "\n",
            "[330 rows x 3 columns]\n",
            "                 Unnamed: 0        date  avg_temp_c\n",
            "country  city                                      \n",
            "Pakistan Lahore        8415  2000-01-01      12.792\n",
            "         Lahore        8416  2000-02-01      14.339\n",
            "         Lahore        8417  2000-03-01      20.309\n",
            "         Lahore        8418  2000-04-01      29.072\n",
            "         Lahore        8419  2000-05-01      34.845\n",
            "...                     ...         ...         ...\n",
            "Russia   Moscow       10885  2013-05-01      16.152\n",
            "         Moscow       10886  2013-06-01      18.718\n",
            "         Moscow       10887  2013-07-01      18.136\n",
            "         Moscow       10888  2013-08-01      17.485\n",
            "         Moscow       10889  2013-09-01         NaN\n",
            "\n",
            "[660 rows x 3 columns]\n"
          ],
          "name": "stdout"
        }
      ]
    },
    {
      "cell_type": "markdown",
      "metadata": {
        "id": "9JBTrrCyJ2_n"
      },
      "source": [
        "**Slicing in both directions**\n",
        "\n",
        "You've seen slicing DataFrames by rows and by columns, but since DataFrames are two-dimensional objects, it is often natural to slice both dimensions at once. That is, by passing two arguments to .loc[], you can subset by rows and columns in one go.\n",
        "\n",
        "pandas is loaded as pd. temperatures_srt is indexed by country and city, has a sorted index, and is available.\n",
        "\n",
        "Instructions(100 XP):\n",
        "\n",
        "Use .loc[] slicing to subset rows from India, Hyderabad to Iraq, Baghdad.\n",
        "Use .loc[] slicing to subset columns from date to avg_temp_c.\n",
        "Slice in both directions at once from Hyderabad to Baghdad, and date to avg_temp_c.\n",
        "\n",
        "Take Hint (-30 XP)"
      ]
    },
    {
      "cell_type": "code",
      "metadata": {
        "colab": {
          "base_uri": "https://localhost:8080/"
        },
        "id": "XJCZ1RHXJ5qw",
        "outputId": "771403bc-d88e-4c35-ba87-ee48365cd482"
      },
      "source": [
        "# Subset rows from India, Hyderabad to Iraq, Baghdad\n",
        "print(temperatures_srt.loc[('India', 'Hyderabad'):('Iraq', 'Baghdad')])\n",
        "\n",
        "# Subset columns from date to avg_temp_c\n",
        "print(temperatures_srt.loc[:,'date' : 'avg_temp_c'])\n",
        "\n",
        "# Subset in both directions at once\n",
        "print(temperatures_srt.loc[('India','Hyderabad'):('Iraq','Baghdad'),'date' : 'avg_temp_c'])"
      ],
      "execution_count": 48,
      "outputs": [
        {
          "output_type": "stream",
          "text": [
            "                   Unnamed: 0        date  avg_temp_c\n",
            "country city                                         \n",
            "India   Hyderabad        5940  2000-01-01      23.779\n",
            "        Hyderabad        5941  2000-02-01      25.826\n",
            "        Hyderabad        5942  2000-03-01      28.821\n",
            "        Hyderabad        5943  2000-04-01      32.698\n",
            "        Hyderabad        5944  2000-05-01      32.438\n",
            "...                       ...         ...         ...\n",
            "Iraq    Baghdad          1150  2013-05-01      28.673\n",
            "        Baghdad          1151  2013-06-01      33.803\n",
            "        Baghdad          1152  2013-07-01      36.392\n",
            "        Baghdad          1153  2013-08-01      35.463\n",
            "        Baghdad          1154  2013-09-01         NaN\n",
            "\n",
            "[2145 rows x 3 columns]\n",
            "                          date  avg_temp_c\n",
            "country     city                          \n",
            "Afghanistan Kabul   2000-01-01       3.326\n",
            "            Kabul   2000-02-01       3.454\n",
            "            Kabul   2000-03-01       9.612\n",
            "            Kabul   2000-04-01      17.925\n",
            "            Kabul   2000-05-01      24.658\n",
            "...                        ...         ...\n",
            "Zimbabwe    Harare  2013-05-01      18.298\n",
            "            Harare  2013-06-01      17.020\n",
            "            Harare  2013-07-01      16.299\n",
            "            Harare  2013-08-01      19.232\n",
            "            Harare  2013-09-01         NaN\n",
            "\n",
            "[16500 rows x 2 columns]\n",
            "                         date  avg_temp_c\n",
            "country city                             \n",
            "India   Hyderabad  2000-01-01      23.779\n",
            "        Hyderabad  2000-02-01      25.826\n",
            "        Hyderabad  2000-03-01      28.821\n",
            "        Hyderabad  2000-04-01      32.698\n",
            "        Hyderabad  2000-05-01      32.438\n",
            "...                       ...         ...\n",
            "Iraq    Baghdad    2013-05-01      28.673\n",
            "        Baghdad    2013-06-01      33.803\n",
            "        Baghdad    2013-07-01      36.392\n",
            "        Baghdad    2013-08-01      35.463\n",
            "        Baghdad    2013-09-01         NaN\n",
            "\n",
            "[2145 rows x 2 columns]\n"
          ],
          "name": "stdout"
        }
      ]
    },
    {
      "cell_type": "markdown",
      "metadata": {
        "id": "UOODuiHrLy6Y"
      },
      "source": [
        "**Slicing time series**\n",
        "\n",
        "Slicing is particularly useful for time series since it's a common thing to want to filter for data within a date range. Add the date column to the index, then use `.loc[] `to perform the subsetting. The important thing to remember is to keep your dates in ISO 8601 format, that is, yyyy-mm-dd.\n",
        "\n",
        "Recall from Chapter 1 that you can combine multiple Boolean conditions using logical operators (such as &). To do so in one line of code, you'll need to add parentheses () around each condition.\n",
        "\n",
        "pandas is loaded as pd and temperatures, with no index, is available.\n",
        "\n",
        "Instructions(100 XP):\n",
        "\n",
        "Use Boolean conditions (not `.isin()` or `.loc[]`) to subset for rows in 2010 and 2011, and print the results.\n",
        "\n",
        "Note that because the date isn't set as an index, a condition that contains only a year, such as df[\"date\"] == \"2009\", will check if the date is equal to the first day of the first month of the year (e.g. 2009-01-01), rather than checking whether the date occurs within the given year. We recommend writing out the full date when using Boolean conditions (e.g., 2009-12-31).\n",
        "\n",
        "Set the index to the date column.\n",
        "\n",
        "Use `.loc[]` to subset for rows in 2010 and 2011.\n",
        "\n",
        "Use `.loc[]` to subset for rows from Aug 2010 to Feb 2011.\n",
        "\n",
        "\n",
        "Take Hint (-30 XP)"
      ]
    },
    {
      "cell_type": "code",
      "metadata": {
        "colab": {
          "base_uri": "https://localhost:8080/"
        },
        "id": "QWn4rI8BL2bP",
        "outputId": "217348ce-a1d6-42e8-c558-0fd7f84a38e1"
      },
      "source": [
        "# Use Boolean conditions to subset temperatures for rows in 2010 and 2011\n",
        "temperatures_bool = temperatures[(temperatures['date'] >= '2010-01-01') & (temperatures['date'] <= '2011-12-31')]\n",
        "print(temperatures_bool)\n",
        "\n",
        "# Set date as an index and sort the index\n",
        "temperatures_ind = temperatures.set_index('date').sort_index()\n",
        "\n",
        "# Use .loc[] to subset temperatures_ind for rows in 2010 and 2011\n",
        "print(temperatures_ind.loc['2010':'2011'])\n",
        "\n",
        "# Use .loc[] to subset temperatures_ind for rows from Aug 2010 to Feb 2011\n",
        "print(temperatures_ind.loc['08-2010':'02-2011'])"
      ],
      "execution_count": 50,
      "outputs": [
        {
          "output_type": "stream",
          "text": [
            "       Unnamed: 0        date     city        country  avg_temp_c\n",
            "120           120  2010-01-01  Abidjan  Côte D'Ivoire      28.270\n",
            "121           121  2010-02-01  Abidjan  Côte D'Ivoire      29.262\n",
            "122           122  2010-03-01  Abidjan  Côte D'Ivoire      29.596\n",
            "123           123  2010-04-01  Abidjan  Côte D'Ivoire      29.068\n",
            "124           124  2010-05-01  Abidjan  Côte D'Ivoire      28.258\n",
            "...           ...         ...      ...            ...         ...\n",
            "16474       16474  2011-08-01     Xian          China      23.069\n",
            "16475       16475  2011-09-01     Xian          China      16.775\n",
            "16476       16476  2011-10-01     Xian          China      12.587\n",
            "16477       16477  2011-11-01     Xian          China       7.543\n",
            "16478       16478  2011-12-01     Xian          China      -0.490\n",
            "\n",
            "[2400 rows x 5 columns]\n",
            "            Unnamed: 0        city    country  avg_temp_c\n",
            "date                                                     \n",
            "2010-01-01        4905  Faisalabad   Pakistan      11.810\n",
            "2010-01-01       10185   Melbourne  Australia      20.016\n",
            "2010-01-01        3750   Chongqing      China       7.921\n",
            "2010-01-01       13155   São Paulo     Brazil      23.738\n",
            "2010-01-01        5400   Guangzhou      China      14.136\n",
            "...                ...         ...        ...         ...\n",
            "2010-12-01        6896     Jakarta  Indonesia      26.602\n",
            "2010-12-01        5246       Gizeh      Egypt      16.530\n",
            "2010-12-01       11186      Nagpur      India      19.120\n",
            "2010-12-01       14981      Sydney  Australia      19.559\n",
            "2010-12-01       13496    Salvador     Brazil      26.265\n",
            "\n",
            "[1200 rows x 4 columns]\n",
            "Empty DataFrame\n",
            "Columns: [Unnamed: 0, city, country, avg_temp_c]\n",
            "Index: []\n"
          ],
          "name": "stdout"
        }
      ]
    },
    {
      "cell_type": "markdown",
      "metadata": {
        "id": "7DwOHEXJNcVi"
      },
      "source": [
        "**Subsetting by row/column number**\n",
        "\n",
        "The most common ways to subset rows are the ways we've previously discussed: using a Boolean condition or by index labels. However, it is also occasionally useful to pass row numbers.\n",
        "\n",
        "This is done using `.iloc[]`, and like `.loc[]`, it can take two arguments to let you subset by rows and columns.\n",
        "\n",
        "pandas is loaded as pd. temperatures (without an index) is available.\n",
        "\n",
        "Instructions(100 XP):\n",
        "\n",
        "Use `.iloc[]` on temperatures to take subsets.\n",
        "\n",
        "Get the 23rd row, 2nd column (index positions 22 and 1).\n",
        "\n",
        "Get the first 5 rows (index positions 0 to 5).\n",
        "\n",
        "Get all rows, columns 3 and 4 (index positions 2 to 4).\n",
        "\n",
        "Get the first 5 rows, columns 3 and 4.\n",
        "\n",
        "Take Hint (-30 XP)"
      ]
    },
    {
      "cell_type": "code",
      "metadata": {
        "colab": {
          "base_uri": "https://localhost:8080/"
        },
        "id": "WgDE68hONkZ_",
        "outputId": "65438f3a-0f45-4019-8d59-4d7c1db3dbab"
      },
      "source": [
        "# Get 23rd row, 2nd column (index 22, 1)\n",
        "print(temperatures.iloc[22,1])\n",
        "\n",
        "# Use slicing to get the first 5 rows\n",
        "print(temperatures.iloc[:5])\n",
        "\n",
        "# Use slicing to get columns 3 to 4\n",
        "print(temperatures.iloc[:,2:5])\n",
        "\n",
        "# Use slicing in both directions at once\n",
        "print(temperatures.iloc[:5,2:5])"
      ],
      "execution_count": 51,
      "outputs": [
        {
          "output_type": "stream",
          "text": [
            "2001-11-01\n",
            "   Unnamed: 0        date     city        country  avg_temp_c\n",
            "0           0  2000-01-01  Abidjan  Côte D'Ivoire      27.293\n",
            "1           1  2000-02-01  Abidjan  Côte D'Ivoire      27.685\n",
            "2           2  2000-03-01  Abidjan  Côte D'Ivoire      29.061\n",
            "3           3  2000-04-01  Abidjan  Côte D'Ivoire      28.162\n",
            "4           4  2000-05-01  Abidjan  Côte D'Ivoire      27.547\n",
            "          city        country  avg_temp_c\n",
            "0      Abidjan  Côte D'Ivoire      27.293\n",
            "1      Abidjan  Côte D'Ivoire      27.685\n",
            "2      Abidjan  Côte D'Ivoire      29.061\n",
            "3      Abidjan  Côte D'Ivoire      28.162\n",
            "4      Abidjan  Côte D'Ivoire      27.547\n",
            "...        ...            ...         ...\n",
            "16495     Xian          China      18.979\n",
            "16496     Xian          China      23.522\n",
            "16497     Xian          China      25.251\n",
            "16498     Xian          China      24.528\n",
            "16499     Xian          China         NaN\n",
            "\n",
            "[16500 rows x 3 columns]\n",
            "      city        country  avg_temp_c\n",
            "0  Abidjan  Côte D'Ivoire      27.293\n",
            "1  Abidjan  Côte D'Ivoire      27.685\n",
            "2  Abidjan  Côte D'Ivoire      29.061\n",
            "3  Abidjan  Côte D'Ivoire      28.162\n",
            "4  Abidjan  Côte D'Ivoire      27.547\n"
          ],
          "name": "stdout"
        }
      ]
    },
    {
      "cell_type": "markdown",
      "metadata": {
        "id": "UKYQoQ3JQQnG"
      },
      "source": [
        "**Pivot temperature by city and year**\n",
        "\n",
        "It's interesting to see how temperatures for each city change over time—looking at every month results in a big table, which can be tricky to reason about. Instead, let's look at how temperatures change by year.\n",
        "\n",
        "You can access the components of a date (year, month and day) using code of the form `dataframe[\"column\"].dt.component`. For example, the month component is `dataframe[\"column\"].dt.month`, and the year component is `dataframe[\"column\"].dt.year`.\n",
        "\n",
        "Once you have the year column, you can create a pivot table with the data aggregated by city and year, which you'll explore in the coming exercises.\n",
        "\n",
        "pandas is loaded as pd. temperatures is available.\n",
        "\n",
        "Instructions(100 XP):\n",
        "\n",
        "Add a year column to temperatures, from the year component of the date column.\n",
        "\n",
        "Make a pivot table of the avg_temp_c column, with country and city as rows, and year as columns.\n",
        "\n",
        "Assign to temp_by_country_city_vs_year, and look at the result.\n",
        "\n",
        "Take Hint (-30 XP)"
      ]
    },
    {
      "cell_type": "code",
      "metadata": {
        "colab": {
          "base_uri": "https://localhost:8080/"
        },
        "id": "T0Rg5GPMQu75",
        "outputId": "4d243c7a-b39e-4241-cc55-2dd5af647f0a"
      },
      "source": [
        "print(type(temperatures['date']))\n",
        "\n",
        "temperatures['date'] = pd.to_datetime(temperatures.date, format='%Y-%m-%d')\n",
        "\n"
      ],
      "execution_count": 57,
      "outputs": [
        {
          "output_type": "stream",
          "text": [
            "<class 'pandas.core.series.Series'>\n"
          ],
          "name": "stdout"
        }
      ]
    },
    {
      "cell_type": "code",
      "metadata": {
        "colab": {
          "base_uri": "https://localhost:8080/"
        },
        "id": "epfnOPuHQH63",
        "outputId": "381ae46d-c787-4807-97e8-fea461c35ca7"
      },
      "source": [
        "# Add a year column to temperatures\n",
        "temperatures['year'] = temperatures['date'].dt.year\n",
        "\n",
        "# Pivot avg_temp_c by country and city vs year\n",
        "temp_by_country_city_vs_year = temperatures.pivot_table(\n",
        "\"avg_temp_c\", index=[\"country\",\"city\"], columns=\"year\")\n",
        "\n",
        "# See the result\n",
        "print(temp_by_country_city_vs_year)"
      ],
      "execution_count": 58,
      "outputs": [
        {
          "output_type": "stream",
          "text": [
            "year                                 2000       2001  ...       2012       2013\n",
            "country       city                                    ...                      \n",
            "Afghanistan   Kabul             15.822667  15.847917  ...  14.510333  16.206125\n",
            "Angola        Luanda            24.410333  24.427083  ...  24.240083  24.553875\n",
            "Australia     Melbourne         14.320083  14.180000  ...  14.268667  14.741500\n",
            "              Sydney            17.567417  17.854500  ...  17.474333  18.089750\n",
            "Bangladesh    Dhaka             25.905250  25.931250  ...  26.283583  26.587000\n",
            "...                                   ...        ...  ...        ...        ...\n",
            "United States Chicago           11.089667  11.703083  ...  12.821250  11.586889\n",
            "              Los Angeles       16.643333  16.466250  ...  17.089583  18.120667\n",
            "              New York           9.969083  10.931000  ...  11.971500  12.163889\n",
            "Vietnam       Ho Chi Minh City  27.588917  27.831750  ...  28.248750  28.455000\n",
            "Zimbabwe      Harare            20.283667  20.861000  ...  20.523333  19.756500\n",
            "\n",
            "[100 rows x 14 columns]\n"
          ],
          "name": "stdout"
        }
      ]
    },
    {
      "cell_type": "markdown",
      "metadata": {
        "id": "0PyOlgfiReWZ"
      },
      "source": [
        "**Subsetting pivot tables**\n",
        "\n",
        "A pivot table is just a DataFrame with sorted indexes, so the techniques you have learned already can be used to subset them. In particular, the .loc[] + slicing combination is often helpful.\n",
        "\n",
        "pandas is loaded as pd. temp_by_country_city_vs_year is available.\n",
        "\n",
        "Instructions(100 XP):\n",
        "\n",
        "Use .loc[] on temp_by_country_city_vs_year to take subsets.\n",
        "\n",
        "From Egypt to India.\n",
        "\n",
        "From Egypt, Cairo to India, Delhi.\n",
        "\n",
        "From Egypt, Cairo to India, Delhi, and 2005 to 2010.\n",
        "\n",
        "\n",
        "Take Hint (-30 XP)"
      ]
    },
    {
      "cell_type": "code",
      "metadata": {
        "colab": {
          "base_uri": "https://localhost:8080/",
          "height": 388
        },
        "id": "aO_wEVTlRkhB",
        "outputId": "9a115a49-a786-4d18-b937-df34e629613d"
      },
      "source": [
        "# Subset for Egypt to India\n",
        "temp_by_country_city_vs_year.loc['Egypt': 'India']\n",
        "\n",
        "# Subset for Egypt, Cairo to India, Delhi\n",
        "temp_by_country_city_vs_year.loc[('Egypt','Cairo'): ('India','Delhi')]\n",
        "\n",
        "# Subset in both directions at once\n",
        "temp_by_country_city_vs_year.loc[('Egypt','Cairo'): ('India','Delhi'),'2005':'2010']"
      ],
      "execution_count": 59,
      "outputs": [
        {
          "output_type": "execute_result",
          "data": {
            "text/html": [
              "<div>\n",
              "<style scoped>\n",
              "    .dataframe tbody tr th:only-of-type {\n",
              "        vertical-align: middle;\n",
              "    }\n",
              "\n",
              "    .dataframe tbody tr th {\n",
              "        vertical-align: top;\n",
              "    }\n",
              "\n",
              "    .dataframe thead th {\n",
              "        text-align: right;\n",
              "    }\n",
              "</style>\n",
              "<table border=\"1\" class=\"dataframe\">\n",
              "  <thead>\n",
              "    <tr style=\"text-align: right;\">\n",
              "      <th></th>\n",
              "      <th>year</th>\n",
              "      <th>2005</th>\n",
              "      <th>2006</th>\n",
              "      <th>2007</th>\n",
              "      <th>2008</th>\n",
              "      <th>2009</th>\n",
              "      <th>2010</th>\n",
              "    </tr>\n",
              "    <tr>\n",
              "      <th>country</th>\n",
              "      <th>city</th>\n",
              "      <th></th>\n",
              "      <th></th>\n",
              "      <th></th>\n",
              "      <th></th>\n",
              "      <th></th>\n",
              "      <th></th>\n",
              "    </tr>\n",
              "  </thead>\n",
              "  <tbody>\n",
              "    <tr>\n",
              "      <th rowspan=\"2\" valign=\"top\">Egypt</th>\n",
              "      <th>Cairo</th>\n",
              "      <td>22.006500</td>\n",
              "      <td>22.050000</td>\n",
              "      <td>22.361000</td>\n",
              "      <td>22.644500</td>\n",
              "      <td>22.625000</td>\n",
              "      <td>23.718250</td>\n",
              "    </tr>\n",
              "    <tr>\n",
              "      <th>Gizeh</th>\n",
              "      <td>22.006500</td>\n",
              "      <td>22.050000</td>\n",
              "      <td>22.361000</td>\n",
              "      <td>22.644500</td>\n",
              "      <td>22.625000</td>\n",
              "      <td>23.718250</td>\n",
              "    </tr>\n",
              "    <tr>\n",
              "      <th>Ethiopia</th>\n",
              "      <th>Addis Abeba</th>\n",
              "      <td>18.312833</td>\n",
              "      <td>18.427083</td>\n",
              "      <td>18.142583</td>\n",
              "      <td>18.165000</td>\n",
              "      <td>18.765333</td>\n",
              "      <td>18.298250</td>\n",
              "    </tr>\n",
              "    <tr>\n",
              "      <th>France</th>\n",
              "      <th>Paris</th>\n",
              "      <td>11.552917</td>\n",
              "      <td>11.788500</td>\n",
              "      <td>11.750833</td>\n",
              "      <td>11.278250</td>\n",
              "      <td>11.464083</td>\n",
              "      <td>10.409833</td>\n",
              "    </tr>\n",
              "    <tr>\n",
              "      <th>Germany</th>\n",
              "      <th>Berlin</th>\n",
              "      <td>9.919083</td>\n",
              "      <td>10.545333</td>\n",
              "      <td>10.883167</td>\n",
              "      <td>10.657750</td>\n",
              "      <td>10.062500</td>\n",
              "      <td>8.606833</td>\n",
              "    </tr>\n",
              "    <tr>\n",
              "      <th rowspan=\"5\" valign=\"top\">India</th>\n",
              "      <th>Ahmadabad</th>\n",
              "      <td>26.828083</td>\n",
              "      <td>27.282833</td>\n",
              "      <td>27.511167</td>\n",
              "      <td>27.048500</td>\n",
              "      <td>28.095833</td>\n",
              "      <td>28.017833</td>\n",
              "    </tr>\n",
              "    <tr>\n",
              "      <th>Bangalore</th>\n",
              "      <td>25.476500</td>\n",
              "      <td>25.418250</td>\n",
              "      <td>25.464333</td>\n",
              "      <td>25.352583</td>\n",
              "      <td>25.725750</td>\n",
              "      <td>25.705250</td>\n",
              "    </tr>\n",
              "    <tr>\n",
              "      <th>Bombay</th>\n",
              "      <td>27.035750</td>\n",
              "      <td>27.381500</td>\n",
              "      <td>27.634667</td>\n",
              "      <td>27.177750</td>\n",
              "      <td>27.844500</td>\n",
              "      <td>27.765417</td>\n",
              "    </tr>\n",
              "    <tr>\n",
              "      <th>Calcutta</th>\n",
              "      <td>26.729167</td>\n",
              "      <td>26.986250</td>\n",
              "      <td>26.584583</td>\n",
              "      <td>26.522333</td>\n",
              "      <td>27.153250</td>\n",
              "      <td>27.288833</td>\n",
              "    </tr>\n",
              "    <tr>\n",
              "      <th>Delhi</th>\n",
              "      <td>25.716083</td>\n",
              "      <td>26.365917</td>\n",
              "      <td>26.145667</td>\n",
              "      <td>25.675000</td>\n",
              "      <td>26.554250</td>\n",
              "      <td>26.520250</td>\n",
              "    </tr>\n",
              "  </tbody>\n",
              "</table>\n",
              "</div>"
            ],
            "text/plain": [
              "year                       2005       2006  ...       2009       2010\n",
              "country  city                               ...                      \n",
              "Egypt    Cairo        22.006500  22.050000  ...  22.625000  23.718250\n",
              "         Gizeh        22.006500  22.050000  ...  22.625000  23.718250\n",
              "Ethiopia Addis Abeba  18.312833  18.427083  ...  18.765333  18.298250\n",
              "France   Paris        11.552917  11.788500  ...  11.464083  10.409833\n",
              "Germany  Berlin        9.919083  10.545333  ...  10.062500   8.606833\n",
              "India    Ahmadabad    26.828083  27.282833  ...  28.095833  28.017833\n",
              "         Bangalore    25.476500  25.418250  ...  25.725750  25.705250\n",
              "         Bombay       27.035750  27.381500  ...  27.844500  27.765417\n",
              "         Calcutta     26.729167  26.986250  ...  27.153250  27.288833\n",
              "         Delhi        25.716083  26.365917  ...  26.554250  26.520250\n",
              "\n",
              "[10 rows x 6 columns]"
            ]
          },
          "metadata": {
            "tags": []
          },
          "execution_count": 59
        }
      ]
    },
    {
      "cell_type": "markdown",
      "metadata": {
        "id": "eM2SnmJfSWym"
      },
      "source": [
        "**Calculating on a pivot table**\n",
        "\n",
        "Pivot tables are filled with summary statistics, but they are only a first step to finding something insightful. Often you'll need to perform further calculations on them. A common thing to do is to find the rows or columns where the highest or lowest value occurs.\n",
        "\n",
        "Recall from Chapter 1 that you can easily subset a Series or DataFrame to find rows of interest using a logical condition inside of square brackets. For example: series[series > value].\n",
        "\n",
        "pandas is loaded as pd and the DataFrame temp_by_country_city_vs_year is available.\n",
        "\n",
        "Instructions(100 XP):\n",
        "\n",
        "Calculate the mean temperature for each year, assigning to mean_temp_by_year.\n",
        "\n",
        "Filter mean_temp_by_year for the year that had the highest mean temperature.\n",
        "\n",
        "Calculate the mean temperature for each city (across columns), assigning to mean_temp_by_city.\n",
        "\n",
        "Filter mean_temp_by_city for the city that had the lowest mean temperature.\n",
        "\n",
        "\n",
        "Take Hint (-30 XP)"
      ]
    },
    {
      "cell_type": "code",
      "metadata": {
        "colab": {
          "base_uri": "https://localhost:8080/"
        },
        "id": "rr-WnlIgSdK_",
        "outputId": "37a589d2-9d17-497c-f722-b9249f0073c3"
      },
      "source": [
        "# Get the worldwide mean temp by year\n",
        "mean_temp_by_year = temp_by_country_city_vs_year.mean(axis=\"index\")\n",
        "\n",
        "# Filter for the year that had the highest mean temp\n",
        "print(mean_temp_by_year[mean_temp_by_year == max(mean_temp_by_year)])\n",
        "\n",
        "# Get the mean temp by city\n",
        "mean_temp_by_city = temp_by_country_city_vs_year.mean(axis=\"columns\")\n",
        "\n",
        "# Filter for the city that had the lowest mean temp\n",
        "print(mean_temp_by_city[mean_temp_by_city == min(mean_temp_by_city)])"
      ],
      "execution_count": 60,
      "outputs": [
        {
          "output_type": "stream",
          "text": [
            "year\n",
            "2013    20.312285\n",
            "dtype: float64\n",
            "country  city  \n",
            "China    Harbin    4.876551\n",
            "dtype: float64\n"
          ],
          "name": "stdout"
        }
      ]
    },
    {
      "cell_type": "markdown",
      "metadata": {
        "id": "Cf-CRYm5l8gO"
      },
      "source": [
        "**Which avocado size is most popular?**\n",
        "\n",
        "Avocados are increasingly popular and delicious in guacamole and on toast. The Hass Avocado Board keeps track of avocado supply and demand across the USA, including the sales of three different sizes of avocado. In this exercise, you'll use a bar plot to figure out which size is the most popular.\n",
        "\n",
        "Bar plots are great for revealing relationships between categorical (size) and numeric (number sold) variables, but you'll often have to manipulate your data first in order to get the numbers you need for plotting.\n",
        "\n",
        "pandas has been imported as pd, and avocados is available.\n",
        "\n",
        "Instructions(100 XP):\n",
        "\n",
        "Print the head of the avocados dataset. What columns are available?\n",
        "\n",
        "For each avocado size group, calculate the total number sold, storing as nb_sold_by_size.\n",
        "\n",
        "Create a bar plot of the number of avocados sold by size.\n",
        "\n",
        "Show the plot.\n",
        "\n",
        "Take Hint (-30 XP)"
      ]
    },
    {
      "cell_type": "code",
      "metadata": {
        "id": "x8XyApr0oyAe"
      },
      "source": [
        "avocados = pd.read_pickle('avoplotto.pkl')"
      ],
      "execution_count": 62,
      "outputs": []
    },
    {
      "cell_type": "code",
      "metadata": {
        "colab": {
          "base_uri": "https://localhost:8080/",
          "height": 438
        },
        "id": "e87tr88HoxEA",
        "outputId": "3bcb9d8c-87cc-46c5-cc3a-67e895f6bf90"
      },
      "source": [
        "# Import matplotlib.pyplot with alias plt\n",
        "import matplotlib.pyplot as plt\n",
        "\n",
        "# Look at the first few rows of data\n",
        "print(avocados.head())\n",
        "\n",
        "# Get the total number of avocados sold of each size\n",
        "nb_sold_by_size = avocados.groupby('size')['nb_sold'].sum()\n",
        "\n",
        "# Create a bar plot of the number of avocados sold by size\n",
        "nb_sold_by_size.plot(kind='bar')\n",
        "\n",
        "# Show the plot\n",
        "plt.show()"
      ],
      "execution_count": 63,
      "outputs": [
        {
          "output_type": "stream",
          "text": [
            "         date          type  year  avg_price   size     nb_sold\n",
            "0  2015-12-27  conventional  2015       0.95  small  9626901.09\n",
            "1  2015-12-20  conventional  2015       0.98  small  8710021.76\n",
            "2  2015-12-13  conventional  2015       0.93  small  9855053.66\n",
            "3  2015-12-06  conventional  2015       0.89  small  9405464.36\n",
            "4  2015-11-29  conventional  2015       0.99  small  8094803.56\n"
          ],
          "name": "stdout"
        },
        {
          "output_type": "display_data",
          "data": {
            "image/png": "[encoded data removed]",
            "text/plain": [
              "<Figure size 432x288 with 1 Axes>"
            ]
          },
          "metadata": {
            "tags": [],
            "needs_background": "light"
          }
        }
      ]
    },
    {
      "cell_type": "markdown",
      "metadata": {
        "id": "o10FcTluo6hs"
      },
      "source": [
        "**Changes in sales over time**\n",
        "\n",
        "Line plots are designed to visualize the relationship between two numeric variables, where each data values is connected to the next one. They are especially useful for visualizing the change in a number over time since each time point is naturally connected to the next time point. In this exercise, you'll visualize the change in avocado sales over three years.\n",
        "\n",
        "pandas has been imported as pd.\n",
        "\n",
        "Instructions(100 XP):\n",
        "\n",
        "Get the total number of avocados sold on each date. The DataFrame has two rows for each date -- one for organic, and one for conventional. Save this as nb_sold_by_date.\n",
        "\n",
        "Create a line plot of the number of avocados sold.\n",
        "\n",
        "Show the plot.\n",
        "\n",
        "Take Hint (-30 XP)"
      ]
    },
    {
      "cell_type": "code",
      "metadata": {
        "colab": {
          "base_uri": "https://localhost:8080/",
          "height": 290
        },
        "id": "pVVR2S9no_t-",
        "outputId": "ada124cd-ff63-4f21-d614-13e1397b4e75"
      },
      "source": [
        "# Import matplotlib.pyplot with alias plt\n",
        "import matplotlib.pyplot as plt\n",
        "\n",
        "# Get the total number of avocados sold on each date\n",
        "nb_sold_by_date = avocados.groupby('date')['nb_sold'].sum()\n",
        "\n",
        "# Create a line plot of the number of avocados sold by date\n",
        "nb_sold_by_date.plot(kind='line')\n",
        "\n",
        "# Show the plot\n",
        "plt.show()"
      ],
      "execution_count": 64,
      "outputs": [
        {
          "output_type": "display_data",
          "data": {
            "image/png": "[encoded data removed]",
            "text/plain": [
              "<Figure size 432x288 with 1 Axes>"
            ]
          },
          "metadata": {
            "tags": [],
            "needs_background": "light"
          }
        }
      ]
    },
    {
      "cell_type": "markdown",
      "metadata": {
        "id": "bGk2lGGqpaJF"
      },
      "source": [
        "**Avocado supply and demand**\n",
        "\n",
        "Scatter plots are ideal for visualizing relationships between numerical variables. In this exercise, you'll compare the number of avocados sold to average price and see if they're at all related. If they're related, you may be able to use one number to predict the other.\n",
        "\n",
        "matplotlib.pyplot has been imported as plt and pandas has been imported as pd.\n",
        "\n",
        "Instructions(100 XP):\n",
        "\n",
        "Create a scatter plot with nb_sold on the x-axis and avg_price on the y-axis. \n",
        "\n",
        "Title it \"Number of avocados sold vs. average price\".\n",
        "\n",
        "Show the plot.\n",
        "\n",
        "Take Hint (-30 XP)"
      ]
    },
    {
      "cell_type": "code",
      "metadata": {
        "colab": {
          "base_uri": "https://localhost:8080/",
          "height": 296
        },
        "id": "fjgGSP3ZpeYe",
        "outputId": "f862695a-b277-4826-ae3c-049531e6bca5"
      },
      "source": [
        "# Scatter plot of nb_sold vs avg_price with title\n",
        "avocados.plot(x=\"nb_sold\", y=\"avg_price\", kind=\"scatter\",title = \"Number of avocados sold vs. average price\")\n",
        "# Show the plot\n",
        "plt.show()"
      ],
      "execution_count": 65,
      "outputs": [
        {
          "output_type": "display_data",
          "data": {
            "image/png": "[encoded data removed]",
            "text/plain": [
              "<Figure size 432x288 with 1 Axes>"
            ]
          },
          "metadata": {
            "tags": [],
            "needs_background": "light"
          }
        }
      ]
    },
    {
      "cell_type": "markdown",
      "metadata": {
        "id": "J5HIHEh5p6v-"
      },
      "source": [
        "**Price of conventional vs. organic avocados**\n",
        "\n",
        "Creating multiple plots for different subsets of data allows you to compare groups. In this exercise, you'll create multiple histograms to compare the prices of conventional and organic avocados.\n",
        "\n",
        "matplotlib.pyplot has been imported as plt and pandas has been imported as pd.\n",
        "\n",
        "Instructions(3*35 XP):\n",
        "\n",
        "Subset avocados for the conventional type, and the average price column. Create a histogram.\n",
        "\n",
        "Create a histogram of avg_price for organic type avocados.\n",
        "\n",
        "Add a legend to your plot, with the names \"conventional\" and \"organic\".\n",
        "\n",
        "Show your plot.\n",
        "\n",
        "Take Hint (-10 XP)\n",
        "______\n",
        "Modify your code to adjust the transparency of both histograms to 0.5 to see how much overlap there is between the two distributions.\n",
        "_______\n",
        "Modify your code to use 20 bins in both histograms."
      ]
    },
    {
      "cell_type": "code",
      "metadata": {
        "colab": {
          "base_uri": "https://localhost:8080/",
          "height": 265
        },
        "id": "QofWeitUqBhG",
        "outputId": "aae4dd09-8aaf-4b91-edc0-74a47cd670b7"
      },
      "source": [
        "# # Histogram of conventional avg_price \n",
        "avocados[avocados[\"type\"] == \"conventional\"][\"avg_price\"].hist()\n",
        "\n",
        "# Histogram of organic avg_price\n",
        "avocados[avocados[\"type\"] == \"organic\"][\"avg_price\"].hist()\n",
        "\n",
        "# Add a legend\n",
        "plt.legend([\"conventional\", \"organic\"])\n",
        "\n",
        "# Show the plot\n",
        "plt.show()"
      ],
      "execution_count": 115,
      "outputs": [
        {
          "output_type": "display_data",
          "data": {
            "image/png": "[encoded data removed]",
            "text/plain": [
              "<Figure size 432x288 with 1 Axes>"
            ]
          },
          "metadata": {
            "tags": [],
            "needs_background": "light"
          }
        }
      ]
    },
    {
      "cell_type": "code",
      "metadata": {
        "colab": {
          "base_uri": "https://localhost:8080/",
          "height": 265
        },
        "id": "8HVt7_5PtOO-",
        "outputId": "03748e07-de7e-4b91-cd56-7a4a9f13d84e"
      },
      "source": [
        "# Modify bins to 20\n",
        "avocados[avocados[\"type\"] == \"conventional\"][\"avg_price\"].hist(alpha=0.5)\n",
        "\n",
        "# Modify bins to 20\n",
        "avocados[avocados[\"type\"] == \"organic\"][\"avg_price\"].hist(alpha=0.5)\n",
        "\n",
        "# Add a legend\n",
        "plt.legend([\"conventional\", \"organic\"])\n",
        "\n",
        "# Show the plot\n",
        "plt.show()"
      ],
      "execution_count": 116,
      "outputs": [
        {
          "output_type": "display_data",
          "data": {
            "image/png": "[encoded data removed]",
            "text/plain": [
              "<Figure size 432x288 with 1 Axes>"
            ]
          },
          "metadata": {
            "tags": [],
            "needs_background": "light"
          }
        }
      ]
    },
    {
      "cell_type": "code",
      "metadata": {
        "colab": {
          "base_uri": "https://localhost:8080/",
          "height": 268
        },
        "id": "7ES6GEUEtOVU",
        "outputId": "eec09c99-32db-4a85-db3d-9a3726499b91"
      },
      "source": [
        "# Modify bins to 20\n",
        "avocados[avocados[\"type\"] == \"conventional\"][\"avg_price\"].hist(bins=20,alpha=0.5)\n",
        "\n",
        "# Modify bins to 20\n",
        "avocados[avocados[\"type\"] == \"organic\"][\"avg_price\"].hist(bins=20,alpha=0.5)\n",
        "\n",
        "# Add a legend\n",
        "plt.legend([\"conventional\", \"organic\"])\n",
        "\n",
        "# Show the plot\n",
        "plt.show()"
      ],
      "execution_count": 117,
      "outputs": [
        {
          "output_type": "display_data",
          "data": {
            "image/png": "[encoded data removed]",
            "text/plain": [
              "<Figure size 432x288 with 1 Axes>"
            ]
          },
          "metadata": {
            "tags": [],
            "needs_background": "light"
          }
        }
      ]
    },
    {
      "cell_type": "markdown",
      "metadata": {
        "id": "e5oqF8_8tOd0"
      },
      "source": [
        "**Finding missing values**\n",
        "\n",
        "Missing values are everywhere, and you don't want them interfering with your work. Some functions ignore missing data by default, but that's not always the behavior you might want. Some functions can't handle missing values at all, so these values need to be taken care of before you can use them. If you don't know where your missing values are, or if they exist, you could make mistakes in your analysis. In this exercise, you'll determine if there are missing values in the dataset, and if so, how many.\n",
        "\n",
        "pandas has been imported as pd and avocados_2016, a subset of avocados that contains only sales from 2016, is available.\n",
        "\n",
        "Instructions(100 XP):\n",
        "\n",
        "Print a DataFrame that shows whether each value in avocados_2016 is missing or not.\n",
        "\n",
        "Print a summary that shows whether any value in each column is missing or not.\n",
        "\n",
        "Create a bar plot of the total number of missing values in each column.\n",
        "Take Hint (-30 XP)"
      ]
    },
    {
      "cell_type": "code",
      "metadata": {
        "id": "shjOe47RtXHl"
      },
      "source": [
        "avocados_2016 = pd.read_csv('avocado.csv')"
      ],
      "execution_count": 109,
      "outputs": []
    },
    {
      "cell_type": "code",
      "metadata": {
        "colab": {
          "base_uri": "https://localhost:8080/",
          "height": 324
        },
        "id": "YTHfVR4RuZ3Z",
        "outputId": "8d513719-728a-44fe-ff84-8d875551cf7b"
      },
      "source": [
        "avocados_2016.head()"
      ],
      "execution_count": 110,
      "outputs": [
        {
          "output_type": "execute_result",
          "data": {
            "text/html": [
              "<div>\n",
              "<style scoped>\n",
              "    .dataframe tbody tr th:only-of-type {\n",
              "        vertical-align: middle;\n",
              "    }\n",
              "\n",
              "    .dataframe tbody tr th {\n",
              "        vertical-align: top;\n",
              "    }\n",
              "\n",
              "    .dataframe thead th {\n",
              "        text-align: right;\n",
              "    }\n",
              "</style>\n",
              "<table border=\"1\" class=\"dataframe\">\n",
              "  <thead>\n",
              "    <tr style=\"text-align: right;\">\n",
              "      <th></th>\n",
              "      <th>Unnamed: 0</th>\n",
              "      <th>date</th>\n",
              "      <th>avg_price</th>\n",
              "      <th>total_sold</th>\n",
              "      <th>small_sold</th>\n",
              "      <th>large_sold</th>\n",
              "      <th>xl_sold</th>\n",
              "      <th>total_bags_sold</th>\n",
              "      <th>small_bags_sold</th>\n",
              "      <th>large_bags_sold</th>\n",
              "      <th>xl_bags_sold</th>\n",
              "      <th>type</th>\n",
              "      <th>year</th>\n",
              "      <th>region</th>\n",
              "    </tr>\n",
              "  </thead>\n",
              "  <tbody>\n",
              "    <tr>\n",
              "      <th>0</th>\n",
              "      <td>0</td>\n",
              "      <td>2015-12-27</td>\n",
              "      <td>1.33</td>\n",
              "      <td>64236.62</td>\n",
              "      <td>1036.74</td>\n",
              "      <td>54454.85</td>\n",
              "      <td>48.16</td>\n",
              "      <td>8696.87</td>\n",
              "      <td>8603.62</td>\n",
              "      <td>93.25</td>\n",
              "      <td>0.0</td>\n",
              "      <td>conventional</td>\n",
              "      <td>2015</td>\n",
              "      <td>Albany</td>\n",
              "    </tr>\n",
              "    <tr>\n",
              "      <th>1</th>\n",
              "      <td>1</td>\n",
              "      <td>2015-12-20</td>\n",
              "      <td>1.35</td>\n",
              "      <td>54876.98</td>\n",
              "      <td>674.28</td>\n",
              "      <td>44638.81</td>\n",
              "      <td>58.33</td>\n",
              "      <td>9505.56</td>\n",
              "      <td>9408.07</td>\n",
              "      <td>97.49</td>\n",
              "      <td>0.0</td>\n",
              "      <td>conventional</td>\n",
              "      <td>2015</td>\n",
              "      <td>Albany</td>\n",
              "    </tr>\n",
              "    <tr>\n",
              "      <th>2</th>\n",
              "      <td>2</td>\n",
              "      <td>2015-12-13</td>\n",
              "      <td>0.93</td>\n",
              "      <td>118220.22</td>\n",
              "      <td>794.70</td>\n",
              "      <td>109149.67</td>\n",
              "      <td>130.50</td>\n",
              "      <td>8145.35</td>\n",
              "      <td>8042.21</td>\n",
              "      <td>103.14</td>\n",
              "      <td>0.0</td>\n",
              "      <td>conventional</td>\n",
              "      <td>2015</td>\n",
              "      <td>Albany</td>\n",
              "    </tr>\n",
              "    <tr>\n",
              "      <th>3</th>\n",
              "      <td>3</td>\n",
              "      <td>2015-12-06</td>\n",
              "      <td>1.08</td>\n",
              "      <td>78992.15</td>\n",
              "      <td>1132.00</td>\n",
              "      <td>71976.41</td>\n",
              "      <td>72.58</td>\n",
              "      <td>5811.16</td>\n",
              "      <td>5677.40</td>\n",
              "      <td>133.76</td>\n",
              "      <td>0.0</td>\n",
              "      <td>conventional</td>\n",
              "      <td>2015</td>\n",
              "      <td>Albany</td>\n",
              "    </tr>\n",
              "    <tr>\n",
              "      <th>4</th>\n",
              "      <td>4</td>\n",
              "      <td>2015-11-29</td>\n",
              "      <td>1.28</td>\n",
              "      <td>51039.60</td>\n",
              "      <td>941.48</td>\n",
              "      <td>43838.39</td>\n",
              "      <td>75.78</td>\n",
              "      <td>6183.95</td>\n",
              "      <td>5986.26</td>\n",
              "      <td>197.69</td>\n",
              "      <td>0.0</td>\n",
              "      <td>conventional</td>\n",
              "      <td>2015</td>\n",
              "      <td>Albany</td>\n",
              "    </tr>\n",
              "  </tbody>\n",
              "</table>\n",
              "</div>"
            ],
            "text/plain": [
              "   Unnamed: 0        date  avg_price  ...          type  year  region\n",
              "0           0  2015-12-27       1.33  ...  conventional  2015  Albany\n",
              "1           1  2015-12-20       1.35  ...  conventional  2015  Albany\n",
              "2           2  2015-12-13       0.93  ...  conventional  2015  Albany\n",
              "3           3  2015-12-06       1.08  ...  conventional  2015  Albany\n",
              "4           4  2015-11-29       1.28  ...  conventional  2015  Albany\n",
              "\n",
              "[5 rows x 14 columns]"
            ]
          },
          "metadata": {
            "tags": []
          },
          "execution_count": 110
        }
      ]
    },
    {
      "cell_type": "code",
      "metadata": {
        "colab": {
          "base_uri": "https://localhost:8080/",
          "height": 827
        },
        "id": "o9yjcMDBtUw_",
        "outputId": "1d532729-c457-43a9-a70a-de4645f1a35a"
      },
      "source": [
        "# Import matplotlib.pyplot with alias plt\n",
        "import matplotlib.pyplot as plt\n",
        "\n",
        "# Check individual values for missing values\n",
        "print(avocados_2016.isna())\n",
        "\n",
        "# Check each column for missing values\n",
        "print(avocados_2016.isna().any())\n",
        "\n",
        "# Bar plot of missing values by variable\n",
        "avocados_2016.isna().sum().plot(kind='bar')\n",
        "\n",
        "# Show plot\n",
        "plt.show()"
      ],
      "execution_count": 111,
      "outputs": [
        {
          "output_type": "stream",
          "text": [
            "       Unnamed: 0   date  avg_price  ...   type   year  region\n",
            "0           False  False      False  ...  False  False   False\n",
            "1           False  False      False  ...  False  False   False\n",
            "2           False  False      False  ...  False  False   False\n",
            "3           False  False      False  ...  False  False   False\n",
            "4           False  False      False  ...  False  False   False\n",
            "...           ...    ...        ...  ...    ...    ...     ...\n",
            "18244       False  False      False  ...  False  False   False\n",
            "18245       False  False      False  ...  False  False   False\n",
            "18246       False  False      False  ...  False  False   False\n",
            "18247       False  False      False  ...  False  False   False\n",
            "18248       False  False      False  ...  False  False   False\n",
            "\n",
            "[18249 rows x 14 columns]\n",
            "Unnamed: 0          False\n",
            "date                False\n",
            "avg_price            True\n",
            " total_sold          True\n",
            "small_sold          False\n",
            "large_sold          False\n",
            "xl_sold             False\n",
            "total_bags_sold     False\n",
            "small_bags_sold     False\n",
            "large_bags_sold     False\n",
            " xl_bags_sold       False\n",
            "type                 True\n",
            "year                False\n",
            "region              False\n",
            "dtype: bool\n"
          ],
          "name": "stdout"
        },
        {
          "output_type": "display_data",
          "data": {
            "image/png": "[encoded data removed]",
            "text/plain": [
              "<Figure size 432x288 with 1 Axes>"
            ]
          },
          "metadata": {
            "tags": [],
            "needs_background": "light"
          }
        }
      ]
    },
    {
      "cell_type": "markdown",
      "metadata": {
        "id": "9WBf-aWWtjtW"
      },
      "source": [
        "**Removing missing values**\n",
        "\n",
        "Now that you know there are some missing values in your DataFrame, you have a few options to deal with them. One way is to remove them from the dataset completely. In this exercise, you'll remove missing values by removing all rows that contain missing values.\n",
        "\n",
        "pandas has been imported as pd and avocados_2016 is available.\n",
        "\n",
        "Instructions(100 XP):\n",
        "\n",
        "Remove the rows of avocados_2016 that contain missing values and store the remaining rows in avocados_complete.\n",
        "\n",
        "Verify that all missing values have been removed from avocados_complete. \n",
        "\n",
        "Calculate each column that has NAs and print.\n",
        "\n",
        "\n",
        "Take Hint (-30 XP)"
      ]
    },
    {
      "cell_type": "code",
      "metadata": {
        "colab": {
          "base_uri": "https://localhost:8080/"
        },
        "id": "JBwCe3y7tf-D",
        "outputId": "128a573b-c576-481c-c684-82a1aeb6877d"
      },
      "source": [
        "# Remove rows with missing values\n",
        "avocados_complete = avocados_2016.dropna()\n",
        "\n",
        "# Check if any columns contain missing values\n",
        "print(avocados_complete.isna().any())"
      ],
      "execution_count": 112,
      "outputs": [
        {
          "output_type": "stream",
          "text": [
            "Unnamed: 0          False\n",
            "date                False\n",
            "avg_price           False\n",
            " total_sold         False\n",
            "small_sold          False\n",
            "large_sold          False\n",
            "xl_sold             False\n",
            "total_bags_sold     False\n",
            "small_bags_sold     False\n",
            "large_bags_sold     False\n",
            " xl_bags_sold       False\n",
            "type                False\n",
            "year                False\n",
            "region              False\n",
            "dtype: bool\n"
          ],
          "name": "stdout"
        }
      ]
    },
    {
      "cell_type": "markdown",
      "metadata": {
        "id": "XUpzxVcOv8Fu"
      },
      "source": [
        "**Replacing missing values**\n",
        "\n",
        "Another way of handling missing values is to replace them all with the same value. For numerical variables, one option is to replace values with 0— you'll do this here. However, when you replace missing values, you make assumptions about what a missing value means. In this case, you will assume that a missing number sold means that no sales for that avocado type were made that week.\n",
        "\n",
        "In this exercise, you'll see how replacing missing values can affect the distribution of a variable using histograms. You can plot histograms for multiple variables at a time as follows:\n",
        "\n",
        "`dogs[[\"height_cm\", \"weight_kg\"]].hist()`\n",
        "pandas has been imported as pd and matplotlib.pyplot has been imported as plt. The avocados_2016 dataset is available.\n",
        "\n",
        "Instructions(2*50 XP):\n",
        "\n",
        "A list has been created, cols_with_missing, containing the names of columns with missing values: \"small_sold\", \"large_sold\", and \"xl_sold\".\n",
        "\n",
        "Create a histogram of those columns.\n",
        "\n",
        "Show the plot.\n",
        "\n",
        "Take Hint (-15 XP)\n",
        "\n",
        "\n",
        "\n",
        "Replace the missing values of avocados_2016 with 0s and store the result as avocados_filled.\n",
        "\n",
        "Create a histogram of the cols_with_missing columns of avocados_filled.\n",
        "\n",
        "Take Hint (-15 XP)"
      ]
    },
    {
      "cell_type": "code",
      "metadata": {
        "colab": {
          "base_uri": "https://localhost:8080/",
          "height": 294
        },
        "id": "Lb5KmPdRv8XO",
        "outputId": "894db1e6-ca6f-4dc2-878f-0e920054d37e"
      },
      "source": [
        "# List the columns with missing values\n",
        "cols_with_missing = [\"small_sold\", \"large_sold\", \"xl_sold\"]\n",
        "\n",
        "# Create histograms showing the distributions cols_with_missing\n",
        "avocados_2016[cols_with_missing].hist()\n",
        "\n",
        "# Show the plot\n",
        "plt.show()"
      ],
      "execution_count": 113,
      "outputs": [
        {
          "output_type": "display_data",
          "data": {
            "image/png": "[encoded data removed]",
            "text/plain": [
              "<Figure size 432x288 with 4 Axes>"
            ]
          },
          "metadata": {
            "tags": [],
            "needs_background": "light"
          }
        }
      ]
    },
    {
      "cell_type": "code",
      "metadata": {
        "colab": {
          "base_uri": "https://localhost:8080/",
          "height": 571
        },
        "id": "pn-KWnK8waIm",
        "outputId": "7d31ab02-fbb6-46dc-bec6-b83501fde1b5"
      },
      "source": [
        "# From previous step\n",
        "cols_with_missing = [\"small_sold\", \"large_sold\", \"xl_sold\"]\n",
        "avocados_2016[cols_with_missing].hist()\n",
        "plt.show()\n",
        "\n",
        "# Fill in missing values with 0\n",
        "avocados_filled = avocados_2016.fillna(0)\n",
        "\n",
        "# Create histograms of the filled columns\n",
        "avocados_filled[cols_with_missing].hist()\n",
        "\n",
        "# Show the plot\n",
        "plt.show()"
      ],
      "execution_count": 114,
      "outputs": [
        {
          "output_type": "display_data",
          "data": {
            "image/png": "[encoded data removed]",
            "text/plain": [
              "<Figure size 432x288 with 4 Axes>"
            ]
          },
          "metadata": {
            "tags": [],
            "needs_background": "light"
          }
        },
        {
          "output_type": "display_data",
          "data": {
            "image/png": "[encoded data removed]",
            "text/plain": [
              "<Figure size 432x288 with 4 Axes>"
            ]
          },
          "metadata": {
            "tags": [],
            "needs_background": "light"
          }
        }
      ]
    },
    {
      "cell_type": "markdown",
      "metadata": {
        "id": "BiUNMfDz3nTs"
      },
      "source": [
        "**List of dictionaries**\n",
        "\n",
        "You recently got some new avocado data from 2019 that you'd like to put in a DataFrame using the list of dictionaries method. Remember that with this method, you go through the data row by row.\n",
        "\n",
        "\n",
        "\n",
        "```\n",
        "date\t       small_sold\tlarge_sold\n",
        "\"2019-11-03\"\t10376832\t7835071\n",
        "\"2019-11-10\"\t10717154\t8561348\n",
        "```\n",
        "pandas as pd is imported.\n",
        "\n",
        "\n",
        "Instructions(100 XP):\n",
        "\n",
        "Create a list of dictionaries with the new data called avocados_list.\n",
        "Convert the list into a DataFrame called avocados_2019.\n",
        "Print your new DataFrame.\n",
        "\n",
        "Take Hint (-30 XP)"
      ]
    },
    {
      "cell_type": "code",
      "metadata": {
        "colab": {
          "base_uri": "https://localhost:8080/"
        },
        "id": "xSUzL9zb0TW3",
        "outputId": "0c032bd7-396e-47a6-a0d9-e30ed7f766c5"
      },
      "source": [
        "# Create a list of dictionaries with new data\n",
        "avocados_list = [\n",
        "    {\"date\": \"2019-11-03\", \"small_sold\": 10376832, \"large_sold\": 7835071},\n",
        "    {\"date\": \"2019-11-10\", \"small_sold\": 10717154, \"large_sold\": 8561348},\n",
        "]\n",
        "\n",
        "# Convert list into DataFrame\n",
        "avocados_2019 = pd.DataFrame(avocados_list)\n",
        "\n",
        "# Print the new DataFrame\n",
        "print(avocados_2019)"
      ],
      "execution_count": 118,
      "outputs": [
        {
          "output_type": "stream",
          "text": [
            "         date  small_sold  large_sold\n",
            "0  2019-11-03    10376832     7835071\n",
            "1  2019-11-10    10717154     8561348\n"
          ],
          "name": "stdout"
        }
      ]
    },
    {
      "cell_type": "markdown",
      "metadata": {
        "id": "d54n9ckf32TH"
      },
      "source": [
        "**Dictionary of lists**\n",
        "\n",
        "Some more data just came in! This time, you'll use the dictionary of lists method, parsing the data column by column.\n",
        "\n",
        "\n",
        "\n",
        "```\n",
        "date\t        small_sold\tlarge_sold\n",
        "\"2019-11-17\"\t10859987\t7674135\n",
        "\"2019-12-01\"\t9291631\t  6238096\n",
        "```\n",
        "\n",
        "\n",
        "pandas as pd is imported.\n",
        "\n",
        "Instructions(100 XP):\n",
        "\n",
        "Create a dictionary of lists with the new data called avocados_dict.\n",
        "Convert the dictionary to a DataFrame called avocados_2019.\n",
        "Print your new DataFrame.\n",
        "\n",
        "Take Hint (-30 XP)"
      ]
    },
    {
      "cell_type": "code",
      "metadata": {
        "colab": {
          "base_uri": "https://localhost:8080/"
        },
        "id": "_6-62qBy3_PD",
        "outputId": "9b281fb7-e239-43a8-88c5-78e9baf4b76e"
      },
      "source": [
        "# Create a dictionary of lists with new data\n",
        "avocados_dict = {\n",
        "  \"date\": [\"2019-11-17\",\"2019-12-01\"],\n",
        "  \"small_sold\": [10859987,9291631],\n",
        "  \"large_sold\": [7674135,6238096]\n",
        "}\n",
        "\n",
        "# Convert dictionary into DataFrame\n",
        "avocados_2019 = pd.DataFrame(avocados_dict)\n",
        "\n",
        "# Print the new DataFrame\n",
        "print(avocados_2019)"
      ],
      "execution_count": 119,
      "outputs": [
        {
          "output_type": "stream",
          "text": [
            "         date  small_sold  large_sold\n",
            "0  2019-11-17    10859987     7674135\n",
            "1  2019-12-01     9291631     6238096\n"
          ],
          "name": "stdout"
        }
      ]
    },
    {
      "cell_type": "markdown",
      "metadata": {
        "id": "BYgOXFxv4zcA"
      },
      "source": [
        "**CSV to DataFrame**\n",
        "\n",
        "You work for an airline, and your manager has asked you to do a competitive analysis and see how often passengers flying on other airlines are involuntarily bumped from their flights. You got a CSV file (airline_bumping.csv) from the Department of Transportation containing data on passengers that were involuntarily denied boarding in 2016 and 2017, but it doesn't have the exact numbers you want. In order to figure this out, you'll need to get the CSV into a pandas DataFrame and do some manipulation!\n",
        "\n",
        "pandas is imported for you as pd. \"airline_bumping.csv\" is in your working directory.\n",
        "\n",
        "Instructions(4*25 XP):\n",
        "\n",
        "Read the CSV file \"airline_bumping.csv\" and store it as a DataFrame called airline_bumping.\n",
        "\n",
        "Print the first few rows of airline_bumping.\n",
        "\n",
        "Take Hint (-7 XP)\n",
        "\n",
        "______\n",
        "For each airline group, select the nb_bumped, and total_passengers columns, and calculate the sum (for both years). Store this as airline_totals.\n",
        "\n",
        "______\n",
        "Create a new column of airline_totals called bumps_per_10k, which is the number of passengers bumped per 10,000 passengers in 2016 and 2017.\n",
        "______\n",
        "Print airline_totals to see the results of your manipulations."
      ]
    },
    {
      "cell_type": "code",
      "metadata": {
        "colab": {
          "base_uri": "https://localhost:8080/"
        },
        "id": "INLuehLv5HAn",
        "outputId": "f5bd93e5-098f-48db-851d-986b07884533"
      },
      "source": [
        "# Read CSV as DataFrame called airline_bumping\n",
        "airline_bumping = pd.read_csv(\"airline_bumping.csv\")\n",
        "\n",
        "# Take a look at the DataFrame\n",
        "print(airline_bumping.head())"
      ],
      "execution_count": 121,
      "outputs": [
        {
          "output_type": "stream",
          "text": [
            "             airline  year  nb_bumped  total_passengers  Unnamed: 4\n",
            "0    DELTA AIR LINES  2017        679          99796155         NaN\n",
            "1     VIRGIN AMERICA  2017        165           6090029         NaN\n",
            "2    JETBLUE AIRWAYS  2017       1475          27255038         NaN\n",
            "3    UNITED AIRLINES  2017       2067          70030765         NaN\n",
            "4  HAWAIIAN AIRLINES  2017         92           8422734         NaN\n"
          ],
          "name": "stdout"
        }
      ]
    },
    {
      "cell_type": "code",
      "metadata": {
        "colab": {
          "base_uri": "https://localhost:8080/"
        },
        "id": "nJgqV8Gn6Cjx",
        "outputId": "668f6ba2-ad18-46d8-ed3e-956b664cfe2d"
      },
      "source": [
        "# From previous step\n",
        "airline_bumping = pd.read_csv(\"airline_bumping.csv\")\n",
        "print(airline_bumping.head())\n",
        "\n",
        "# For each airline, select nb_bumped and total_passengers and sum\n",
        "airline_totals = airline_bumping.groupby('airline')[['nb_bumped','total_passengers']].sum()"
      ],
      "execution_count": 122,
      "outputs": [
        {
          "output_type": "stream",
          "text": [
            "             airline  year  nb_bumped  total_passengers  Unnamed: 4\n",
            "0    DELTA AIR LINES  2017        679          99796155         NaN\n",
            "1     VIRGIN AMERICA  2017        165           6090029         NaN\n",
            "2    JETBLUE AIRWAYS  2017       1475          27255038         NaN\n",
            "3    UNITED AIRLINES  2017       2067          70030765         NaN\n",
            "4  HAWAIIAN AIRLINES  2017         92           8422734         NaN\n"
          ],
          "name": "stdout"
        }
      ]
    },
    {
      "cell_type": "code",
      "metadata": {
        "colab": {
          "base_uri": "https://localhost:8080/"
        },
        "id": "QZ6ARK5w6x_u",
        "outputId": "a275c0dc-f060-4f7a-f368-c9bd28c8515c"
      },
      "source": [
        "# From previous steps\n",
        "airline_bumping = pd.read_csv(\"airline_bumping.csv\")\n",
        "print(airline_bumping.head())\n",
        "airline_totals = airline_bumping.groupby(\"airline\")[[\"nb_bumped\", \"total_passengers\"]].sum()\n",
        "\n",
        "# Create new col, bumps_per_10k: no. of bumps per 10k passengers for each airline\n",
        "airline_totals[\"bumps_per_10k\"] =airline_totals[\"nb_bumped\"] / airline_totals[\"total_passengers\"] * 10000"
      ],
      "execution_count": 123,
      "outputs": [
        {
          "output_type": "stream",
          "text": [
            "             airline  year  nb_bumped  total_passengers  Unnamed: 4\n",
            "0    DELTA AIR LINES  2017        679          99796155         NaN\n",
            "1     VIRGIN AMERICA  2017        165           6090029         NaN\n",
            "2    JETBLUE AIRWAYS  2017       1475          27255038         NaN\n",
            "3    UNITED AIRLINES  2017       2067          70030765         NaN\n",
            "4  HAWAIIAN AIRLINES  2017         92           8422734         NaN\n"
          ],
          "name": "stdout"
        }
      ]
    },
    {
      "cell_type": "code",
      "metadata": {
        "colab": {
          "base_uri": "https://localhost:8080/"
        },
        "id": "WwWqmQTv645q",
        "outputId": "1bbb533c-c269-45e4-d8b9-e45222fc04e1"
      },
      "source": [
        "# From previous steps\n",
        "airline_bumping = pd.read_csv(\"airline_bumping.csv\")\n",
        "print(airline_bumping.head())\n",
        "airline_totals = airline_bumping.groupby(\"airline\")[[\"nb_bumped\", \"total_passengers\"]].sum()\n",
        "airline_totals[\"bumps_per_10k\"] = airline_totals[\"nb_bumped\"] / airline_totals[\"total_passengers\"] * 10000\n",
        "\n",
        "# Print airline_totals\n",
        "print(airline_totals)"
      ],
      "execution_count": 124,
      "outputs": [
        {
          "output_type": "stream",
          "text": [
            "             airline  year  nb_bumped  total_passengers  Unnamed: 4\n",
            "0    DELTA AIR LINES  2017        679          99796155         NaN\n",
            "1     VIRGIN AMERICA  2017        165           6090029         NaN\n",
            "2    JETBLUE AIRWAYS  2017       1475          27255038         NaN\n",
            "3    UNITED AIRLINES  2017       2067          70030765         NaN\n",
            "4  HAWAIIAN AIRLINES  2017         92           8422734         NaN\n",
            "                   nb_bumped  total_passengers  bumps_per_10k\n",
            "airline                                                      \n",
            "DELTA AIR LINES          679          99796155       0.068039\n",
            "HAWAIIAN AIRLINES         92           8422734       0.109228\n",
            "JETBLUE AIRWAYS         1475          27255038       0.541184\n",
            "UNITED AIRLINES         2067          70030765       0.295156\n",
            "VIRGIN AMERICA           165           6090029       0.270935\n"
          ],
          "name": "stdout"
        }
      ]
    },
    {
      "cell_type": "markdown",
      "metadata": {
        "id": "ZhElKPgy7A3d"
      },
      "source": [
        "**DataFrame to CSV**\n",
        "\n",
        "You're almost there! To make things easier to read, you'll need to sort the data and export it to CSV so that your colleagues can read it.\n",
        "\n",
        "pandas as pd has been imported for you.\n",
        "\n",
        "Instructions(100 XP):\n",
        "\n",
        "Sort airline_totals by the values of bumps_per_10k from highest to lowest, storing as airline_totals_sorted.\n",
        "\n",
        "Print your sorted DataFrame.\n",
        "\n",
        "Save the sorted DataFrame as a CSV called \"airline_totals_sorted.csv\".\n",
        "\n",
        "\n",
        "Take Hint (-30 XP)"
      ]
    },
    {
      "cell_type": "code",
      "metadata": {
        "colab": {
          "base_uri": "https://localhost:8080/"
        },
        "id": "htl8aBT47Fx1",
        "outputId": "b13ce3d2-d872-4bac-830b-cb5121c40a58"
      },
      "source": [
        "# Create airline_totals_sorted\n",
        "airline_totals_sorted = airline_totals.sort_values('bumps_per_10k',ascending=False)\n",
        "\n",
        "# Print airline_totals_sorted\n",
        "print(airline_totals_sorted)\n",
        "\n",
        "# Save as airline_totals_sorted.csv\n",
        "airline_totals_sorted.to_csv(\"airline_totals_sorted.csv\")"
      ],
      "execution_count": 125,
      "outputs": [
        {
          "output_type": "stream",
          "text": [
            "                   nb_bumped  total_passengers  bumps_per_10k\n",
            "airline                                                      \n",
            "JETBLUE AIRWAYS         1475          27255038       0.541184\n",
            "UNITED AIRLINES         2067          70030765       0.295156\n",
            "VIRGIN AMERICA           165           6090029       0.270935\n",
            "HAWAIIAN AIRLINES         92           8422734       0.109228\n",
            "DELTA AIR LINES          679          99796155       0.068039\n"
          ],
          "name": "stdout"
        }
      ]
    }
  ]
}