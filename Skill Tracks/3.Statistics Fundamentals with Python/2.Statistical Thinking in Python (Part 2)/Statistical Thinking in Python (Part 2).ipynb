{
 "cells": [
  {
   "cell_type": "markdown",
   "metadata": {},
   "source": [
    "# Libraries "
   ]
  },
  {
   "cell_type": "code",
   "execution_count": 1,
   "metadata": {},
   "outputs": [],
   "source": [
    "import numpy as np\n",
    "import pandas as pd\n",
    "import matplotlib.pyplot as plt\n",
    "import seaborn as sns\n",
    "\n",
    "sns.set()\n",
    "\n",
    "%matplotlib inline"
   ]
  },
  {
   "cell_type": "markdown",
   "metadata": {},
   "source": [
    "# Parameter estimation by optimization\n",
    "\n",
    "When doing statistical inference, we speak the language of probability. A probability distribution that describes your data has parameters. So, a major goal of statistical inference is to estimate the values of these parameters, which allows us to concisely and unambiguously describe our data and draw conclusions from it. We will find the optimal parameters, those that best describe your data.\n",
    "\n",
    "\n",
    "## Optimal parameters\n",
    "\n",
    "\n",
    "> ### Optimal parameters\n",
    "- Parameter values that bring the model in closest agreement with the data\n",
    "\n",
    "> ### Packages to do statistical inference\n",
    "| |package|\n",
    "|---|---|\n",
    "|<img src=\"https://docs.scipy.org/doc/scipy/reference/_static/img/scipy_org_logo.png\" alt=\"scipy_org_logo\" width=\"250\">|`scipy.stats`|\n",
    "|<img src=\"https://www.statsmodels.org/stable/_images/statsmodels-logo-v2-horizontal.svg\" alt=\"statsmodels-logo-v2-horizontal\" width=\"250\">|`statsmodels`|\n",
    "|<img src=\"https://numpy.org/images/logos/numpy.svg\" alt=\"numpy\" style=\"height:50px\">| hacker stats with `numpy`|\n",
    "\n",
    "\n",
    "### How often do we get no-hitters?\n",
    "\n",
    "\n",
    "The number of games played between each no-hitter in the modern era ($1901-2015$) of Major League Baseball is stored in the array `nohitter_times.`"
   ]
  },
  {
   "cell_type": "code",
   "execution_count": 2,
   "metadata": {},
   "outputs": [],
   "source": [
    "nohitter_times = np.array([ 843, 1613, 1101,  215,  684,  814,  278,  324,  161,  219,  545,\n",
    "                           715,  966,  624,   29,  450,  107,   20,   91, 1325,  124, 1468,\n",
    "                           104, 1309,  429,   62, 1878, 1104,  123,  251,   93,  188,  983,\n",
    "                           166,   96,  702,   23,  524,   26,  299,   59,   39,   12,    2,\n",
    "                           308, 1114,  813,  887,  645, 2088,   42, 2090,   11,  886, 1665,\n",
    "                           1084, 2900, 2432,  750, 4021, 1070, 1765, 1322,   26,  548, 1525,\n",
    "                           77, 2181, 2752,  127, 2147,  211,   41, 1575,  151,  479,  697,\n",
    "                           557, 2267,  542,  392,   73,  603,  233,  255,  528,  397, 1529,\n",
    "                           1023, 1194,  462,  583,   37,  943,  996,  480, 1497,  717,  224,\n",
    "                           219, 1531,  498,   44,  288,  267,  600,   52,  269, 1086,  386,\n",
    "                           176, 2199,  216,   54,  675, 1243,  463,  650,  171,  327,  110,\n",
    "                           774,  509,    8,  197,  136,   12, 1124,   64,  380,  811,  232,\n",
    "                           192,  731,  715,  226,  605,  539, 1491,  323,  240,  179,  702,\n",
    "                           156,   82, 1397,  354,  778,  603, 1001,  385,  986,  203,  149,\n",
    "                           576,  445,  180, 1403,  252,  675, 1351, 2983, 1568,   45,  899,\n",
    "                           3260, 1025,   31,  100, 2055, 4043,   79,  238, 3931, 2351,  595,\n",
    "                           110,  215,    0,  563,  206,  660,  242,  577,  179,  157,  192,\n",
    "                           192, 1848,  792, 1693,   55,  388,  225, 1134, 1172, 1555,   31,\n",
    "                           1582, 1044,  378, 1687, 2915,  280,  765, 2819,  511, 1521,  745,\n",
    "                           2491,  580, 2072, 6450,  578,  745, 1075, 1103, 1549, 1520,  138,\n",
    "                           1202,  296,  277,  351,  391,  950,  459,   62, 1056, 1128,  139,\n",
    "                           420,   87,   71,  814,  603, 1349,  162, 1027,  783,  326,  101,\n",
    "                           876,  381,  905,  156,  419,  239,  119,  129,  467])"
   ]
  },
  {
   "cell_type": "markdown",
   "metadata": {},
   "source": [
    "If we assume that no-hitters are described as a Poisson process, then the time between no-hitters is Exponentially distributed. As we have seen, the Exponential distribution has a single parameter, which we will call τ, the typical interval time. The value of the parameter τ that makes the exponential distribution best match the data is the mean interval time (where time is in units of number of games) between no-hitters.\n",
    "\n",
    "We will compute the value of this parameter from the data. Then, `use np.random.exponential()` to \"repeat\" the history of Major League Baseball by drawing inter-no-hitter times from an exponential distribution with the τ we found and plot the histogram as an approximation to the PDF."
   ]
  },
  {
   "cell_type": "code",
   "execution_count": 3,
   "metadata": {},
   "outputs": [
    {
     "data": {
      "image/png": "[encoded data removed]",
      "text/plain": [
       "<Figure size 432x288 with 1 Axes>"
      ]
     },
     "metadata": {
      "needs_background": "light"
     },
     "output_type": "display_data"
    }
   ],
   "source": [
    "# Seed random number generator\n",
    "np.random.seed(42)\n",
    "\n",
    "# Compute mean no-hitter time: tau\n",
    "tau = np.mean(nohitter_times)\n",
    "\n",
    "# Draw out of an exponential distribution with parameter tau: inter_nohitter_time\n",
    "inter_nohitter_time = np.random.exponential(tau, 100000)\n",
    "\n",
    "# Plot the PDF and label axes\n",
    "_ = plt.hist(inter_nohitter_time,\n",
    "             bins=50, density=True, histtype=\"step\")\n",
    "_ = plt.xlabel('Games between no-hitters')\n",
    "_ = plt.ylabel('PDF')\n",
    "\n",
    "# Show the plot\n",
    "plt.show()\n"
   ]
  },
  {
   "cell_type": "markdown",
   "metadata": {},
   "source": [
    "> Note: We see the typical shape of the Exponential distribution, going from a maximum at 0 and decaying to the right."
   ]
  },
  {
   "cell_type": "markdown",
   "metadata": {},
   "source": [
    "### Do the data follow our story?\n",
    "\n",
    "We have modeled no-hitters using an Exponential distribution. Let's create an ECDF of the real data. Overlay the theoretical CDF with the ECDF from the data. This helps us to verify that the Exponential distribution describes the observed data."
   ]
  },
  {
   "cell_type": "code",
   "execution_count": 4,
   "metadata": {},
   "outputs": [],
   "source": [
    "def ecdf(data):\n",
    "    return np.sort(data), np.arange(1, len(data)+1) / len(data)"
   ]
  },
  {
   "cell_type": "code",
   "execution_count": 5,
   "metadata": {},
   "outputs": [
    {
     "data": {
      "image/png": "[encoded data removed]",
      "text/plain": [
       "<Figure size 432x288 with 1 Axes>"
      ]
     },
     "metadata": {
      "needs_background": "light"
     },
     "output_type": "display_data"
    }
   ],
   "source": [
    "# Create an ECDF from real data: x, y\n",
    "x, y = ecdf(nohitter_times)\n",
    "\n",
    "# Create a CDF from theoretical samples: x_theor, y_theor\n",
    "x_theor, y_theor = ecdf(inter_nohitter_time)\n",
    "\n",
    "# Overlay the plots\n",
    "plt.plot(x_theor, y_theor)\n",
    "plt.plot(x, y, marker=\".\", linestyle=\"none\")\n",
    "\n",
    "# Margins and axis labels\n",
    "plt.margins(.02)\n",
    "plt.xlabel('Games between no-hitters')\n",
    "plt.ylabel('CDF')\n",
    "\n",
    "# Show the plot\n",
    "plt.show()\n"
   ]
  },
  {
   "cell_type": "markdown",
   "metadata": {},
   "source": [
    "It looks like no-hitters in the modern era of Major League Baseball are Exponentially distributed. Based on the story of the Exponential distribution, this suggests that they are a random process; when a no-hitter will happen is independent of when the last no-hitter was."
   ]
  },
  {
   "cell_type": "markdown",
   "metadata": {},
   "source": [
    "# How is this parameter optimal?\n",
    "\n",
    "We will now sample out of an exponential distribution with $\\tau$ being twice as large as the optimal $\\tau$. Do it again for $\\tau$ half as large. Make CDFs of these samples and overlay them with our data. "
   ]
  },
  {
   "cell_type": "code",
   "execution_count": 6,
   "metadata": {},
   "outputs": [
    {
     "data": {
      "image/png": "[encoded data removed]",
      "text/plain": [
       "<Figure size 432x288 with 1 Axes>"
      ]
     },
     "metadata": {
      "needs_background": "light"
     },
     "output_type": "display_data"
    }
   ],
   "source": [
    "# Plot the theoretical CDFs\n",
    "plt.plot(x_theor, y_theor)\n",
    "plt.plot(x, y, marker='.', linestyle='none')\n",
    "plt.margins(0.02)\n",
    "plt.xlabel('Games between no-hitters')\n",
    "plt.ylabel('CDF')\n",
    "\n",
    "# Take samples with half tau: samples_half\n",
    "samples_half = np.random.exponential(tau/2, size=10000)\n",
    "\n",
    "# Take samples with double tau: samples_double\n",
    "samples_double = np.random.exponential(tau*2, size=10000)\n",
    "\n",
    "# Generate CDFs from these samples\n",
    "x_half, y_half = ecdf(samples_half)\n",
    "x_double, y_double = ecdf(samples_double)\n",
    "\n",
    "# Plot these CDFs as lines\n",
    "_ = plt.plot(x_half, y_half)\n",
    "_ = plt.plot(x_double, y_double)\n",
    "\n",
    "# Show the plot\n",
    "plt.show()"
   ]
  },
  {
   "cell_type": "markdown",
   "metadata": {},
   "source": [
    "> Note: Notice how the value of tau given by the mean matches the data best. In this way, tau is an optimal parameter.\n",
    "\n",
    "We can see that they do not reproduce the data as well. Thus, the $\\tau$ we computed from the mean inter-no-hitter times is optimal in that it best reproduces the data."
   ]
  },
  {
   "cell_type": "markdown",
   "metadata": {},
   "source": [
    "## Linear regression by least squares\n",
    "\n",
    "\n",
    "> ### Least squares\n",
    "- The process of nding the parameters for which the sum ofthe squares ofthe residuals is minimal"
   ]
  },
  {
   "cell_type": "markdown",
   "metadata": {},
   "source": [
    "### EDA of literacy/fertility data\n",
    "\n",
    "we will look at the correlation between female literacy and fertility (defined as the average number of children born per woman) throughout the world. For ease of analysis and interpretation, we will work with the illiteracy rate."
   ]
  },
  {
   "cell_type": "code",
   "execution_count": 7,
   "metadata": {},
   "outputs": [],
   "source": [
    "illiteracy= np.array([ 9.5, 49.2,  1. , 11.2,  9.8, 60. , 50.2, 51.2,  0.6,  1. ,  8.5,\n",
    "                      6.1,  9.8,  1. , 42.2, 77.2, 18.7, 22.8,  8.5, 43.9,  1. ,  1. ,\n",
    "                      1.5, 10.8, 11.9,  3.4,  0.4,  3.1,  6.6, 33.7, 40.4,  2.3, 17.2,\n",
    "                      0.7, 36.1,  1. , 33.2, 55.9, 30.8, 87.4, 15.4, 54.6,  5.1,  1.1,\n",
    "                      10.2, 19.8,  0. , 40.7, 57.2, 59.9,  3.1, 55.7, 22.8, 10.9, 34.7,\n",
    "                      32.2, 43. ,  1.3,  1. ,  0.5, 78.4, 34.2, 84.9, 29.1, 31.3, 18.3,\n",
    "                      81.8, 39. , 11.2, 67. ,  4.1,  0.2, 78.1,  1. ,  7.1,  1. , 29. ,\n",
    "                      1.1, 11.7, 73.6, 33.9, 14. ,  0.3,  1. ,  0.8, 71.9, 40.1,  1. ,\n",
    "                      2.1,  3.8, 16.5,  4.1,  0.5, 44.4, 46.3, 18.7,  6.5, 36.8, 18.6,\n",
    "                      11.1, 22.1, 71.1,  1. ,  0. ,  0.9,  0.7, 45.5,  8.4,  0. ,  3.8,\n",
    "                      8.5,  2. ,  1. , 58.9,  0.3,  1. , 14. , 47. ,  4.1,  2.2,  7.2,\n",
    "                      0.3,  1.5, 50.5,  1.3,  0.6, 19.1,  6.9,  9.2,  2.2,  0.2, 12.3,\n",
    "                      4.9,  4.6,  0.3, 16.5, 65.7, 63.5, 16.8,  0.2,  1.8,  9.6, 15.2,\n",
    "                      14.4,  3.3, 10.6, 61.3, 10.9, 32.2,  9.3, 11.6, 20.7,  6.5,  6.7,\n",
    "                      3.5,  1. ,  1.6, 20.5,  1.5, 16.7,  2. ,  0.9])"
   ]
  },
  {
   "cell_type": "code",
   "execution_count": 8,
   "metadata": {},
   "outputs": [],
   "source": [
    "fertility = np.array([1.769, 2.682, 2.077, 2.132, 1.827, 3.872, 2.288, 5.173, 1.393,\n",
    "       1.262, 2.156, 3.026, 2.033, 1.324, 2.816, 5.211, 2.1  , 1.781,\n",
    "       1.822, 5.908, 1.881, 1.852, 1.39 , 2.281, 2.505, 1.224, 1.361,\n",
    "       1.468, 2.404, 5.52 , 4.058, 2.223, 4.859, 1.267, 2.342, 1.579,\n",
    "       6.254, 2.334, 3.961, 6.505, 2.53 , 2.823, 2.498, 2.248, 2.508,\n",
    "       3.04 , 1.854, 4.22 , 5.1  , 4.967, 1.325, 4.514, 3.173, 2.308,\n",
    "       4.62 , 4.541, 5.637, 1.926, 1.747, 2.294, 5.841, 5.455, 7.069,\n",
    "       2.859, 4.018, 2.513, 5.405, 5.737, 3.363, 4.89 , 1.385, 1.505,\n",
    "       6.081, 1.784, 1.378, 1.45 , 1.841, 1.37 , 2.612, 5.329, 5.33 ,\n",
    "       3.371, 1.281, 1.871, 2.153, 5.378, 4.45 , 1.46 , 1.436, 1.612,\n",
    "       3.19 , 2.752, 3.35 , 4.01 , 4.166, 2.642, 2.977, 3.415, 2.295,\n",
    "       3.019, 2.683, 5.165, 1.849, 1.836, 2.518, 2.43 , 4.528, 1.263,\n",
    "       1.885, 1.943, 1.899, 1.442, 1.953, 4.697, 1.582, 2.025, 1.841,\n",
    "       5.011, 1.212, 1.502, 2.516, 1.367, 2.089, 4.388, 1.854, 1.748,\n",
    "       2.978, 2.152, 2.362, 1.988, 1.426, 3.29 , 3.264, 1.436, 1.393,\n",
    "       2.822, 4.969, 5.659, 3.24 , 1.693, 1.647, 2.36 , 1.792, 3.45 ,\n",
    "       1.516, 2.233, 2.563, 5.283, 3.885, 0.966, 2.373, 2.663, 1.251,\n",
    "       2.052, 3.371, 2.093, 2.   , 3.883, 3.852, 3.718, 1.732, 3.928])"
   ]
  },
  {
   "cell_type": "markdown",
   "metadata": {},
   "source": [
    "It is always a good idea to do some EDA ahead of our analysis. To this end, we will plot the `fertility` versus `illiteracy` and compute the Pearson correlation coefficient. \n",
    "\n",
    "\n",
    "> Note: The Numpy array `illiteracy` has the illiteracy rate among females for most of the world's nations. \n",
    "\n",
    "\n",
    "> Note: The array `fertility` has the corresponding fertility data."
   ]
  },
  {
   "cell_type": "code",
   "execution_count": 9,
   "metadata": {},
   "outputs": [],
   "source": [
    "def pearson_r(x, y):\n",
    "    return np.corrcoef(x, y)[0,1]"
   ]
  },
  {
   "cell_type": "code",
   "execution_count": 10,
   "metadata": {},
   "outputs": [
    {
     "data": {
      "image/png": "[encoded data removed]",
      "text/plain": [
       "<Figure size 432x288 with 1 Axes>"
      ]
     },
     "metadata": {
      "needs_background": "light"
     },
     "output_type": "display_data"
    },
    {
     "data": {
      "text/plain": [
       "0.8041324026815346"
      ]
     },
     "execution_count": 10,
     "metadata": {},
     "output_type": "execute_result"
    }
   ],
   "source": [
    "# Plot the illiteracy rate versus fertility\n",
    "_ = plt.plot(illiteracy, fertility, marker='.', linestyle='none')\n",
    "\n",
    "# Set the margins and label axes\n",
    "plt.margins(.02)\n",
    "_ = plt.xlabel('percent illiterate')\n",
    "_ = plt.ylabel('fertility')\n",
    "\n",
    "# Show the plot\n",
    "plt.show()\n",
    "\n",
    "# Show the Pearson correlation coefficient\n",
    "pearson_r(illiteracy, fertility)\n"
   ]
  },
  {
   "cell_type": "markdown",
   "metadata": {},
   "source": [
    "We can see the correlation between illiteracy and fertility by eye, and by the substantial Pearson correlation coefficient of 0.8. It is difficult to resolve in the scatter plot, but there are many points around near-zero illiteracy and about 1.8 children/woman."
   ]
  },
  {
   "cell_type": "markdown",
   "metadata": {},
   "source": [
    "### Linear regression\n",
    "\n",
    "We will assume that fertility is a linear function of the female illiteracy rate. That is, $f=ai+b$, where $a$ is the **slope** and $b$ is the **intercept**.\n",
    "\n",
    "\n",
    "> Note: We can think of the intercept as the minimal fertility rate, probably somewhere between one and two.\n",
    "\n",
    "\n",
    "The slope tells us how the fertility rate varies with illiteracy. We can find the best fit line using `np.polyfit()`."
   ]
  },
  {
   "cell_type": "code",
   "execution_count": 11,
   "metadata": {},
   "outputs": [
    {
     "name": "stdout",
     "output_type": "stream",
     "text": [
      "slope = 0.04979854809063423 children per woman / percent illiterate\n",
      "intercept = 1.8880506106365562 children per woman\n"
     ]
    },
    {
     "data": {
      "image/png": "[encoded data removed]",
      "text/plain": [
       "<Figure size 432x288 with 1 Axes>"
      ]
     },
     "metadata": {
      "needs_background": "light"
     },
     "output_type": "display_data"
    }
   ],
   "source": [
    "# Plot the illiteracy rate versus fertility\n",
    "_ = plt.plot(illiteracy, fertility, marker='.', linestyle='none')\n",
    "plt.margins(0.02)\n",
    "_ = plt.xlabel('percent illiterate')\n",
    "_ = plt.ylabel('fertility')\n",
    "\n",
    "# Perform a linear regression using np.polyfit(): a, b\n",
    "a, b = np.polyfit(illiteracy, fertility, deg=1)\n",
    "\n",
    "# Print the results to the screen\n",
    "print('slope =', a, 'children per woman / percent illiterate')\n",
    "print('intercept =', b, 'children per woman')\n",
    "\n",
    "# Make theoretical line to plot\n",
    "x = np.array([0, 100])\n",
    "y = a * x + b\n",
    "\n",
    "# Add regression line to your plot\n",
    "_ = plt.plot(x, y)\n",
    "\n",
    "# Draw the plot\n",
    "plt.show()\n"
   ]
  },
  {
   "cell_type": "markdown",
   "metadata": {},
   "source": [
    "### How is it optimal?\n",
    "\n",
    "The function `np.polyfit()` that we used to get your regression parameters finds the optimal slope and intercept. It is optimizing the sum of the squares of the residuals, also known as RSS ( _for residual sum of squares_ ). \n",
    "\n",
    "We will plot the function that is being optimized, the RSS, versus the slope parameter $a$. To do this, we will fix the intercept to be what we found in the optimization. Then, plot the RSS vs. the slope. "
   ]
  },
  {
   "cell_type": "code",
   "execution_count": 12,
   "metadata": {},
   "outputs": [
    {
     "data": {
      "image/png": "[encoded data removed]",
      "text/plain": [
       "<Figure size 432x288 with 1 Axes>"
      ]
     },
     "metadata": {
      "needs_background": "light"
     },
     "output_type": "display_data"
    }
   ],
   "source": [
    "# Specify slopes to consider: a_vals\n",
    "a_vals = np.linspace(0,0.1, 200)\n",
    "\n",
    "# Initialize sum of square of residuals: rss\n",
    "rss = np.empty_like(a_vals)\n",
    "\n",
    "# Compute sum of square of residuals for each value of a_vals\n",
    "for i, a in enumerate(a_vals):\n",
    "    rss[i] = np.sum((fertility - a*illiteracy - b)**2)\n",
    "\n",
    "# Plot the RSS\n",
    "plt.plot(a_vals, rss, '-')\n",
    "plt.xlabel('slope (children per woman / percent illiterate)')\n",
    "plt.ylabel('sum of square of residuals')\n",
    "\n",
    "plt.show()\n"
   ]
  },
  {
   "cell_type": "markdown",
   "metadata": {},
   "source": [
    "> Note: that the minimum on the plot, that is the value of the slope that gives the minimum sum of the square of the residuals, is the same value you got when performing the regression.\n",
    "\n",
    "\n"
   ]
  },
  {
   "cell_type": "markdown",
   "metadata": {},
   "source": [
    "## The importance of EDA: Anscombe's quartet\n",
    "\n",
    "> ### Look before you leap!\n",
    "- Do graphical EDA rst"
   ]
  },
  {
   "cell_type": "markdown",
   "metadata": {},
   "source": [
    "### Linear regression on appropriate Anscombe data\n",
    "\n",
    "We will perform a linear regression on the data set from Anscombe's quartet that is most reasonably interpreted with linear regression."
   ]
  },
  {
   "cell_type": "code",
   "execution_count": 13,
   "metadata": {},
   "outputs": [],
   "source": [
    "x = np.array([10.,  8., 13.,  9., 11., 14.,  6.,  4., 12.,  7.,  5.])\n",
    "y = np.array([ 8.04,  6.95,  7.58,  8.81,  8.33,  9.96,  7.24,  4.26, 10.84,\n",
    "        4.82,  5.68])"
   ]
  },
  {
   "cell_type": "code",
   "execution_count": 14,
   "metadata": {},
   "outputs": [
    {
     "name": "stdout",
     "output_type": "stream",
     "text": [
      "0.5000909090909091 3.000090909090908\n"
     ]
    },
    {
     "data": {
      "image/png": "[encoded data removed]",
      "text/plain": [
       "<Figure size 432x288 with 1 Axes>"
      ]
     },
     "metadata": {
      "needs_background": "light"
     },
     "output_type": "display_data"
    }
   ],
   "source": [
    "# Perform linear regression: a, b\n",
    "a, b = np.polyfit(x,y, deg=1)\n",
    "\n",
    "# Print the slope and intercept\n",
    "print(a, b)\n",
    "\n",
    "# Generate theoretical x and y data: x_theor, y_theor\n",
    "x_theor = np.array([3, 15])\n",
    "y_theor = a * x_theor + b\n",
    "\n",
    "# Plot the Anscombe data and theoretical line\n",
    "_ = plt.plot(x, y, marker=\".\", linestyle=\"none\")\n",
    "_ = plt.plot(x_theor, y_theor)\n",
    "\n",
    "# Label the axes\n",
    "plt.xlabel('x')\n",
    "plt.ylabel('y')\n",
    "\n",
    "# Show the plot\n",
    "plt.show()"
   ]
  },
  {
   "cell_type": "markdown",
   "metadata": {},
   "source": [
    "### Linear regression on all Anscombe data\n",
    "\n",
    "\n",
    "Now, to verify that all four of the Anscombe data sets have the same slope and intercept from a linear regression, we will compute the slope and intercept for each set. "
   ]
  },
  {
   "cell_type": "code",
   "execution_count": 15,
   "metadata": {},
   "outputs": [],
   "source": [
    "anscombe_x = [np.array([10.,  8., 13.,  9., 11., 14.,  6.,  4., 12.,  7.,  5.]),\n",
    " np.array([10.,  8., 13.,  9., 11., 14.,  6.,  4., 12.,  7.,  5.]),\n",
    " np.array([10.,  8., 13.,  9., 11., 14.,  6.,  4., 12.,  7.,  5.]),\n",
    " np.array([ 8.,  8.,  8.,  8.,  8.,  8.,  8., 19.,  8.,  8.,  8.])]"
   ]
  },
  {
   "cell_type": "code",
   "execution_count": 16,
   "metadata": {},
   "outputs": [],
   "source": [
    "anscombe_y = [np.array([ 8.04,  6.95,  7.58,  8.81,  8.33,  9.96,  7.24,  4.26, 10.84,\n",
    "         4.82,  5.68]),\n",
    " np.array([9.14, 8.14, 8.74, 8.77, 9.26, 8.1 , 6.13, 3.1 , 9.13, 7.26, 4.74]),\n",
    " np.array([ 7.46,  6.77, 12.74,  7.11,  7.81,  8.84,  6.08,  5.39,  8.15,\n",
    "         6.42,  5.73]),\n",
    " np.array([ 6.58,  5.76,  7.71,  8.84,  8.47,  7.04,  5.25, 12.5 ,  5.56,\n",
    "         7.91,  6.89])]"
   ]
  },
  {
   "cell_type": "markdown",
   "metadata": {},
   "source": [
    "The data are stored in lists;"
   ]
  },
  {
   "cell_type": "code",
   "execution_count": 17,
   "metadata": {},
   "outputs": [
    {
     "name": "stdout",
     "output_type": "stream",
     "text": [
      "slope: 0.5000909090909091 intercept: 3.000090909090908\n",
      "slope: 0.5 intercept: 3.0009090909090905\n",
      "slope: 0.4997272727272729 intercept: 3.002454545454545\n",
      "slope: 0.4999090909090908 intercept: 3.001727272727274\n"
     ]
    }
   ],
   "source": [
    "# Iterate through x,y pairs\n",
    "for x, y in zip(anscombe_x, anscombe_y):\n",
    "    # Compute the slope and intercept: a, b\n",
    "    a, b = np.polyfit(x,y, deg=1)\n",
    "\n",
    "    # Print the result\n",
    "    print('slope:', a, 'intercept:', b)\n"
   ]
  },
  {
   "cell_type": "markdown",
   "metadata": {},
   "source": [
    "> Important: Indeed, they all have the same slope and intercept."
   ]
  },
  {
   "cell_type": "markdown",
   "metadata": {},
   "source": [
    "# Bootstrap confidence intervals\n",
    "\n",
    "To \"pull yourself up by your bootstraps\" is a classic idiom meaning that you achieve a difficult task by yourself with no help at all. In statistical inference, we want to know what would happen if we could repeat our data acquisition an infinite number of times. This task is impossible, but can we use only the data we actually have to get close to the same result as an infinitude of experiments? The answer is yes! The technique to do it is aptly called ***bootstrapping***. "
   ]
  },
  {
   "cell_type": "markdown",
   "metadata": {},
   "source": [
    "## Generating bootstrap replicates\n",
    "\n",
    "\n",
    "> ### Bootstrapping\n",
    "- The use of resampled data to perform statistical inference\n",
    "\n",
    "\n",
    "> ### Bootstrap sample\n",
    "- A resampled array ofthe data\n",
    "\n",
    "\n",
    "> ### Bootstrap replicate\n",
    "- A statistic computed from a resampled array"
   ]
  },
  {
   "cell_type": "markdown",
   "metadata": {},
   "source": [
    "### Getting the terminology down\n",
    "\n",
    "\n",
    "If we have a data set with $n$ repeated measurements, a **bootstrap sample** is an array of length $n$ that was drawn from the original data with replacement. **bootstrap replicate** is A single value of a statistic computed from a bootstrap sample."
   ]
  },
  {
   "cell_type": "markdown",
   "metadata": {},
   "source": [
    "### Visualizing bootstrap samples\n",
    "\n",
    "\n",
    "We will generate bootstrap samples from the set of annual rainfall data measured at the Sheffield Weather Station in the UK from 1883 to 2015. "
   ]
  },
  {
   "cell_type": "code",
   "execution_count": 18,
   "metadata": {},
   "outputs": [],
   "source": [
    "rainfall = np.array([ 875.5,  648.2,  788.1,  940.3,  491.1,  743.5,  730.1,  686.5,\n",
    "        878.8,  865.6,  654.9,  831.5,  798.1,  681.8,  743.8,  689.1,\n",
    "        752.1,  837.2,  710.6,  749.2,  967.1,  701.2,  619. ,  747.6,\n",
    "        803.4,  645.6,  804.1,  787.4,  646.8,  997.1,  774. ,  734.5,\n",
    "        835. ,  840.7,  659.6,  828.3,  909.7,  856.9,  578.3,  904.2,\n",
    "        883.9,  740.1,  773.9,  741.4,  866.8,  871.1,  712.5,  919.2,\n",
    "        927.9,  809.4,  633.8,  626.8,  871.3,  774.3,  898.8,  789.6,\n",
    "        936.3,  765.4,  882.1,  681.1,  661.3,  847.9,  683.9,  985.7,\n",
    "        771.1,  736.6,  713.2,  774.5,  937.7,  694.5,  598.2,  983.8,\n",
    "        700.2,  901.3,  733.5,  964.4,  609.3, 1035.2,  718. ,  688.6,\n",
    "        736.8,  643.3, 1038.5,  969. ,  802.7,  876.6,  944.7,  786.6,\n",
    "        770.4,  808.6,  761.3,  774.2,  559.3,  674.2,  883.6,  823.9,\n",
    "        960.4,  877.8,  940.6,  831.8,  906.2,  866.5,  674.1,  998.1,\n",
    "        789.3,  915. ,  737.1,  763. ,  666.7,  824.5,  913.8,  905.1,\n",
    "        667.8,  747.4,  784.7,  925.4,  880.2, 1086.9,  764.4, 1050.1,\n",
    "        595.2,  855.2,  726.9,  785.2,  948.8,  970.6,  896. ,  618.4,\n",
    "        572.4, 1146.4,  728.2,  864.2,  793. ])"
   ]
  },
  {
   "cell_type": "markdown",
   "metadata": {},
   "source": [
    "The data are stored in the NumPy array rainfall in units of millimeters (mm). By graphically displaying the bootstrap samples with an ECDF, we can get a feel for how bootstrap sampling allows probabilistic descriptions of data."
   ]
  },
  {
   "cell_type": "code",
   "execution_count": 19,
   "metadata": {},
   "outputs": [
    {
     "data": {
      "image/png": "[encoded data removed]",
      "text/plain": [
       "<Figure size 432x288 with 1 Axes>"
      ]
     },
     "metadata": {
      "needs_background": "light"
     },
     "output_type": "display_data"
    }
   ],
   "source": [
    "for _ in range(50):\n",
    "    # Generate bootstrap sample: bs_sample\n",
    "    bs_sample = np.random.choice(rainfall, size=len(rainfall))\n",
    "\n",
    "    # Compute and plot ECDF from bootstrap sample\n",
    "    x, y = ecdf(bs_sample)\n",
    "    _ = plt.plot(x, y, marker='.', linestyle='none',\n",
    "                 color='gray', alpha=0.1)\n",
    "\n",
    "# Compute and plot ECDF from original data\n",
    "x, y = ecdf(rainfall)\n",
    "_ = plt.plot(x, y, marker='.')\n",
    "\n",
    "# Make margins and label axes\n",
    "plt.margins(0.02)\n",
    "_ = plt.xlabel('yearly rainfall (mm)')\n",
    "_ = plt.ylabel('ECDF')\n",
    "\n",
    "# Show the plot\n",
    "plt.show()"
   ]
  },
  {
   "cell_type": "markdown",
   "metadata": {},
   "source": [
    "> Note: The bootstrap samples give an idea of how the distribution of rainfalls is spread."
   ]
  },
  {
   "cell_type": "markdown",
   "metadata": {},
   "source": [
    "## Bootstrap confidence intervals\n",
    "\n",
    "\n",
    "> ### Condence interval of a statistic\n",
    "- If we repeated measurements over and over again, $p\\%$ of the observed values would lie within the $p\\%$ condence interval."
   ]
  },
  {
   "cell_type": "markdown",
   "metadata": {},
   "source": [
    "### Generating many bootstrap replicates\n",
    "\n",
    "\n"
   ]
  },
  {
   "cell_type": "code",
   "execution_count": 20,
   "metadata": {},
   "outputs": [],
   "source": [
    "def bootstrap_replicate_1d(data, func):\n",
    "    \"\"\"Generate bootstrap replicate of 1D data.\"\"\"\n",
    "    return func(np.random.choice(data, size=len(data)))"
   ]
  },
  {
   "cell_type": "markdown",
   "metadata": {},
   "source": [
    "We'll write another function, `draw_bs_reps(data, func, size=1)`, which generates many bootstrap replicates from the data set. "
   ]
  },
  {
   "cell_type": "code",
   "execution_count": 21,
   "metadata": {},
   "outputs": [],
   "source": [
    "def draw_bs_reps(data, func, size=1):\n",
    "    \"\"\"Draw bootstrap replicates.\"\"\"\n",
    "\n",
    "    # Initialize array of replicates: bs_replicates\n",
    "    bs_replicates = np.empty(size)\n",
    "\n",
    "    # Generate replicates\n",
    "    for i in range(size):\n",
    "        bs_replicates[i] = bootstrap_replicate_1d(data, func)\n",
    "\n",
    "    return bs_replicates\n"
   ]
  },
  {
   "cell_type": "markdown",
   "metadata": {},
   "source": [
    "### Bootstrap replicates of the mean and the SEM\n",
    "\n",
    "We will compute a bootstrap estimate of the probability density function of the mean annual rainfall at the Sheffield Weather Station. \n",
    "\n",
    "\n",
    "> Note: we are estimating the mean annual rainfall we would get if the Sheffield Weather Station could repeat all of the measurements from 1883 to 2015 over and over again. This is a _probabilistic_ estimate of the mean. \n",
    "\n",
    "\n",
    "We will plot the PDF as a histogram, and you will see that it is Normal.\n",
    "\n",
    "The standard deviation of this distribution, called the **standard error of the mean**, or SEM, is given by the standard deviation of the data divided by the square root of the number of data points. I.e., for a data set, `sem = np.std(data) / np.sqrt(len(data))`."
   ]
  },
  {
   "cell_type": "code",
   "execution_count": 22,
   "metadata": {},
   "outputs": [
    {
     "name": "stdout",
     "output_type": "stream",
     "text": [
      "10.510549150506188\n",
      "10.358764199574097\n"
     ]
    },
    {
     "data": {
      "image/png": "[encoded data removed]",
      "text/plain": [
       "<Figure size 432x288 with 1 Axes>"
      ]
     },
     "metadata": {
      "needs_background": "light"
     },
     "output_type": "display_data"
    }
   ],
   "source": [
    "# Take 10,000 bootstrap replicates of the mean: bs_replicates\n",
    "bs_replicates = draw_bs_reps(rainfall, np.mean, size=10000)\n",
    "\n",
    "# Compute and print SEM\n",
    "sem = np.std(rainfall) / np.sqrt(len(rainfall))\n",
    "print(sem)\n",
    "\n",
    "# Compute and print standard deviation of bootstrap replicates\n",
    "bs_std = np.std(bs_replicates)\n",
    "print(bs_std)\n",
    "\n",
    "# Make a histogram of the results\n",
    "_ = plt.hist(bs_replicates, bins=50, density=True)\n",
    "_ = plt.xlabel('mean annual rainfall (mm)')\n",
    "_ = plt.ylabel('PDF')\n",
    "\n",
    "# Show the plot\n",
    "plt.show()"
   ]
  },
  {
   "cell_type": "markdown",
   "metadata": {},
   "source": [
    "> Note: SEM we got from the known expression and the bootstrap replicates is the same and the distribution of the bootstrap replicates of the mean is Normal."
   ]
  },
  {
   "cell_type": "markdown",
   "metadata": {},
   "source": [
    "### Confidence intervals of rainfall data\n",
    "\n",
    "\n",
    "A _confidence interval_ gives upper and lower bounds on the range of parameter values you might expect to get if we repeat our measurements. For named distributions, we can compute them analytically or look them up, but one of the many beautiful properties of the bootstrap method is that we can take percentiles of your bootstrap replicates to get your confidence interval. Conveniently, we can use the `np.percentile()` function."
   ]
  },
  {
   "cell_type": "code",
   "execution_count": 23,
   "metadata": {},
   "outputs": [
    {
     "data": {
      "text/plain": [
       "array([779.96900376, 820.62793233])"
      ]
     },
     "execution_count": 23,
     "metadata": {},
     "output_type": "execute_result"
    }
   ],
   "source": [
    "np.percentile(bs_replicates, [2.5, 97.5])"
   ]
  },
  {
   "cell_type": "markdown",
   "metadata": {},
   "source": [
    "it's simple to get confidence intervals using bootstrap!"
   ]
  },
  {
   "cell_type": "markdown",
   "metadata": {},
   "source": [
    "### Bootstrap replicates of other statistics\n",
    "\n",
    "\n",
    "We'll generate bootstrap replicates for the variance of the annual rainfall at the Sheffield Weather Station and plot the histogram of the replicates."
   ]
  },
  {
   "cell_type": "code",
   "execution_count": 24,
   "metadata": {},
   "outputs": [
    {
     "data": {
      "image/png": "[encoded data removed]",
      "text/plain": [
       "<Figure size 432x288 with 1 Axes>"
      ]
     },
     "metadata": {
      "needs_background": "light"
     },
     "output_type": "display_data"
    }
   ],
   "source": [
    "# Generate 10,000 bootstrap replicates of the variance: bs_replicates\n",
    "bs_replicates = draw_bs_reps(rainfall, np.var, size=10000)\n",
    "\n",
    "# Put the variance in units of square centimeters\n",
    "bs_replicates = bs_replicates/100\n",
    "\n",
    "# Make a histogram of the results\n",
    "_ = plt.hist(bs_replicates, density=True, bins=50)\n",
    "_ = plt.xlabel('variance of annual rainfall (sq. cm)')\n",
    "_ = plt.ylabel('PDF')\n",
    "\n",
    "# Show the plot\n",
    "plt.show()"
   ]
  },
  {
   "cell_type": "markdown",
   "metadata": {},
   "source": [
    "> Note: This is not normally distributed, as it has a longer tail to the right."
   ]
  },
  {
   "cell_type": "markdown",
   "metadata": {},
   "source": [
    "### Confidence interval on the rate of no-hitters"
   ]
  },
  {
   "cell_type": "code",
   "execution_count": 25,
   "metadata": {},
   "outputs": [
    {
     "name": "stdout",
     "output_type": "stream",
     "text": [
      "95% confidence interval = [663.65229084 869.79741036] games\n"
     ]
    },
    {
     "data": {
      "image/png": "[encoded data removed]",
      "text/plain": [
       "<Figure size 432x288 with 1 Axes>"
      ]
     },
     "metadata": {
      "needs_background": "light"
     },
     "output_type": "display_data"
    }
   ],
   "source": [
    "# Draw bootstrap replicates of the mean no-hitter time (equal to tau): bs_replicates\n",
    "bs_replicates = draw_bs_reps(nohitter_times, np.mean, size=10000)\n",
    "\n",
    "# Compute the 95% confidence interval: conf_int\n",
    "conf_int = np.percentile(bs_replicates, [2.5, 97.5])\n",
    "\n",
    "# Print the confidence interval\n",
    "print('95% confidence interval =', conf_int, 'games')\n",
    "\n",
    "# Plot the histogram of the replicates\n",
    "_ = plt.hist(bs_replicates, bins=50, density=True)\n",
    "_ = plt.xlabel(r'$\\tau$ (games)')\n",
    "_ = plt.ylabel('PDF')\n",
    "\n",
    "# Show the plot\n",
    "plt.show()\n"
   ]
  },
  {
   "cell_type": "markdown",
   "metadata": {},
   "source": [
    "> Note: This gives us an estimate of what the typical time between no-hitters is. It could be anywhere between 660 and 870 games."
   ]
  },
  {
   "cell_type": "markdown",
   "metadata": {},
   "source": [
    "## Pairs bootstrap\n",
    "\n",
    "\n",
    "> ### Nonparametric inference\n",
    "- Make no assumptions about the model or probability distribution underlying the data\n",
    "\n",
    "\n",
    "> ### Pairs bootstrap for linear regression\n",
    "- Resample data in pairs\n",
    "- Compute slope and intercept from resampled data\n",
    "- Each slope and intercept is a bootstrap replicate\n",
    "- Compute condence intervals from percentiles of bootstrap replicates"
   ]
  },
  {
   "cell_type": "markdown",
   "metadata": {},
   "source": [
    "### A function to do pairs bootstrap\n",
    "\n",
    "pairs bootstrap involves resampling pairs of data. Each collection of pairs fit with a line, in this case using `np.polyfit()`. We do this again and again, getting bootstrap replicates of the parameter values. To have a useful tool for doing pairs bootstrap, we will write a function to perform pairs bootstrap on a set of `x,y` data."
   ]
  },
  {
   "cell_type": "code",
   "execution_count": 26,
   "metadata": {},
   "outputs": [],
   "source": [
    "def draw_bs_pairs_linreg(x, y, size=1):\n",
    "    \"\"\"Perform pairs bootstrap for linear regression.\"\"\"\n",
    "\n",
    "    # Set up array of indices to sample from: inds\n",
    "    inds = np.arange(len(x))\n",
    "\n",
    "    # Initialize replicates: bs_slope_reps, bs_intercept_reps\n",
    "    bs_slope_reps = np.empty(size)\n",
    "    bs_intercept_reps = np.empty(size)\n",
    "\n",
    "    # Generate replicates\n",
    "    for i in range(size):\n",
    "        bs_inds = np.random.choice(inds, size=len(inds))\n",
    "        bs_x, bs_y = x[bs_inds], y[bs_inds]\n",
    "        bs_slope_reps[i], bs_intercept_reps[i] = np.polyfit(bs_x, bs_y, deg=1)\n",
    "\n",
    "    return bs_slope_reps, bs_intercept_reps\n"
   ]
  },
  {
   "cell_type": "markdown",
   "metadata": {},
   "source": [
    "### Pairs bootstrap of literacy/fertility data\n",
    "\n",
    "Using the function we just wrote, we'll perform pairs bootstrap to plot a histogram describing the estimate of the slope from the illiteracy/fertility data. Also reporting the 95% confidence interval of the slope."
   ]
  },
  {
   "cell_type": "code",
   "execution_count": 27,
   "metadata": {},
   "outputs": [
    {
     "name": "stdout",
     "output_type": "stream",
     "text": [
      "[0.04389859 0.05528877]\n"
     ]
    },
    {
     "data": {
      "image/png": "[encoded data removed]",
      "text/plain": [
       "<Figure size 432x288 with 1 Axes>"
      ]
     },
     "metadata": {
      "needs_background": "light"
     },
     "output_type": "display_data"
    }
   ],
   "source": [
    "# Generate replicates of slope and intercept using pairs bootstrap\n",
    "bs_slope_reps, bs_intercept_reps = draw_bs_pairs_linreg(illiteracy, fertility, size=1000)\n",
    "\n",
    "# Compute and print 95% CI for slope\n",
    "print(np.percentile(bs_slope_reps, [2.5, 97.5]))\n",
    "\n",
    "# Plot the histogram\n",
    "_ = plt.hist(bs_slope_reps, bins=50, density=True)\n",
    "_ = plt.xlabel('slope')\n",
    "_ = plt.ylabel('PDF')\n",
    "plt.show()"
   ]
  },
  {
   "cell_type": "markdown",
   "metadata": {},
   "source": [
    "### Plotting bootstrap regressions\n",
    "\n",
    "A nice way to visualize the variability we might expect in a linear regression is to plot the line we would get from each bootstrap replicate of the slope and intercept. We'll do this for the first 100 of our bootstrap replicates of the slope and intercept"
   ]
  },
  {
   "cell_type": "code",
   "execution_count": 28,
   "metadata": {},
   "outputs": [
    {
     "data": {
      "image/png": "[encoded data removed]",
      "text/plain": [
       "<Figure size 432x288 with 1 Axes>"
      ]
     },
     "metadata": {
      "needs_background": "light"
     },
     "output_type": "display_data"
    }
   ],
   "source": [
    "# Generate array of x-values for bootstrap lines: x\n",
    "x = np.array([0,100])\n",
    "\n",
    "# Plot the bootstrap lines\n",
    "for i in range(100):\n",
    "    _ = plt.plot(x, \n",
    "                 bs_slope_reps[i]*x + bs_intercept_reps[i],\n",
    "                 linewidth=0.5, alpha=0.2, color='red')\n",
    "\n",
    "# Plot the data\n",
    "_ = plt.plot(illiteracy, fertility, marker=\".\", linestyle=\"none\")\n",
    "\n",
    "# Label axes, set the margins, and show the plot\n",
    "_ = plt.xlabel('illiteracy')\n",
    "_ = plt.ylabel('fertility')\n",
    "plt.margins(0.02)\n",
    "plt.show()"
   ]
  },
  {
   "cell_type": "markdown",
   "metadata": {},
   "source": [
    "# Introduction to hypothesis testing\n",
    "\n",
    "how reasonable is it to observe our data if a model is true? This question is addressed by **hypothesis tests**. They are the icing on the inference cake. We carefully construct and test hypotheses using hacker statistics."
   ]
  },
  {
   "cell_type": "markdown",
   "metadata": {},
   "source": [
    "## Formulating and simulating a hypothesis\n",
    "\n",
    "\n",
    "> ### Hypothesis testing\n",
    "- Assessment of how reasonable the observed data are assuming a hypothesis is true\n",
    "\n",
    "> ### Null hypothesis\n",
    "- Another name for the hypothesis you are testing\n",
    "\n",
    "> ### Permutation\n",
    "- Random reordering of entries in an array"
   ]
  },
  {
   "cell_type": "markdown",
   "metadata": {},
   "source": [
    "### Generating a permutation sample\n",
    "\n",
    "permutation sampling is a great way to simulate the hypothesis that two variables have identical probability distributions. This is often a hypothesis you want to test, so we will write a function to generate a permutation sample from two data sets."
   ]
  },
  {
   "cell_type": "markdown",
   "metadata": {},
   "source": [
    "> Note: a permutation sample of two arrays having respectively `n1` and `n2` entries is constructed by concatenating the arrays together, scrambling the contents of the concatenated array, and then taking the first `n1` entries as the permutation sample of the first array and the last `n2` entries as the permutation sample of the second array."
   ]
  },
  {
   "cell_type": "code",
   "execution_count": 29,
   "metadata": {},
   "outputs": [],
   "source": [
    "def permutation_sample(data1, data2):\n",
    "    \"\"\"Generate a permutation sample from two data sets.\"\"\"\n",
    "\n",
    "    # Concatenate the data sets: data\n",
    "    data = np.concatenate((data1,data2))\n",
    "\n",
    "    # Permute the concatenated array: permuted_data\n",
    "    permuted_data = np.random.permutation(data)\n",
    "\n",
    "    # Split the permuted array into two: perm_sample_1, perm_sample_2\n",
    "    perm_sample_1 = permuted_data[:len(data1)]\n",
    "    perm_sample_2 = permuted_data[len(data1):]\n",
    "\n",
    "    return perm_sample_1, perm_sample_2"
   ]
  },
  {
   "cell_type": "markdown",
   "metadata": {},
   "source": [
    "### Visualizing permutation sampling\n",
    "\n",
    "To help see how permutation sampling works, we will generate permutation samples and look at them graphically.\n",
    "\n",
    "\n",
    "We will use the Sheffield Weather Station data again, this time considering the monthly rainfall in June (a dry month) and November (a wet month). We expect these might be differently distributed, so we will take permutation samples to see how their ECDFs _would look if_ they were identically distributed."
   ]
  },
  {
   "cell_type": "code",
   "execution_count": 30,
   "metadata": {},
   "outputs": [],
   "source": [
    "rain_june = np.array([ 66.2,  39.7,  76.4,  26.5,  11.2,  61.8,   6.1,  48.4,  89.2,\n",
    "       104. ,  34. ,  60.6,  57.1,  79.1,  90.9,  32.3,  63.8,  78.2,\n",
    "        27.5,  43.4,  30.1,  17.3,  77.5,  44.9,  92.2,  39.6,  79.4,\n",
    "        66.1,  53.5,  98.5,  20.8,  55.5,  39.6,  56. ,  65.1,  14.8,\n",
    "        13.2,  88.1,   8.4,  32.1,  19.6,  40.4,   2.2,  77.5, 105.4,\n",
    "        77.2,  38. ,  27.1, 111.8,  17.2,  26.7,  23.3,  77.2,  87.2,\n",
    "        27.7,  50.6,  60.3,  15.1,   6. ,  29.4,  39.3,  56.3,  80.4,\n",
    "        85.3,  68.4,  72.5,  13.3,  28.4,  14.7,  37.4,  49.5,  57.2,\n",
    "        85.9,  82.1,  31.8, 126.6,  30.7,  41.4,  33.9,  13.5,  99.1,\n",
    "        70.2,  91.8,  61.3,  13.7,  54.9,  62.5,  24.2,  69.4,  83.1,\n",
    "        44. ,  48.5,  11.9,  16.6,  66.4,  90. ,  34.9, 132.8,  33.4,\n",
    "       225. ,   7.6,  40.9,  76.5,  48. , 140. ,  55.9,  54.1,  46.4,\n",
    "        68.6,  52.2, 108.3,  14.6,  11.3,  29.8, 130.9, 152.4,  61. ,\n",
    "        46.6,  43.9,  30.9, 111.1,  68.5,  42.2,   9.8, 285.6,  56.7,\n",
    "       168.2,  41.2,  47.8, 166.6,  37.8,  45.4,  43.2])"
   ]
  },
  {
   "cell_type": "code",
   "execution_count": 31,
   "metadata": {},
   "outputs": [],
   "source": [
    "rain_november = np.array([ 83.6,  30.9,  62.2,  37. ,  41. , 160.2,  18.2, 122.4,  71.3,\n",
    "        44.2,  49.1,  37.6, 114.5,  28.8,  82.5,  71.9,  50.7,  67.7,\n",
    "       112. ,  63.6,  42.8,  57.2,  99.1,  86.4,  84.4,  38.1,  17.7,\n",
    "       102.2, 101.3,  58. ,  82. , 101.4,  81.4, 100.1,  54.6,  39.6,\n",
    "        57.5,  29.2,  48.8,  37.3, 115.4,  55.6,  62. ,  95. ,  84.2,\n",
    "       118.1, 153.2,  83.4, 104.7,  59. ,  46.4,  50. , 147.6,  76.8,\n",
    "        59.9, 101.8, 136.6, 173. ,  92.5,  37. ,  59.8, 142.1,   9.9,\n",
    "       158.2,  72.6,  28. , 112.9, 119.3, 199.2,  50.7,  44. , 170.7,\n",
    "        67.2,  21.4,  61.3,  15.6, 106. , 116.2,  42.3,  38.5, 132.5,\n",
    "        40.8, 147.5,  93.9,  71.4,  87.3, 163.7, 141.4,  62.6,  84.9,\n",
    "        28.8, 121.1,  28.6,  32.4, 112. ,  50. ,  96.9,  81.8,  70.4,\n",
    "       117.5,  41.2, 124.9,  78.2,  93. ,  53.5,  50.5,  42.6,  47.9,\n",
    "        73.1, 129.1,  56.9, 103.3,  60.5, 134.3,  93.1,  49.5,  48.2,\n",
    "       167.9,  27. , 111.1,  55.4,  36.2,  57.4,  66.8,  58.3,  60. ,\n",
    "       161.6, 112.7,  37.4, 110.6,  56.6,  95.8, 126.8])"
   ]
  },
  {
   "cell_type": "code",
   "execution_count": 32,
   "metadata": {},
   "outputs": [
    {
     "data": {
      "image/png": "[encoded data removed]",
      "text/plain": [
       "<Figure size 432x288 with 1 Axes>"
      ]
     },
     "metadata": {
      "needs_background": "light"
     },
     "output_type": "display_data"
    }
   ],
   "source": [
    "for _ in range(50):\n",
    "    # Generate permutation samples\n",
    "    perm_sample_1, perm_sample_2 = permutation_sample(rain_june, rain_november)\n",
    "\n",
    "\n",
    "    # Compute ECDFs\n",
    "    x_1, y_1 = ecdf(perm_sample_1)\n",
    "    x_2, y_2 = ecdf(perm_sample_2)\n",
    "\n",
    "    # Plot ECDFs of permutation sample\n",
    "    _ = plt.plot(x_1, y_1, marker='.', linestyle='none',\n",
    "                 color='red', alpha=0.02)\n",
    "    _ = plt.plot(x_2, y_2, marker='.', linestyle='none',\n",
    "                 color='blue', alpha=0.02)\n",
    "\n",
    "# Create and plot ECDFs from original data\n",
    "x_1, y_1 = ecdf(rain_june)\n",
    "x_2, y_2 = ecdf(rain_november)\n",
    "_ = plt.plot(x_1, y_1, marker='.', linestyle='none', color='red')\n",
    "_ = plt.plot(x_2, y_2, marker='.', linestyle='none', color='blue')\n",
    "\n",
    "# Label axes, set margin, and show plot\n",
    "plt.margins(0.02)\n",
    "_ = plt.xlabel('monthly rainfall (mm)')\n",
    "_ = plt.ylabel('ECDF')\n",
    "plt.show()"
   ]
  },
  {
   "cell_type": "markdown",
   "metadata": {},
   "source": [
    "> Note: The permutation samples ECDFs overlap and give a purple haze. None of the ECDFs from the permutation samples overlap with the observed data, suggesting that the hypothesis is not commensurate with the data. June and November rainfall are not identically distributed."
   ]
  },
  {
   "cell_type": "markdown",
   "metadata": {},
   "source": [
    "## Test statistics and p-values\n",
    "\n",
    "> ### Hypothesis testing\n",
    "- Assessment of how reasonable the observed data are assuming a hypothesis is true\n",
    "\n",
    "\n",
    "> ### Test statistic\n",
    "- A single number that can be computed from observed data and from data you simulate under the null hypothesis\n",
    "- It serves as a basis of comparison between the two\n",
    "\n",
    "> ### p-value\n",
    "- The probability of obtaining a value of your test statistic that is at least as extreme as what was observed, under the assumption the null hypothesis is true\n",
    "- **NOT** the probability that the null hypothesis is true\n",
    "\n",
    "> ### Statistical signicance\n",
    "- Determined by the smallness of a p-value\n",
    "\n",
    "> ### Null hypothesis signicance testing (NHST)\n",
    "- Another name for Hypothesis testing"
   ]
  },
  {
   "cell_type": "markdown",
   "metadata": {},
   "source": [
    "### Test statistics\n",
    "\n",
    "When performing hypothesis tests, the choice of test statistic should be pertinent to the question you are seeking to answer in your hypothesis test.\n",
    "\n",
    "> Important: The most important thing to consider is: What are you asking?"
   ]
  },
  {
   "cell_type": "markdown",
   "metadata": {},
   "source": [
    "### p-value\n",
    "\n",
    "The p-value is generally a measure of the probability of observing a test statistic equally or more extreme than the one you observed, given that the null hypothesis is true."
   ]
  },
  {
   "cell_type": "markdown",
   "metadata": {},
   "source": [
    "### Generating permutation replicates\n",
    "\n",
    "a permutation replicate is a single value of a statistic computed from a permutation sample.\n",
    "\n",
    "As the `draw_bs_reps()` function is useful for generating bootstrap replicates, it is useful to have a similar function, `draw_perm_reps()`, to generate permutation replicates."
   ]
  },
  {
   "cell_type": "code",
   "execution_count": 33,
   "metadata": {},
   "outputs": [],
   "source": [
    "def draw_perm_reps(data_1, data_2, func, size=1):\n",
    "    \"\"\"Generate multiple permutation replicates.\"\"\"\n",
    "\n",
    "    # Initialize array of replicates: perm_replicates\n",
    "    perm_replicates = np.empty(size)\n",
    "\n",
    "    for i in range(size):\n",
    "        # Generate permutation sample\n",
    "        perm_sample_1, perm_sample_2 = permutation_sample(data_1, data_2)\n",
    "\n",
    "        # Compute the test statistic\n",
    "        perm_replicates[i] = func(perm_sample_1,perm_sample_2)\n",
    "\n",
    "    return perm_replicates"
   ]
  },
  {
   "cell_type": "markdown",
   "metadata": {},
   "source": [
    "### Look before you leap: EDA before hypothesis testing\n",
    "\n",
    "Kleinteich and Gorb (_Sci._ Rep., 4, 5225, 2014) performed an interesting experiment with South American horned frogs. They held a plate connected to a force transducer, along with a bait fly, in front of them. They then measured the impact force and adhesive force of the frog's tongue when it struck the target.\n",
    "\n",
    "Frog A is an adult and Frog B is a juvenile. The researchers measured the impact force of 20 strikes for each frog. we will test the hypothesis that the two frogs have the same distribution of impact forces. it is important to do EDA first! Let's make a bee swarm plot for the data. \n",
    "\n",
    "They are stored in a Pandas data frame, `frogs`, where column `ID` is the identity of the frog and column `impact_force` is the impact force in Newtons (N)."
   ]
  },
  {
   "cell_type": "code",
   "execution_count": 34,
   "metadata": {},
   "outputs": [
    {
     "data": {
      "text/html": [
       "<div>\n",
       "<style scoped>\n",
       "    .dataframe tbody tr th:only-of-type {\n",
       "        vertical-align: middle;\n",
       "    }\n",
       "\n",
       "    .dataframe tbody tr th {\n",
       "        vertical-align: top;\n",
       "    }\n",
       "\n",
       "    .dataframe thead th {\n",
       "        text-align: right;\n",
       "    }\n",
       "</style>\n",
       "<table border=\"1\" class=\"dataframe\">\n",
       "  <thead>\n",
       "    <tr style=\"text-align: right;\">\n",
       "      <th></th>\n",
       "      <th>ID</th>\n",
       "      <th>impact_force</th>\n",
       "    </tr>\n",
       "  </thead>\n",
       "  <tbody>\n",
       "    <tr>\n",
       "      <th>0</th>\n",
       "      <td>A</td>\n",
       "      <td>1.612</td>\n",
       "    </tr>\n",
       "    <tr>\n",
       "      <th>1</th>\n",
       "      <td>A</td>\n",
       "      <td>0.605</td>\n",
       "    </tr>\n",
       "    <tr>\n",
       "      <th>2</th>\n",
       "      <td>A</td>\n",
       "      <td>0.327</td>\n",
       "    </tr>\n",
       "    <tr>\n",
       "      <th>3</th>\n",
       "      <td>A</td>\n",
       "      <td>0.946</td>\n",
       "    </tr>\n",
       "    <tr>\n",
       "      <th>4</th>\n",
       "      <td>A</td>\n",
       "      <td>0.541</td>\n",
       "    </tr>\n",
       "  </tbody>\n",
       "</table>\n",
       "</div>"
      ],
      "text/plain": [
       "  ID  impact_force\n",
       "0  A         1.612\n",
       "1  A         0.605\n",
       "2  A         0.327\n",
       "3  A         0.946\n",
       "4  A         0.541"
      ]
     },
     "execution_count": 34,
     "metadata": {},
     "output_type": "execute_result"
    }
   ],
   "source": [
    "frogs = pd.read_csv(\"datasets/frogs.csv\")\n",
    "frogs.head()"
   ]
  },
  {
   "cell_type": "code",
   "execution_count": 35,
   "metadata": {},
   "outputs": [
    {
     "data": {
      "image/png": "[encoded data removed]",
      "text/plain": [
       "<Figure size 432x288 with 1 Axes>"
      ]
     },
     "metadata": {
      "needs_background": "light"
     },
     "output_type": "display_data"
    }
   ],
   "source": [
    "# Make bee swarm plot\n",
    "_ = sns.swarmplot(data=frogs, x=\"ID\", y=\"impact_force\")\n",
    "\n",
    "# Label axes\n",
    "_ = plt.xlabel('frog')\n",
    "_ = plt.ylabel('impact force (N)')\n",
    "\n",
    "# Show the plot\n",
    "plt.show()\n"
   ]
  },
  {
   "cell_type": "markdown",
   "metadata": {},
   "source": [
    "Eyeballing it, it does not look like they come from the same distribution. Frog A, the adult, has three or four very hard strikes, and Frog B, the juvenile, has a couple weak ones. However, it is possible that with only 20 samples it might be too difficult to tell if they have difference distributions, so we should proceed with the hypothesis test."
   ]
  },
  {
   "cell_type": "markdown",
   "metadata": {},
   "source": [
    "### Permutation test on frog data"
   ]
  },
  {
   "cell_type": "code",
   "execution_count": 36,
   "metadata": {},
   "outputs": [
    {
     "data": {
      "text/plain": [
       "0.70735"
      ]
     },
     "execution_count": 36,
     "metadata": {},
     "output_type": "execute_result"
    }
   ],
   "source": [
    "frogs[frogs.ID==\"A\"].impact_force.mean()"
   ]
  },
  {
   "cell_type": "code",
   "execution_count": 37,
   "metadata": {},
   "outputs": [
    {
     "data": {
      "text/plain": [
       "0.4191000000000001"
      ]
     },
     "execution_count": 37,
     "metadata": {},
     "output_type": "execute_result"
    }
   ],
   "source": [
    "frogs[frogs.ID==\"B\"].impact_force.mean()"
   ]
  },
  {
   "cell_type": "code",
   "execution_count": 38,
   "metadata": {},
   "outputs": [
    {
     "data": {
      "text/plain": [
       "0.28824999999999995"
      ]
     },
     "execution_count": 38,
     "metadata": {},
     "output_type": "execute_result"
    }
   ],
   "source": [
    "frogs[frogs.ID==\"A\"].impact_force.mean() - frogs[frogs.ID==\"B\"].impact_force.mean()"
   ]
  },
  {
   "cell_type": "markdown",
   "metadata": {},
   "source": [
    "The average strike force of Frog A was 0.71 Newtons (N), and that of Frog B was 0.42 N for a difference of 0.29 N. It is possible the frogs strike with the same force and this observed difference was by chance."
   ]
  },
  {
   "cell_type": "code",
   "execution_count": 39,
   "metadata": {},
   "outputs": [],
   "source": [
    "force_a = np.array([1.612, 0.605, 0.327, 0.946, 0.541, 1.539, 0.529, 0.628, 1.453,\n",
    "       0.297, 0.703, 0.269, 0.751, 0.245, 1.182, 0.515, 0.435, 0.383,\n",
    "       0.457, 0.73 ])\n",
    "force_b = np.array([0.172, 0.142, 0.037, 0.453, 0.355, 0.022, 0.502, 0.273, 0.72 ,\n",
    "       0.582, 0.198, 0.198, 0.597, 0.516, 0.815, 0.402, 0.605, 0.711,\n",
    "       0.614, 0.468])"
   ]
  },
  {
   "cell_type": "markdown",
   "metadata": {},
   "source": [
    " We will compute the probability of getting at least a 0.29 N difference in mean strike force under the hypothesis that the distributions of strike forces for the two frogs are identical. We use a permutation test with a test statistic of the difference of means to test this hypothesis."
   ]
  },
  {
   "cell_type": "code",
   "execution_count": 40,
   "metadata": {},
   "outputs": [],
   "source": [
    "def diff_of_means(data_1, data_2):\n",
    "    \"\"\"Difference in means of two arrays.\"\"\"\n",
    "\n",
    "    # The difference of means of data_1, data_2: diff\n",
    "    diff = np.mean(data_1) - np.mean(data_2)\n",
    "\n",
    "    return diff\n"
   ]
  },
  {
   "cell_type": "code",
   "execution_count": 41,
   "metadata": {},
   "outputs": [
    {
     "data": {
      "text/plain": [
       "0.28825000000000006"
      ]
     },
     "execution_count": 41,
     "metadata": {},
     "output_type": "execute_result"
    }
   ],
   "source": [
    "\n",
    "# Compute difference of mean impact force from experiment: empirical_diff_means\n",
    "empirical_diff_means = diff_of_means(force_a, force_b)\n",
    "\n",
    "empirical_diff_means"
   ]
  },
  {
   "cell_type": "code",
   "execution_count": 42,
   "metadata": {},
   "outputs": [
    {
     "name": "stdout",
     "output_type": "stream",
     "text": [
      "p-value = 0.0058\n"
     ]
    }
   ],
   "source": [
    "\n",
    "# Draw 10,000 permutation replicates: perm_replicates\n",
    "perm_replicates = draw_perm_reps(force_a, force_b,\n",
    "                                 diff_of_means, size=10000)\n",
    "\n",
    "# Compute p-value: p\n",
    "p = np.sum(perm_replicates >= empirical_diff_means) / len(perm_replicates)\n",
    "\n",
    "# Print the result\n",
    "print('p-value =', p)"
   ]
  },
  {
   "cell_type": "markdown",
   "metadata": {},
   "source": [
    "The p-value tells us that there is about a 0.6% chance that we would get the difference of means observed in the experiment if frogs were exactly the same. A p-value below 0.01 is typically said to be \"statistically significant,\" but: \n",
    "\n",
    "> Warning: Warning! warning! warning! We have computed a p-value; it is a number. I encourage you not to distill it to a yes-or-no phrase. p = 0.006 and p = 0.000000006 are both said to be \"statistically significant,\" but they are definitely not the same!"
   ]
  },
  {
   "cell_type": "markdown",
   "metadata": {},
   "source": [
    "## Bootstrap hypothesis tests\n",
    "\n",
    "\n",
    "> Pipeline for hypothesis testing\n",
    "- Clearly state the null hypothesis\n",
    "- Define your test statistic\n",
    "- Generate many sets of simulated data assuming the null hypothesis is true\n",
    "- Compute the test statistic for each simulated data set\n",
    "- The p-value is the fraction of your simulated data sets for which the test statistic is at least as extreme as for the real data"
   ]
  },
  {
   "cell_type": "markdown",
   "metadata": {},
   "source": [
    "### A one-sample bootstrap hypothesis test\n",
    "\n",
    "Another juvenile frog was studied, Frog C, and we want to see if Frog B and Frog C have similar impact forces. Unfortunately, we do not have Frog C's impact forces available, but we know they have a mean of 0.55 N. Because we don't have the original data, we cannot do a permutation test, and we cannot assess the hypothesis that the forces from Frog B and Frog C come from the same distribution. We will therefore test another, less restrictive hypothesis: The mean strike force of Frog B is equal to that of Frog C.\n",
    "\n",
    "To set up the bootstrap hypothesis test, we will take the mean as our test statistic. Our goal is to calculate the probability of getting a mean impact force less than or equal to what was observed for Frog B _if the hypothesis that the true mean of Frog B's impact forces is equal to that of Frog C is true_. We will first translate all of the data of Frog B such that the mean is 0.55 N. This involves adding the mean force of Frog C and subtracting the mean force of Frog B from each measurement of Frog B. This leaves other properties of Frog B's distribution, such as the variance, unchanged."
   ]
  },
  {
   "cell_type": "code",
   "execution_count": 43,
   "metadata": {},
   "outputs": [
    {
     "name": "stdout",
     "output_type": "stream",
     "text": [
      "p =  0.0046\n"
     ]
    }
   ],
   "source": [
    "# Make an array of translated impact forces: translated_force_b\n",
    "translated_force_b = force_b - np.mean(force_b) + 0.55\n",
    "\n",
    "# Take bootstrap replicates of Frog B's translated impact forces: bs_replicates\n",
    "bs_replicates = draw_bs_reps(translated_force_b, np.mean, 10000)\n",
    "\n",
    "# Compute fraction of replicates that are less than the observed Frog B force: p\n",
    "p = np.sum(bs_replicates <= np.mean(force_b)) / 10000\n",
    "\n",
    "# Print the p-value\n",
    "print('p = ', p)\n"
   ]
  },
  {
   "cell_type": "markdown",
   "metadata": {},
   "source": [
    "The low p-value suggests that the null hypothesis that Frog B and Frog C have the same mean impact force is false."
   ]
  },
  {
   "cell_type": "markdown",
   "metadata": {},
   "source": [
    "### A two-sample bootstrap hypothesis test for difference of means\n",
    "\n",
    "We now want to test the hypothesis that Frog A and Frog B have the same mean impact force, but not necessarily the same distribution, which is also impossible with a permutation test.\n",
    "\n",
    "To do the two-sample bootstrap test, we shift both arrays to have the same mean, since we are simulating the hypothesis that their means are, in fact, equal. We then draw bootstrap samples out of the shifted arrays and compute the difference in means. This constitutes a bootstrap replicate, and we generate many of them. The p-value is the fraction of replicates with a difference in means greater than or equal to what was observed."
   ]
  },
  {
   "cell_type": "code",
   "execution_count": 44,
   "metadata": {},
   "outputs": [],
   "source": [
    "forces_concat = np.array([1.612, 0.605, 0.327, 0.946, 0.541, 1.539, 0.529, 0.628, 1.453,\n",
    "       0.297, 0.703, 0.269, 0.751, 0.245, 1.182, 0.515, 0.435, 0.383,\n",
    "       0.457, 0.73 , 0.172, 0.142, 0.037, 0.453, 0.355, 0.022, 0.502,\n",
    "       0.273, 0.72 , 0.582, 0.198, 0.198, 0.597, 0.516, 0.815, 0.402,\n",
    "       0.605, 0.711, 0.614, 0.468])"
   ]
  },
  {
   "cell_type": "code",
   "execution_count": 45,
   "metadata": {},
   "outputs": [],
   "source": [
    "empirical_diff_means = 0.28825000000000006"
   ]
  },
  {
   "cell_type": "markdown",
   "metadata": {},
   "source": [
    "# Hypothesis test examples\n",
    "\n",
    "Hypothesis testing can be a bit tricky. We need to define the null hypothesis, figure out how to simulate it, and define clearly what it means to be \"more extreme\" in order to compute the p-value. Like any skill, practice makes perfect."
   ]
  },
  {
   "cell_type": "markdown",
   "metadata": {},
   "source": [
    "## A/B testing\n",
    "\n",
    "> ### A/B test\n",
    "- Used by organizations to see if a strategy change gives a better result\n",
    "\n",
    "\n",
    "> ### Null hypothesis of an A/B test\n",
    "- The test statistic is impervious to the change"
   ]
  },
  {
   "cell_type": "markdown",
   "metadata": {},
   "source": [
    "### The vote for the Civil Rights Act in 1964\n",
    "\n",
    "\n",
    "The Civil Rights Act of 1964 was one of the most important pieces of legislation ever passed in the USA. Excluding \"present\" and \"abstain\" votes, 153 House Democrats and 136 Republicans voted yea. However, 91 Democrats and 35 Republicans voted nay. Did party affiliation make a difference in the vote?\n",
    "\n",
    "\n",
    "To answer this question, we will evaluate the hypothesis that the party of a House member has no bearing on his or her vote. We will use the fraction of Democrats voting in favor as our test statistic and evaluate the probability of observing a fraction of Democrats voting in favor at least as small as the observed fraction of 153/244. (That's right, at least as _small as_. In 1964, it was the Democrats who were less progressive on civil rights issues.) To do this, we will permute the party labels of the House voters and then arbitrarily divide them into \"Democrats\" and \"Republicans\" and compute the fraction of Democrats voting yea."
   ]
  },
  {
   "cell_type": "code",
   "execution_count": 46,
   "metadata": {},
   "outputs": [
    {
     "name": "stdout",
     "output_type": "stream",
     "text": [
      "p-value = 0.0002\n"
     ]
    }
   ],
   "source": [
    "# Construct arrays of data: dems, reps\n",
    "dems = np.array([True] * 153 + [False] * 91)\n",
    "reps = np.array([True]*136 + [False]*35)\n",
    "\n",
    "def frac_yea_dems(dems, reps):\n",
    "    \"\"\"Compute fraction of Democrat yea votes.\"\"\"\n",
    "    frac = np.sum(dems) / len(dems)\n",
    "    return frac\n",
    "\n",
    "# Acquire permutation samples: perm_replicates\n",
    "perm_replicates = draw_perm_reps(dems, reps, frac_yea_dems, size=10000)\n",
    "\n",
    "# Compute and print p-value: p\n",
    "p = np.sum(perm_replicates <= 153/244) / len(perm_replicates)\n",
    "print('p-value =', p)"
   ]
  },
  {
   "cell_type": "markdown",
   "metadata": {},
   "source": [
    "This small p-value suggests that party identity had a lot to do with the voting. Importantly, the South had a higher fraction of Democrat representatives, and consequently also a more racist bias."
   ]
  },
  {
   "cell_type": "markdown",
   "metadata": {},
   "source": [
    "### A time-on-website analog\n",
    "\n",
    "It turns out that we already did a hypothesis test analogous to an A/B test where we are interested in how much time is spent on the website before and after an ad campaign. The frog tongue force (a continuous quantity like time on the website) is an analog. \"Before\" = Frog A and \"after\" = Frog B. Let's practice this again with something that actually is a before/after scenario.\n",
    "\n",
    "We return to the no-hitter data set. In 1920, Major League Baseball implemented important rule changes that ended the so-called dead ball era. Importantly, the pitcher was no longer allowed to spit on or scuff the ball, an activity that greatly favors pitchers. In this problem we will perform an A/B test to determine if these rule changes resulted in a slower rate of no-hitters (i.e., longer average time between no-hitters) using the difference in mean inter-no-hitter time as our test statistic. The inter-no-hitter times for the respective eras are stored in the arrays `nht_dead` and `nht_live`, where \"nht\" is meant to stand for \"no-hitter time.\""
   ]
  },
  {
   "cell_type": "code",
   "execution_count": 47,
   "metadata": {},
   "outputs": [],
   "source": [
    "nht_dead = np.array([  -1,  894,   10,  130,    1,  934,   29,    6,  485,  254,  372,\n",
    "         81,  191,  355,  180,  286,   47,  269,  361,  173,  246,  492,\n",
    "        462, 1319,   58,  297,   31, 2970,  640,  237,  434,  570,   77,\n",
    "        271,  563, 3365,   89,    0,  379,  221,  479,  367,  628,  843,\n",
    "       1613, 1101,  215,  684,  814,  278,  324,  161,  219,  545,  715,\n",
    "        966,  624,   29,  450,  107,   20,   91, 1325,  124, 1468,  104,\n",
    "       1309,  429,   62, 1878, 1104,  123,  251,   93,  188,  983,  166,\n",
    "         96,  702,   23,  524,   26,  299,   59,   39,   12,    2,  308,\n",
    "       1114,  813,  887])"
   ]
  },
  {
   "cell_type": "code",
   "execution_count": 48,
   "metadata": {},
   "outputs": [],
   "source": [
    "nht_live = np.array([ 645, 2088,   42, 2090,   11,  886, 1665, 1084, 2900, 2432,  750,\n",
    "       4021, 1070, 1765, 1322,   26,  548, 1525,   77, 2181, 2752,  127,\n",
    "       2147,  211,   41, 1575,  151,  479,  697,  557, 2267,  542,  392,\n",
    "         73,  603,  233,  255,  528,  397, 1529, 1023, 1194,  462,  583,\n",
    "         37,  943,  996,  480, 1497,  717,  224,  219, 1531,  498,   44,\n",
    "        288,  267,  600,   52,  269, 1086,  386,  176, 2199,  216,   54,\n",
    "        675, 1243,  463,  650,  171,  327,  110,  774,  509,    8,  197,\n",
    "        136,   12, 1124,   64,  380,  811,  232,  192,  731,  715,  226,\n",
    "        605,  539, 1491,  323,  240,  179,  702,  156,   82, 1397,  354,\n",
    "        778,  603, 1001,  385,  986,  203,  149,  576,  445,  180, 1403,\n",
    "        252,  675, 1351, 2983, 1568,   45,  899, 3260, 1025,   31,  100,\n",
    "       2055, 4043,   79,  238, 3931, 2351,  595,  110,  215,    0,  563,\n",
    "        206,  660,  242,  577,  179,  157,  192,  192, 1848,  792, 1693,\n",
    "         55,  388,  225, 1134, 1172, 1555,   31, 1582, 1044,  378, 1687,\n",
    "       2915,  280,  765, 2819,  511, 1521,  745, 2491,  580, 2072, 6450,\n",
    "        578,  745, 1075, 1103, 1549, 1520,  138, 1202,  296,  277,  351,\n",
    "        391,  950,  459,   62, 1056, 1128,  139,  420,   87,   71,  814,\n",
    "        603, 1349,  162, 1027,  783,  326,  101,  876,  381,  905,  156,\n",
    "        419,  239,  119,  129,  467])"
   ]
  },
  {
   "cell_type": "code",
   "execution_count": 49,
   "metadata": {},
   "outputs": [
    {
     "name": "stdout",
     "output_type": "stream",
     "text": [
      "p-val = 0.0002\n"
     ]
    }
   ],
   "source": [
    "# Compute the observed difference in mean inter-no-hitter times: nht_diff_obs\n",
    "nht_diff_obs = diff_of_means(nht_dead, nht_live)\n",
    "\n",
    "# Acquire 10,000 permutation replicates of difference in mean no-hitter time: perm_replicates\n",
    "perm_replicates = draw_perm_reps(nht_dead, nht_live, diff_of_means, size=10000)\n",
    "\n",
    "\n",
    "# Compute and print the p-value: p\n",
    "p = sum(perm_replicates <= nht_diff_obs)/len(perm_replicates)\n",
    "print('p-val =', p)"
   ]
  },
  {
   "cell_type": "markdown",
   "metadata": {},
   "source": [
    "our p-value is 0.0001, which means that only one out of your 10,000 replicates had a result as extreme as the actual difference between the dead ball and live ball eras. This suggests strong statistical significance. \n",
    "\n",
    "> Warning: Watch out, though, we could very well have gotten zero replicates that were as extreme as the observed value. This just means that the p-value is quite small, almost certainly smaller than 0.001."
   ]
  },
  {
   "cell_type": "code",
   "execution_count": 50,
   "metadata": {},
   "outputs": [
    {
     "data": {
      "image/png": "[encoded data removed]",
      "text/plain": [
       "<Figure size 432x288 with 1 Axes>"
      ]
     },
     "metadata": {
      "needs_background": "light"
     },
     "output_type": "display_data"
    }
   ],
   "source": [
    "x_dead, y_dead = ecdf(nht_dead)\n",
    "x_live, y_live = ecdf(nht_live)\n",
    "\n",
    "_ = plt.plot(x_dead, y_dead)\n",
    "_ = plt.plot(x_live, y_live)\n",
    "_ = plt.xlabel(\"non hitter times\")\n",
    "_ = plt.legend([\"nht dead\", \"nht live\"])\n",
    "_ = plt.ylabel(\"CDF\")\n",
    "plt.show()"
   ]
  },
  {
   "cell_type": "markdown",
   "metadata": {},
   "source": [
    "## Test of correlation\n",
    "\n",
    "> ### Hypothesis test of correlation\n",
    "- Posit null hypothesis:the two variables are completely uncorrelated\n",
    "- Simulate data assuming null hypothesis is true\n",
    "- Use Pearson correlation, $\\rho$, as test statistic\n",
    "- Compute p-value as fraction of replicates that have ρ at least as large as observed."
   ]
  },
  {
   "cell_type": "markdown",
   "metadata": {},
   "source": [
    "### Simulating a null hypothesis concerning correlation\n",
    "\n",
    "The observed correlation between female illiteracy and fertility in the data set of 162 countries may just be by chance; the fertility of a given country may actually be totally independent of its illiteracy. We will test this null hypothesis.\n",
    "\n",
    "To do the test, we need to simulate the data assuming the null hypothesis is true. The best way to it is to Do a permutation test: Permute the illiteracy values but leave the fertility values fixed to generate a new set of (illiteracy, fertility) data."
   ]
  },
  {
   "cell_type": "markdown",
   "metadata": {},
   "source": [
    "### Hypothesis test on Pearson correlation\n",
    "\n",
    "The observed correlation between female illiteracy and fertility may just be by chance; the fertility of a given country may actually be totally independent of its illiteracy. We will test this hypothesis. To do so, we'll permute the illiteracy values but leave the fertility values fixed. This simulates the hypothesis that they are totally independent of each other. For each permutation, we'll compute the Pearson correlation coefficient and assess how many of the permutation replicates have a Pearson correlation coefficient greater than the observed one."
   ]
  },
  {
   "cell_type": "code",
   "execution_count": 51,
   "metadata": {},
   "outputs": [
    {
     "name": "stdout",
     "output_type": "stream",
     "text": [
      "p-val = 0.0\n"
     ]
    }
   ],
   "source": [
    "# Compute observed correlation: r_obs\n",
    "r_obs = pearson_r(illiteracy, fertility)\n",
    "\n",
    "# Initialize permutation replicates: perm_replicates\n",
    "perm_replicates = np.empty(10000)\n",
    "\n",
    "# Draw replicates\n",
    "for i in range(10000):\n",
    "    # Permute illiteracy measurments: illiteracy_permuted\n",
    "    illiteracy_permuted = np.random.permutation(illiteracy)\n",
    "\n",
    "    # Compute Pearson correlation\n",
    "    perm_replicates[i] = pearson_r(illiteracy_permuted, fertility)\n",
    "\n",
    "# Compute p-value: p\n",
    "p = np.sum(perm_replicates >= r_obs) / len(perm_replicates)\n",
    "print('p-val =', p)"
   ]
  },
  {
   "cell_type": "markdown",
   "metadata": {},
   "source": [
    "We got a p-value of zero. In hacker statistics, this means that the p-value is very low, since we never got a single replicate in the 10,000 we took that had a Pearson correlation greater than the observed one. we could try increasing the number of replicates you take to continue to move the upper bound on the p-value lower and lower."
   ]
  },
  {
   "cell_type": "markdown",
   "metadata": {},
   "source": [
    "### Do neonicotinoid insecticides have unintended consequences?\n",
    "\n",
    "We will investigate the effects of neonicotinoid insecticides on bee reproduction. These insecticides are very widely used in the United States to combat aphids and other pests that damage plants.\n",
    "\n",
    "In a recent study, Straub, et al. ([_Proc. Roy. Soc. B, 2016_](http://dx.doi.org/10.1098/rspb.2016.0506)) investigated the effects of neonicotinoids on the sperm of pollinating bees. In this and the next exercise, you will study how the pesticide treatment affected the count of live sperm per half milliliter of semen.\n",
    "\n",
    "First, we will do EDA, as usual. Plot ECDFs of the alive sperm count for untreated bees (stored in the Numpy array `control`) and bees treated with pesticide (stored in the Numpy array `treated`)."
   ]
  },
  {
   "cell_type": "code",
   "execution_count": 52,
   "metadata": {},
   "outputs": [],
   "source": [
    "control = np.array([ 4.159234,  4.408002,  0.172812,  3.498278,  3.104912,  5.164174,\n",
    "        6.615262,  4.633066,  0.170408,  2.65    ,  0.0875  ,  1.997148,\n",
    "        6.92668 ,  4.574932,  3.896466,  5.209814,  3.70625 ,  0.      ,\n",
    "        4.62545 ,  3.01444 ,  0.732652,  0.4     ,  6.518382,  5.225   ,\n",
    "        6.218742,  6.840358,  1.211308,  0.368252,  3.59937 ,  4.212158,\n",
    "        6.052364,  2.115532,  6.60413 ,  5.26074 ,  6.05695 ,  6.481172,\n",
    "        3.171522,  3.057228,  0.218808,  5.215112,  4.465168,  2.28909 ,\n",
    "        3.732572,  2.17087 ,  1.834326,  6.074862,  5.841978,  8.524892,\n",
    "        4.698492,  2.965624,  2.324206,  3.409412,  4.830726,  0.1     ,\n",
    "        0.      ,  4.101432,  3.478162,  1.009688,  4.999296,  4.32196 ,\n",
    "        0.299592,  3.606032,  7.54026 ,  4.284024,  0.057494,  6.036668,\n",
    "        2.924084,  4.150144,  1.256926,  4.666502,  4.806594,  2.52478 ,\n",
    "        2.027654,  2.52283 ,  4.735598,  2.033236,  0.      ,  6.177294,\n",
    "        2.601834,  3.544408,  3.6045  ,  5.520346,  4.80698 ,  3.002478,\n",
    "        3.559816,  7.075844, 10.      ,  0.139772,  6.17171 ,  3.201232,\n",
    "        8.459546,  0.17857 ,  7.088276,  5.496662,  5.415086,  1.932282,\n",
    "        3.02838 ,  7.47996 ,  1.86259 ,  7.838498,  2.242718,  3.292958,\n",
    "        6.363644,  4.386898,  8.47533 ,  4.156304,  1.463956,  4.533628,\n",
    "        5.573922,  1.29454 ,  7.547504,  3.92466 ,  5.820258,  4.118522,\n",
    "        4.125   ,  2.286698,  0.591882,  1.273124,  0.      ,  0.      ,\n",
    "        0.      , 12.22502 ,  7.601604,  5.56798 ,  1.679914,  8.77096 ,\n",
    "        5.823942,  0.258374,  0.      ,  5.899236,  5.486354,  2.053148,\n",
    "        3.25541 ,  2.72564 ,  3.364066,  2.43427 ,  5.282548,  3.963666,\n",
    "        0.24851 ,  0.347916,  4.046862,  5.461436,  4.066104,  0.      ,\n",
    "        0.065   ])"
   ]
  },
  {
   "cell_type": "code",
   "execution_count": 53,
   "metadata": {},
   "outputs": [],
   "source": [
    "treated = np.array([1.342686, 1.058476, 3.793784, 0.40428 , 4.528388, 2.142966,\n",
    "       3.937742, 0.1375  , 6.919164, 0.      , 3.597812, 5.196538,\n",
    "       2.78955 , 2.3229  , 1.090636, 5.323916, 1.021618, 0.931836,\n",
    "       2.78    , 0.412202, 1.180934, 2.8674  , 0.      , 0.064354,\n",
    "       3.008348, 0.876634, 0.      , 4.971712, 7.280658, 4.79732 ,\n",
    "       2.084956, 3.251514, 1.9405  , 1.566192, 0.58894 , 5.219658,\n",
    "       0.977976, 3.124584, 1.297564, 1.433328, 4.24337 , 0.880964,\n",
    "       2.376566, 3.763658, 1.918426, 3.74    , 3.841726, 4.69964 ,\n",
    "       4.386876, 0.      , 1.127432, 1.845452, 0.690314, 4.185602,\n",
    "       2.284732, 7.237594, 2.185148, 2.799124, 3.43218 , 0.63354 ,\n",
    "       1.142496, 0.586   , 2.372858, 1.80032 , 3.329306, 4.028804,\n",
    "       3.474156, 7.508752, 2.032824, 1.336556, 1.906496, 1.396046,\n",
    "       2.488104, 4.759114, 1.07853 , 3.19927 , 3.814252, 4.275962,\n",
    "       2.817056, 0.552198, 3.27194 , 5.11525 , 2.064628, 0.      ,\n",
    "       3.34101 , 6.177322, 0.      , 3.66415 , 2.352582, 1.531696])"
   ]
  },
  {
   "cell_type": "code",
   "execution_count": 54,
   "metadata": {},
   "outputs": [
    {
     "data": {
      "image/png": "[encoded data removed]",
      "text/plain": [
       "<Figure size 432x288 with 1 Axes>"
      ]
     },
     "metadata": {
      "needs_background": "light"
     },
     "output_type": "display_data"
    }
   ],
   "source": [
    "# Compute x,y values for ECDFs\n",
    "x_control, y_control = ecdf(control)\n",
    "x_treated, y_treated = ecdf(treated)\n",
    "\n",
    "# Plot the ECDFs\n",
    "plt.plot(x_control, y_control, marker='.', linestyle='none')\n",
    "plt.plot(x_treated, y_treated, marker='.', linestyle='none')\n",
    "\n",
    "# Set the margins\n",
    "plt.margins(0.02)\n",
    "\n",
    "# Add a legend\n",
    "plt.legend(('control', 'treated'), loc='lower right')\n",
    "\n",
    "# Label axes and show plot\n",
    "plt.xlabel('millions of alive sperm per mL')\n",
    "plt.ylabel('ECDF')\n",
    "plt.show()\n"
   ]
  },
  {
   "cell_type": "markdown",
   "metadata": {},
   "source": [
    "The ECDFs show a pretty clear difference between the treatment and control; treated bees have fewer alive sperm. Let's now do a hypothesis test."
   ]
  },
  {
   "cell_type": "markdown",
   "metadata": {},
   "source": [
    "### Bootstrap hypothesis test on bee sperm counts\n",
    "\n",
    "We will test the following hypothesis: On average, male bees treated with neonicotinoid insecticide have the same number of active sperm per milliliter of semen than do untreated male bees. We will use the difference of means as the test statistic."
   ]
  },
  {
   "cell_type": "code",
   "execution_count": 55,
   "metadata": {},
   "outputs": [
    {
     "name": "stdout",
     "output_type": "stream",
     "text": [
      "p-value = 0.0\n"
     ]
    }
   ],
   "source": [
    "# Compute the difference in mean sperm count: diff_means\n",
    "diff_means = np.mean(control) - np.mean(treated)\n",
    "\n",
    "# Compute mean of pooled data: mean_count\n",
    "mean_count = np.mean(np.concatenate((control, treated)))\n",
    "\n",
    "# Generate shifted data sets\n",
    "control_shifted = control - np.mean(control) + mean_count\n",
    "treated_shifted = treated - np.mean(treated) + mean_count\n",
    "\n",
    "# Generate bootstrap replicates\n",
    "bs_reps_control = draw_bs_reps(control_shifted,\n",
    "                       np.mean, size=10000)\n",
    "bs_reps_treated = draw_bs_reps(treated_shifted,\n",
    "                       np.mean, size=10000)\n",
    "\n",
    "# Get replicates of difference of means: bs_replicates\n",
    "bs_replicates = bs_reps_control - bs_reps_treated\n",
    "\n",
    "# Compute and print p-value: p\n",
    "p = np.sum(bs_replicates >= np.mean(control) - np.mean(treated)) \\\n",
    "            / len(bs_replicates)\n",
    "print('p-value =', p)\n"
   ]
  },
  {
   "cell_type": "markdown",
   "metadata": {},
   "source": [
    "The p-value is small, most likely less than 0.0001, since we never saw a bootstrap replicated with a difference of means at least as extreme as what was observed."
   ]
  },
  {
   "cell_type": "markdown",
   "metadata": {},
   "source": [
    "# a case study\n",
    "\n",
    "Every year for the past 40-plus years, Peter and Rosemary Grant have gone to the Galápagos island of Daphne Major and collected data on Darwin's finches. Using skills in statistical inference, we will explorer the data, and witness first hand, through data, evolution in action."
   ]
  },
  {
   "cell_type": "markdown",
   "metadata": {},
   "source": [
    "### EDA of beak depths of Darwin's finches\n",
    "\n",
    "For our first foray into the Darwin finch data, we will study how the beak depth (the distance, top to bottom, of a closed beak) of the finch species _Geospiza scandens_ has changed over time. The Grants have noticed some changes of beak geometry depending on the types of seeds available on the island, and they also noticed that there was some interbreeding with another major species on Daphne Major, _Geospiza fortis_. These effects can lead to changes in the species over time.\n",
    "\n",
    "We will look at the beak depth of _G. scandens_ on Daphne Major in 1975 and in 2012. To start with, let's plot all of the beak depth measurements in 1975 and 2012 in a bee swarm plot."
   ]
  },
  {
   "cell_type": "code",
   "execution_count": 56,
   "metadata": {},
   "outputs": [
    {
     "data": {
      "text/html": [
       "<div>\n",
       "<style scoped>\n",
       "    .dataframe tbody tr th:only-of-type {\n",
       "        vertical-align: middle;\n",
       "    }\n",
       "\n",
       "    .dataframe tbody tr th {\n",
       "        vertical-align: top;\n",
       "    }\n",
       "\n",
       "    .dataframe thead th {\n",
       "        text-align: right;\n",
       "    }\n",
       "</style>\n",
       "<table border=\"1\" class=\"dataframe\">\n",
       "  <thead>\n",
       "    <tr style=\"text-align: right;\">\n",
       "      <th></th>\n",
       "      <th>beak_depth</th>\n",
       "      <th>year</th>\n",
       "    </tr>\n",
       "  </thead>\n",
       "  <tbody>\n",
       "    <tr>\n",
       "      <th>0</th>\n",
       "      <td>8.4</td>\n",
       "      <td>1975</td>\n",
       "    </tr>\n",
       "    <tr>\n",
       "      <th>1</th>\n",
       "      <td>8.8</td>\n",
       "      <td>1975</td>\n",
       "    </tr>\n",
       "    <tr>\n",
       "      <th>2</th>\n",
       "      <td>8.4</td>\n",
       "      <td>1975</td>\n",
       "    </tr>\n",
       "    <tr>\n",
       "      <th>3</th>\n",
       "      <td>8.0</td>\n",
       "      <td>1975</td>\n",
       "    </tr>\n",
       "    <tr>\n",
       "      <th>4</th>\n",
       "      <td>7.9</td>\n",
       "      <td>1975</td>\n",
       "    </tr>\n",
       "  </tbody>\n",
       "</table>\n",
       "</div>"
      ],
      "text/plain": [
       "   beak_depth  year\n",
       "0         8.4  1975\n",
       "1         8.8  1975\n",
       "2         8.4  1975\n",
       "3         8.0  1975\n",
       "4         7.9  1975"
      ]
     },
     "execution_count": 56,
     "metadata": {},
     "output_type": "execute_result"
    }
   ],
   "source": [
    "dfd = pd.read_csv(\"datasets/darwin_finch_data.csv\")\n",
    "dfd.head()"
   ]
  },
  {
   "cell_type": "code",
   "execution_count": 57,
   "metadata": {},
   "outputs": [
    {
     "data": {
      "text/html": [
       "<div>\n",
       "<style scoped>\n",
       "    .dataframe tbody tr th:only-of-type {\n",
       "        vertical-align: middle;\n",
       "    }\n",
       "\n",
       "    .dataframe tbody tr th {\n",
       "        vertical-align: top;\n",
       "    }\n",
       "\n",
       "    .dataframe thead th {\n",
       "        text-align: right;\n",
       "    }\n",
       "</style>\n",
       "<table border=\"1\" class=\"dataframe\">\n",
       "  <thead>\n",
       "    <tr style=\"text-align: right;\">\n",
       "      <th></th>\n",
       "      <th>beak_depth</th>\n",
       "      <th>year</th>\n",
       "    </tr>\n",
       "  </thead>\n",
       "  <tbody>\n",
       "    <tr>\n",
       "      <th>209</th>\n",
       "      <td>9.3</td>\n",
       "      <td>2012</td>\n",
       "    </tr>\n",
       "    <tr>\n",
       "      <th>210</th>\n",
       "      <td>9.8</td>\n",
       "      <td>2012</td>\n",
       "    </tr>\n",
       "    <tr>\n",
       "      <th>211</th>\n",
       "      <td>8.9</td>\n",
       "      <td>2012</td>\n",
       "    </tr>\n",
       "    <tr>\n",
       "      <th>212</th>\n",
       "      <td>9.8</td>\n",
       "      <td>2012</td>\n",
       "    </tr>\n",
       "    <tr>\n",
       "      <th>213</th>\n",
       "      <td>9.1</td>\n",
       "      <td>2012</td>\n",
       "    </tr>\n",
       "  </tbody>\n",
       "</table>\n",
       "</div>"
      ],
      "text/plain": [
       "     beak_depth  year\n",
       "209         9.3  2012\n",
       "210         9.8  2012\n",
       "211         8.9  2012\n",
       "212         9.8  2012\n",
       "213         9.1  2012"
      ]
     },
     "execution_count": 57,
     "metadata": {},
     "output_type": "execute_result"
    }
   ],
   "source": [
    "dfd.tail()"
   ]
  },
  {
   "cell_type": "code",
   "execution_count": 58,
   "metadata": {},
   "outputs": [
    {
     "data": {
      "text/plain": [
       "beak_depth    float64\n",
       "year            int64\n",
       "dtype: object"
      ]
     },
     "execution_count": 58,
     "metadata": {},
     "output_type": "execute_result"
    }
   ],
   "source": [
    "dfd.dtypes"
   ]
  },
  {
   "cell_type": "code",
   "execution_count": 59,
   "metadata": {},
   "outputs": [
    {
     "data": {
      "text/html": [
       "<div>\n",
       "<style scoped>\n",
       "    .dataframe tbody tr th:only-of-type {\n",
       "        vertical-align: middle;\n",
       "    }\n",
       "\n",
       "    .dataframe tbody tr th {\n",
       "        vertical-align: top;\n",
       "    }\n",
       "\n",
       "    .dataframe thead th {\n",
       "        text-align: right;\n",
       "    }\n",
       "</style>\n",
       "<table border=\"1\" class=\"dataframe\">\n",
       "  <thead>\n",
       "    <tr style=\"text-align: right;\">\n",
       "      <th></th>\n",
       "      <th>count</th>\n",
       "      <th>mean</th>\n",
       "      <th>std</th>\n",
       "      <th>min</th>\n",
       "      <th>25%</th>\n",
       "      <th>50%</th>\n",
       "      <th>75%</th>\n",
       "      <th>max</th>\n",
       "    </tr>\n",
       "  </thead>\n",
       "  <tbody>\n",
       "    <tr>\n",
       "      <th>beak_depth</th>\n",
       "      <td>214.0</td>\n",
       "      <td>9.094252</td>\n",
       "      <td>0.637941</td>\n",
       "      <td>7.7</td>\n",
       "      <td>8.6625</td>\n",
       "      <td>9.075</td>\n",
       "      <td>9.5</td>\n",
       "      <td>11.0</td>\n",
       "    </tr>\n",
       "    <tr>\n",
       "      <th>year</th>\n",
       "      <td>214.0</td>\n",
       "      <td>1996.957944</td>\n",
       "      <td>18.216566</td>\n",
       "      <td>1975.0</td>\n",
       "      <td>1975.0000</td>\n",
       "      <td>2012.000</td>\n",
       "      <td>2012.0</td>\n",
       "      <td>2012.0</td>\n",
       "    </tr>\n",
       "  </tbody>\n",
       "</table>\n",
       "</div>"
      ],
      "text/plain": [
       "            count         mean        std     min        25%       50%  \\\n",
       "beak_depth  214.0     9.094252   0.637941     7.7     8.6625     9.075   \n",
       "year        214.0  1996.957944  18.216566  1975.0  1975.0000  2012.000   \n",
       "\n",
       "               75%     max  \n",
       "beak_depth     9.5    11.0  \n",
       "year        2012.0  2012.0  "
      ]
     },
     "execution_count": 59,
     "metadata": {},
     "output_type": "execute_result"
    }
   ],
   "source": [
    "dfd.describe().T"
   ]
  },
  {
   "cell_type": "code",
   "execution_count": 60,
   "metadata": {},
   "outputs": [
    {
     "name": "stdout",
     "output_type": "stream",
     "text": [
      "<class 'pandas.core.frame.DataFrame'>\n",
      "RangeIndex: 214 entries, 0 to 213\n",
      "Data columns (total 2 columns):\n",
      " #   Column      Non-Null Count  Dtype  \n",
      "---  ------      --------------  -----  \n",
      " 0   beak_depth  214 non-null    float64\n",
      " 1   year        214 non-null    int64  \n",
      "dtypes: float64(1), int64(1)\n",
      "memory usage: 3.5 KB\n"
     ]
    }
   ],
   "source": [
    "dfd.info()"
   ]
  },
  {
   "cell_type": "markdown",
   "metadata": {},
   "source": [
    "The units of beak depth are millimeters (mm)."
   ]
  },
  {
   "cell_type": "code",
   "execution_count": 61,
   "metadata": {},
   "outputs": [
    {
     "data": {
      "image/png": "[encoded data removed]",
      "text/plain": [
       "<Figure size 432x288 with 1 Axes>"
      ]
     },
     "metadata": {
      "needs_background": "light"
     },
     "output_type": "display_data"
    }
   ],
   "source": [
    "# Create bee swarm plot\n",
    "_ = sns.swarmplot(data=dfd, x=\"year\", y=\"beak_depth\")\n",
    "\n",
    "# Label the axes\n",
    "_ = plt.xlabel('year')\n",
    "_ = plt.ylabel('beak depth (mm)')\n",
    "\n",
    "# Show the plot\n",
    "plt.show()"
   ]
  },
  {
   "cell_type": "markdown",
   "metadata": {},
   "source": [
    "It is kind of hard to see if there is a clear difference between the 1975 and 2012 data set. Eyeballing it, it appears as though the mean of the 2012 data set might be slightly higher, and it might have a bigger variance."
   ]
  },
  {
   "cell_type": "markdown",
   "metadata": {},
   "source": [
    "### ECDFs of beak depths\n",
    "\n",
    "While bee swarm plots are useful, we found that ECDFs are often even better when doing EDA. Plot the ECDFs for the 1975 and 2012 beak depth measurements on the same plot."
   ]
  },
  {
   "cell_type": "code",
   "execution_count": 62,
   "metadata": {},
   "outputs": [],
   "source": [
    "bd_1975 = dfd.beak_depth[dfd.year==1975]\n",
    "bd_2012 = dfd.beak_depth[dfd.year==2012]"
   ]
  },
  {
   "cell_type": "code",
   "execution_count": 63,
   "metadata": {},
   "outputs": [
    {
     "data": {
      "image/png": "[encoded data removed]",
      "text/plain": [
       "<Figure size 432x288 with 1 Axes>"
      ]
     },
     "metadata": {
      "needs_background": "light"
     },
     "output_type": "display_data"
    }
   ],
   "source": [
    "# Compute ECDFs\n",
    "x_1975, y_1975 = ecdf(bd_1975)\n",
    "x_2012, y_2012 = ecdf(bd_2012)\n",
    "\n",
    "# Plot the ECDFs\n",
    "_ = plt.plot(x_1975, y_1975, marker='.', linestyle='none')\n",
    "_ = plt.plot(x_2012, y_2012, marker='.', linestyle='none')\n",
    "\n",
    "# Set margins\n",
    "plt.margins(.02)\n",
    "\n",
    "# Add axis labels and legend\n",
    "_ = plt.xlabel('beak depth (mm)')\n",
    "_ = plt.ylabel('ECDF')\n",
    "_ = plt.legend(('1975', '2012'), loc='lower right')\n",
    "\n",
    "# Show the plot\n",
    "plt.show()"
   ]
  },
  {
   "cell_type": "markdown",
   "metadata": {},
   "source": [
    "The differences are much clearer in the ECDF. The mean is larger in the 2012 data, and the variance does appear larger as well."
   ]
  },
  {
   "cell_type": "markdown",
   "metadata": {},
   "source": [
    "### Parameter estimates of beak depths\n",
    "\n",
    "Let's estimate the difference of the mean beak depth of the _G. scandens_ samples from 1975 and 2012 and report a 95% confidence interval."
   ]
  },
  {
   "cell_type": "code",
   "execution_count": 64,
   "metadata": {},
   "outputs": [
    {
     "name": "stdout",
     "output_type": "stream",
     "text": [
      "difference of means = 0.22622047244094645 mm\n",
      "95% confidence interval = [0.05967226 0.38944932] mm\n"
     ]
    }
   ],
   "source": [
    "# Compute the difference of the sample means: mean_diff\n",
    "mean_diff = np.mean(bd_2012) - np.mean(bd_1975)\n",
    "\n",
    "# Get bootstrap replicates of means\n",
    "bs_replicates_1975 = draw_bs_reps(bd_1975, np.mean, size=10000)\n",
    "bs_replicates_2012 = draw_bs_reps(bd_2012, np.mean, size=10000)\n",
    "\n",
    "# Compute samples of difference of means: bs_diff_replicates\n",
    "bs_diff_replicates = bs_replicates_2012 - bs_replicates_1975\n",
    "\n",
    "# Compute 95% confidence interval: conf_int\n",
    "conf_int = np.percentile(bs_diff_replicates, [2.5, 97.5])\n",
    "\n",
    "# Print the results\n",
    "print('difference of means =', mean_diff, 'mm')\n",
    "print('95% confidence interval =', conf_int, 'mm')"
   ]
  },
  {
   "cell_type": "markdown",
   "metadata": {},
   "source": [
    "### Hypothesis test: Are beaks deeper in 2012?\n",
    "\n",
    "Our plot of the ECDF and determination of the confidence interval make it pretty clear that the beaks of _G. scandens_ on Daphne Major have gotten deeper. But is it possible that this effect is just due to random chance? In other words, what is the probability that we would get the observed difference in mean beak depth if the means were the same?\n",
    "\n",
    "\n",
    "> Warning: The hypothesis we are testing is not that the beak depths come from the same distribution. For that we could use a permutation test. The hypothesis is that the means are equal. To perform this hypothesis test, we need to shift the two data sets so that they have the same mean and then use bootstrap sampling to compute the difference of means."
   ]
  },
  {
   "cell_type": "code",
   "execution_count": 65,
   "metadata": {},
   "outputs": [
    {
     "name": "stdout",
     "output_type": "stream",
     "text": [
      "p = 0.0046\n"
     ]
    }
   ],
   "source": [
    "# Compute mean of combined data set: combined_mean\n",
    "combined_mean = np.mean(np.concatenate((bd_1975, bd_2012)))\n",
    "\n",
    "# Shift the samples\n",
    "bd_1975_shifted = bd_1975 - np.mean(bd_1975) + combined_mean\n",
    "bd_2012_shifted = bd_2012 - np.mean(bd_2012) + combined_mean\n",
    "\n",
    "# Get bootstrap replicates of shifted data sets\n",
    "bs_replicates_1975 = draw_bs_reps(bd_1975_shifted, np.mean, size=10000)\n",
    "bs_replicates_2012 = draw_bs_reps(bd_2012_shifted, np.mean, size=10000)\n",
    "\n",
    "# Compute replicates of difference of means: bs_diff_replicates\n",
    "bs_diff_replicates = bs_replicates_2012 - bs_replicates_1975\n",
    "\n",
    "# Compute the p-value\n",
    "p = np.sum(bs_diff_replicates >= mean_diff) / len(bs_diff_replicates)\n",
    "\n",
    "# Print p-value\n",
    "print('p =', p)\n"
   ]
  },
  {
   "cell_type": "markdown",
   "metadata": {},
   "source": [
    "We get a p-value of 0.0038, which suggests that there is a statistically significant difference. But remember: it is very important to know how different they are! We got a difference of 0.2 mm between the means. We should combine this with the statistical significance. Changing by 0.2 mm in 37 years is substantial by evolutionary standards. If it kept changing at that rate, the beak depth would double in only 400 years."
   ]
  },
  {
   "cell_type": "markdown",
   "metadata": {},
   "source": [
    "## Variation in beak shapes\n",
    "\n",
    "### EDA of beak length and depth\n",
    "\n"
   ]
  },
  {
   "cell_type": "code",
   "execution_count": 66,
   "metadata": {},
   "outputs": [],
   "source": [
    "bl_1975 = np.array([13.9 , 14.  , 12.9 , 13.5 , 12.9 , 14.6 , 13.  , 14.2 , 14.  ,\n",
    "       14.2 , 13.1 , 15.1 , 13.5 , 14.4 , 14.9 , 12.9 , 13.  , 14.9 ,\n",
    "       14.  , 13.8 , 13.  , 14.75, 13.7 , 13.8 , 14.  , 14.6 , 15.2 ,\n",
    "       13.5 , 15.1 , 15.  , 12.8 , 14.9 , 15.3 , 13.4 , 14.2 , 15.1 ,\n",
    "       15.1 , 14.  , 13.6 , 14.  , 14.  , 13.9 , 14.  , 14.9 , 15.6 ,\n",
    "       13.8 , 14.4 , 12.8 , 14.2 , 13.4 , 14.  , 14.8 , 14.2 , 13.5 ,\n",
    "       13.4 , 14.6 , 13.5 , 13.7 , 13.9 , 13.1 , 13.4 , 13.8 , 13.6 ,\n",
    "       14.  , 13.5 , 12.8 , 14.  , 13.4 , 14.9 , 15.54, 14.63, 14.73,\n",
    "       15.73, 14.83, 15.94, 15.14, 14.23, 14.15, 14.35, 14.95, 13.95,\n",
    "       14.05, 14.55, 14.05, 14.45, 15.05, 13.25])"
   ]
  },
  {
   "cell_type": "code",
   "execution_count": 67,
   "metadata": {},
   "outputs": [],
   "source": [
    "bl_2012 = np.array([14.3 , 12.5 , 13.7 , 13.8 , 12.  , 13.  , 13.  , 13.6 , 12.8 ,\n",
    "       13.6 , 12.95, 13.1 , 13.4 , 13.9 , 12.3 , 14.  , 12.5 , 12.3 ,\n",
    "       13.9 , 13.1 , 12.5 , 13.9 , 13.7 , 12.  , 14.4 , 13.5 , 13.8 ,\n",
    "       13.  , 14.9 , 12.5 , 12.3 , 12.8 , 13.4 , 13.8 , 13.5 , 13.5 ,\n",
    "       13.4 , 12.3 , 14.35, 13.2 , 13.8 , 14.6 , 14.3 , 13.8 , 13.6 ,\n",
    "       12.9 , 13.  , 13.5 , 13.2 , 13.7 , 13.1 , 13.2 , 12.6 , 13.  ,\n",
    "       13.9 , 13.2 , 15.  , 13.37, 11.4 , 13.8 , 13.  , 13.  , 13.1 ,\n",
    "       12.8 , 13.3 , 13.5 , 12.4 , 13.1 , 14.  , 13.5 , 11.8 , 13.7 ,\n",
    "       13.2 , 12.2 , 13.  , 13.1 , 14.7 , 13.7 , 13.5 , 13.3 , 14.1 ,\n",
    "       12.5 , 13.7 , 14.6 , 14.1 , 12.9 , 13.9 , 13.4 , 13.  , 12.7 ,\n",
    "       12.1 , 14.  , 14.9 , 13.9 , 12.9 , 14.6 , 14.  , 13.  , 12.7 ,\n",
    "       14.  , 14.1 , 14.1 , 13.  , 13.5 , 13.4 , 13.9 , 13.1 , 12.9 ,\n",
    "       14.  , 14.  , 14.1 , 14.7 , 13.4 , 13.8 , 13.4 , 13.8 , 12.4 ,\n",
    "       14.1 , 12.9 , 13.9 , 14.3 , 13.2 , 14.2 , 13.  , 14.6 , 13.1 ,\n",
    "       15.2 ])"
   ]
  },
  {
   "cell_type": "markdown",
   "metadata": {},
   "source": [
    "The beak length data are stored as `bl_1975` and `bl_2012`, again with units of millimeters (mm). We still have the beak depth data stored in `bd_1975` and `bd_2012`. We will make scatter plots of beak depth (y-axis) versus beak length (x-axis) for the 1975 and 2012 specimens."
   ]
  },
  {
   "cell_type": "code",
   "execution_count": 68,
   "metadata": {},
   "outputs": [
    {
     "data": {
      "image/png": "[encoded data removed]",
      "text/plain": [
       "<Figure size 432x288 with 1 Axes>"
      ]
     },
     "metadata": {
      "needs_background": "light"
     },
     "output_type": "display_data"
    }
   ],
   "source": [
    "# Make scatter plot of 1975 data\n",
    "_ = plt.plot(bl_1975, bd_1975, marker='.',\n",
    "             linestyle='None', alpha=0.5, color=\"blue\")\n",
    "\n",
    "# Make scatter plot of 2012 data\n",
    "_ = plt.plot(bl_2012, bd_2012, marker='.',\n",
    "            linestyle='None', alpha=0.5, color=\"red\")\n",
    "\n",
    "# Label axes and make legend\n",
    "_ = plt.xlabel('beak length (mm)')\n",
    "_ = plt.ylabel('beak depth (mm)')\n",
    "_ = plt.legend(('1975', '2012'), loc='upper left')\n",
    "\n",
    "# Show the plot\n",
    "plt.show()"
   ]
  },
  {
   "cell_type": "markdown",
   "metadata": {},
   "source": [
    "In looking at the plot, we see that beaks got deeper (the red points are higher up in the y-direction), but not really longer. If anything, they got a bit shorter, since the red dots are to the left of the blue dots. So, it does not look like the beaks kept the same shape; they became shorter and deeper."
   ]
  },
  {
   "cell_type": "markdown",
   "metadata": {},
   "source": [
    "### Linear regressions\n",
    "\n",
    "We perform a linear regression for both the 1975 and 2012 data. Then, perform pairs bootstrap estimates for the regression parameters. Report 95% confidence intervals on the slope and intercept of the regression line."
   ]
  },
  {
   "cell_type": "code",
   "execution_count": 69,
   "metadata": {},
   "outputs": [
    {
     "name": "stdout",
     "output_type": "stream",
     "text": [
      "1975: slope = 0.46520516916059357 conf int = [0.3254032  0.58811989]\n",
      "1975: intercept = 2.3908752365842285 conf int = [0.67000784 4.40072329]\n",
      "2012: slope = 0.4626303588353126 conf int = [0.33989291 0.60535488]\n",
      "2012: intercept = 2.9772474982360184 conf int = [1.03792858 4.62029259]\n"
     ]
    }
   ],
   "source": [
    "# Compute the linear regressions\n",
    "slope_1975, intercept_1975 = np.polyfit(bl_1975, bd_1975.values, deg=1)\n",
    "slope_2012, intercept_2012 = np.polyfit(bl_2012, bd_2012.values, deg=1)\n",
    "\n",
    "# Perform pairs bootstrap for the linear regressions\n",
    "bs_slope_reps_1975, bs_intercept_reps_1975 = \\\n",
    "        draw_bs_pairs_linreg(bl_1975, bd_1975.values, size=1000)\n",
    "bs_slope_reps_2012, bs_intercept_reps_2012 = \\\n",
    "        draw_bs_pairs_linreg(bl_2012, bd_2012.values, size=1000)\n",
    "\n",
    "# Compute confidence intervals of slopes\n",
    "slope_conf_int_1975 = np.percentile(bs_slope_reps_1975, [2.5, 97.5])\n",
    "slope_conf_int_2012 = np.percentile(bs_slope_reps_2012, [2.5, 97.5])\n",
    "intercept_conf_int_1975 = np.percentile(bs_intercept_reps_1975, [2.5, 97.5])\n",
    "\n",
    "intercept_conf_int_2012 = np.percentile(bs_intercept_reps_2012, [2.5, 97.5])\n",
    "\n",
    "\n",
    "# Print the results\n",
    "print('1975: slope =', slope_1975,\n",
    "      'conf int =', slope_conf_int_1975)\n",
    "print('1975: intercept =', intercept_1975,\n",
    "      'conf int =', intercept_conf_int_1975)\n",
    "print('2012: slope =', slope_2012,\n",
    "      'conf int =', slope_conf_int_2012)\n",
    "print('2012: intercept =', intercept_2012,\n",
    "      'conf int =', intercept_conf_int_2012)"
   ]
  },
  {
   "cell_type": "markdown",
   "metadata": {},
   "source": [
    "It looks like they have the same slope, but different intercepts."
   ]
  },
  {
   "cell_type": "markdown",
   "metadata": {},
   "source": [
    "### Displaying the linear regression results"
   ]
  },
  {
   "cell_type": "code",
   "execution_count": 70,
   "metadata": {},
   "outputs": [
    {
     "data": {
      "image/png": "[encoded data removed]",
      "text/plain": [
       "<Figure size 432x288 with 1 Axes>"
      ]
     },
     "metadata": {
      "needs_background": "light"
     },
     "output_type": "display_data"
    }
   ],
   "source": [
    "# Make scatter plot of 1975 data\n",
    "_ = plt.plot(bl_1975, bd_1975, marker='.',\n",
    "             linestyle='none', color='blue', alpha=0.5)\n",
    "\n",
    "# Make scatter plot of 2012 data\n",
    "_ = plt.plot(bl_2012, bd_2012, marker='.',\n",
    "             linestyle='none', color='red', alpha=0.5)\n",
    "\n",
    "# Label axes and make legend\n",
    "_ = plt.xlabel('beak length (mm)')\n",
    "_ = plt.ylabel('beak depth (mm)')\n",
    "_ = plt.legend(('1975', '2012'), loc='upper left')\n",
    "\n",
    "# Generate x-values for bootstrap lines: x\n",
    "x = np.array([10, 17])\n",
    "\n",
    "# Plot the bootstrap lines\n",
    "for i in range(100):\n",
    "    plt.plot(x, x* bs_slope_reps_1975[i] + bs_intercept_reps_1975[i],\n",
    "             linewidth=0.5, alpha=0.2, color=\"blue\")\n",
    "    plt.plot(x, x*bs_slope_reps_2012[i] + bs_intercept_reps_2012[i],\n",
    "             linewidth=0.5, alpha=0.2, color=\"red\")\n",
    "\n",
    "# Draw the plot again\n",
    "plt.show()"
   ]
  },
  {
   "cell_type": "markdown",
   "metadata": {},
   "source": [
    "### Beak length to depth ratio\n",
    "\n",
    "The linear regressions showed interesting information about the beak geometry. The slope was the same in 1975 and 2012, suggesting that for every millimeter gained in beak length, the birds gained about half a millimeter in depth in both years. However, if we are interested in the shape of the beak, we want to compare the ratio of beak length to beak depth. Let's make that comparison."
   ]
  },
  {
   "cell_type": "code",
   "execution_count": 71,
   "metadata": {},
   "outputs": [
    {
     "name": "stdout",
     "output_type": "stream",
     "text": [
      "1975: mean ratio = 1.5788823771858533 conf int = [1.55672661 1.60112763]\n",
      "2012: mean ratio = 1.4658342276847767 conf int = [1.44471693 1.48753163]\n"
     ]
    }
   ],
   "source": [
    "# Compute length-to-depth ratios\n",
    "ratio_1975 = bl_1975/bd_1975\n",
    "ratio_2012 = bl_2012/bd_2012\n",
    "\n",
    "# Compute means\n",
    "mean_ratio_1975 = np.mean(ratio_1975)\n",
    "mean_ratio_2012 = np.mean(ratio_2012)\n",
    "\n",
    "# Generate bootstrap replicates of the means\n",
    "bs_replicates_1975 = draw_bs_reps(ratio_1975, np.mean, size=10000)\n",
    "bs_replicates_2012 = draw_bs_reps(ratio_2012, np.mean, size=10000)\n",
    "\n",
    "# Compute the 99% confidence intervals\n",
    "conf_int_1975 = np.percentile(bs_replicates_1975, [.5, 99.5])\n",
    "conf_int_2012 = np.percentile(bs_replicates_2012, [.5, 99.5])\n",
    "\n",
    "# Print the results\n",
    "print('1975: mean ratio =', mean_ratio_1975,\n",
    "      'conf int =', conf_int_1975)\n",
    "print('2012: mean ratio =', mean_ratio_2012,\n",
    "      'conf int =', conf_int_2012)\n"
   ]
  },
  {
   "cell_type": "code",
   "execution_count": 75,
   "metadata": {},
   "outputs": [
    {
     "data": {
      "image/png": "[encoded data removed]",
      "text/plain": [
       "<Figure size 432x288 with 1 Axes>"
      ]
     },
     "metadata": {
      "needs_background": "light"
     },
     "output_type": "display_data"
    }
   ],
   "source": [
    "_ = sns.pointplot([np.median(conf_int_1975), np.median(conf_int_2012)], [1975, 2012])\n",
    "plt.show()"
   ]
  },
  {
   "cell_type": "markdown",
   "metadata": {},
   "source": [
    "## Calculation of heritability\n",
    "\n",
    "\n",
    "> ### Heredity\n",
    "- The tendency for parental traits to be inherited by offspring\n"
   ]
  },
  {
   "cell_type": "markdown",
   "metadata": {},
   "source": [
    "### EDA of heritability\n",
    "\n",
    "The array `bd_parent_scandens` contains the average beak depth (in mm) of two parents of the species _G. scandens_"
   ]
  },
  {
   "cell_type": "code",
   "execution_count": 76,
   "metadata": {},
   "outputs": [],
   "source": [
    "bd_parent_scandens = np.array([ 8.3318,  8.4035,  8.5317,  8.7202,  8.7089,  8.7541,  8.773 ,\n",
    "        8.8107,  8.7919,  8.8069,  8.6523,  8.6146,  8.6938,  8.7127,\n",
    "        8.7466,  8.7504,  8.7805,  8.7428,  8.7164,  8.8032,  8.8258,\n",
    "        8.856 ,  8.9012,  8.9125,  8.8635,  8.8258,  8.8522,  8.8974,\n",
    "        8.9427,  8.9879,  8.9615,  8.9238,  8.9351,  9.0143,  9.0558,\n",
    "        9.0596,  8.9917,  8.905 ,  8.9314,  8.9465,  8.9879,  8.9804,\n",
    "        9.0219,  9.052 ,  9.0407,  9.0407,  8.9955,  8.9992,  8.9992,\n",
    "        9.0747,  9.0747,  9.5385,  9.4781,  9.4517,  9.3537,  9.2707,\n",
    "        9.1199,  9.1689,  9.1425,  9.135 ,  9.1011,  9.1727,  9.2217,\n",
    "        9.2255,  9.2821,  9.3235,  9.3198,  9.3198,  9.3198,  9.3273,\n",
    "        9.3725,  9.3989,  9.4253,  9.4593,  9.4442,  9.4291,  9.2632,\n",
    "        9.2293,  9.1878,  9.1425,  9.1275,  9.1802,  9.1765,  9.2481,\n",
    "        9.2481,  9.1991,  9.1689,  9.1765,  9.2406,  9.3198,  9.3235,\n",
    "        9.1991,  9.2971,  9.2443,  9.316 ,  9.2934,  9.3914,  9.3989,\n",
    "        9.5121,  9.6176,  9.5535,  9.4668,  9.3725,  9.3348,  9.3763,\n",
    "        9.3839,  9.4216,  9.4065,  9.3348,  9.4442,  9.4367,  9.5083,\n",
    "        9.448 ,  9.4781,  9.595 ,  9.6101,  9.5686,  9.6365,  9.7119,\n",
    "        9.8213,  9.825 ,  9.7609,  9.6516,  9.5988,  9.546 ,  9.6516,\n",
    "        9.7572,  9.8854, 10.0023,  9.3914])"
   ]
  },
  {
   "cell_type": "markdown",
   "metadata": {},
   "source": [
    "The array `bd_offspring_scandens` contains the average beak depth of the offspring of the respective parents. "
   ]
  },
  {
   "cell_type": "code",
   "execution_count": 77,
   "metadata": {},
   "outputs": [],
   "source": [
    "bd_offspring_scandens = np.array([ 8.419 ,  9.2468,  8.1532,  8.0089,  8.2215,  8.3734,  8.5025,\n",
    "        8.6392,  8.7684,  8.8139,  8.7911,  8.9051,  8.9203,  8.8747,\n",
    "        8.943 ,  9.0038,  8.981 ,  9.0949,  9.2696,  9.1633,  9.1785,\n",
    "        9.1937,  9.2772,  9.0722,  8.9658,  8.9658,  8.5025,  8.4949,\n",
    "        8.4949,  8.5633,  8.6013,  8.6468,  8.1532,  8.3734,  8.662 ,\n",
    "        8.6924,  8.7456,  8.8367,  8.8595,  8.9658,  8.9582,  8.8671,\n",
    "        8.8671,  8.943 ,  9.0646,  9.1405,  9.2089,  9.2848,  9.3759,\n",
    "        9.4899,  9.4519,  8.1228,  8.2595,  8.3127,  8.4949,  8.6013,\n",
    "        8.4646,  8.5329,  8.7532,  8.8823,  9.0342,  8.6392,  8.6772,\n",
    "        8.6316,  8.7532,  8.8291,  8.8975,  8.9734,  9.0494,  9.1253,\n",
    "        9.1253,  9.1253,  9.1785,  9.2848,  9.4595,  9.3608,  9.2089,\n",
    "        9.2544,  9.3684,  9.3684,  9.2316,  9.1709,  9.2316,  9.0342,\n",
    "        8.8899,  8.8291,  8.981 ,  8.8975, 10.4089, 10.1886,  9.7633,\n",
    "        9.7329,  9.6114,  9.5051,  9.5127,  9.3684,  9.6266,  9.5354,\n",
    "       10.0215, 10.0215,  9.6266,  9.6038,  9.4063,  9.2316,  9.338 ,\n",
    "        9.262 ,  9.262 ,  9.4063,  9.4367,  9.0342,  8.943 ,  8.9203,\n",
    "        8.7835,  8.7835,  9.057 ,  8.9354,  8.8975,  8.8139,  8.8671,\n",
    "        9.0873,  9.2848,  9.2392,  9.2924,  9.4063,  9.3152,  9.4899,\n",
    "        9.5962,  9.6873,  9.5203,  9.6646])"
   ]
  },
  {
   "cell_type": "markdown",
   "metadata": {},
   "source": [
    "The arrays `bd_parent_fortis` and `bd_offspring_fortis` contain the same information about measurements from _G. fortis_ birds."
   ]
  },
  {
   "cell_type": "code",
   "execution_count": 78,
   "metadata": {},
   "outputs": [],
   "source": [
    "bd_parent_fortis = np.array([10.1  ,  9.55 ,  9.4  , 10.25 , 10.125,  9.7  ,  9.05 ,  7.4  ,\n",
    "        9.   ,  8.65 ,  9.625,  9.9  ,  9.55 ,  9.05 ,  8.35 , 10.1  ,\n",
    "       10.1  ,  9.9  , 10.225, 10.   , 10.55 , 10.45 ,  9.2  , 10.2  ,\n",
    "        8.95 , 10.05 , 10.2  ,  9.5  ,  9.925,  9.95 , 10.05 ,  8.75 ,\n",
    "        9.2  , 10.15 ,  9.8  , 10.7  , 10.5  ,  9.55 , 10.55 , 10.475,\n",
    "        8.65 , 10.7  ,  9.1  ,  9.4  , 10.3  ,  9.65 ,  9.5  ,  9.7  ,\n",
    "       10.525,  9.95 , 10.1  ,  9.75 , 10.05 ,  9.9  , 10.   ,  9.1  ,\n",
    "        9.45 ,  9.25 ,  9.5  , 10.   , 10.525,  9.9  , 10.4  ,  8.95 ,\n",
    "        9.4  , 10.95 , 10.75 , 10.1  ,  8.05 ,  9.1  ,  9.55 ,  9.05 ,\n",
    "       10.2  , 10.   , 10.55 , 10.75 ,  8.175,  9.7  ,  8.8  , 10.75 ,\n",
    "        9.3  ,  9.7  ,  9.6  ,  9.75 ,  9.6  , 10.45 , 11.   , 10.85 ,\n",
    "       10.15 , 10.35 , 10.4  ,  9.95 ,  9.1  , 10.1  ,  9.85 ,  9.625,\n",
    "        9.475,  9.   ,  9.25 ,  9.1  ,  9.25 ,  9.2  ,  9.95 ,  8.65 ,\n",
    "        9.8  ,  9.4  ,  9.   ,  8.55 ,  8.75 ,  9.65 ,  8.95 ,  9.15 ,\n",
    "        9.85 , 10.225,  9.825, 10.   ,  9.425, 10.4  ,  9.875,  8.95 ,\n",
    "        8.9  ,  9.35 , 10.425, 10.   , 10.175,  9.875,  9.875,  9.15 ,\n",
    "        9.45 ,  9.025,  9.7  ,  9.7  , 10.05 , 10.3  ,  9.6  , 10.   ,\n",
    "        9.8  , 10.05 ,  8.75 , 10.55 ,  9.7  , 10.   ,  9.85 ,  9.8  ,\n",
    "        9.175,  9.65 ,  9.55 ,  9.9  , 11.55 , 11.3  , 10.4  , 10.8  ,\n",
    "        9.8  , 10.45 , 10.   , 10.75 ,  9.35 , 10.75 ,  9.175,  9.65 ,\n",
    "        8.8  , 10.55 , 10.675,  9.95 ,  9.55 ,  8.825,  9.7  ,  9.85 ,\n",
    "        9.8  ,  9.55 ,  9.275, 10.325,  9.15 ,  9.35 ,  9.15 ,  9.65 ,\n",
    "       10.575,  9.975,  9.55 ,  9.2  ,  9.925,  9.2  ,  9.3  ,  8.775,\n",
    "        9.325,  9.175,  9.325,  8.975,  9.7  ,  9.5  , 10.225, 10.025,\n",
    "        8.2  ,  8.2  ,  9.55 ,  9.05 ,  9.6  ,  9.6  , 10.15 ,  9.875,\n",
    "       10.485, 11.485, 10.985,  9.7  ,  9.65 ,  9.35 , 10.05 , 10.1  ,\n",
    "        9.9  ,  8.95 ,  9.3  ,  9.95 ,  9.45 ,  9.5  ,  8.45 ,  8.8  ,\n",
    "        8.525,  9.375, 10.2  ,  7.625,  8.375,  9.25 ,  9.4  , 10.55 ,\n",
    "        8.9  ,  8.8  ,  9.   ,  8.575,  8.575,  9.6  ,  9.375,  9.6  ,\n",
    "        9.95 ,  9.6  , 10.2  ,  9.85 ,  9.625,  9.025, 10.375, 10.25 ,\n",
    "        9.3  ,  9.5  ,  9.55 ,  8.55 ,  9.05 ,  9.9  ,  9.8  ,  9.75 ,\n",
    "       10.25 ,  9.1  ,  9.65 , 10.3  ,  8.9  ,  9.95 ,  9.5  ,  9.775,\n",
    "        9.425,  7.75 ,  7.55 ,  9.1  ,  9.6  ,  9.575,  8.95 ,  9.65 ,\n",
    "        9.65 ,  9.65 ,  9.525,  9.85 ,  9.05 ,  9.3  ,  8.9  ,  9.45 ,\n",
    "       10.   ,  9.85 ,  9.25 , 10.1  ,  9.125,  9.65 ,  9.1  ,  8.05 ,\n",
    "        7.4  ,  8.85 ,  9.075,  9.   ,  9.7  ,  8.7  ,  9.45 ,  9.7  ,\n",
    "        8.35 ,  8.85 ,  9.7  ,  9.45 , 10.3  , 10.   , 10.45 ,  9.45 ,\n",
    "        8.5  ,  8.3  , 10.   ,  9.225,  9.75 ,  9.15 ,  9.55 ,  9.   ,\n",
    "        9.275,  9.35 ,  8.95 ,  9.875,  8.45 ,  8.6  ,  9.7  ,  8.55 ,\n",
    "        9.05 ,  9.6  ,  8.65 ,  9.2  ,  8.95 ,  9.6  ,  9.15 ,  9.4  ,\n",
    "        8.95 ,  9.95 , 10.55 ,  9.7  ,  8.85 ,  8.8  , 10.   ,  9.05 ,\n",
    "        8.2  ,  8.1  ,  7.25 ,  8.3  ,  9.15 ,  8.6  ,  9.5  ,  8.05 ,\n",
    "        9.425,  9.3  ,  9.8  ,  9.3  ,  9.85 ,  9.5  ,  8.65 ,  9.825,\n",
    "        9.   , 10.45 ,  9.1  ,  9.55 ,  9.05 , 10.   ,  9.35 ,  8.375,\n",
    "        8.3  ,  8.8  , 10.1  ,  9.5  ,  9.75 , 10.1  ,  9.575,  9.425,\n",
    "        9.65 ,  8.725,  9.025,  8.5  ,  8.95 ,  9.3  ,  8.85 ,  8.95 ,\n",
    "        9.8  ,  9.5  ,  8.65 ,  9.1  ,  9.4  ,  8.475,  9.35 ,  7.95 ,\n",
    "        9.35 ,  8.575,  9.05 ,  8.175,  9.85 ,  7.85 ,  9.85 , 10.1  ,\n",
    "        9.35 ,  8.85 ,  8.75 ,  9.625,  9.25 ,  9.55 , 10.325,  8.55 ,\n",
    "        9.675,  9.15 ,  9.   ,  9.65 ,  8.6  ,  8.8  ,  9.   ,  9.95 ,\n",
    "        8.4  ,  9.35 , 10.3  ,  9.05 ,  9.975,  9.975,  8.65 ,  8.725,\n",
    "        8.2  ,  7.85 ,  8.775,  8.5  ,  9.4  ])"
   ]
  },
  {
   "cell_type": "code",
   "execution_count": 79,
   "metadata": {},
   "outputs": [],
   "source": [
    "bd_offspring_fortis = np.array([10.7 ,  9.78,  9.48,  9.6 , 10.27,  9.5 ,  9.  ,  7.46,  7.65,\n",
    "        8.63,  9.81,  9.4 ,  9.48,  8.75,  7.6 , 10.  , 10.09,  9.74,\n",
    "        9.64,  8.49, 10.15, 10.28,  9.2 , 10.01,  9.03,  9.94, 10.5 ,\n",
    "        9.7 , 10.02, 10.04,  9.43,  8.1 ,  9.5 ,  9.9 ,  9.48, 10.18,\n",
    "       10.16,  9.08, 10.39,  9.9 ,  8.4 , 10.6 ,  8.75,  9.46,  9.6 ,\n",
    "        9.6 ,  9.95, 10.05, 10.16, 10.1 ,  9.83,  9.46,  9.7 ,  9.82,\n",
    "       10.34,  8.02,  9.65,  9.87,  9.  , 11.14,  9.25,  8.14, 10.23,\n",
    "        8.7 ,  9.8 , 10.54, 11.19,  9.85,  8.1 ,  9.3 ,  9.34,  9.19,\n",
    "        9.52,  9.36,  8.8 ,  8.6 ,  8.  ,  8.5 ,  8.3 , 10.38,  8.54,\n",
    "        8.94, 10.  ,  9.76,  9.45,  9.89, 10.9 ,  9.91,  9.39,  9.86,\n",
    "        9.74,  9.9 ,  9.09,  9.69, 10.24,  8.9 ,  9.67,  8.93,  9.3 ,\n",
    "        8.67,  9.15,  9.23,  9.59,  9.03,  9.58,  8.97,  8.57,  8.47,\n",
    "        8.71,  9.21,  9.13,  8.5 ,  9.58,  9.21,  9.6 ,  9.32,  8.7 ,\n",
    "       10.46,  9.29,  9.24,  9.45,  9.35, 10.19,  9.91,  9.18,  9.89,\n",
    "        9.6 , 10.3 ,  9.45,  8.79,  9.2 ,  8.8 ,  9.69, 10.61,  9.6 ,\n",
    "        9.9 ,  9.26, 10.2 ,  8.79,  9.28,  8.83,  9.76, 10.2 ,  9.43,\n",
    "        9.4 ,  9.9 ,  9.5 ,  8.95,  9.98,  9.72,  9.86, 11.1 ,  9.14,\n",
    "       10.49,  9.75, 10.35,  9.73,  9.83,  8.69,  9.58,  8.42,  9.25,\n",
    "       10.12,  9.31,  9.99,  8.59,  8.74,  8.79,  9.6 ,  9.52,  8.93,\n",
    "       10.23,  9.35,  9.35,  9.09,  9.04,  9.75, 10.5 ,  9.09,  9.05,\n",
    "        9.54,  9.3 ,  9.06,  8.7 ,  9.32,  8.4 ,  8.67,  8.6 ,  9.53,\n",
    "        9.77,  9.65,  9.43,  8.35,  8.26,  9.5 ,  8.6 ,  9.57,  9.14,\n",
    "       10.79,  8.91,  9.93, 10.7 ,  9.3 ,  9.93,  9.51,  9.44, 10.05,\n",
    "       10.13,  9.24,  8.21,  8.9 ,  9.34,  8.77,  9.4 ,  8.82,  8.83,\n",
    "        8.6 ,  9.5 , 10.2 ,  8.09,  9.07,  9.29,  9.1 , 10.19,  9.25,\n",
    "        8.98,  9.02,  8.6 ,  8.25,  8.7 ,  9.9 ,  9.65,  9.45,  9.38,\n",
    "       10.4 ,  9.96,  9.46,  8.26, 10.05,  8.92,  9.5 ,  9.43,  8.97,\n",
    "        8.44,  8.92, 10.3 ,  8.4 ,  9.37,  9.91, 10.  ,  9.21,  9.95,\n",
    "        8.84,  9.82,  9.5 , 10.29,  8.4 ,  8.31,  9.29,  8.86,  9.4 ,\n",
    "        9.62,  8.62,  8.3 ,  9.8 ,  8.48,  9.61,  9.5 ,  9.37,  8.74,\n",
    "        9.31,  9.5 ,  9.49,  9.74,  9.2 ,  9.24,  9.7 ,  9.64,  9.2 ,\n",
    "        7.5 ,  7.5 ,  8.7 ,  8.31,  9.  ,  9.74,  9.31, 10.5 ,  9.3 ,\n",
    "        8.12,  9.34,  9.72,  9.  ,  9.65,  9.9 , 10.  , 10.1 ,  8.  ,\n",
    "        9.07,  9.75,  9.33,  8.11,  9.36,  9.74,  9.9 ,  9.23,  9.7 ,\n",
    "        8.2 ,  9.35,  9.49,  9.34,  8.87,  9.03,  9.07,  9.43,  8.2 ,\n",
    "        9.19,  9.  ,  9.2 ,  9.06,  9.81,  8.89,  9.4 , 10.45,  9.64,\n",
    "        9.03,  8.71,  9.91,  8.33,  8.2 ,  7.83,  7.14,  8.91,  9.18,\n",
    "        8.8 ,  9.9 ,  7.73,  9.25,  8.7 ,  9.5 ,  9.3 ,  9.05, 10.18,\n",
    "        8.85,  9.24,  9.15,  9.98,  8.77,  9.8 ,  8.65, 10.  ,  8.81,\n",
    "        8.01,  7.9 ,  9.41, 10.18,  9.55,  9.08,  8.4 ,  9.75,  8.9 ,\n",
    "        9.07,  9.35,  8.9 ,  8.19,  8.65,  9.19,  8.9 ,  9.28, 10.58,\n",
    "        9.  ,  9.4 ,  8.91,  9.93, 10.  ,  9.37,  7.4 ,  9.  ,  8.8 ,\n",
    "        9.18,  8.3 , 10.08,  7.9 ,  9.96, 10.4 ,  9.65,  8.8 ,  8.65,\n",
    "        9.7 ,  9.23,  9.43,  9.93,  8.47,  9.55,  9.28,  8.85,  8.9 ,\n",
    "        8.75,  8.63,  9.  ,  9.43,  8.28,  9.23, 10.4 ,  9.  ,  9.8 ,\n",
    "        9.77,  8.97,  8.37,  7.7 ,  7.9 ,  9.5 ,  8.2 ,  8.8 ])"
   ]
  },
  {
   "cell_type": "markdown",
   "metadata": {},
   "source": [
    "We'll make a scatter plot of the average offspring beak depth (y-axis) versus average parental beak depth (x-axis) for both species. "
   ]
  },
  {
   "cell_type": "code",
   "execution_count": 80,
   "metadata": {},
   "outputs": [
    {
     "data": {
      "image/png": "[encoded data removed]",
      "text/plain": [
       "<Figure size 432x288 with 1 Axes>"
      ]
     },
     "metadata": {
      "needs_background": "light"
     },
     "output_type": "display_data"
    }
   ],
   "source": [
    "# Make scatter plots\n",
    "_ = plt.plot(bd_parent_fortis, bd_offspring_fortis,\n",
    "             marker=\".\", linestyle=\"none\", color=\"blue\", alpha=.5)\n",
    "_ = plt.plot(bd_parent_scandens, bd_offspring_scandens,\n",
    "             marker=\".\", linestyle=\"none\", color=\"red\", alpha=.5)\n",
    "\n",
    "# Label axes\n",
    "_ = plt.xlabel('parental beak depth (mm)')\n",
    "_ = plt.ylabel('offspring beak depth (mm)')\n",
    "\n",
    "# Add legend\n",
    "_ = plt.legend(('G. fortis', 'G. scandens'), loc='lower right')\n",
    "\n",
    "# Show plot\n",
    "plt.show()\n"
   ]
  },
  {
   "cell_type": "markdown",
   "metadata": {},
   "source": [
    "It appears as though there is a stronger correlation in _G. fortis_ than in _G. scandens_. This suggests that beak depth is more strongly inherited in G. fortis. We'll quantify this correlation"
   ]
  },
  {
   "cell_type": "markdown",
   "metadata": {},
   "source": [
    "### Correlation of offspring and parental data\n",
    "\n",
    "In an effort to quantify the correlation between offspring and parent beak depths, we would like to compute statistics, such as the Pearson correlation coefficient, between parents and offspring. To get confidence intervals on this, we need to do a pairs bootstrap."
   ]
  },
  {
   "cell_type": "code",
   "execution_count": 81,
   "metadata": {},
   "outputs": [],
   "source": [
    "def draw_bs_pairs(x, y, func, size=1):\n",
    "    \"\"\"Perform pairs bootstrap for a single statistic.\"\"\"\n",
    "\n",
    "    # Set up array of indices to sample from: inds\n",
    "    inds = np.arange(len(x))\n",
    "\n",
    "    # Initialize replicates: bs_replicates\n",
    "    bs_replicates = np.empty(size)\n",
    "\n",
    "    # Generate replicates\n",
    "    for i in range(size):\n",
    "        bs_inds = np.random.choice(inds, len(inds))\n",
    "        bs_x, bs_y = x[bs_inds], y[bs_inds]\n",
    "        bs_replicates[i] = func(bs_x, bs_y)\n",
    "\n",
    "    return bs_replicates"
   ]
  },
  {
   "cell_type": "markdown",
   "metadata": {},
   "source": [
    "### Pearson correlation of offspring and parental data\n",
    "\n",
    "The Pearson correlation coefficient seems like a useful measure of how strongly the beak depth of parents are inherited by their offspring. We'll compute the Pearson correlation coefficient between parental and offspring beak depths for _G. scandens_. And Do the same for _G. fortis_. Then, use the function `draw_bs_pairs` to compute a 95% confidence interval using pairs bootstrap."
   ]
  },
  {
   "cell_type": "code",
   "execution_count": 82,
   "metadata": {},
   "outputs": [
    {
     "name": "stdout",
     "output_type": "stream",
     "text": [
      "G. scandens: 0.41170636294012586 [0.28114522 0.55186026]\n",
      "G. fortis: 0.7283412395518486 [0.66716345 0.7791389 ]\n"
     ]
    }
   ],
   "source": [
    "# Compute the Pearson correlation coefficients\n",
    "r_scandens = pearson_r(bd_parent_scandens, bd_offspring_scandens)\n",
    "r_fortis = pearson_r(bd_parent_fortis, bd_offspring_fortis)\n",
    "\n",
    "# Acquire 1000 bootstrap replicates of Pearson r\n",
    "bs_replicates_scandens = draw_bs_pairs(bd_parent_scandens, bd_offspring_scandens, pearson_r, size=1000)\n",
    "\n",
    "bs_replicates_fortis = draw_bs_pairs(bd_parent_fortis, bd_offspring_fortis, pearson_r, size=1000)\n",
    "\n",
    "\n",
    "# Compute 95% confidence intervals\n",
    "conf_int_scandens = np.percentile(bs_replicates_scandens, [2.5, 97.5])\n",
    "conf_int_fortis = np.percentile(bs_replicates_fortis, [2.5, 97.5])\n",
    "\n",
    "# Print results\n",
    "print('G. scandens:', r_scandens, conf_int_scandens)\n",
    "print('G. fortis:', r_fortis, conf_int_fortis)\n"
   ]
  },
  {
   "cell_type": "markdown",
   "metadata": {},
   "source": [
    "It is clear from the confidence intervals that beak depth of the offspring of _G. fortis_ parents is more strongly correlated with their offspring than their _G. scandens_ counterparts."
   ]
  },
  {
   "cell_type": "markdown",
   "metadata": {},
   "source": [
    "### Measuring heritability\n",
    "\n",
    "> Note: Pearson correlation coefficient is the ratio of the covariance to the geometric mean of the variances of the two data sets. \n",
    "\n",
    "\n",
    "This is a measure of the correlation between parents and offspring, but might not be the best estimate of heritability. If we stop and think, it makes more sense to define heritability as the ratio of the covariance between parent and offspring to the variance of the parents alone. We will estimate the heritability and perform a pairs bootstrap calculation to get the 95% confidence interval."
   ]
  },
  {
   "cell_type": "markdown",
   "metadata": {},
   "source": [
    "> Warning: Statistical inference (and data analysis in general) is not a plug-n-chug enterprise. You need to think carefully about the questions you are seeking to answer with your data and analyze them appropriately. If you are interested in how heritable traits are, the quantity we defined as the heritability is more apt than the off-the-shelf statistic, the Pearson correlation coefficient."
   ]
  },
  {
   "cell_type": "code",
   "execution_count": 83,
   "metadata": {},
   "outputs": [
    {
     "name": "stdout",
     "output_type": "stream",
     "text": [
      "G. scandens: 0.5485340868685983 [0.35159687 0.74984943]\n",
      "G. fortis: 0.7229051911438156 [0.64286124 0.78727894]\n"
     ]
    }
   ],
   "source": [
    "def heritability(parents, offspring):\n",
    "    \"\"\"Compute the heritability from parent and offspring samples.\"\"\"\n",
    "    covariance_matrix = np.cov(parents, offspring)\n",
    "    return covariance_matrix[0,1] / covariance_matrix[0,0]\n",
    "\n",
    "# Compute the heritability\n",
    "heritability_scandens = heritability(bd_parent_scandens, bd_offspring_scandens)\n",
    "heritability_fortis = heritability(bd_parent_fortis, bd_offspring_fortis)\n",
    "\n",
    "# Acquire 1000 bootstrap replicates of heritability\n",
    "replicates_scandens = draw_bs_pairs(\n",
    "        bd_parent_scandens, bd_offspring_scandens, heritability, size=1000)\n",
    "        \n",
    "replicates_fortis = draw_bs_pairs(\n",
    "        bd_parent_fortis, bd_offspring_fortis, heritability, size=1000)\n",
    "\n",
    "\n",
    "# Compute 95% confidence intervals\n",
    "conf_int_scandens = np.percentile(replicates_scandens, [2.5, 97.5])\n",
    "conf_int_fortis = np.percentile(replicates_fortis, [2.5, 97.5])\n",
    "\n",
    "# Print results\n",
    "print('G. scandens:', heritability_scandens, conf_int_scandens)\n",
    "print('G. fortis:', heritability_fortis, conf_int_fortis)\n"
   ]
  },
  {
   "cell_type": "markdown",
   "metadata": {},
   "source": [
    "Here again, we see that _G. fortis_ has stronger heritability than _G. scandens_. This suggests that the traits of _G. fortis_ may be strongly incorporated into _G. scandens_ by introgressive hybridization."
   ]
  },
  {
   "cell_type": "markdown",
   "metadata": {},
   "source": [
    "### Is beak depth heritable at all in G. scandens?\n",
    "\n",
    "The heritability of beak depth in G. scandens seems low. It could be that this observed heritability was just achieved by chance and beak depth is actually not really heritable in the species. We will test that hypothesis here. To do this, We will do a pairs permutation test."
   ]
  },
  {
   "cell_type": "code",
   "execution_count": 84,
   "metadata": {},
   "outputs": [
    {
     "name": "stdout",
     "output_type": "stream",
     "text": [
      "p-val = 0.0\n"
     ]
    }
   ],
   "source": [
    "# Initialize array of replicates: perm_replicates\n",
    "perm_replicates = np.empty(10000)\n",
    "\n",
    "# Draw replicates\n",
    "for i in range(10000):\n",
    "    # Permute parent beak depths\n",
    "    bd_parent_permuted = np.random.permutation(bd_parent_scandens)\n",
    "    perm_replicates[i] = heritability(bd_parent_permuted, bd_offspring_scandens)\n",
    "\n",
    "\n",
    "# Compute p-value: p\n",
    "p = np.sum(perm_replicates >= heritability_scandens) / len(perm_replicates)\n",
    "\n",
    "# Print the p-value\n",
    "print('p-val =', p)\n"
   ]
  },
  {
   "cell_type": "markdown",
   "metadata": {},
   "source": [
    "We get a p-value of zero, which means that none of the 10,000 permutation pairs replicates we drew had a heritability high enough to match that which was observed. This strongly suggests that beak depth is heritable in _G. scandens_, just not as much as in _G. fortis_. If you like, you can plot a histogram of the heritability replicates to get a feel for how extreme of a value of heritability you might expect by chance."
   ]
  },
  {
   "cell_type": "code",
   "execution_count": 87,
   "metadata": {},
   "outputs": [
    {
     "data": {
      "image/png": "[encoded data removed]",
      "text/plain": [
       "<Figure size 432x288 with 1 Axes>"
      ]
     },
     "metadata": {
      "needs_background": "light"
     },
     "output_type": "display_data"
    }
   ],
   "source": [
    "_ = plt.hist(perm_replicates, bins = int(np.sqrt(len(perm_replicates))))\n",
    "_ = plt.ylabel(\"counts\")\n",
    "_ = plt.xlabel(\"Heritability replicates\")\n",
    "plt.show()"
   ]
  }
 ],
 "metadata": {
  "kernelspec": {
   "display_name": "Python 3",
   "language": "python",
   "name": "python3"
  },
  "language_info": {
   "codemirror_mode": {
    "name": "ipython",
    "version": 3
   },
   "file_extension": ".py",
   "mimetype": "text/x-python",
   "name": "python",
   "nbconvert_exporter": "python",
   "pygments_lexer": "ipython3",
   "version": "3.6.5"
  }
 },
 "nbformat": 4,
 "nbformat_minor": 4
}
