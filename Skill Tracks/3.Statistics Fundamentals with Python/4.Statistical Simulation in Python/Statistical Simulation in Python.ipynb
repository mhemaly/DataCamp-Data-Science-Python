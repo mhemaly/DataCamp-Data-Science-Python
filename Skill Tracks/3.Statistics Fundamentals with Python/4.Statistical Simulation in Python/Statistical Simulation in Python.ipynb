{
 "cells": [
  {
   "cell_type": "markdown",
   "id": "269e6e09",
   "metadata": {},
   "source": [
    "# Part 1"
   ]
  },
  {
   "cell_type": "markdown",
   "id": "18bd5085",
   "metadata": {},
   "source": [
    "## A\n",
    "\n",
    "## Poisson random variable\n",
    "\n",
    "The numpy.random module also has a number of useful probability distributions for both discrete and continuous random variables. In this exercise, you will learn how to draw samples from a probability distribution.\n",
    "\n",
    "In particular, you will draw samples from a very important discrete probability distribution, the Poisson distribution, which is typically used for modeling the average rate at which events occur.\n",
    "\n",
    "Following the exercise, you should be able to apply these steps to any of the probability distributions found in numpy.random. In addition, you will also see how the sample mean changes as we draw more samples from a distribution."
   ]
  },
  {
   "cell_type": "code",
   "execution_count": 1,
   "id": "4704589b",
   "metadata": {},
   "outputs": [],
   "source": [
    "import numpy as np"
   ]
  },
  {
   "cell_type": "code",
   "execution_count": 2,
   "id": "3bd99132",
   "metadata": {},
   "outputs": [
    {
     "name": "stdout",
     "output_type": "stream",
     "text": [
      "|Lambda - sample mean| with 3\n",
      " samples is 0.33333333333333304\n",
      " and with 1000\n",
      " samples is 0.07699999999999996. \n"
     ]
    }
   ],
   "source": [
    "# Initialize seed and parameters\n",
    "np.random.seed(123) \n",
    "lam, size_1, size_2 = 5, 3, 1000  \n",
    "\n",
    "# Draw samples & calculate absolute difference between lambda and sample mean\n",
    "samples_1 = np.random.poisson(lam, size_1)\n",
    "samples_2 = np.random.poisson(lam, size_2)\n",
    "answer_1 = abs(lam - np.mean(samples_1))\n",
    "answer_2 = abs(lam - np.mean(samples_2)) \n",
    "\n",
    "print(\"|Lambda - sample mean| with {}\\n samples is {}\\n and with {}\\n samples is {}. \".format(size_1, answer_1, size_2, answer_2))"
   ]
  },
  {
   "cell_type": "markdown",
   "id": "c809b539",
   "metadata": {},
   "source": [
    "## Shuffling a deck of cards\n",
    "\n",
    "Often times we are interested in randomizing the order of a set of items. Consider a game of cards where you first shuffle the deck of cards or a game of scrabble where the letters are first mixed in a bag. As the final exercise of this section, you will learn another useful function - np.random.shuffle(). This function allows you to randomly shuffle a sequence in place. At the end of this exercise, you will know how to shuffle a deck of cards or any sequence of items.\n",
    "\n",
    "Examine deck_of_cards in the shell."
   ]
  },
  {
   "cell_type": "code",
   "execution_count": 11,
   "id": "431948b0",
   "metadata": {},
   "outputs": [],
   "source": [
    "deck_of_cards = [('Heart', 0), ('Heart', 1), ('Heart', 2), ('Heart', 3), ('Heart', 4), ('Heart', 5), ('Heart', 6), ('Heart', 7), ('Heart', 8), ('Heart', 9), ('Heart', 10), ('Heart', 11), ('Heart', 12), ('Club', 0), ('Club', 1), ('Club', 2), ('Club', 3), ('Club', 4), ('Club', 5), ('Club', 6), ('Club', 7), ('Club', 8), ('Club', 9), ('Club', 10), ('Club', 11), ('Club', 12), ('Spade', 0), ('Spade', 1), ('Spade', 2), ('Spade', 3), ('Spade', 4), ('Spade', 5), ('Spade', 6), ('Spade', 7), ('Spade', 8), ('Spade', 9), ('Spade', 10), ('Spade', 11), ('Spade', 12), ('Diamond', 0), ('Diamond', 1), ('Diamond', 2), ('Diamond', 3), ('Diamond', 4), ('Diamond', 5), ('Diamond', 6), ('Diamond', 7), ('Diamond', 8), ('Diamond', 9), ('Diamond', 10), ('Diamond', 11), ('Diamond', 12)]"
   ]
  },
  {
   "cell_type": "code",
   "execution_count": 4,
   "id": "c45ab5da",
   "metadata": {},
   "outputs": [
    {
     "name": "stdout",
     "output_type": "stream",
     "text": [
      "[('Spade', 11), ('Heart', 10), ('Diamond', 1)]\n"
     ]
    }
   ],
   "source": [
    "# Shuffle the deck\n",
    "np.random.shuffle(deck_of_cards)\n",
    "\n",
    "# Print out the top three cards\n",
    "card_choices_after_shuffle = deck_of_cards[0:3]\n",
    "print(card_choices_after_shuffle)"
   ]
  },
  {
   "cell_type": "markdown",
   "id": "c61cc39f",
   "metadata": {},
   "source": [
    "## B\n",
    "\n",
    "## Throwing a fair die\n",
    "\n",
    "Once you grasp the basics of designing a simulation, you can apply it to any system or process. Next, we will learn how each step is implemented using some basic examples.\n",
    "\n",
    "As we have learned, simulation involves repeated random sampling. The first step then is to get one random sample. Once we have that, all we do is repeat the process multiple times. This exercise will focus on understanding how we get one random sample. We will study this in the context of throwing a fair six-sided die.\n",
    "\n",
    "By the end of this exercise, you will be familiar with how to implement the first two steps of running a simulation - defining a random variable and assigning probabilities.\n",
    "\n",
    "For the rest of the course, look to the IPython shell to find out what seed has been set."
   ]
  },
  {
   "cell_type": "code",
   "execution_count": 5,
   "id": "c84e8239",
   "metadata": {},
   "outputs": [
    {
     "name": "stdout",
     "output_type": "stream",
     "text": [
      "Outcome of the throw: 5\n"
     ]
    }
   ],
   "source": [
    "np.random.seed(123)\n",
    "# Define die outcomes and probabilities\n",
    "die, probabilities, throws = [1,2,3,4,5,6], [1/6,1/6,1/6,1/6,1/6,1/6], 1\n",
    "\n",
    "# Use np.random.choice to throw the die once and record the outcome\n",
    "outcome = np.random.choice(die, size=throws, p=probabilities)\n",
    "print(\"Outcome of the throw: {}\".format(outcome[0]))"
   ]
  },
  {
   "cell_type": "markdown",
   "id": "8559e822",
   "metadata": {},
   "source": [
    "## Throwing two fair dice\n",
    "\n",
    "We now know how to implement the first two steps of a simulation. Now let's implement the next step - defining the relationship between random variables.\n",
    "\n",
    "Often times, our simulation will involve not just one, but multiple random variables. Consider a game where you throw two dice and win if each die shows the same number. Here we have two random variables - the two dice - and a relationship between each of them - we win if they show the same number, lose if they don't. In reality, the relationship between random variables can be much more complex, especially when simulating things like weather patterns.\n",
    "\n",
    "By the end of this exercise, you will be familiar with how to implement the third step of running a simulation - defining relationships between random variables."
   ]
  },
  {
   "cell_type": "code",
   "execution_count": 6,
   "id": "461effec",
   "metadata": {},
   "outputs": [
    {
     "name": "stdout",
     "output_type": "stream",
     "text": [
      "The dice show 5 and 5. You win!\n"
     ]
    }
   ],
   "source": [
    "np.random.seed(223)\n",
    "# Initialize number of dice, simulate & record outcome\n",
    "die, probabilities, num_dice = [1,2,3,4,5,6], [1/6, 1/6, 1/6, 1/6, 1/6, 1/6], 2\n",
    "outcomes = np.random.choice(die, size=num_dice, p=probabilities) \n",
    "\n",
    "# Win if the two dice show the same number\n",
    "if outcomes[0] == outcomes[1]: \n",
    "    answer = 'win' \n",
    "else:\n",
    "    answer = 'lose'\n",
    "\n",
    "print(\"The dice show {} and {}. You {}!\".format(outcomes[0], outcomes[1], answer))"
   ]
  },
  {
   "cell_type": "markdown",
   "id": "6dc8a3eb",
   "metadata": {},
   "source": [
    "## Simulating the dice game\n",
    "\n",
    "We now know how to implement the first three steps of a simulation. Now let's consider the next step - repeated random sampling.\n",
    "\n",
    "Simulating an outcome once doesn't tell us much about how often we can expect to see that outcome. In the case of the dice game from the previous exercise, it's great that we won once. But suppose we want to see how many times we can expect to win if we played this game multiple times, we need to repeat the random sampling process many times. Repeating the process of random sampling is helpful to understand and visualize inherent uncertainty and deciding next steps.\n",
    "\n",
    "Following this exercise, you will be familiar with implementing the fourth step of running a simulation - sampling repeatedly and generating outcomes."
   ]
  },
  {
   "cell_type": "code",
   "execution_count": 7,
   "id": "aca83082",
   "metadata": {},
   "outputs": [
    {
     "name": "stdout",
     "output_type": "stream",
     "text": [
      "In 100 games, you win 24 times\n"
     ]
    }
   ],
   "source": [
    "# Initialize model parameters & simulate dice throw\n",
    "die, probabilities, num_dice = [1,2,3,4,5,6], [1/6, 1/6, 1/6, 1/6, 1/6, 1/6], 2\n",
    "sims, wins = 100, 0\n",
    "\n",
    "for i in range(sims):\n",
    "    outcomes = np.random.choice(die, size=num_dice, p=probabilities) \n",
    "    # Increment `wins` by 1 if the dice show same number\n",
    "    if outcomes[0] == outcomes[1]: \n",
    "        wins = wins + 1 \n",
    "\n",
    "print(\"In {} games, you win {} times\".format(sims, wins))"
   ]
  },
  {
   "cell_type": "markdown",
   "id": "cee98a54",
   "metadata": {},
   "source": [
    "## C\n",
    "\n",
    "## Simulating one lottery drawing\n",
    "\n",
    "In the last three exercises of this chapter, we will be bringing together everything you've learned so far. We will run a complete simulation, take a decision based on our observed outcomes, and learn to modify inputs to the simulation model.\n",
    "\n",
    "We will use simulations to figure out whether or not we want to buy a lottery ticket. Suppose you have the opportunity to buy a lottery ticket which gives you a shot at a grand prize of $10,000. Since there are 1000 tickets in total, your probability of winning is 1 in 1000. Each ticket costs $10. Let's use our understanding of basic simulations to first simulate one drawing of the lottery."
   ]
  },
  {
   "cell_type": "code",
   "execution_count": 8,
   "id": "5887693e",
   "metadata": {},
   "outputs": [
    {
     "name": "stdout",
     "output_type": "stream",
     "text": [
      "Outcome of one drawing of the lottery is [-10]\n"
     ]
    }
   ],
   "source": [
    "np.random.seed(123)\n",
    "# Pre-defined constant variables\n",
    "lottery_ticket_cost, num_tickets, grand_prize = 10, 1000, 10000\n",
    "\n",
    "# Probability of winning\n",
    "chance_of_winning = 1/num_tickets\n",
    "\n",
    "# Simulate a single drawing of the lottery\n",
    "gains = [-lottery_ticket_cost, grand_prize-lottery_ticket_cost]\n",
    "probability = [1-chance_of_winning, chance_of_winning]\n",
    "outcome = np.random.choice(a=gains, size=1, p=probability, replace=True)\n",
    "\n",
    "print(\"Outcome of one drawing of the lottery is {}\".format(outcome))"
   ]
  },
  {
   "cell_type": "markdown",
   "id": "66a74144",
   "metadata": {},
   "source": [
    "## Should we buy?\n",
    "\n",
    "In the last exercise, we simulated the random drawing of the lottery ticket once. In this exercise, we complete the simulation process by repeating the process multiple times.\n",
    "\n",
    "Repeating the process gives us multiple outcomes. We can think of this as multiple universes where the same lottery drawing occurred. We can then determine the average winnings across all these universes. If the average winnings are greater than what we pay for the ticket then it makes sense to buy it, otherwise, we might not want to buy the ticket.\n",
    "\n",
    "This is typically how simulations are used for evaluating business investments. After completing this exercise, you will have the basic tools required to use simulations for decision-making."
   ]
  },
  {
   "cell_type": "code",
   "execution_count": 9,
   "id": "d542b169",
   "metadata": {},
   "outputs": [
    {
     "name": "stdout",
     "output_type": "stream",
     "text": [
      "Average payoff from 2000 simulations = -10.0\n"
     ]
    }
   ],
   "source": [
    "np.random.seed(122)\n",
    "# Initialize size and simulate outcome\n",
    "lottery_ticket_cost, num_tickets, grand_prize = 10, 1000, 10000\n",
    "chance_of_winning = 1/num_tickets\n",
    "size = 2000\n",
    "payoffs = [-lottery_ticket_cost, grand_prize-lottery_ticket_cost]\n",
    "probs = [1-chance_of_winning, chance_of_winning]\n",
    "\n",
    "outcomes = np.random.choice(a=payoffs, size=size, p=probs, replace=True)\n",
    "\n",
    "# Mean of outcomes.\n",
    "answer = np.mean(outcomes)\n",
    "print(\"Average payoff from {} simulations = {}\".format(size, answer))"
   ]
  },
  {
   "cell_type": "markdown",
   "id": "c7fcd9a9",
   "metadata": {},
   "source": [
    "## Calculating a break-even lottery price\n",
    "\n",
    "Simulations allow us to ask more nuanced questions that might not necessarily have an easy analytical solution. Rather than solving a complex mathematical formula, we directly get multiple sample outcomes. We can run experiments by modifying inputs and studying how those changes impact the system. For example, once we have a moderately reasonable model of global weather patterns, we could evaluate the impact of increased greenhouse gas emissions.\n",
    "\n",
    "In the lottery example, we might want to know how expensive the ticket needs to be for it to not make sense to buy it. To understand this, we need to modify the ticket cost to see when the expected payoff is negative.\n",
    "\n",
    "grand_prize, num_tickets, and chance_of_winning are loaded in the environment."
   ]
  },
  {
   "cell_type": "code",
   "execution_count": 10,
   "id": "247f8f81",
   "metadata": {},
   "outputs": [
    {
     "name": "stdout",
     "output_type": "stream",
     "text": [
      "The highest price at which it makes sense to buy the ticket is 9\n"
     ]
    }
   ],
   "source": [
    "np.random.seed(333)\n",
    "grand_price, num_tickets, chance_of_winning = 10000, 1000, 0.001\n",
    "# Initialize simulations and cost of ticket\n",
    "sims, lottery_ticket_cost = 3000, 0\n",
    "\n",
    "# Use a while loop to increment `lottery_ticket_cost` till average value of outcomes falls below zero\n",
    "while 1:\n",
    "    outcomes = np.random.choice([-lottery_ticket_cost, grand_prize-lottery_ticket_cost],\n",
    "                 size=sims, p=[1-chance_of_winning, chance_of_winning], replace=True)\n",
    "    if outcomes.mean() < 0:\n",
    "        break\n",
    "    else:\n",
    "        lottery_ticket_cost += 1\n",
    "answer = lottery_ticket_cost - 1\n",
    "\n",
    "print(\"The highest price at which it makes sense to buy the ticket is {}\".format(answer))"
   ]
  },
  {
   "cell_type": "markdown",
   "id": "5520e01a",
   "metadata": {},
   "source": [
    "# Part 2\n",
    "\n",
    "## A\n",
    "\n",
    "## Two of a kind\n",
    "\n",
    "Now let's use simulation to estimate probabilities. Suppose you've been invited to a game of poker at your friend's home. In this variation of the game, you are dealt five cards and the player with the better hand wins. You will use a simulation to estimate the probabilities of getting certain hands. Let's work on estimating the probability of getting at least two of a kind. Two of a kind is when you get two cards of different suites but having the same numeric value (e.g., 2 of hearts, 2 of spades, and 3 other cards).\n",
    "\n",
    "By the end of this exercise, you will know how to use simulation to calculate probabilities for card games."
   ]
  },
  {
   "cell_type": "code",
   "execution_count": 12,
   "id": "51d5d561",
   "metadata": {},
   "outputs": [
    {
     "name": "stdout",
     "output_type": "stream",
     "text": [
      "Probability of seeing at least two of a kind = 0.4952 \n"
     ]
    }
   ],
   "source": [
    "np.random.seed(123)\n",
    "# Shuffle deck & count card occurrences in the hand\n",
    "n_sims, two_kind = 10000, 0\n",
    "for i in range(n_sims):\n",
    "    np.random.shuffle(deck_of_cards)\n",
    "    hand, cards_in_hand = deck_of_cards[0:5], {}\n",
    "    for [suite, numeric_value] in hand:\n",
    "        # Count occurrences of each numeric value\n",
    "        cards_in_hand[numeric_value] = cards_in_hand.get(numeric_value, 0) + 1\n",
    "    \n",
    "    # Condition for getting at least 2 of a kind\n",
    "    if max(cards_in_hand.values()) >=2: \n",
    "        two_kind += 1\n",
    "\n",
    "print(\"Probability of seeing at least two of a kind = {} \".format(two_kind/n_sims))"
   ]
  },
  {
   "cell_type": "markdown",
   "id": "1dee29a7",
   "metadata": {},
   "source": [
    "## Game of thirteen\n",
    "\n",
    "A famous French mathematician Pierre Raymond De Montmart, who was known for his work in combinatorics, proposed a simple game called as Game of Thirteen. You have a deck of 13 cards, each numbered from 1 through 13. Shuffle this deck and draw cards one by one. A coincidence is when the number on the card matches the order in which the card is drawn. For instance, if the 5th card you draw happens to be a 5, it's a coincidence. You win the game if you get through all the cards without any coincidences. Let's calculate the probability of winning at this game using simulation.\n",
    "\n",
    "By completing this exercise, you will further strengthen your ability to cast abstract problems into the simulation framework for estimating probabilities"
   ]
  },
  {
   "cell_type": "code",
   "execution_count": 13,
   "id": "95b618b3",
   "metadata": {},
   "outputs": [
    {
     "name": "stdout",
     "output_type": "stream",
     "text": [
      "Probability of winning = 0.3578\n"
     ]
    }
   ],
   "source": [
    "# Pre-set constant variables\n",
    "deck, sims, coincidences = np.arange(1, 14), 10000, 0\n",
    "\n",
    "for _ in range(sims):\n",
    "    # Draw all the cards without replacement to simulate one game\n",
    "    draw = np.random.choice(deck, size=13, replace=False)\n",
    "    # Check if there are any coincidences\n",
    "    coincidence = (draw == list(np.arange(1, 14))).any()\n",
    "    if coincidence == True: \n",
    "        coincidences += 1\n",
    "\n",
    "# Calculate probability of winning\n",
    "prob_of_winning = 1 - coincidences / sims\n",
    "print(\"Probability of winning = {}\".format(prob_of_winning))"
   ]
  },
  {
   "cell_type": "markdown",
   "id": "54025d95",
   "metadata": {},
   "source": [
    "## B\n",
    "\n",
    "## The conditional urn\n",
    "\n",
    "As we've learned, conditional probability is defined as the probability of an event given another event. To illustrate this concept, let's turn to an urn problem.\n",
    "\n",
    "We have an urn that contains 7 white and 6 black balls. Four balls are drawn at random. We'd like to know the probability that the first and third balls are white, while the second and the fourth balls are black.\n",
    "\n",
    "Upon completion, you will learn to manipulate simulations to calculate simple conditional probabilities."
   ]
  },
  {
   "cell_type": "code",
   "execution_count": 14,
   "id": "cc04f283",
   "metadata": {},
   "outputs": [
    {
     "name": "stdout",
     "output_type": "stream",
     "text": [
      "Probability of success = 0.0722\n"
     ]
    }
   ],
   "source": [
    "np.random.seed(123)\n",
    "# Initialize success, sims and urn\n",
    "success, sims = 0, 5000\n",
    "urn = ['w','w','w','w','w','w','w','b','b','b','b','b','b']\n",
    "\n",
    "for _ in range(sims):\n",
    "    # Draw 4 balls without replacement\n",
    "    draw = np.random.choice(urn, replace=False, size=4)\n",
    "    # Count the number of successes\n",
    "    if (draw[0] == draw[2] == 'w') and (draw[1] == draw[3] == 'b'): \n",
    "        success +=1\n",
    "\n",
    "print(\"Probability of success = {}\".format(success/sims))"
   ]
  },
  {
   "cell_type": "markdown",
   "id": "e0ba203f",
   "metadata": {},
   "source": [
    "## Birthday problem\n",
    "\n",
    "Now we'll use simulation to solve a famous probability puzzle - the birthday problem. It sounds quite straightforward - How many people do you need in a room to ensure at least a 50% chance that two of them share the same birthday?\n",
    "\n",
    "With 366 people in a 365-day year, we are 100% sure that at least two have the same birthday, but we only need to be 50% sure. Simulation gives us an elegant way of solving this problem.\n",
    "\n",
    "Upon completion of this exercise, you will begin to understand how to cast problems in a simulation framework."
   ]
  },
  {
   "cell_type": "code",
   "execution_count": 15,
   "id": "d0841c7d",
   "metadata": {},
   "outputs": [
    {
     "name": "stdout",
     "output_type": "stream",
     "text": [
      "With 23 people, there's a 50% chance that two share a birthday.\n"
     ]
    }
   ],
   "source": [
    "np.random.seed(111)\n",
    "# Draw a sample of birthdays & check if each birthday is unique\n",
    "days = np.arange(1,366)\n",
    "people = 2\n",
    "\n",
    "def birthday_sim(people):\n",
    "    sims, unique_birthdays = 2000, 0 \n",
    "    for _ in range(sims):\n",
    "        draw = np.random.choice(days, size=people, replace=True)\n",
    "        if len(draw) == len(set(draw)): \n",
    "            unique_birthdays += 1\n",
    "    out = 1 - unique_birthdays / sims\n",
    "    return out\n",
    "# Break out of the loop if probability greater than 0.5\n",
    "while (people > 0):\n",
    "    prop_bds = birthday_sim(people)\n",
    "    if prop_bds > 0.5: \n",
    "        break\n",
    "    people += 1\n",
    "\n",
    "print(\"With {} people, there's a 50% chance that two share a birthday.\".format(people))"
   ]
  },
  {
   "cell_type": "markdown",
   "id": "e18ccc57",
   "metadata": {},
   "source": [
    "## Full house\n",
    "\n",
    "Let's return to our poker game. Last time, we calculated the probability of getting at least two of a kind. This time we are interested in a full house. A full house is when you get two cards of different suits that share the same numeric value and three other cards that have the same numeric value (e.g., 2 of hearts & spades, jacks of clubs, diamonds, & spades).\n",
    "\n",
    "Thus, a full house is the probability of getting exactly three of a kind conditional on getting exactly two of a kind of another value. Using the same code as before, modify the success condition to get the desired output. This exercise will teach you to estimate conditional probabilities in card games and build your foundation in framing abstract problems for simulation."
   ]
  },
  {
   "cell_type": "code",
   "execution_count": 17,
   "id": "0d09ed98",
   "metadata": {},
   "outputs": [],
   "source": [
    "deck_of_cards = [('Heart', 0), ('Heart', 1), ('Heart', 2), ('Heart', 3), ('Heart', 4), ('Heart', 5), ('Heart', 6), ('Heart', 7), ('Heart', 8), ('Heart', 9), ('Heart', 10), ('Heart', 11), ('Heart', 12), ('Club', 0), ('Club', 1), ('Club', 2), ('Club', 3), ('Club', 4), ('Club', 5), ('Club', 6), ('Club', 7), ('Club', 8), ('Club', 9), ('Club', 10), ('Club', 11), ('Club', 12), ('Spade', 0), ('Spade', 1), ('Spade', 2), ('Spade', 3), ('Spade', 4), ('Spade', 5), ('Spade', 6), ('Spade', 7), ('Spade', 8), ('Spade', 9), ('Spade', 10), ('Spade', 11), ('Spade', 12), ('Diamond', 0), ('Diamond', 1), ('Diamond', 2), ('Diamond', 3), ('Diamond', 4), ('Diamond', 5), ('Diamond', 6), ('Diamond', 7), ('Diamond', 8), ('Diamond', 9), ('Diamond', 10), ('Diamond', 11), ('Diamond', 12)]"
   ]
  },
  {
   "cell_type": "code",
   "execution_count": 18,
   "id": "e4e99f9c",
   "metadata": {},
   "outputs": [
    {
     "name": "stdout",
     "output_type": "stream",
     "text": [
      "Probability of seeing a full house = 0.0014\n"
     ]
    }
   ],
   "source": [
    "np.random.seed(123)\n",
    "#Shuffle deck & count card occurrences in the hand\n",
    "n_sims, full_house = 50000, 0 \n",
    "for i in range(n_sims):\n",
    "    np.random.shuffle(deck_of_cards)\n",
    "    hand, cards_in_hand = deck_of_cards[0:5], {}\n",
    "    for card in hand:\n",
    "        # Use .get() method to count occurrences of each card\n",
    "        cards_in_hand[card[1]] = cards_in_hand.get(card[1], 0) + 1\n",
    "        \n",
    "    # Condition for getting full house\n",
    "    condition = (max(cards_in_hand.values()) ==3) & (min(cards_in_hand.values())==2)\n",
    "    if condition: \n",
    "        full_house += 1\n",
    "print(\"Probability of seeing a full house = {}\".format(full_house/n_sims))"
   ]
  },
  {
   "cell_type": "markdown",
   "id": "f9a7b4ac",
   "metadata": {},
   "source": [
    "## C\n",
    "\n",
    "## Driving test\n",
    "\n",
    "Through the next exercises, we will learn how to build a data generating process (DGP) through progressively complex examples.\n",
    "\n",
    "In this exercise, you will simulate a very simple DGP. Suppose that you are about to take a driving test tomorrow. Based on your own practice and based on data you have gathered, you know that the probability of you passing the test is 90% when it's sunny and only 30% when it's raining. Your local weather station forecasts that there's a 40% chance of rain tomorrow. Based on this information, you want to know what is the probability of you passing the driving test tomorrow.\n",
    "\n",
    "This is a simple problem and can be solved analytically. Here, you will learn how to model a simple DGP and see how it can be used for simulation."
   ]
  },
  {
   "cell_type": "code",
   "execution_count": 19,
   "id": "96fd2ed2",
   "metadata": {},
   "outputs": [
    {
     "name": "stdout",
     "output_type": "stream",
     "text": [
      "Probability of Passing the driving test = 0.654\n"
     ]
    }
   ],
   "source": [
    "np.random.seed(222)\n",
    "sims, outcomes, p_rain, p_pass = 1000, [], 0.40, {'sun':0.9, 'rain':0.3}\n",
    "\n",
    "def test_outcome(p_rain):\n",
    "    # Simulate whether it will rain or not\n",
    "    weather = np.random.choice(['rain', 'sun'], p=[p_rain, 1-p_rain])\n",
    "    # Simulate and return whether you will pass or fail\n",
    "    test_result = np.random.choice(['pass', 'fail'], p=[p_pass[weather], 1-p_pass[weather]])\n",
    "    return test_result\n",
    "for _ in range(sims):\n",
    "    outcomes.append(test_outcome(p_rain))\n",
    "\n",
    "# Calculate fraction of outcomes where you pass\n",
    "pass_outcomes_frac = np.sum(np.array(outcomes) == 'pass')/len(outcomes)\n",
    "print(\"Probability of Passing the driving test = {}\".format(pass_outcomes_frac))"
   ]
  },
  {
   "cell_type": "markdown",
   "id": "46ebb72d",
   "metadata": {},
   "source": [
    "## National elections\n",
    "\n",
    "This exercise will give you a taste of how you can model a DGP at different levels of complexity.\n",
    "\n",
    "Consider national elections in a country with two political parties - Red and Blue. This country has 50 states and the party that wins the most states wins the elections. You have the probability \n",
    "p\n",
    " of Red winning in each individual state and want to know the probability of Red winning nationally.\n",
    "\n",
    "Let's model the DGP to understand the distribution. Suppose the election outcome in each state follows a binomial distribution with probability \n",
    "p\n",
    " such that \n",
    "0\n",
    " indicates a loss for Red and \n",
    "1\n",
    " indicates a win. We then simulate a number of election outcomes. Finally, we can ask rich questions like what is the probability of Red winning less than 45% of the states?"
   ]
  },
  {
   "cell_type": "code",
   "execution_count": 20,
   "id": "d23082fa",
   "metadata": {},
   "outputs": [],
   "source": [
    "np.random.seed(224)\n",
    "p = np.array([0.52076814, 0.67846401, 0.82731745, 0.64722761, 0.03665174,\n",
    "       0.17835411, 0.75296372, 0.22206157, 0.72778372, 0.28461556,\n",
    "       0.72545221, 0.106571  , 0.09291364, 0.77535718, 0.51440142,\n",
    "       0.89604586, 0.39376099, 0.24910244, 0.92518253, 0.08165597,\n",
    "       0.4212476 , 0.74123879, 0.2479099 , 0.46125805, 0.19584491,\n",
    "       0.24440482, 0.349916  , 0.80224624, 0.80186664, 0.82968251,\n",
    "       0.91178779, 0.51739059, 0.67338858, 0.15675863, 0.37772308,\n",
    "       0.77134621, 0.71727114, 0.92700912, 0.28386132, 0.25502498,\n",
    "       0.30081506, 0.19724585, 0.29129564, 0.56623386, 0.97681039,\n",
    "       0.96263926, 0.0548948 , 0.14092758, 0.54739446, 0.54555576])"
   ]
  },
  {
   "cell_type": "code",
   "execution_count": 21,
   "id": "7aa85ae1",
   "metadata": {},
   "outputs": [
    {
     "name": "stdout",
     "output_type": "stream",
     "text": [
      "Probability of Red winning in less than 45% of the states = 0.196\n"
     ]
    }
   ],
   "source": [
    "outcomes, sims, probs = [], 1000, p\n",
    "\n",
    "for _ in range(sims):\n",
    "    # Simulate elections in the 50 states\n",
    "    election = np.random.binomial(n=1, p=probs)\n",
    "    # Get average of Red wins and add to `outcomes`\n",
    "    outcomes.append(np.mean(election))\n",
    "\n",
    "# Calculate probability of Red winning in less than 45% of the states\n",
    "prob_red_wins = np.sum(np.array(outcomes) < 0.45) / len(outcomes)\n",
    "print(\"Probability of Red winning in less than 45% of the states = {}\".format(prob_red_wins))"
   ]
  },
  {
   "cell_type": "markdown",
   "id": "a68c8d7d",
   "metadata": {},
   "source": [
    "## Fitness goals\n",
    "\n",
    "Let's model how activity levels impact weight loss using modern fitness trackers. On days when you go to the gym, you average around 15k steps, and around 5k steps otherwise. You go to the gym 40% of the time. Let's model the step counts in a day as a Poisson random variable with a mean \n",
    "λ\n",
    " dependent on whether or not you go to the gym.\n",
    "\n",
    "For simplicity, let’s say you have an 80% chance of losing 1lb and a 20% chance of gaining 1lb when you get more than 10k steps. The probabilities are reversed when you get less than 8k steps. Otherwise, there's an even chance of gaining or losing 1lb. Given all this information, find the probability of losing weight in a month."
   ]
  },
  {
   "cell_type": "code",
   "execution_count": 24,
   "id": "afffd2c6",
   "metadata": {},
   "outputs": [
    {
     "name": "stdout",
     "output_type": "stream",
     "text": [
      "Probability of Weight Loss = 0.1075\n"
     ]
    }
   ],
   "source": [
    "np.random.seed(222)\n",
    "days = 30\n",
    "# Simulate steps & choose prob \n",
    "for _ in range(sims):\n",
    "    w = []\n",
    "    for i in range(days):\n",
    "        lam = np.random.choice([5000, 15000], p=[0.6, 0.4], size=1)\n",
    "        steps = np.random.poisson(lam)\n",
    "        if steps > 10000: \n",
    "            prob = [0.2,0.8]\n",
    "        elif steps < 8000: \n",
    "            prob = [0.8,0.2]\n",
    "        else:\n",
    "            prob = [0.5, 0.5]\n",
    "        w.append(np.random.choice([1, -1], p=prob))\n",
    "    outcomes.append(sum(w))\n",
    "\n",
    "# Calculate fraction of outcomes where there was a weight loss\n",
    "weight_loss_outcomes_frac = np.sum(np.array(outcomes) < 0) / len(outcomes)\n",
    "print(\"Probability of Weight Loss = {}\".format(weight_loss_outcomes_frac))"
   ]
  },
  {
   "cell_type": "markdown",
   "id": "de54e955",
   "metadata": {},
   "source": [
    "## D\n",
    "\n",
    "## Sign up Flow\n",
    "\n",
    "We will now model the DGP of an eCommerce ad flow starting with sign-ups.\n",
    "\n",
    "On any day, we get many ad impressions, which can be modeled as Poisson random variables (RV). You are told that \n",
    "λ\n",
    " is normally distributed with a mean of 100k visitors and standard deviation 2000.\n",
    "\n",
    "During the signup journey, the customer sees an ad, decides whether or not to click, and then whether or not to signup. Thus both clicks and signups are binary, modeled using binomial RVs. What about probability \n",
    "p\n",
    " of success? Our current low-cost option gives us a click-through rate of 1% and a sign-up rate of 20%. A higher cost option could increase the clickthrough and signup rate by up to 20%, but we are unsure of the level of improvement, so we model it as a uniform RV."
   ]
  },
  {
   "cell_type": "code",
   "execution_count": 25,
   "id": "07f34b38",
   "metadata": {},
   "outputs": [
    {
     "name": "stdout",
     "output_type": "stream",
     "text": [
      "Simulated Signups = [268]\n"
     ]
    }
   ],
   "source": [
    "np.random.seed(123)\n",
    "# Initialize click-through rate and signup rate dictionaries\n",
    "ct_rate = {'low':0.01, 'high':np.random.uniform(low=0.01, high=1.2*0.01)}\n",
    "su_rate = {'low':0.2, 'high':np.random.uniform(low=0.2, high=1.2*0.2)}\n",
    "\n",
    "def get_signups(cost, ct_rate, su_rate, sims):\n",
    "    lam = np.random.normal(loc=100000, scale=2000, size=sims)\n",
    "    # Simulate impressions(poisson), clicks(binomial) and signups(binomial)\n",
    "    impressions = np.random.poisson(lam)\n",
    "    clicks = np.random.binomial(n=impressions, p=ct_rate[cost])\n",
    "    signups = np.random.binomial(n=clicks, p=su_rate[cost])\n",
    "    return signups\n",
    "\n",
    "print(\"Simulated Signups = {}\".format(get_signups('high', ct_rate, su_rate, 1)))"
   ]
  },
  {
   "cell_type": "markdown",
   "id": "1ae77c05",
   "metadata": {},
   "source": [
    "## Purchase Flow\n",
    "\n",
    "After signups, let's model the revenue generation process. Once the customer has signed up, they decide whether or not to purchase - a natural candidate for a binomial RV. Let's assume that 10% of signups result in a purchase.\n",
    "\n",
    "Although customers can make many purchases, let's assume one purchase. The purchase value could be modeled by any continuous RV, but one nice candidate is the exponential RV. Suppose we know that purchase value per customer has averaged around $1000. We use this information to create the purchase_values RV. The revenue, then, is simply the sum of all purchase values.\n",
    "\n",
    "The variables ct_rate, su_rate and the function get_signups() from the last exercise are pre-loaded for you."
   ]
  },
  {
   "cell_type": "code",
   "execution_count": 26,
   "id": "14d35d38",
   "metadata": {},
   "outputs": [
    {
     "name": "stdout",
     "output_type": "stream",
     "text": [
      "Simulated Revenue = $19788.227707152106\n"
     ]
    }
   ],
   "source": [
    "def get_revenue(signups):\n",
    "    rev = []\n",
    "    np.random.seed(123)\n",
    "    for s in signups:\n",
    "        # Model purchases as binomial, purchase_values as exponential\n",
    "        purchases = np.random.binomial(s, p=0.1)\n",
    "        purchase_values = np.random.exponential(1000, size=purchases)\n",
    "        \n",
    "        # Append to revenue the sum of all purchase values.\n",
    "        rev.append(np.sum(purchase_values))\n",
    "    return rev\n",
    "\n",
    "print(\"Simulated Revenue = ${}\".format(get_revenue(get_signups('low', ct_rate, su_rate, 1))[0]))"
   ]
  },
  {
   "cell_type": "markdown",
   "id": "f5bf7b49",
   "metadata": {},
   "source": [
    "## Probability of losing money\n",
    "\n",
    "In this exercise, we will use the DGP model to estimate probability.\n",
    "\n",
    "As seen earlier, this company has the option of spending extra money, let's say $3000, to redesign the ad. This could potentially get them higher clickthrough and signup rates, but this is not guaranteed. We would like to know whether or not to spend this extra $3000 by calculating the probability of losing money. In other words, the probability that the revenue from the high-cost option minus the revenue from the low-cost option is lesser than the cost.\n",
    "\n",
    "Once we have simulated revenue outcomes, we can ask a rich set of questions that might not have been accessible using traditional analytical methods.\n",
    "\n",
    "This simple yet powerful framework forms the basis of Bayesian methods for getting probabilities."
   ]
  },
  {
   "cell_type": "code",
   "execution_count": 27,
   "id": "4558395b",
   "metadata": {},
   "outputs": [
    {
     "name": "stdout",
     "output_type": "stream",
     "text": [
      "Probability of losing money = 0.4501\n"
     ]
    }
   ],
   "source": [
    "# Initialize cost_diff\n",
    "sims, cost_diff = 10000, 3000\n",
    "\n",
    "# Get revenue when the cost is 'low' and when the cost is 'high'\n",
    "rev_low = get_revenue(get_signups('low', ct_rate, su_rate, sims))\n",
    "rev_high = get_revenue(get_signups('high', ct_rate, su_rate, sims))\n",
    "\n",
    "# calculate fraction of times rev_high - rev_low is less than cost_diff\n",
    "frac = np.sum(np.array(rev_high) - np.array(rev_low) < cost_diff)/ sims\n",
    "print(\"Probability of losing money = {}\".format(frac))"
   ]
  },
  {
   "cell_type": "markdown",
   "id": "a1839fe3",
   "metadata": {},
   "source": [
    "# Part 3\n",
    "\n",
    "## A\n",
    "\n",
    "## Probability example\n",
    "\n",
    "In this exercise, we will review the difference between sampling with and without replacement. We will calculate the probability of an event using simulation, but vary our sampling method to see how it impacts probability.\n",
    "\n",
    "Consider a bowl filled with colored candies - three blue, two green, and five yellow. Draw three candies, one at a time, with replacement and without replacement. You want to calculate the probability that all three candies are yellow."
   ]
  },
  {
   "cell_type": "code",
   "execution_count": 29,
   "id": "b1714ccc",
   "metadata": {},
   "outputs": [
    {
     "name": "stdout",
     "output_type": "stream",
     "text": [
      "Probability with replacement = 0.1242, without replacement = 0.0853\n"
     ]
    }
   ],
   "source": [
    "# Set up the bowl\n",
    "success_rep, success_no_rep, sims = 0, 0, 10000\n",
    "bowl = list('b'*3 + 'g'*2 + 'y'*5)\n",
    "\n",
    "for i in range(sims):\n",
    "    # Sample with and without replacement & increment success counters\n",
    "    sample_rep = np.random.choice(bowl, size=3, replace=True)\n",
    "    sample_no_rep = np.random.choice(bowl, size=3, replace=False)\n",
    "    if ('b' not in sample_rep) & ('g' not in sample_rep) : \n",
    "        success_rep += 1\n",
    "    if ('b' not in sample_no_rep) & ('g' not in sample_no_rep) : \n",
    "        success_no_rep += 1\n",
    "\n",
    "# Calculate probabilities\n",
    "prob_with_replacement = success_rep/sims\n",
    "prob_without_replacement = success_no_rep/sims\n",
    "print(\"Probability with replacement = {}, without replacement = {}\".format(prob_with_replacement, prob_without_replacement))"
   ]
  },
  {
   "cell_type": "markdown",
   "id": "042db681",
   "metadata": {},
   "source": [
    "## B"
   ]
  },
  {
   "cell_type": "markdown",
   "id": "8f9ba5a5",
   "metadata": {},
   "source": [
    "## Running a simple bootstrap\n",
    "\n",
    "Welcome to the first exercise in the bootstrapping section. We will work through an example where we learn to run a simple bootstrap. As we saw in the video, the main idea behind bootstrapping is sampling with replacement.\n",
    "\n",
    "Suppose you own a factory that produces wrenches. You want to be able to characterize the average length of the wrenches and ensure that they meet some specifications. Your factory produces thousands of wrenches every day, but it's infeasible to measure the length of each wrench. However, you have access to a representative sample of 100 wrenches. Let's use bootstrapping to get the 95% confidence interval (CI) for the average lengths.\n",
    "\n",
    "Examine the list wrench_lengths, which has 100 observed lengths of wrenches, in the shell."
   ]
  },
  {
   "cell_type": "code",
   "execution_count": 30,
   "id": "59ea37f0",
   "metadata": {},
   "outputs": [],
   "source": [
    "np.random.seed(123)\n",
    "wrench_lengths = np.array([ 8.9143694 , 10.99734545, 10.2829785 ,  8.49370529,  9.42139975,\n",
    "       11.65143654,  7.57332076,  9.57108737, 11.26593626,  9.1332596 ,\n",
    "        9.32111385,  9.90529103, 11.49138963,  9.361098  ,  9.55601804,\n",
    "        9.56564872, 12.20593008, 12.18678609, 11.0040539 , 10.3861864 ,\n",
    "       10.73736858, 11.49073203,  9.06416613, 11.17582904,  8.74611933,\n",
    "        9.3622485 , 10.9071052 ,  8.5713193 ,  9.85993128,  9.1382451 ,\n",
    "        9.74438063,  7.20141089,  8.2284669 ,  9.30012277, 10.92746243,\n",
    "        9.82636432, 10.00284592, 10.68822271,  9.12046366, 10.28362732,\n",
    "        9.19463348,  8.27233051,  9.60910021, 10.57380586, 10.33858905,\n",
    "        9.98816951, 12.39236527, 10.41291216, 10.97873601, 12.23814334,\n",
    "        8.70591468,  8.96121179, 11.74371223,  9.20193726, 10.02968323,\n",
    "       11.06931597, 10.89070639, 11.75488618, 11.49564414, 11.06939267,\n",
    "        9.22729129, 10.79486267, 10.31427199,  8.67373454, 11.41729905,\n",
    "       10.80723653, 10.04549008,  9.76690794,  8.80169886, 10.19952407,\n",
    "       10.46843912,  9.16884502, 11.16220405,  8.90279695,  7.87689965,\n",
    "       11.03972709,  9.59663396,  9.87397041,  9.16248328,  8.39403724,\n",
    "       11.25523737,  9.31113102, 11.66095249, 10.80730819,  9.68524185,\n",
    "        8.9140976 ,  9.26753801,  8.78747687, 12.08711336, 10.16444123,\n",
    "       11.15020554,  8.73264795, 10.18103513, 11.17786194,  9.66498924,\n",
    "       11.03111446,  8.91543209,  8.63652846, 10.37940061,  9.62082357])"
   ]
  },
  {
   "cell_type": "code",
   "execution_count": 31,
   "id": "b0930bd3",
   "metadata": {},
   "outputs": [
    {
     "name": "stdout",
     "output_type": "stream",
     "text": [
      "Bootstrapped Mean Length = 10.0270443060217, 95% CI = [ 9.80453269 10.257679  ]\n"
     ]
    }
   ],
   "source": [
    "# Draw some random sample with replacement and append mean to mean_lengths.\n",
    "mean_lengths, sims = [], 1000\n",
    "for i in range(sims):\n",
    "    temp_sample = np.random.choice(wrench_lengths, replace=True, size=len(wrench_lengths\n",
    "    ))\n",
    "    sample_mean = np.mean(temp_sample)\n",
    "    mean_lengths.append(sample_mean)\n",
    "    \n",
    "# Calculate bootstrapped mean and 95% confidence interval.\n",
    "boot_mean = np.mean(mean_lengths)\n",
    "boot_95_ci = np.percentile(mean_lengths, [2.5, 97.5])\n",
    "print(\"Bootstrapped Mean Length = {}, 95% CI = {}\".format(boot_mean, boot_95_ci))"
   ]
  },
  {
   "cell_type": "markdown",
   "id": "b83c0fc2",
   "metadata": {},
   "source": [
    "## Non-standard estimators\n",
    "\n",
    "In the last exercise, you ran a simple bootstrap that we will now modify for more complicated estimators.\n",
    "\n",
    "Suppose you are studying the health of students. You are given the height and weight of 1000 students and are interested in the median height as well as the correlation between height and weight and the associated 95% CI for these quantities. Let's use bootstrapping.\n",
    "\n",
    "Examine the pandas DataFrame df with the heights and weights of 1000 students. Using this, calculate the 95% CI for both the median height as well as the correlation between height and weight."
   ]
  },
  {
   "cell_type": "code",
   "execution_count": null,
   "id": "2d3ac6e4",
   "metadata": {},
   "outputs": [],
   "source": [
    "# Sample with replacement and calculate quantities of interest\n",
    "sims, data_size, height_medians, hw_corr = 1000, df.shape[0], [], []\n",
    "for i in range(sims):\n",
    "    tmp_df = df.sample(n=data_size, replace=True)\n",
    "    height_medians.append(tmp_df['heights'].median())\n",
    "    hw_corr.append(tmp_df.weights.corr(tmp_df.heights))\n",
    "\n",
    "# Calculate confidence intervals\n",
    "height_median_ci = np.percentile(height_medians, [2.5, 97.5])\n",
    "height_weight_corr_ci = np.percentile(hw_corr, [2.5, 97.5])\n",
    "print(\"Height Median CI = {} \\nHeight Weight Correlation CI = {}\".format( height_median_ci, height_weight_corr_ci))"
   ]
  },
  {
   "cell_type": "markdown",
   "id": "a82b0d6a",
   "metadata": {},
   "source": [
    "## Bootstrapping regression\n",
    "\n",
    "Now let's see how bootstrapping works with regression. Bootstrapping helps estimate the uncertainty of non-standard estimators. Consider the \n",
    "R\n",
    "2\n",
    " statistic associated with a regression. When you run a simple least squares regression, you get a value for \n",
    "R\n",
    "2\n",
    ". But let's see how can we get a 95% CI for \n",
    "R\n",
    "2\n",
    ".\n",
    "\n",
    "Examine the DataFrame df with a dependent variable \n",
    "y\n",
    " and two independent variables \n",
    "X\n",
    "1\n",
    " and \n",
    "X\n",
    "2\n",
    " using df.head(). We've already fit this regression with statsmodels (sm) using:\n",
    "\n",
    "reg_fit = sm.OLS(df['y'], df.iloc[:,1:]).fit()\n",
    "\n",
    "Examine the result using reg_fit.summary() to find that \n",
    "R\n",
    "2\n",
    "=\n",
    "0.3504\n",
    ". Use bootstrapping to calculate the 95% CI."
   ]
  },
  {
   "cell_type": "code",
   "execution_count": null,
   "id": "3ae623f7",
   "metadata": {},
   "outputs": [],
   "source": [
    "rsquared_boot, coefs_boot, sims = [], [], 1000\n",
    "reg_fit = sm.OLS(df['y'], df.iloc[:,1:]).fit()\n",
    "\n",
    "# Run 1K iterations\n",
    "for i in range(sims):\n",
    "    # First create a bootstrap sample with replacement with n=df.shape[0]\n",
    "    bootstrap = df.sample(n=df.shape[0], replace=True)\n",
    "    # Fit the regression and append the r square to rsquared_boot\n",
    "    rsquared_boot.append(sm.OLS(bootstrap['y'],bootstrap.iloc[:,1:]).fit().rsquared)\n",
    "\n",
    "# Calculate 95% CI on rsquared_boot\n",
    "r_sq_95_ci = np.percentile(rsquared_boot, [2.5,97.5])\n",
    "print(\"R Squared 95% CI = {}\".format(r_sq_95_ci))"
   ]
  },
  {
   "cell_type": "markdown",
   "id": "c3b7b2db",
   "metadata": {},
   "source": [
    "## C\n",
    "\n",
    "## Basic jackknife estimation - mean\n",
    "\n",
    "Jackknife resampling is an older procedure, which isn't used as often compared as bootstrapping. However, it's still useful to know how to run a basic jackknife estimation procedure. In this first exercise, we will calculate the jackknife estimate for the mean. Let's return to the wrench factory.\n",
    "\n",
    "You own a wrench factory and want to measure the average length of the wrenches to ensure that they meet some specifications. Your factory produces thousands of wrenches every day, but it's infeasible to measure the length of each wrench. However, you have access to a representative sample of 100 wrenches. Let's use jackknife estimation to get the average lengths.\n",
    "\n",
    "Examine the variable wrench_lengths in the shell."
   ]
  },
  {
   "cell_type": "code",
   "execution_count": 33,
   "id": "c32c9e97",
   "metadata": {},
   "outputs": [],
   "source": [
    "np.random.seed(123)\n",
    "wrench_lengths = np.array([ 8.9143694 , 10.99734545, 10.2829785 ,  8.49370529,  9.42139975,\n",
    "       11.65143654,  7.57332076,  9.57108737, 11.26593626,  9.1332596 ,\n",
    "        9.32111385,  9.90529103, 11.49138963,  9.361098  ,  9.55601804,\n",
    "        9.56564872, 12.20593008, 12.18678609, 11.0040539 , 10.3861864 ,\n",
    "       10.73736858, 11.49073203,  9.06416613, 11.17582904,  8.74611933,\n",
    "        9.3622485 , 10.9071052 ,  8.5713193 ,  9.85993128,  9.1382451 ,\n",
    "        9.74438063,  7.20141089,  8.2284669 ,  9.30012277, 10.92746243,\n",
    "        9.82636432, 10.00284592, 10.68822271,  9.12046366, 10.28362732,\n",
    "        9.19463348,  8.27233051,  9.60910021, 10.57380586, 10.33858905,\n",
    "        9.98816951, 12.39236527, 10.41291216, 10.97873601, 12.23814334,\n",
    "        8.70591468,  8.96121179, 11.74371223,  9.20193726, 10.02968323,\n",
    "       11.06931597, 10.89070639, 11.75488618, 11.49564414, 11.06939267,\n",
    "        9.22729129, 10.79486267, 10.31427199,  8.67373454, 11.41729905,\n",
    "       10.80723653, 10.04549008,  9.76690794,  8.80169886, 10.19952407,\n",
    "       10.46843912,  9.16884502, 11.16220405,  8.90279695,  7.87689965,\n",
    "       11.03972709,  9.59663396,  9.87397041,  9.16248328,  8.39403724,\n",
    "       11.25523737,  9.31113102, 11.66095249, 10.80730819,  9.68524185,\n",
    "        8.9140976 ,  9.26753801,  8.78747687, 12.08711336, 10.16444123,\n",
    "       11.15020554,  8.73264795, 10.18103513, 11.17786194,  9.66498924,\n",
    "       11.03111446,  8.91543209,  8.63652846, 10.37940061,  9.62082357])"
   ]
  },
  {
   "cell_type": "code",
   "execution_count": 34,
   "id": "ccb22f09",
   "metadata": {},
   "outputs": [
    {
     "name": "stdout",
     "output_type": "stream",
     "text": [
      "Jackknife estimate of the mean = 10.027109074099998\n"
     ]
    }
   ],
   "source": [
    "# Leave one observation out from wrench_lengths to get the jackknife sample and store the mean length\n",
    "mean_lengths, n = [], len(wrench_lengths)\n",
    "index = np.arange(n)\n",
    "\n",
    "for i in range(n):\n",
    "    jk_sample = wrench_lengths[index != i]\n",
    "    mean_lengths.append(np.mean(jk_sample))\n",
    "\n",
    "# The jackknife estimate is the mean of the mean lengths from each sample\n",
    "mean_lengths_jk = np.mean(np.array(mean_lengths))\n",
    "print(\"Jackknife estimate of the mean = {}\".format(mean_lengths_jk))"
   ]
  },
  {
   "cell_type": "markdown",
   "id": "f0d1bc97",
   "metadata": {},
   "source": [
    "## Jackknife confidence interval for the median\n",
    "\n",
    "In this exercise, we will calculate the jackknife 95% CI for a non-standard estimator. Here, we will look at the median. Keep in mind that the variance of a jackknife estimator is n-1 times the variance of the individual jackknife sample estimates where n is the number of observations in the original sample.\n",
    "\n",
    "Returning to the wrench factory, you are now interested in estimating the median length of the wrenches along with a 95% CI to ensure that the wrenches are within tolerance.\n",
    "\n",
    "Let's revisit the code from the previous exercise, but this time in the context of median lengths. By the end of this exercise, you will have a much better idea of how to use jackknife resampling to calculate confidence intervals for non-standard estimators."
   ]
  },
  {
   "cell_type": "code",
   "execution_count": 35,
   "id": "5a911345",
   "metadata": {},
   "outputs": [
    {
     "name": "stdout",
     "output_type": "stream",
     "text": [
      "Jackknife 95% CI lower = 9.138592415216381, upper = 10.754868124783625\n"
     ]
    }
   ],
   "source": [
    "# Leave one observation out to get the jackknife sample and store the median length\n",
    "median_lengths = []\n",
    "for i in range(n):\n",
    "    jk_sample = wrench_lengths[index != i]\n",
    "    median_lengths.append(np.median(jk_sample))\n",
    "\n",
    "median_lengths = np.array(median_lengths)\n",
    "\n",
    "# Calculate jackknife estimate and it's variance\n",
    "jk_median_length = np.mean(median_lengths)\n",
    "jk_var = (n-1)*np.var(median_lengths)\n",
    "\n",
    "# Assuming normality, calculate lower and upper 95% confidence intervals\n",
    "jk_lower_ci = jk_median_length - 1.96*np.sqrt(jk_var)\n",
    "jk_upper_ci = jk_median_length + 1.96*np.sqrt(jk_var)\n",
    "print(\"Jackknife 95% CI lower = {}, upper = {}\".format(jk_lower_ci, jk_upper_ci))"
   ]
  },
  {
   "cell_type": "markdown",
   "id": "8d27443a",
   "metadata": {},
   "source": [
    "## D\n",
    "\n",
    "## Generating a single permutation\n",
    "\n",
    "In the next few exercises, we will run a significance test using permutation testing. As discussed in the video, we want to see if there's any difference in the donations generated by the two designs - A and B. Suppose that you have been running both the versions for a few days and have generated 500 donations on A and 700 donations on B, stored in the variables donations_A and donations_B.\n",
    "\n",
    "We first need to generate a null distribution for the difference in means. We will achieve this by generating multiple permutations of the dataset and calculating the difference in means for each case.\n",
    "\n",
    "First, let's generate one permutation and calculate the difference in means for the permuted dataset."
   ]
  },
  {
   "cell_type": "code",
   "execution_count": 36,
   "id": "f9bb7a6a",
   "metadata": {},
   "outputs": [],
   "source": [
    "donations_A = np.array([7.15363286e+00, 2.02240490e+00, 1.54370448e+00, 4.80860209e+00,\n",
    "       7.62642561e+00, 3.30058521e+00, 2.37058924e+01, 6.92785364e+00,\n",
    "       3.93432116e+00, 2.98664221e+00, 2.52205350e+00, 7.83491938e+00,\n",
    "       3.46363306e+00, 3.69196795e-01, 3.04542810e+00, 8.03635944e+00,\n",
    "       1.20896556e+00, 1.15751776e+00, 4.54997304e+00, 4.55351188e+00,\n",
    "       6.03730837e+00, 1.13600346e+01, 7.73403302e+00, 5.66541826e+00,\n",
    "       7.69038204e+00, 2.34013992e+00, 2.69451474e+00, 1.55467056e+00,\n",
    "       2.08641054e+00, 5.98136359e+00, 5.79758878e-01, 3.41180026e+00,\n",
    "       3.38180211e+00, 4.08357880e+00, 3.32898159e+00, 2.24607719e+00,\n",
    "       3.33442862e+00, 1.34314207e+01, 1.73115909e+01, 4.18096377e+00,\n",
    "       5.86824609e+00, 7.37199778e-01, 2.29007093e+00, 3.21507841e+00,\n",
    "       1.20733518e+01, 1.72973646e+00, 3.95867209e+00, 2.54264298e+01,\n",
    "       4.39738249e+00, 5.69434848e+00, 7.71288120e-01, 1.05039631e+01,\n",
    "       5.54382280e+00, 4.72564402e+00, 2.51827118e+00, 2.17547509e+00,\n",
    "       3.23763715e+00, 6.86104476e+00, 1.24986178e+01, 4.28527304e+00,\n",
    "       6.63951203e+00, 5.29041637e+00, 5.88343175e+00, 6.73784273e+00,\n",
    "       1.10839795e+01, 5.21162799e-01, 8.65548290e+00, 1.67563618e+00,\n",
    "       1.29568920e+00, 5.09820187e+00, 6.03647739e-01, 1.29940150e+01,\n",
    "       5.92106741e+00, 7.71145201e+00, 9.75641890e-02, 5.41479857e+00,\n",
    "       4.88220440e+00, 1.03869381e+00, 9.96827044e-01, 7.13508703e+00,\n",
    "       2.30310027e+00, 7.06535435e+00, 4.84977600e+00, 2.95546458e+00,\n",
    "       1.55522115e+01, 1.10584428e+01, 2.65337427e+00, 2.67420709e-01,\n",
    "       2.18105869e+00, 3.04683794e+00, 7.32384225e+00, 3.22362829e+01,\n",
    "       2.63954619e+00, 8.62673398e+00, 5.39626123e+00, 7.06012667e+00,\n",
    "       9.83077347e-01, 3.05372718e+00, 1.65338197e+00, 2.52459352e+00,\n",
    "       4.31852605e+00, 6.59091568e+00, 6.71682860e-01, 8.41747654e-01,\n",
    "       2.33147632e+00, 6.50052761e+00, 1.12445716e+01, 4.83463539e+00,\n",
    "       1.15635162e+01, 2.91521595e+00, 2.28569953e+00, 2.62419344e+00,\n",
    "       1.12580302e+00, 1.06005037e+01, 2.48102160e+00, 4.82273069e+00,\n",
    "       5.18434570e+00, 4.42300896e+00, 1.61501034e-02, 2.67123359e+01,\n",
    "       1.41448824e+01, 1.39640533e+00, 2.07601611e+00, 4.40394197e+00,\n",
    "       1.39313031e+01, 2.46741537e+01, 1.78673437e+00, 4.98562121e+00,\n",
    "       9.86941707e+00, 3.00891678e+00, 7.87989267e+00, 1.05376100e+00,\n",
    "       5.50823207e+00, 1.20534269e+01, 2.46342324e+01, 4.96154929e-01,\n",
    "       3.35534157e+00, 1.37302986e+00, 3.59396956e+00, 4.76130100e+00,\n",
    "       5.87838622e-01, 2.11320218e+00, 1.57519880e+01, 5.04993508e+00,\n",
    "       3.66842994e+00, 8.40299238e+00, 8.12556925e+00, 2.98791942e-01,\n",
    "       7.40035604e+00, 1.09671812e+01, 1.08868440e+00, 9.11204480e+00,\n",
    "       2.02574498e+00, 2.19576255e+00, 6.56643327e+00, 7.08595672e-01,\n",
    "       6.55946442e+00, 1.31278715e+01, 7.15051206e+00, 3.48242496e+00,\n",
    "       3.45980981e+00, 8.69147259e+00, 5.00331722e+00, 5.32358877e-01,\n",
    "       5.24328366e+00, 1.01193298e+01, 2.46648252e+00, 1.57513533e+01,\n",
    "       8.33499890e+00, 5.12079461e+00, 8.35735220e+00, 4.94741963e-01,\n",
    "       1.17705516e+01, 1.03391383e+01, 1.44391237e+01, 8.26139805e-01,\n",
    "       5.11910163e-01, 8.93893365e-01, 3.05874406e+00, 3.31308303e+00,\n",
    "       4.95621045e+00, 7.82316691e-01, 1.34936676e+00, 1.00165400e+01,\n",
    "       3.78653060e+00, 9.89962880e+00, 4.47245483e-02, 4.81232019e+00,\n",
    "       1.61235015e+01, 5.23616216e+00, 1.38475433e+00, 7.58993321e+00,\n",
    "       2.85840847e+00, 6.62266468e+00, 1.78548820e-01, 6.06196626e+00,\n",
    "       1.96366145e-01, 8.19379157e+00, 3.84233798e+00, 7.78973683e-01,\n",
    "       4.69365326e+00, 4.14650118e-01, 6.35689533e+00, 3.32596743e+01,\n",
    "       8.80235474e+00, 5.11671494e+00, 6.49757260e-01, 7.22051924e+00,\n",
    "       6.49350287e+00, 3.02060141e-01, 9.42994312e+00, 4.38779385e+00,\n",
    "       3.32937247e+00, 9.31231373e+00, 3.18177591e+00, 3.93541215e+00,\n",
    "       1.20263585e+00, 2.32562353e+00, 1.12066487e+01, 1.24143472e+00,\n",
    "       3.24040478e+00, 2.70780118e+01, 1.61983735e+00, 1.49213797e+01,\n",
    "       1.50353699e+01, 5.74417482e-01, 3.73784056e+00, 4.18553823e+00,\n",
    "       2.25837113e+00, 2.90980328e-01, 1.65994352e+00, 6.02434475e-01,\n",
    "       1.63282042e+00, 9.89503444e+00, 1.35215290e+01, 2.65108930e-01,\n",
    "       2.15676008e+00, 2.36493902e+01, 4.65271737e+00, 5.90596197e+00,\n",
    "       3.33650476e-02, 3.98047533e+00, 2.67036496e+01, 2.82180310e+00,\n",
    "       6.12449905e-01, 3.71836287e+00, 1.97817485e+01, 2.50975773e+00,\n",
    "       9.62439620e+00, 9.62211685e+00, 1.40104465e+00, 3.51510242e+00,\n",
    "       7.54426839e+00, 3.17108474e+00, 1.27178976e+00, 2.05580402e+01,\n",
    "       6.31180998e+00, 1.20353557e+01, 1.53398466e-01, 1.86288656e+00,\n",
    "       4.18378790e+00, 4.18986276e-01, 2.97996482e+01, 1.61875742e+00,\n",
    "       2.81323057e+00, 1.44488187e+00, 6.68579156e-01, 1.58754277e+00,\n",
    "       2.14528168e+00, 6.03798635e+00, 1.98132308e+00, 2.69910531e+00,\n",
    "       3.57634362e-02, 2.73158042e+00, 4.57995000e+00, 1.06053646e+00,\n",
    "       5.45936403e+00, 2.08164175e+00, 5.99885739e+00, 1.59275095e-01,\n",
    "       1.31137990e+01, 9.74996914e-02, 8.14629899e-01, 9.00787380e+00,\n",
    "       2.81890764e-01, 7.44794442e+00, 2.12523106e+01, 1.23195060e+01,\n",
    "       7.43059158e+00, 1.90937799e+01, 3.37074897e+00, 1.23756913e+01,\n",
    "       2.63994493e+00, 1.59353360e+01, 9.66491466e-01, 1.68833665e+01,\n",
    "       1.07283809e+01, 1.12269530e+01, 7.93807822e-01, 5.44527793e+00,\n",
    "       9.91699451e-02, 7.66322715e+00, 4.66056240e-02, 5.31822002e-01,\n",
    "       1.53321340e+00, 1.24826299e+01, 2.71134462e+00, 4.65865018e+00,\n",
    "       5.03741184e+00, 1.53294188e+00, 5.09385035e+00, 6.48967790e+00,\n",
    "       2.12502900e+00, 3.25417493e+00, 3.62081435e+00, 1.61605062e+01,\n",
    "       5.31302349e+00, 1.77682601e+01, 4.87205396e+00, 4.16562392e+00,\n",
    "       2.12307837e-02, 3.93382578e+00, 1.57412892e+01, 1.32661648e+00,\n",
    "       3.20981488e-01, 3.13312853e+00, 2.79507990e+00, 1.16758893e+01,\n",
    "       1.61829606e-01, 1.51655745e+01, 6.85356086e+00, 1.40745838e+01,\n",
    "       5.61175686e+00, 1.00263901e+01, 2.45271857e+00, 2.58069478e+00,\n",
    "       2.96454098e+00, 8.43401504e+00, 2.76546583e+00, 1.66417151e+00,\n",
    "       1.66517164e+01, 1.43165231e+01, 2.57360606e+00, 6.04120097e+00,\n",
    "       1.91992769e+00, 1.38490096e+00, 2.45990759e+00, 2.37695034e+00,\n",
    "       1.28364794e+01, 1.03660801e+01, 7.41945592e+00, 1.92158339e+01,\n",
    "       3.29473146e+00, 1.68648774e+00, 7.49288469e-01, 2.14908525e+00,\n",
    "       9.41773910e-01, 5.80295247e-01, 5.54188934e+00, 2.71710895e+00,\n",
    "       4.98853210e+00, 1.27422858e+00, 6.77886925e+00, 1.45629390e+00,\n",
    "       1.95457691e+00, 8.12320517e+00, 4.92231023e+00, 2.44633364e+00,\n",
    "       4.69828406e+00, 7.10472113e+00, 1.45915258e+01, 5.21520083e+00,\n",
    "       1.58915801e+00, 8.23902821e+00, 9.02422786e+00, 1.34187193e+00,\n",
    "       1.03079618e+01, 3.75220064e+00, 9.07840601e+00, 1.62674524e+00,\n",
    "       2.42601690e+00, 1.84353066e+01, 6.43442380e+00, 8.89360329e+00,\n",
    "       6.99571578e+00, 1.37122934e+00, 3.81707186e+00, 9.93175632e+00,\n",
    "       6.74422911e+00, 3.62767602e-02, 5.48796568e-01, 2.55518301e+00,\n",
    "       1.73337149e+01, 4.05408935e+00, 1.88971342e+00, 2.68169630e+00,\n",
    "       1.41929271e+00, 3.28079030e+00, 1.47567515e+00, 1.12151812e+01,\n",
    "       3.65582148e+00, 1.96937478e+00, 1.62086806e+01, 2.26433976e+00,\n",
    "       1.44286812e+01, 2.66333158e-01, 7.36785267e+00, 3.96860098e+00,\n",
    "       3.52430794e+00, 2.21996761e-01, 2.49203428e-01, 2.42757547e+00,\n",
    "       1.76383283e+01, 5.76866972e+00, 2.76150652e+00, 5.68014458e+00,\n",
    "       1.38502497e+00, 1.08241878e+00, 2.69478371e+00, 1.19421414e+01,\n",
    "       4.27277801e+00, 2.11354984e+00, 1.80046649e+01, 1.01558115e+01,\n",
    "       2.34027311e+00, 2.14743942e+01, 2.62211091e+01, 3.15218614e+00,\n",
    "       6.40134065e+00, 3.12175373e+00, 1.78516715e+00, 5.17614704e-01,\n",
    "       1.83597528e+00, 1.90043999e+00, 3.05135995e+00, 1.22656402e+00,\n",
    "       1.84510434e+01, 6.51393113e-01, 5.88831298e+00, 3.49712489e+00,\n",
    "       3.30486749e+00, 2.79121217e+00, 1.21640422e+01, 1.97500056e+00,\n",
    "       1.24744775e-01, 1.50133191e+01, 1.19918286e+01, 1.94526138e+00,\n",
    "       4.44756855e+00, 6.93059059e-01, 5.88502790e-01, 1.09012124e+01,\n",
    "       3.16849927e+00, 6.50322658e+00, 1.72093727e+01, 1.68726308e+00,\n",
    "       7.94831348e-02, 1.46668555e-01, 7.41454977e+00, 1.55058604e+01,\n",
    "       3.77912218e+00, 2.82106969e+00, 4.69659911e+00, 1.17504345e+01,\n",
    "       6.33597038e+00, 1.59145361e+00, 8.93874514e+00, 8.67474288e-01,\n",
    "       1.08596642e+00, 5.69105969e+00, 1.63702407e+00, 7.32017711e+00,\n",
    "       2.58025478e+00, 1.94959571e+00, 4.09759162e+01, 2.48783982e-01,\n",
    "       6.22774284e+00, 2.36809873e-01, 8.56795689e+00, 1.56888959e+00,\n",
    "       5.64755610e-01, 6.27241507e+00, 7.91408500e+00, 6.80099872e+00,\n",
    "       3.19777776e-01, 2.09144942e+00, 3.59890663e+00, 2.03051241e+00,\n",
    "       9.98062360e+00, 8.43267717e-01, 5.68327391e+00, 2.66455378e+01,\n",
    "       1.39708977e+01, 1.50738393e+00, 4.91345800e-04, 2.36540713e+01,\n",
    "       1.28587874e+01, 1.51149367e+01, 3.22202744e+00, 8.18990927e+00])\n",
    "donations_B = np.array([1.19656474e+00, 2.49040320e+00, 9.53746976e+00, 6.82606285e-01,\n",
    "       1.12152344e+01, 3.43093700e+00, 2.77646272e+00, 1.82386960e+00,\n",
    "       1.24354723e+01, 3.64515134e+00, 8.14887581e+00, 9.74739510e+00,\n",
    "       1.27798024e+01, 1.80758132e+00, 2.07614450e+00, 4.52025320e+00,\n",
    "       2.91092911e+00, 1.35035758e+01, 2.53386965e+00, 3.24831293e+00,\n",
    "       4.80103139e+00, 2.59378065e+00, 2.44499059e+01, 5.20424895e-01,\n",
    "       1.24617571e+00, 1.94787364e+00, 7.99217521e-01, 1.67190676e+00,\n",
    "       7.55351558e+00, 3.70006200e+00, 1.72717251e-01, 2.02629196e+01,\n",
    "       4.78564798e+00, 3.03739127e-01, 5.41126574e+00, 2.37704603e+00,\n",
    "       7.29022267e-01, 4.14672025e+00, 6.49288193e+00, 5.56041209e+00,\n",
    "       1.42185881e+00, 3.72079438e+00, 3.85731089e+00, 6.30806898e+00,\n",
    "       2.23039928e+00, 7.99082335e+00, 4.94325682e+00, 1.95427968e-01,\n",
    "       3.95356876e+00, 9.89932403e+00, 4.19172221e+00, 9.66881775e-01,\n",
    "       3.57059143e+00, 7.07235483e+00, 5.83260107e-01, 8.49405343e+00,\n",
    "       9.16500024e-01, 3.81866902e+00, 2.43671329e+00, 1.42924389e+00,\n",
    "       5.21256611e+00, 1.90545622e-01, 7.13653618e+00, 3.74267199e+00,\n",
    "       1.04281517e+01, 3.67733398e+00, 1.78307749e-01, 7.75094268e-01,\n",
    "       7.93849435e+00, 3.38613342e+00, 2.91589990e+00, 1.91681667e+00,\n",
    "       1.67421222e+00, 1.68902829e+01, 2.83670943e+00, 1.07709562e+01,\n",
    "       5.22293814e+00, 9.77472179e+00, 9.56792546e+00, 1.56534123e+01,\n",
    "       5.98568505e+00, 8.18396681e+00, 6.60492872e+00, 4.64721974e+00,\n",
    "       6.31780261e+00, 6.28951297e+00, 2.08840298e-01, 3.62949699e+00,\n",
    "       7.86676827e+00, 1.39171038e+00, 3.12882590e+00, 2.85452129e+00,\n",
    "       2.57740864e+00, 6.49629659e-01, 3.72969790e+00, 2.95519503e+00,\n",
    "       5.44419240e+00, 3.98602116e+00, 1.39646740e-01, 1.62192359e-01,\n",
    "       6.04257889e+00, 6.14783990e+00, 1.60867766e+01, 1.04658642e+01,\n",
    "       3.15611976e+00, 4.91624772e+00, 3.05490344e+00, 1.26122869e+00,\n",
    "       2.36345216e+00, 5.48428348e-01, 5.49096867e+00, 1.06615264e+00,\n",
    "       3.22624219e+00, 1.71228321e+01, 1.60906182e-01, 8.22781194e-01,\n",
    "       1.77323632e+00, 1.42199480e+01, 1.19757939e+01, 8.83690909e-01,\n",
    "       1.98476709e+01, 6.94644470e+00, 3.88239486e+00, 1.34194386e+01,\n",
    "       1.06266795e+01, 2.48228419e+00, 5.34055891e+00, 5.21189441e+00,\n",
    "       1.97981339e+00, 9.88537628e-01, 3.14438608e+00, 1.52774392e+00,\n",
    "       2.19302969e+00, 1.54112427e+01, 3.09147765e+00, 5.77419073e+00,\n",
    "       2.04909708e+00, 2.74366001e+01, 5.37595763e+00, 1.09083892e+00,\n",
    "       5.16723847e-01, 1.43393848e+01, 1.44819541e+01, 4.85542938e+00,\n",
    "       8.56875560e-02, 1.27791331e+00, 8.07921149e+00, 1.04156348e+01,\n",
    "       3.02558824e+00, 2.27475244e+00, 1.60257623e+00, 6.21983428e-01,\n",
    "       6.15046358e-01, 1.52459499e+01, 8.26763125e+00, 9.00296751e-01,\n",
    "       1.15997587e+00, 5.32905419e+00, 7.23370957e+00, 8.31194831e+00,\n",
    "       8.91673722e-01, 2.07160844e+01, 1.29257185e+00, 4.45086681e+00,\n",
    "       4.42899866e+00, 1.71113726e+01, 5.35986313e+00, 4.39623051e+00,\n",
    "       3.65707656e+00, 7.23356770e+00, 5.60556592e-01, 1.04704613e-02,\n",
    "       1.52339562e+01, 3.45233068e+00, 1.98998069e+00, 2.29475080e+00,\n",
    "       8.14420766e+00, 2.40933025e+00, 7.35205890e+00, 2.90321920e+00,\n",
    "       9.29197976e+00, 3.96320401e-01, 3.28049343e+00, 3.14475962e+00,\n",
    "       1.53485442e+00, 1.43777379e+01, 1.17708899e+01, 2.93130586e+00,\n",
    "       5.11047459e-01, 1.15829319e+00, 1.58378224e+00, 3.31037261e+00,\n",
    "       2.06529770e+00, 7.43911270e+00, 3.23157187e+00, 1.02153747e+01,\n",
    "       2.73416748e+01, 1.24125530e+00, 4.72951666e+00, 9.40302917e+00,\n",
    "       1.45236691e+01, 1.71306021e+00, 6.49220034e+00, 7.56501614e-02,\n",
    "       1.05657130e+01, 3.30370760e-01, 6.60994306e+00, 2.61164084e+01,\n",
    "       3.47764789e+00, 1.17439819e+00, 4.51494278e+00, 4.89282549e+00,\n",
    "       5.51419711e+00, 9.47406084e-01, 1.14489709e+01, 4.85098149e+00,\n",
    "       2.22731609e-01, 5.76071513e+00, 1.09130275e+00, 1.38607479e-01,\n",
    "       4.00314166e+00, 8.39162641e+00, 9.82846288e+00, 5.46401636e-01,\n",
    "       5.43899659e+00, 6.19066892e+00, 1.74436298e+00, 1.77654528e+01,\n",
    "       1.63341384e+00, 3.62757709e-01, 3.66235525e+00, 5.92599873e+00,\n",
    "       1.40293509e+00, 2.06684785e+00, 4.14630075e+00, 1.08876171e+01,\n",
    "       6.87827393e+00, 1.17602980e+00, 1.45027156e+00, 3.71043402e+00,\n",
    "       7.32579387e+00, 4.82165423e+00, 3.47899613e+00, 4.54564891e+00,\n",
    "       7.05416552e+00, 3.85100290e+00, 1.14018066e+01, 1.46936879e+01,\n",
    "       1.23464171e+01, 7.02266520e+00, 1.41394368e+00, 2.43287242e+00,\n",
    "       1.64252000e+00, 5.35975794e+00, 1.95945052e+00, 7.02008451e+00,\n",
    "       6.02421971e-01, 7.46638680e+00, 4.40826278e+00, 9.02084132e+00,\n",
    "       2.81828166e+00, 4.90367233e+00, 4.04180408e+00, 1.85804859e+01,\n",
    "       7.04217618e+00, 3.93523752e+00, 9.55996784e-01, 1.17229878e+01,\n",
    "       1.15233767e+00, 5.24972861e+00, 1.37813611e+01, 1.26530596e+00,\n",
    "       1.28042313e+00, 9.54660087e+00, 8.79128574e+00, 2.16703449e+00,\n",
    "       1.54007897e+00, 6.81324038e-01, 2.20876901e+01, 9.01945685e+00,\n",
    "       1.14825979e+01, 3.60443525e+00, 6.07363853e-01, 2.70065678e-01,\n",
    "       2.00673377e+00, 1.26493381e+01, 1.47425105e+01, 9.19941105e+00,\n",
    "       8.63910869e-01, 2.72297360e+00, 1.41342568e+00, 1.14926615e+00,\n",
    "       5.77314968e+00, 3.32874645e+00, 1.96454369e+00, 5.27994178e-01,\n",
    "       3.93468966e+00, 2.13108335e+00, 2.48047170e+00, 1.85900630e+00,\n",
    "       2.44854418e+00, 4.05807258e+00, 7.12239124e-02, 9.40777525e+00,\n",
    "       1.27500978e+01, 3.99842740e+00, 1.56001807e+00, 2.31468022e+01,\n",
    "       2.41600389e+00, 5.91522324e+00, 5.85514960e+00, 2.84853700e+00,\n",
    "       1.11045901e+00, 1.69929104e+01, 3.29047893e-01, 3.31939247e+00,\n",
    "       1.24699303e+00, 1.74051701e+00, 8.81665669e+00, 2.28852238e+00,\n",
    "       4.35138357e-01, 1.09270209e+00, 9.84391818e+00, 1.88675810e+01,\n",
    "       1.55975197e+00, 5.62594656e+00, 4.23428585e-01, 6.42710012e+00,\n",
    "       2.69301100e+00, 1.25149408e+01, 1.86646248e+00, 1.41908227e+01,\n",
    "       3.49831609e+00, 2.14540586e+00, 5.20671367e+00, 1.43671867e+00,\n",
    "       1.30528897e+00, 1.09293502e+00, 1.60818403e+01, 3.39537064e+00,\n",
    "       6.96387584e+00, 3.21219316e+00, 4.42808218e+00, 4.38702082e+00,\n",
    "       1.95317725e+01, 5.51962876e+00, 1.37066782e+00, 7.65716357e-02,\n",
    "       1.23386610e+00, 3.03961706e+00, 2.49959605e+00, 8.36525070e+00,\n",
    "       7.69855084e+00, 4.66588654e-01, 1.51838886e+01, 3.74812924e+00,\n",
    "       4.53670405e+00, 2.59644646e+00, 5.24198650e+00, 1.02523778e+01,\n",
    "       5.60330748e+00, 1.75492405e+01, 6.03860325e+00, 8.62202031e+00,\n",
    "       2.30426942e-01, 5.58436779e+00, 5.31747073e+00, 5.36512283e-01,\n",
    "       9.23807883e+00, 4.76182326e+00, 5.17522808e-01, 4.51276660e+00,\n",
    "       3.25442326e+00, 1.32825651e+00, 9.97692556e-02, 2.27512018e+00,\n",
    "       4.83596101e+00, 1.99701112e+00, 1.83546406e+00, 6.95394709e+00,\n",
    "       7.10701039e+00, 6.34283815e+00, 5.33373306e-01, 3.63006659e+00,\n",
    "       4.07994991e+00, 6.82862733e+00, 1.16743908e+01, 2.30255506e+00,\n",
    "       2.79888439e+00, 6.59818092e+00, 5.43297027e+00, 4.08075549e+00,\n",
    "       2.15498879e+00, 1.08675397e+00, 1.01552444e+00, 4.25520297e-01,\n",
    "       4.23438666e-01, 9.34746649e+00, 2.41988603e+00, 3.13312732e-01,\n",
    "       1.13373289e+01, 1.26331545e+00, 1.56072383e+00, 1.08144697e+00,\n",
    "       1.71327390e+01, 5.96959631e-01, 6.40360770e+00, 1.34477674e+01,\n",
    "       5.51312106e+00, 9.78529163e+00, 1.38830956e+00, 5.60318499e+00,\n",
    "       6.03440749e+00, 3.06551479e+00, 1.02221337e+01, 5.92716369e+00,\n",
    "       1.12631586e+01, 6.99597313e+00, 3.67287201e+00, 3.45263524e+00,\n",
    "       3.02318788e+00, 1.09422966e-01, 3.83011003e+00, 2.74933312e+00,\n",
    "       8.57107471e-01, 6.33883845e-01, 2.98329646e+00, 2.03657147e-01,\n",
    "       2.15550044e+01, 2.37504814e+00, 2.40721762e+00, 2.62397886e-01,\n",
    "       2.78148941e+00, 7.93535674e-02, 1.52778707e-01, 2.07075788e+00,\n",
    "       8.60098006e+00, 3.07002667e+00, 7.47590119e-02, 8.90970622e-01,\n",
    "       6.73388234e+00, 6.70266269e+00, 7.02275821e+00, 2.16677245e+00,\n",
    "       2.17146031e+00, 8.09935239e+00, 2.53863453e+00, 6.49491690e+00,\n",
    "       4.35088990e+00, 2.26547046e+00, 4.16943480e-01, 6.17200275e-01,\n",
    "       1.10163567e+01, 3.01050777e+00, 2.55837629e+01, 2.26197349e+00,\n",
    "       1.43810574e+00, 2.15806492e+00, 2.10101157e+00, 5.07167830e+00,\n",
    "       6.40969098e-02, 7.20414636e+00, 2.69282261e+00, 2.83027532e+00,\n",
    "       3.28036515e+00, 2.98203057e+00, 3.44050864e+00, 2.12250812e+00,\n",
    "       3.01969734e+00, 2.59304027e+00, 3.65157428e+00, 4.88112050e+00,\n",
    "       1.37903502e+00, 3.55082736e+00, 4.51467557e+00, 8.54679048e-02,\n",
    "       3.67499163e+00, 1.36753669e+00, 2.59209312e+00, 8.75875771e+00,\n",
    "       1.97437390e+00, 3.30066037e+00, 1.25261799e-01, 1.84627498e+00,\n",
    "       5.10438403e+00, 1.89286318e+00, 1.15208410e+00, 1.71707114e+00,\n",
    "       1.54368597e+01, 4.54011799e-01, 3.11211816e+00, 3.00804073e-01,\n",
    "       3.86808084e+00, 7.89329663e-01, 5.02676840e+00, 1.53532668e+00,\n",
    "       5.87070109e+00, 2.13200925e+00, 2.08860049e-02, 1.74704069e+00,\n",
    "       4.27214524e-01, 3.41637666e+00, 1.70464123e+00, 5.10814331e+00,\n",
    "       3.46509542e+00, 1.83552565e-01, 1.91827763e+00, 3.35750764e+00,\n",
    "       4.24554232e+00, 5.53938827e-01, 5.24870050e+00, 2.10566870e+00,\n",
    "       1.01009927e+00, 8.18216225e+00, 3.55457791e-01, 1.32798881e+01,\n",
    "       6.12540614e+00, 3.22741702e+00, 5.61181745e-02, 2.47250885e+00,\n",
    "       5.18944537e+00, 9.79189626e+00, 4.80858522e+00, 2.53505970e+00,\n",
    "       2.96523687e+00, 1.03294815e+01, 2.16436634e+00, 3.36886593e-01,\n",
    "       2.92301171e+00, 3.23770275e+01, 2.38834759e+00, 1.07249708e+00,\n",
    "       2.30901082e-01, 9.37487942e-01, 1.95828740e+00, 4.26984758e+00,\n",
    "       5.47691378e+00, 2.18813468e-01, 1.37584514e+01, 1.34357116e+00,\n",
    "       8.07080088e-01, 3.78394448e+00, 5.65959142e+00, 1.83545061e+00,\n",
    "       5.53485390e+00, 1.74278175e+00, 1.16226977e+01, 1.06303492e+01,\n",
    "       3.69278971e-01, 8.14962974e-01, 5.98761303e+00, 6.00543509e-04,\n",
    "       8.62462585e+00, 2.20214501e+00, 6.82501117e+00, 2.26227605e-01,\n",
    "       1.17395832e+00, 3.67184262e-01, 9.91180389e-01, 2.42596184e+00,\n",
    "       3.38195979e+00, 1.23901335e+01, 4.93321755e+00, 6.12904433e+00,\n",
    "       4.28392292e-01, 1.68987645e+00, 2.39767605e+01, 4.10970395e+00,\n",
    "       7.75154106e+00, 1.65108656e-01, 4.39110605e-01, 5.78363060e-01,\n",
    "       7.70193861e-02, 1.27538843e+01, 1.46270453e+00, 2.83747087e+01,\n",
    "       6.69953255e+00, 1.44248396e+00, 2.40209331e+01, 1.01450297e+01,\n",
    "       9.01605827e-01, 1.02481113e+00, 5.70008072e+00, 4.07570278e-01,\n",
    "       4.39166252e+00, 3.44622894e-01, 1.25063171e+00, 1.48250410e+01,\n",
    "       3.45147264e+00, 4.26321190e+00, 1.57138486e+00, 2.89964291e+00,\n",
    "       7.13595387e-01, 3.63472276e+00, 2.77329902e-01, 2.47261101e-01,\n",
    "       5.69167037e+00, 2.82754459e-01, 3.68323718e+00, 1.54641173e+00,\n",
    "       1.03939046e+00, 4.25859180e+00, 1.75817616e+00, 3.04754587e+00,\n",
    "       7.48151951e-01, 6.76153827e-01, 5.63206643e-01, 3.71248209e-01,\n",
    "       4.03397323e+00, 7.05304780e+00, 7.85991283e+00, 1.58319871e+01,\n",
    "       9.21972681e-01, 7.28707909e-01, 3.17396477e+00, 9.86667744e+00,\n",
    "       7.28507091e+00, 4.08424219e+00, 8.52656276e-01, 2.48184126e+00,\n",
    "       6.35315945e+00, 2.33733572e+00, 1.99525358e-01, 4.38395559e+00,\n",
    "       6.36723217e+00, 6.27232318e+00, 9.00814473e-01, 2.04730232e+00,\n",
    "       2.63115415e+00, 2.72778771e+00, 6.06086132e-01, 2.43498831e+00,\n",
    "       3.53250156e+00, 6.19904790e+00, 4.21343225e+00, 2.59538588e+00,\n",
    "       1.31275628e+01, 4.55755545e+00, 1.84027480e+01, 1.01011995e+01,\n",
    "       5.59855814e+00, 1.14787175e+01, 2.36876132e+01, 1.24793347e+00,\n",
    "       5.87298466e+00, 1.25529243e+01, 8.77666105e-02, 8.03443077e+00,\n",
    "       4.68273978e-01, 1.24177956e+01, 4.73392204e+00, 8.84100221e-01,\n",
    "       2.01038872e-01, 8.79611728e+00, 7.51161489e-01, 1.40289801e+01,\n",
    "       4.76309817e-01, 9.10013068e+00, 2.75418195e+00, 1.03074324e+01,\n",
    "       7.31748078e+00, 9.58261106e+00, 3.17667577e+00, 6.25476857e+00,\n",
    "       1.91852488e+00, 2.41611024e-01, 1.32243330e+00, 6.81283489e-03,\n",
    "       2.25514913e+00, 3.40440200e+00, 9.79893882e-02, 3.87992255e-02,\n",
    "       5.79919858e+00, 5.29224509e-01, 3.83571092e-01, 3.42191029e+00,\n",
    "       6.33206648e+00, 1.88973564e+01, 1.75060591e+00, 6.25084288e-01,\n",
    "       3.54991820e-01, 1.16288135e+00, 5.27106238e-01, 1.69505065e-02,\n",
    "       1.67787904e+00, 8.96870825e-01, 9.20924290e-02, 2.18967278e+00,\n",
    "       8.74108057e+00, 1.80959704e+00, 6.19109167e+00, 6.52329442e+00,\n",
    "       1.29443515e-01, 1.63226493e+01, 7.48358420e-01, 6.31976402e+00,\n",
    "       2.38569017e+00, 1.01332035e+01, 2.64527664e+01, 1.07415949e+00])"
   ]
  },
  {
   "cell_type": "code",
   "execution_count": 43,
   "id": "13cbd040",
   "metadata": {},
   "outputs": [
    {
     "name": "stdout",
     "output_type": "stream",
     "text": [
      "Difference in the permuted mean values = 0.07170688824276805.\n"
     ]
    }
   ],
   "source": [
    "# Concatenate the two arrays donations_A and donations_B into data\n",
    "len_A, len_B = len(donations_A), len(donations_B)\n",
    "data = np.concatenate([donations_A, donations_B])\n",
    "\n",
    "# Get a single permutation of the concatenated length\n",
    "perm = np.random.permutation(len(donations_A) + len(donations_B))\n",
    "\n",
    "# Calculate the permutated datasets and difference in means\n",
    "permuted_A = data[perm[:len(donations_A)]]\n",
    "permuted_B = data[perm[len(donations_A):]]\n",
    "diff_in_means = np.mean(permuted_A) - np.mean(permuted_B)\n",
    "print(\"Difference in the permuted mean values = {}.\".format(diff_in_means))"
   ]
  },
  {
   "cell_type": "markdown",
   "id": "f377cb47",
   "metadata": {},
   "source": [
    "## Hypothesis testing - Difference of means\n",
    "\n",
    "We want to test the hypothesis that there is a difference in the average donations received from A and B. Previously, you learned how to generate one permutation of the data. Now, we will generate a null distribution of the difference in means and then calculate the p-value.\n",
    "\n",
    "For the null distribution, we first generate multiple permuted datasets and store the difference in means for each case. We then calculate the test statistic as the difference in means with the original dataset. Finally, we approximate the p-value by calculating twice the fraction of cases where the difference is greater than or equal to the absolute value of the test statistic (2-sided hypothesis). A p-value of less than say 0.05 could then determine statistical significance."
   ]
  },
  {
   "cell_type": "code",
   "execution_count": 44,
   "id": "05556b2d",
   "metadata": {},
   "outputs": [
    {
     "name": "stdout",
     "output_type": "stream",
     "text": [
      "p-value = 0.004\n"
     ]
    }
   ],
   "source": [
    "reps = 1000\n",
    "# Generate permutations equal to the number of repetitions\n",
    "perm = np.array([np.random.permutation(len(donations_A) + len(donations_B)) for i in range(reps)])\n",
    "permuted_A_datasets = data[perm[:, :len(donations_A)]]\n",
    "permuted_B_datasets = data[perm[:, len(donations_A):]]\n",
    "\n",
    "# Calculate the difference in means for each of the datasets\n",
    "samples = np.mean(permuted_A_datasets, axis=1) - np.mean(permuted_B_datasets, axis=1)\n",
    "\n",
    "# Calculate the test statistic and p-value\n",
    "test_stat = np.mean(donations_A) - np.mean(donations_B)\n",
    "p_val = 2*np.sum(samples >= np.abs(test_stat))/reps\n",
    "print(\"p-value = {}\".format(p_val))"
   ]
  },
  {
   "cell_type": "markdown",
   "id": "9e5a9ae9",
   "metadata": {},
   "source": [
    "## Hypothesis testing - Non-standard statistics\n",
    "\n",
    "In the previous two exercises, we ran a permutation test for the difference in mean values. Now let's look at non-standard statistics.\n",
    "\n",
    "Suppose that you're interested in understanding the distribution of the donations received from websites A and B. For this, you want to see if there's a statistically significant difference in the median and the 80th percentile of the donations. Permutation testing gives you a wonderfully flexible framework for attacking such problems.\n",
    "\n",
    "Let's go through running a test to see if there's a difference in the median and the 80th percentile of the distribution of donations. As before, you're given the donations from the websites A and B in the variables donations_A and donations_B respectively."
   ]
  },
  {
   "cell_type": "code",
   "execution_count": 45,
   "id": "94f1f30e",
   "metadata": {},
   "outputs": [
    {
     "name": "stdout",
     "output_type": "stream",
     "text": [
      "80th Percentile: test statistic = 1.6951624520000044, p-value = 0.038\n",
      "Median: test statistic = 0.6434965699999999, p-value = 0.02\n"
     ]
    }
   ],
   "source": [
    "# Calculate the difference in 80th percentile and median for each of the permuted datasets (A and B)\n",
    "samples_percentile = np.percentile(permuted_A_datasets, 80, axis=1) - np.percentile(permuted_B_datasets, 80, axis=1)\n",
    "samples_median = np.median(permuted_A_datasets, axis=1) - np.median(permuted_B_datasets, axis=1)\n",
    "\n",
    "# Calculate the test statistic from the original dataset and corresponding p-values\n",
    "test_stat_percentile = np.percentile(donations_A, 80) - np.percentile(donations_B, 80)\n",
    "test_stat_median = np.median(donations_A) - np.median(donations_B)\n",
    "p_val_percentile = 2*np.sum(samples_percentile >= np.abs(test_stat_percentile))/reps\n",
    "p_val_median = 2*np.sum(samples_median >= np.abs(test_stat_median))/reps\n",
    "\n",
    "print(\"80th Percentile: test statistic = {}, p-value = {}\".format(test_stat_percentile, p_val_percentile))\n",
    "print(\"Median: test statistic = {}, p-value = {}\".format(test_stat_median, p_val_median))"
   ]
  },
  {
   "cell_type": "markdown",
   "id": "a5939645",
   "metadata": {},
   "source": [
    "# Part 4\n",
    "\n",
    "## A\n",
    "\n",
    "## Modeling Corn Production\n",
    "\n",
    "Suppose that you manage a small corn farm and are interested in optimizing your costs. In this illustrative exercise, we will model the production of corn. We'll abstract away from details like units and focus on the process.\n",
    "\n",
    "For simplicity, let's assume that corn production depends on only two factors: rain, which you don't control, and cost, which you control. Rain is normally distributed with mean 50 and standard deviation 15. For now, let's fix cost at 5,000. Let's assume that corn produced in any season is a Poisson random variable and that the average corn production is governed by the equation:\n",
    "\n",
    "100\n",
    "×\n",
    "(\n",
    "cost\n",
    ")\n",
    "^0.1\n",
    "×\n",
    "(\n",
    "rain\n",
    ")\n",
    "^0.2\n",
    "\n",
    "Let's model this production function and simulate one outcome."
   ]
  },
  {
   "cell_type": "code",
   "execution_count": 46,
   "id": "936eb0ce",
   "metadata": {},
   "outputs": [
    {
     "name": "stdout",
     "output_type": "stream",
     "text": [
      "Simulated Corn Production = 560\n"
     ]
    }
   ],
   "source": [
    "np.random.seed(223)\n",
    "# Initialize variables\n",
    "cost = 5000\n",
    "rain = np.random.normal(50,15)\n",
    "\n",
    "# Corn Production Model\n",
    "def corn_produced(rain, cost):\n",
    "  mean_corn = 100 * (cost**0.1) * (rain**0.2)\n",
    "  corn = np.random.poisson(mean_corn)\n",
    "  return corn\n",
    "\n",
    "# Simulate and print corn production\n",
    "corn_result = corn_produced(rain, cost)\n",
    "print(\"Simulated Corn Production = {}\".format(corn_result))"
   ]
  },
  {
   "cell_type": "markdown",
   "id": "43846086",
   "metadata": {},
   "source": [
    "## Modeling Profits\n",
    "\n",
    "In the previous exercise, you built a model of corn production. For a small farm, you typically have no control over the price or demand for corn. Suppose that price is normally distributed with mean 40 and standard deviation 10. You are given a function corn_demanded(), which takes the price and determines the demand for corn. This is reasonable because demand is usually determined by the market and is not in your control.\n",
    "\n",
    "In this exercise, you will work on a function to calculate the profit by pulling together all the other simulated variables. The only input to this function will be the fixed cost of production. Upon completion, you'll have a function that gives one simulated profit outcome for a given cost. This function can then be used for planning your costs."
   ]
  },
  {
   "cell_type": "code",
   "execution_count": 47,
   "id": "505275af",
   "metadata": {},
   "outputs": [],
   "source": [
    "def corn_demanded(price):\n",
    "    mean_corn = 1000 - 8*price\n",
    "    corn = np.random.poisson(abs(mean_corn))\n",
    "    return corn"
   ]
  },
  {
   "cell_type": "code",
   "execution_count": 48,
   "id": "d6bb0b42",
   "metadata": {},
   "outputs": [
    {
     "name": "stdout",
     "output_type": "stream",
     "text": [
      "Simulated profit = 17859.15170703348\n"
     ]
    }
   ],
   "source": [
    "# Function to calculate profits\n",
    "def profits(cost):\n",
    "    rain = np.random.normal(50, 15)\n",
    "    price = np.random.normal(40,10)\n",
    "    supply = corn_produced(rain, cost)\n",
    "    demand = corn_demanded(price)\n",
    "    equil_short = supply <= demand\n",
    "    if equil_short == True:\n",
    "        tmp = supply*price - cost\n",
    "        return tmp\n",
    "    else: \n",
    "        tmp2 = supply*price - cost\n",
    "        return tmp2\n",
    "result = profits(cost)\n",
    "print(\"Simulated profit = {}\".format(result))"
   ]
  },
  {
   "cell_type": "markdown",
   "id": "d395890c",
   "metadata": {},
   "source": [
    "## Optimizing Costs\n",
    "\n",
    "Now we will use the functions you've built to optimize our cost of production. We are interested in maximizing average profits. However, our profits depend on a number of factors, while we only control cost. Thus, we can simulate the uncertainty in the other factors and vary cost to see how our profits are impacted.\n",
    "\n",
    "Since you manage the small corn farm, you have the ability to choose your cost - from $100 to $5,000. You want to choose the cost that gives you the maximum average profit. In this exercise, we will simulate multiple outcomes for each cost level and calculate an average. We will then choose the cost that gives us the maximum mean profit. Upon completion, you will have a framework for selecting optimal inputs for business decisions."
   ]
  },
  {
   "cell_type": "code",
   "execution_count": 49,
   "id": "4e2fdf32",
   "metadata": {},
   "outputs": [],
   "source": [
    "def profits(cost):\n",
    "    # Price is a normal random variable\n",
    "    rain = max(np.random.normal(50, 15), 10)\n",
    "    price = max(np.random.normal(40, 10), 10)\n",
    "    # Call the appropriate functions for supply & demand\n",
    "    supply, demand = corn_produced(rain, cost), corn_demanded(price)\n",
    "    # Return the correct profits for each case\n",
    "    if supply <= demand:\n",
    "        return supply*price - cost\n",
    "    else:\n",
    "        return demand*price - cost"
   ]
  },
  {
   "cell_type": "code",
   "execution_count": 50,
   "id": "13805cae",
   "metadata": {},
   "outputs": [
    {
     "name": "stdout",
     "output_type": "stream",
     "text": [
      "Average profit is maximized when cost = 2600\n"
     ]
    }
   ],
   "source": [
    "# Initialize results and cost_levels variables\n",
    "sims, results = 1000, {}\n",
    "cost_levels = np.arange(100, 5100, 100)\n",
    "\n",
    "# For each cost level, simulate profits and store mean profit\n",
    "for cost in cost_levels:\n",
    "    tmp_profits = []\n",
    "    for i in range(sims):\n",
    "        tmp_profits.append(profits(cost))\n",
    "    results[cost] = np.mean(tmp_profits)\n",
    "    \n",
    "# Get the cost that maximizes average profit\n",
    "cost_max = [x for x in results.keys() if results[x] == max(results.values())][0]\n",
    "print(\"Average profit is maximized when cost = {}\".format(cost_max))"
   ]
  },
  {
   "cell_type": "markdown",
   "id": "e6af2ee9",
   "metadata": {},
   "source": [
    "## B\n",
    "\n",
    "## Integrating a Simple Function\n",
    "\n",
    "This is a simple exercise introducing the concept of Monte Carlo Integration.\n",
    "\n",
    "Here we will evaluate a simple integral \n",
    "∫\n",
    "0\n",
    "1\n",
    "x\n",
    "e\n",
    "x\n",
    "d\n",
    "x\n",
    ". We know that the exact answer is \n",
    "1\n",
    ", but simulation will give us an approximate solution, so we can expect an answer close to \n",
    "1\n",
    ". As we saw in the video, it's a simple process. For a function of a single variable \n",
    "f\n",
    "(\n",
    "x\n",
    ")\n",
    ":\n",
    "\n",
    "Get the limits of the x-axis \n",
    "(\n",
    "x\n",
    "m\n",
    "i\n",
    "n\n",
    ",\n",
    "x\n",
    "m\n",
    "a\n",
    "x\n",
    ")\n",
    " and y-axis \n",
    "(\n",
    "max\n",
    "(\n",
    "f\n",
    "(\n",
    "x\n",
    ")\n",
    ")\n",
    ",\n",
    "min\n",
    "(\n",
    "min\n",
    "(\n",
    "f\n",
    "(\n",
    "x\n",
    ")\n",
    ")\n",
    ",\n",
    "0\n",
    ")\n",
    ")\n",
    ".\n",
    "Generate a number of uniformly distributed point in this box.\n",
    "Multiply the area of the box (\n",
    "(\n",
    "max\n",
    "(\n",
    "f\n",
    "(\n",
    "x\n",
    ")\n",
    "−\n",
    "min\n",
    "(\n",
    "f\n",
    "(\n",
    "x\n",
    ")\n",
    ")\n",
    "×\n",
    "(\n",
    "x\n",
    "m\n",
    "a\n",
    "x\n",
    "−\n",
    "x\n",
    "m\n",
    "i\n",
    "n\n",
    ")\n",
    ") by the fraction of points that lie below \n",
    "f\n",
    "(\n",
    "x\n",
    ")\n",
    ".\n",
    "Upon completion, you will have a framework for handling definite integrals using Monte Carlo Integration."
   ]
  },
  {
   "cell_type": "code",
   "execution_count": 52,
   "id": "d529f58b",
   "metadata": {},
   "outputs": [
    {
     "name": "stdout",
     "output_type": "stream",
     "text": [
      "Simulated answer = 0.7240166789450252, Actual Answer = 1\n"
     ]
    }
   ],
   "source": [
    "np.random.seed(123)\n",
    "# Define the sim_integrate function\n",
    "def sim_integrate(func, xmin, xmax, sims):\n",
    "    x = np.random.uniform(xmin, xmax, sims)\n",
    "    y = np.random.uniform(min(min(func(x)), 0), max(func(x)), sims)\n",
    "    area = (max(y) - min(y))*(xmax-xmin)\n",
    "    result = area * sum(abs(y) < abs(func(x)))/sims\n",
    "    return result\n",
    "    \n",
    "# Call the sim_integrate function and print results\n",
    "result = sim_integrate(func = lambda x: x * np.exp(x), xmin = 0, xmax = 1, sims = 50)\n",
    "print(\"Simulated answer = {}, Actual Answer = 1\".format(result))"
   ]
  },
  {
   "cell_type": "markdown",
   "id": "d1bbc50b",
   "metadata": {},
   "source": [
    "## Calculating the value of pi\n",
    "\n",
    "Now we work through a classic example - estimating the value of \n",
    "π\n",
    ".\n",
    "\n",
    "Imagine a square of side \n",
    "2\n",
    " with the origin \n",
    "(\n",
    "0\n",
    ",\n",
    "0\n",
    ")\n",
    " as its center and the four corners having coordinates \n",
    "(\n",
    "1\n",
    ",\n",
    "1\n",
    ")\n",
    ",\n",
    "(\n",
    "1\n",
    ",\n",
    "−\n",
    "1\n",
    ")\n",
    ",\n",
    "(\n",
    "−\n",
    "1\n",
    ",\n",
    "1\n",
    ")\n",
    ",\n",
    "(\n",
    "−\n",
    "1\n",
    ",\n",
    "−\n",
    "1\n",
    ")\n",
    ". The area of this square is \n",
    "2\n",
    "×\n",
    "2\n",
    "=\n",
    "4\n",
    ". Now imagine a circle of radius \n",
    "1\n",
    " with its center at the origin fitting perfectly inside this square. The area of the circle will be \n",
    "π\n",
    "×\n",
    "radius\n",
    "2\n",
    "=\n",
    "π\n",
    ".\n",
    "\n",
    "To estimate \n",
    "π\n",
    ", we randomly sample multiple points in this square & get the fraction of points inside the circle (\n",
    "x\n",
    "2\n",
    "+\n",
    "y\n",
    "2\n",
    "<=\n",
    "1\n",
    "). The area of the circle then is \n",
    "4\n",
    " times this fraction, which gives us our estimate of \n",
    "π\n",
    ".\n",
    "\n",
    "After this exercise, you'll have a grasp of how to use simulation for computation."
   ]
  },
  {
   "cell_type": "code",
   "execution_count": 53,
   "id": "b5ab082b",
   "metadata": {},
   "outputs": [
    {
     "name": "stdout",
     "output_type": "stream",
     "text": [
      "Simulated value of pi = 3.1448\n"
     ]
    }
   ],
   "source": [
    "# Initialize sims and circle_points\n",
    "sims, circle_points = 10000, 0\n",
    "\n",
    "for i in range(sims):\n",
    "    # Generate the two coordinates of a point\n",
    "    point = np.random.uniform(-1,1,size=2)\n",
    "    # if the point lies within the unit circle, increment counter\n",
    "    within_circle = point[0]**2 + point[1]**2 <= 1\n",
    "    if within_circle == True:\n",
    "        circle_points +=1\n",
    "        \n",
    "# Estimate pi as 4 times the avg number of points in the circle.\n",
    "pi_sim = 4 * np.mean(circle_points) / sims\n",
    "print(\"Simulated value of pi = {}\".format(pi_sim))"
   ]
  },
  {
   "cell_type": "markdown",
   "id": "3b9f31f3",
   "metadata": {},
   "source": [
    "## C\n",
    "\n",
    "## Power Analysis - Part I\n",
    "\n",
    "Now we turn to power analysis. You typically want to ensure that any experiment or A/B test you run has at least 80% power. One way to ensure this is to calculate the sample size required to achieve 80% power.\n",
    "\n",
    "Suppose that you are in charge of a news media website and you are interested in increasing the amount of time users spend on your website. Currently, the time users spend on your website is normally distributed with a mean of 1 minute and a standard deviation of 0.5 minutes. Suppose that you are introducing a feature that loads pages faster and want to know the sample size required to measure a 5% increase in time spent on the website.\n",
    "\n",
    "In this exercise, we will set up the framework to run one simulation, run a t-test, & calculate the p-value."
   ]
  },
  {
   "cell_type": "code",
   "execution_count": 55,
   "id": "04265c34",
   "metadata": {},
   "outputs": [
    {
     "name": "stdout",
     "output_type": "stream",
     "text": [
      "P-value: 0.5766409395002308, Statistically Significant? False\n"
     ]
    }
   ],
   "source": [
    "import scipy.stats as st\n",
    "np.random.seed(123)\n",
    "# Initialize effect_size, control_mean, control_sd\n",
    "effect_size, sample_size, control_mean, control_sd = 0.05, 50, 1, 0.5\n",
    "\n",
    "# Simulate control_time_spent and treatment_time_spent, assuming equal variance\n",
    "control_time_spent = np.random.normal(loc=control_mean, scale=control_sd, size=sample_size)\n",
    "treatment_time_spent = np.random.normal(loc=control_mean*(1+effect_size), scale=control_sd, size=sample_size)\n",
    "\n",
    "# Run the t-test and get the p_value\n",
    "t_stat, p_value = st.ttest_ind(treatment_time_spent, control_time_spent)\n",
    "stat_sig = p_value < 0.05\n",
    "print(\"P-value: {}, Statistically Significant? {}\".format(p_value, stat_sig))"
   ]
  },
  {
   "cell_type": "markdown",
   "id": "fe6a49b3",
   "metadata": {},
   "source": [
    "## Power Analysis - Part II\n",
    "\n",
    "Previously, we simulated one instance of the experiment & generated a p-value. We will now use this framework to calculate statistical power. Power of an experiment is the experiment's ability to detect a difference between treatment & control if the difference really exists. It's good statistical hygiene to strive for 80% power.\n",
    "\n",
    "For our website, suppose we want to know how many people need to visit each variant, such that we can detect a 10% increase in time spent with 80% power. For this, we start with a small sample (50), simulate multiple instances of this experiment & check power. If 80% power is reached, we stop. If not, we increase the sample size & try again."
   ]
  },
  {
   "cell_type": "code",
   "execution_count": 56,
   "id": "9ff313a6",
   "metadata": {},
   "outputs": [
    {
     "name": "stdout",
     "output_type": "stream",
     "text": [
      "For 80% power, sample size required = 1520\n"
     ]
    }
   ],
   "source": [
    "sims = 1000\n",
    "sample_size = 50\n",
    "\n",
    "# Keep incrementing sample size by 10 till we reach required power\n",
    "while 1:\n",
    "    control_time_spent = np.random.normal(loc=control_mean, scale=control_sd, size=(sample_size, sims))\n",
    "    treatment_time_spent = np.random.normal(loc=control_mean*(1+effect_size), scale=control_sd, size=(sample_size, sims))\n",
    "    t, p = st.ttest_ind(treatment_time_spent, control_time_spent)\n",
    "    \n",
    "    # Power is the fraction of times in the simulation when the p-value was less than 0.05\n",
    "    power = (p < 0.05).sum()/sims\n",
    "    if power >= 0.8: \n",
    "        break\n",
    "    else: \n",
    "        sample_size += 10\n",
    "print(\"For 80% power, sample size required = {}\".format(sample_size))"
   ]
  },
  {
   "cell_type": "markdown",
   "id": "5f658103",
   "metadata": {},
   "source": [
    "## D\n",
    "\n",
    "## Portfolio Simulation - Part I\n",
    "\n",
    "In the next few exercises, you will calculate the expected returns of a stock portfolio & characterize its uncertainty.\n",
    "\n",
    "Suppose you have invested $10,000 in your portfolio comprising of multiple stocks. You want to evaluate the portfolio's performance over 10 years. You can tweak your overall expected rate of return and volatility (standard deviation of the rate of return). Assume the rate of return follows a normal distribution.\n",
    "\n",
    "First, let's write a function that takes the principal (initial investment), number of years, expected rate of return and volatility as inputs and returns the portfolio's total value after 10 years.\n",
    "\n",
    "Upon completion of this exercise, you will have a function you can call to determine portfolio performance."
   ]
  },
  {
   "cell_type": "code",
   "execution_count": 57,
   "id": "33a4f565",
   "metadata": {},
   "outputs": [
    {
     "name": "stdout",
     "output_type": "stream",
     "text": [
      "Portfolio return after 5 years = 1021.4013412039292\n"
     ]
    }
   ],
   "source": [
    "# rates is a Normal random variable and has size equal to number of years\n",
    "def portfolio_return(yrs, avg_return, sd_of_return, principal):\n",
    "    np.random.seed(123)\n",
    "    rates = np.random.normal(loc=avg_return, scale=sd_of_return, size=yrs)\n",
    "    # Calculate the return at the end of the period\n",
    "    end_return = principal\n",
    "    for x in rates:\n",
    "        end_return = end_return*(1+x)\n",
    "    return end_return\n",
    "\n",
    "result = portfolio_return(yrs = 5, avg_return = 0.07, sd_of_return = 0.15, principal = 1000)\n",
    "print(\"Portfolio return after 5 years = {}\".format(result))"
   ]
  },
  {
   "cell_type": "markdown",
   "id": "d9801076",
   "metadata": {},
   "source": [
    "## Portfolio Simulation - Part II\n",
    "\n",
    "Now we will use the simulation function you built to evaluate 10-year returns.\n",
    "\n",
    "Your stock-heavy portfolio has an initial investment of $10,000, an expected return of 7% and a volatility of 30%. You want to get a 95% confidence interval of what your investment will be worth in 10 years. We will simulate multiple samples of 10-year returns and calculate the confidence intervals on the distribution of returns.\n",
    "\n",
    "By the end of this exercise, you will have run a complete portfolio simulation.\n",
    "\n",
    "The function portfolio_return() from the previous exercise is already initialized in the environment."
   ]
  },
  {
   "cell_type": "code",
   "execution_count": 60,
   "id": "fb01737f",
   "metadata": {},
   "outputs": [
    {
     "name": "stdout",
     "output_type": "stream",
     "text": [
      "95% CI of Returns: Lower = [3859.34520707], Upper = [3859.34520707]\n"
     ]
    }
   ],
   "source": [
    "np.random.seed(123)\n",
    "# Run 1,000 iterations and store the results\n",
    "sims, rets = 1000, []\n",
    "\n",
    "for i in range(sims):\n",
    "    rets.append(portfolio_return(yrs = 10, avg_return = 0.07, \n",
    "                                 sd_of_return = 0.3, principal = 10000))\n",
    "\n",
    "# Calculate the 95% CI\n",
    "lower_ci = np.percentile(rets,[2.5])\n",
    "upper_ci = np.percentile(rets,[97.5])\n",
    "print(\"95% CI of Returns: Lower = {}, Upper = {}\".format(lower_ci, upper_ci))"
   ]
  },
  {
   "cell_type": "markdown",
   "id": "c0bc8376",
   "metadata": {},
   "source": [
    "## Portfolio Simulation - Part III\n",
    "\n",
    "Previously, we ran a complete simulation to get a distribution for 10-year returns. Now we will use simulation for decision making.\n",
    "\n",
    "Let's go back to your stock-heavy portfolio with an expected return of 7% and a volatility of 30%. You have the choice of rebalancing your portfolio with some bonds such that the expected return is 4% & volatility is 10%. You have a principal of $10,000. You want to select a strategy based on how much your portfolio will be worth in 10 years. Let's simulate returns for both the portfolios and choose based on the least amount you can expect with 75% probability (25th percentile).\n",
    "\n",
    "Upon completion, you will know how to use a portfolio simulation for investment decisions.\n",
    "\n",
    "The portfolio_return() function is again pre-loaded in the environment."
   ]
  },
  {
   "cell_type": "code",
   "execution_count": 62,
   "id": "62e8f60b",
   "metadata": {},
   "outputs": [
    {
     "name": "stdout",
     "output_type": "stream",
     "text": [
      "Sticking to stocks gets you an additional return of -6696.359667655672\n"
     ]
    }
   ],
   "source": [
    "rets_stock = []\n",
    "rets_bond = []\n",
    "for i in range(sims):\n",
    "    rets_stock.append(portfolio_return(yrs = 10, avg_return = 0.07, sd_of_return = 0.3, principal = 10000))\n",
    "    rets_bond.append(portfolio_return(yrs = 10, avg_return = 0.04, sd_of_return = 0.1, principal = 10000))\n",
    "\n",
    "# Calculate the 25th percentile of the distributions and the amount you'd lose or gain\n",
    "rets_stock_perc = np.percentile(rets_stock, 25)\n",
    "rets_bond_perc = np.percentile(rets_bond, 25)\n",
    "additional_returns = rets_stock_perc - rets_bond_perc\n",
    "print(\"Sticking to stocks gets you an additional return of {}\".format(additional_returns))"
   ]
  }
 ],
 "metadata": {
  "kernelspec": {
   "display_name": "Python 3",
   "language": "python",
   "name": "python3"
  },
  "language_info": {
   "codemirror_mode": {
    "name": "ipython",
    "version": 3
   },
   "file_extension": ".py",
   "mimetype": "text/x-python",
   "name": "python",
   "nbconvert_exporter": "python",
   "pygments_lexer": "ipython3",
   "version": "3.8.2"
  }
 },
 "nbformat": 4,
 "nbformat_minor": 5
}
