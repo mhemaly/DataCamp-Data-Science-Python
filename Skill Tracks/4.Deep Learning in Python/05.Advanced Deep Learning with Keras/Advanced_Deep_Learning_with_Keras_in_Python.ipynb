{
 "cells": [
  {
   "cell_type": "markdown",
   "metadata": {},
   "source": [
    "## The Keras Functional API"
   ]
  },
  {
   "cell_type": "markdown",
   "metadata": {},
   "source": [
    "### Input layers"
   ]
  },
  {
   "cell_type": "code",
   "execution_count": 3,
   "metadata": {},
   "outputs": [
    {
     "name": "stderr",
     "output_type": "stream",
     "text": [
      "Using TensorFlow backend.\n"
     ]
    }
   ],
   "source": [
    "# Import Input from keras.layers\n",
    "from keras.layers import Input\n",
    "\n",
    "# Create an input layer of shape 1\n",
    "input_tensor = Input(shape=(1,))"
   ]
  },
  {
   "cell_type": "markdown",
   "metadata": {},
   "source": [
    "### Dense layers"
   ]
  },
  {
   "cell_type": "code",
   "execution_count": 4,
   "metadata": {},
   "outputs": [],
   "source": [
    "# Load layers\n",
    "from keras.layers import Input, Dense\n",
    "\n",
    "# Input layer\n",
    "input_tensor = Input(shape=(1,))\n",
    "\n",
    "# Dense layer\n",
    "output_layer = Dense(1)\n",
    "\n",
    "# Connect the dense layer to the input_tensor\n",
    "output_tensor = output_layer(input_tensor)"
   ]
  },
  {
   "cell_type": "markdown",
   "metadata": {},
   "source": [
    "### Output layers"
   ]
  },
  {
   "cell_type": "code",
   "execution_count": 5,
   "metadata": {},
   "outputs": [],
   "source": [
    "# Load layers\n",
    "from keras.layers import Input, Dense\n",
    "# Input layer\n",
    "input_tensor = Input(shape=(1,))\n",
    "\n",
    "# Create a dense layer and connect the dense layer to the input_tensor in one step\n",
    "# Note that we did this in 2 steps in the previous exercise, but are doing it in one step now\n",
    "output_tensor = Dense(1)(input_tensor)"
   ]
  },
  {
   "cell_type": "markdown",
   "metadata": {},
   "source": [
    "### Build a model"
   ]
  },
  {
   "cell_type": "code",
   "execution_count": 6,
   "metadata": {},
   "outputs": [],
   "source": [
    "# Input/dense/output layers\n",
    "from keras.layers import Input, Dense\n",
    "input_tensor = Input(shape=(1,))\n",
    "output_tensor = Dense(1)(input_tensor)\n",
    "\n",
    "# Build the model\n",
    "from keras.models import Model\n",
    "model = Model(input_tensor, output_tensor)"
   ]
  },
  {
   "cell_type": "markdown",
   "metadata": {},
   "source": [
    "### Compile a model"
   ]
  },
  {
   "cell_type": "code",
   "execution_count": 7,
   "metadata": {},
   "outputs": [],
   "source": [
    "# Compile the model\n",
    "model.compile(optimizer='adam', loss='mean_absolute_error')"
   ]
  },
  {
   "cell_type": "markdown",
   "metadata": {},
   "source": [
    "### Visualize a model"
   ]
  },
  {
   "cell_type": "code",
   "execution_count": 21,
   "metadata": {},
   "outputs": [
    {
     "name": "stdout",
     "output_type": "stream",
     "text": [
      "_________________________________________________________________\n",
      "Layer (type)                 Output Shape              Param #   \n",
      "=================================================================\n",
      "input_4 (InputLayer)         (None, 1)                 0         \n",
      "_________________________________________________________________\n",
      "dense_3 (Dense)              (None, 1)                 2         \n",
      "=================================================================\n",
      "Total params: 2\n",
      "Trainable params: 2\n",
      "Non-trainable params: 0\n",
      "_________________________________________________________________\n"
     ]
    }
   ],
   "source": [
    "# Import the plotting function\n",
    "from keras.utils import plot_model\n",
    "import matplotlib.pyplot as plt\n",
    "\n",
    "# Summarize the model\n",
    "model.summary()\n",
    "\n",
    "# # Plot the model\n",
    "# plot_model(model, to_file='model.png')\n",
    "\n",
    "# # Display the image\n",
    "# data = plt.imread('model.png')\n",
    "# plt.imshow(data)\n",
    "# plt.show()"
   ]
  },
  {
   "cell_type": "markdown",
   "metadata": {},
   "source": [
    "### Fit the model to the tournament basketball data"
   ]
  },
  {
   "cell_type": "code",
   "execution_count": 41,
   "metadata": {},
   "outputs": [
    {
     "data": {
      "text/html": [
       "<div>\n",
       "<style scoped>\n",
       "    .dataframe tbody tr th:only-of-type {\n",
       "        vertical-align: middle;\n",
       "    }\n",
       "\n",
       "    .dataframe tbody tr th {\n",
       "        vertical-align: top;\n",
       "    }\n",
       "\n",
       "    .dataframe thead th {\n",
       "        text-align: right;\n",
       "    }\n",
       "</style>\n",
       "<table border=\"1\" class=\"dataframe\">\n",
       "  <thead>\n",
       "    <tr style=\"text-align: right;\">\n",
       "      <th></th>\n",
       "      <th>season</th>\n",
       "      <th>team_1</th>\n",
       "      <th>team_2</th>\n",
       "      <th>home</th>\n",
       "      <th>seed_diff</th>\n",
       "      <th>score_diff</th>\n",
       "      <th>score_1</th>\n",
       "      <th>score_2</th>\n",
       "      <th>won</th>\n",
       "    </tr>\n",
       "  </thead>\n",
       "  <tbody>\n",
       "    <tr>\n",
       "      <th>0</th>\n",
       "      <td>1985</td>\n",
       "      <td>288</td>\n",
       "      <td>73</td>\n",
       "      <td>0</td>\n",
       "      <td>-3</td>\n",
       "      <td>-9</td>\n",
       "      <td>41</td>\n",
       "      <td>50</td>\n",
       "      <td>0</td>\n",
       "    </tr>\n",
       "    <tr>\n",
       "      <th>1</th>\n",
       "      <td>1985</td>\n",
       "      <td>5929</td>\n",
       "      <td>73</td>\n",
       "      <td>0</td>\n",
       "      <td>4</td>\n",
       "      <td>6</td>\n",
       "      <td>61</td>\n",
       "      <td>55</td>\n",
       "      <td>1</td>\n",
       "    </tr>\n",
       "    <tr>\n",
       "      <th>2</th>\n",
       "      <td>1985</td>\n",
       "      <td>9884</td>\n",
       "      <td>73</td>\n",
       "      <td>0</td>\n",
       "      <td>5</td>\n",
       "      <td>-4</td>\n",
       "      <td>59</td>\n",
       "      <td>63</td>\n",
       "      <td>0</td>\n",
       "    </tr>\n",
       "    <tr>\n",
       "      <th>3</th>\n",
       "      <td>1985</td>\n",
       "      <td>73</td>\n",
       "      <td>288</td>\n",
       "      <td>0</td>\n",
       "      <td>3</td>\n",
       "      <td>9</td>\n",
       "      <td>50</td>\n",
       "      <td>41</td>\n",
       "      <td>1</td>\n",
       "    </tr>\n",
       "    <tr>\n",
       "      <th>4</th>\n",
       "      <td>1985</td>\n",
       "      <td>3920</td>\n",
       "      <td>410</td>\n",
       "      <td>0</td>\n",
       "      <td>1</td>\n",
       "      <td>-9</td>\n",
       "      <td>54</td>\n",
       "      <td>63</td>\n",
       "      <td>0</td>\n",
       "    </tr>\n",
       "  </tbody>\n",
       "</table>\n",
       "</div>"
      ],
      "text/plain": [
       "   season  team_1  team_2  home  seed_diff  score_diff  score_1  score_2  won\n",
       "0    1985     288      73     0         -3          -9       41       50    0\n",
       "1    1985    5929      73     0          4           6       61       55    1\n",
       "2    1985    9884      73     0          5          -4       59       63    0\n",
       "3    1985      73     288     0          3           9       50       41    1\n",
       "4    1985    3920     410     0          1          -9       54       63    0"
      ]
     },
     "execution_count": 41,
     "metadata": {},
     "output_type": "execute_result"
    }
   ],
   "source": [
    "import pandas as pd\n",
    "games_tourney = pd.read_csv('basketball_data/games_tourney.csv')\n",
    "games_tourney_train = games_tourney.iloc[: 3430, :]\n",
    "games_tourney_test = games_tourney.iloc[3430:, :]\n",
    "games_tourney.head()"
   ]
  },
  {
   "cell_type": "code",
   "execution_count": 18,
   "metadata": {},
   "outputs": [
    {
     "name": "stdout",
     "output_type": "stream",
     "text": [
      "Train on 3087 samples, validate on 343 samples\n",
      "Epoch 1/1\n",
      "3087/3087 [==============================] - 0s 17us/step - loss: 14.1792 - val_loss: 13.2504\n"
     ]
    },
    {
     "data": {
      "text/plain": [
       "<keras.callbacks.History at 0xb254048d0>"
      ]
     },
     "execution_count": 18,
     "metadata": {},
     "output_type": "execute_result"
    }
   ],
   "source": [
    "# Now fit the model\n",
    "model.fit(games_tourney_train['seed_diff'], games_tourney_train['score_diff'],\n",
    "          epochs=1,\n",
    "          batch_size=128,\n",
    "          validation_split=0.1,\n",
    "          verbose=True)"
   ]
  },
  {
   "cell_type": "markdown",
   "metadata": {},
   "source": [
    "### Evaluate the model on a test set"
   ]
  },
  {
   "cell_type": "code",
   "execution_count": 19,
   "metadata": {},
   "outputs": [
    {
     "name": "stdout",
     "output_type": "stream",
     "text": [
      "804/804 [==============================] - 0s 21us/step\n"
     ]
    },
    {
     "data": {
      "text/plain": [
       "13.304261093709007"
      ]
     },
     "execution_count": 19,
     "metadata": {},
     "output_type": "execute_result"
    }
   ],
   "source": [
    "# Load the X variable from the test data\n",
    "X_test = games_tourney_test['seed_diff']\n",
    "\n",
    "# Load the y variable from the test data\n",
    "y_test =games_tourney_test['score_diff']\n",
    "\n",
    "# Evaluate the model on the test data\n",
    "model.evaluate(X_test, y_test)"
   ]
  },
  {
   "cell_type": "markdown",
   "metadata": {},
   "source": [
    "## Two Input Networks Using Categorical Embeddings, Shared Layers, and Merge Layers"
   ]
  },
  {
   "cell_type": "markdown",
   "metadata": {},
   "source": [
    "### Define team lookup"
   ]
  },
  {
   "cell_type": "code",
   "execution_count": 24,
   "metadata": {},
   "outputs": [
    {
     "data": {
      "text/html": [
       "<div>\n",
       "<style scoped>\n",
       "    .dataframe tbody tr th:only-of-type {\n",
       "        vertical-align: middle;\n",
       "    }\n",
       "\n",
       "    .dataframe tbody tr th {\n",
       "        vertical-align: top;\n",
       "    }\n",
       "\n",
       "    .dataframe thead th {\n",
       "        text-align: right;\n",
       "    }\n",
       "</style>\n",
       "<table border=\"1\" class=\"dataframe\">\n",
       "  <thead>\n",
       "    <tr style=\"text-align: right;\">\n",
       "      <th></th>\n",
       "      <th>season</th>\n",
       "      <th>team_1</th>\n",
       "      <th>team_2</th>\n",
       "      <th>home</th>\n",
       "      <th>score_diff</th>\n",
       "      <th>score_1</th>\n",
       "      <th>score_2</th>\n",
       "      <th>won</th>\n",
       "    </tr>\n",
       "  </thead>\n",
       "  <tbody>\n",
       "    <tr>\n",
       "      <th>0</th>\n",
       "      <td>1985</td>\n",
       "      <td>3745</td>\n",
       "      <td>6664</td>\n",
       "      <td>0</td>\n",
       "      <td>17</td>\n",
       "      <td>81</td>\n",
       "      <td>64</td>\n",
       "      <td>1</td>\n",
       "    </tr>\n",
       "    <tr>\n",
       "      <th>1</th>\n",
       "      <td>1985</td>\n",
       "      <td>126</td>\n",
       "      <td>7493</td>\n",
       "      <td>1</td>\n",
       "      <td>7</td>\n",
       "      <td>77</td>\n",
       "      <td>70</td>\n",
       "      <td>1</td>\n",
       "    </tr>\n",
       "    <tr>\n",
       "      <th>2</th>\n",
       "      <td>1985</td>\n",
       "      <td>288</td>\n",
       "      <td>3593</td>\n",
       "      <td>1</td>\n",
       "      <td>7</td>\n",
       "      <td>63</td>\n",
       "      <td>56</td>\n",
       "      <td>1</td>\n",
       "    </tr>\n",
       "    <tr>\n",
       "      <th>3</th>\n",
       "      <td>1985</td>\n",
       "      <td>1846</td>\n",
       "      <td>9881</td>\n",
       "      <td>1</td>\n",
       "      <td>16</td>\n",
       "      <td>70</td>\n",
       "      <td>54</td>\n",
       "      <td>1</td>\n",
       "    </tr>\n",
       "    <tr>\n",
       "      <th>4</th>\n",
       "      <td>1985</td>\n",
       "      <td>2675</td>\n",
       "      <td>10298</td>\n",
       "      <td>1</td>\n",
       "      <td>12</td>\n",
       "      <td>86</td>\n",
       "      <td>74</td>\n",
       "      <td>1</td>\n",
       "    </tr>\n",
       "  </tbody>\n",
       "</table>\n",
       "</div>"
      ],
      "text/plain": [
       "   season  team_1  team_2  home  score_diff  score_1  score_2  won\n",
       "0    1985    3745    6664     0          17       81       64    1\n",
       "1    1985     126    7493     1           7       77       70    1\n",
       "2    1985     288    3593     1           7       63       56    1\n",
       "3    1985    1846    9881     1          16       70       54    1\n",
       "4    1985    2675   10298     1          12       86       74    1"
      ]
     },
     "execution_count": 24,
     "metadata": {},
     "output_type": "execute_result"
    }
   ],
   "source": [
    "games_season = pd.read_csv('basketball_data/games_season.csv')\n",
    "games_season.head()"
   ]
  },
  {
   "cell_type": "code",
   "execution_count": 25,
   "metadata": {},
   "outputs": [],
   "source": [
    "# Imports\n",
    "from keras.layers import Embedding\n",
    "from numpy import unique\n",
    "\n",
    "# Count the unique number of teams\n",
    "n_teams = unique(games_season['team_1']).shape[0]\n",
    "\n",
    "# Create an embedding layer\n",
    "team_lookup = Embedding(input_dim=n_teams,\n",
    "                        output_dim=1,\n",
    "                        input_length=1,\n",
    "                        name='Team-Strength')"
   ]
  },
  {
   "cell_type": "markdown",
   "metadata": {},
   "source": [
    "### Define team model"
   ]
  },
  {
   "cell_type": "code",
   "execution_count": 26,
   "metadata": {},
   "outputs": [],
   "source": [
    "# Imports\n",
    "from keras.layers import Input, Embedding, Flatten\n",
    "from keras.models import Model\n",
    "\n",
    "# Create an input layer for the team ID\n",
    "teamid_in = Input(shape=(1,))\n",
    "\n",
    "# Lookup the input in the team strength embedding layer\n",
    "strength_lookup = team_lookup(teamid_in)\n",
    "\n",
    "# Flatten the output\n",
    "strength_lookup_flat = Flatten()(strength_lookup)\n",
    "\n",
    "# Combine the operations into a single, re-usable model\n",
    "team_strength_model = Model(teamid_in, strength_lookup_flat, name='Team-Strength-Model')"
   ]
  },
  {
   "cell_type": "markdown",
   "metadata": {},
   "source": [
    "### Defining two inputs"
   ]
  },
  {
   "cell_type": "code",
   "execution_count": 29,
   "metadata": {},
   "outputs": [],
   "source": [
    "# Load the input layer from keras.layers\n",
    "from keras.layers import Input\n",
    "\n",
    "# Input layer for team 1\n",
    "team_in_1 = Input(shape = (1, ), name = \"Team-1-In\" )\n",
    "\n",
    "# Separate input layer for team 2\n",
    "team_in_2 = Input(shape = (1, ), name = \"Team-2-In\")"
   ]
  },
  {
   "cell_type": "markdown",
   "metadata": {},
   "source": [
    "### Lookup both inputs in the same model"
   ]
  },
  {
   "cell_type": "code",
   "execution_count": 32,
   "metadata": {},
   "outputs": [],
   "source": [
    "# Lookup team 1 in the team strength model\n",
    "team_1_strength = team_strength_model(team_in_1)\n",
    "\n",
    "# Lookup team 2 in the team strength model\n",
    "team_2_strength = team_strength_model(team_in_2)"
   ]
  },
  {
   "cell_type": "markdown",
   "metadata": {},
   "source": [
    "### Output layer using shared layer"
   ]
  },
  {
   "cell_type": "code",
   "execution_count": 33,
   "metadata": {},
   "outputs": [],
   "source": [
    "# Import the Subtract layer from keras\n",
    "from keras.layers import Subtract\n",
    "\n",
    "# Create a subtract layer using the inputs from the previous exercise\n",
    "score_diff = Subtract()([team_1_strength,team_2_strength])"
   ]
  },
  {
   "cell_type": "markdown",
   "metadata": {},
   "source": [
    "### Model using two inputs and one output"
   ]
  },
  {
   "cell_type": "code",
   "execution_count": 34,
   "metadata": {},
   "outputs": [],
   "source": [
    "# Imports\n",
    "from keras.layers import Subtract\n",
    "from keras.models import Model\n",
    "\n",
    "# Subtraction layer from previous exercise\n",
    "score_diff = Subtract()([team_1_strength, team_2_strength])\n",
    "\n",
    "# Create the model\n",
    "model = Model([team_in_1, team_in_2], score_diff)\n",
    "\n",
    "# Compile the model\n",
    "model.compile(optimizer = 'adam', loss = 'mean_absolute_error')"
   ]
  },
  {
   "cell_type": "markdown",
   "metadata": {},
   "source": [
    "### Fit the model to the regular season training data"
   ]
  },
  {
   "cell_type": "code",
   "execution_count": 36,
   "metadata": {},
   "outputs": [
    {
     "name": "stdout",
     "output_type": "stream",
     "text": [
      "Train on 280960 samples, validate on 31218 samples\n",
      "Epoch 1/1\n",
      "280960/280960 [==============================] - 0s 1us/step - loss: 12.1205 - val_loss: 11.8379\n"
     ]
    },
    {
     "data": {
      "text/plain": [
       "<keras.callbacks.History at 0xb2bce2978>"
      ]
     },
     "execution_count": 36,
     "metadata": {},
     "output_type": "execute_result"
    }
   ],
   "source": [
    "# Get the team_1 column from the regular season data\n",
    "input_1 = games_season['team_1']\n",
    "\n",
    "# Get the team_2 column from the regular season data\n",
    "input_2 = games_season['team_2']\n",
    "\n",
    "# Fit the model to input 1 and 2, using score diff as a target\n",
    "model.fit([input_1, input_2],\n",
    "          games_season['score_diff'],\n",
    "          epochs=1,\n",
    "          batch_size=2048,\n",
    "          validation_split=0.10,\n",
    "          verbose=True)"
   ]
  },
  {
   "cell_type": "code",
   "execution_count": 38,
   "metadata": {},
   "outputs": [
    {
     "name": "stdout",
     "output_type": "stream",
     "text": [
      "4234/4234 [==============================] - 0s 22us/step\n"
     ]
    },
    {
     "data": {
      "text/plain": [
       "11.681247380526493"
      ]
     },
     "execution_count": 38,
     "metadata": {},
     "output_type": "execute_result"
    }
   ],
   "source": [
    "# Get team_1 from the tournament data\n",
    "input_1 = games_tourney['team_1']\n",
    "\n",
    "# Get team_2 from the tournament data\n",
    "input_2 = games_tourney['team_2']\n",
    "\n",
    "# Evaluate the model using these inputs\n",
    "model.evaluate([input_1, input_2], games_tourney['score_diff'])"
   ]
  },
  {
   "cell_type": "markdown",
   "metadata": {},
   "source": [
    "## Multiple Inputs: 3 Inputs (and Beyond!)"
   ]
  },
  {
   "cell_type": "markdown",
   "metadata": {},
   "source": [
    "### Make an input layer for home vs. away"
   ]
  },
  {
   "cell_type": "code",
   "execution_count": 40,
   "metadata": {},
   "outputs": [],
   "source": [
    "from keras.layers import Concatenate\n",
    "# Create an Input for each team\n",
    "team_in_1 = Input(shape=(1,), name='Team-1-In')\n",
    "team_in_2 = Input(shape=(1,), name='Team-2-In')\n",
    "\n",
    "# Create an input for home vs away\n",
    "home_in = Input(shape=(1,), name='Home-In')\n",
    "\n",
    "# Lookup the team inputs in the team strength model\n",
    "team_1_strength = team_strength_model(team_in_1)\n",
    "team_2_strength = team_strength_model(team_in_2)\n",
    "\n",
    "# Combine the team strengths with the home input using a Concatenate layer, then add a Dense layer\n",
    "out = Concatenate()([team_1_strength, team_2_strength, home_in])\n",
    "out = Dense(1)(out)"
   ]
  },
  {
   "cell_type": "markdown",
   "metadata": {},
   "source": [
    "### Make a model and compile it"
   ]
  },
  {
   "cell_type": "code",
   "execution_count": 42,
   "metadata": {},
   "outputs": [],
   "source": [
    "# Import the model class\n",
    "from keras.models import Model\n",
    "\n",
    "# Make a Model\n",
    "model = Model([team_in_1, team_in_2, home_in], out)\n",
    "\n",
    "# Compile the model\n",
    "model.compile(optimizer='adam', loss='mean_absolute_error')"
   ]
  },
  {
   "cell_type": "markdown",
   "metadata": {},
   "source": [
    "### Fit the model and evaluate"
   ]
  },
  {
   "cell_type": "code",
   "execution_count": 43,
   "metadata": {},
   "outputs": [
    {
     "name": "stdout",
     "output_type": "stream",
     "text": [
      "Train on 280960 samples, validate on 31218 samples\n",
      "Epoch 1/1\n",
      "280960/280960 [==============================] - 1s 2us/step - loss: 12.2830 - val_loss: 11.5916\n",
      "4234/4234 [==============================] - 0s 21us/step\n"
     ]
    },
    {
     "data": {
      "text/plain": [
       "11.689384638840824"
      ]
     },
     "execution_count": 43,
     "metadata": {},
     "output_type": "execute_result"
    }
   ],
   "source": [
    "# Fit the model to the games_season dataset\n",
    "model.fit([games_season['team_1'], games_season['team_2'], games_season['home']], games_season['score_diff'], \n",
    "          epochs=1,\n",
    "          verbose=True,\n",
    "          validation_split=0.1,\n",
    "          batch_size=2048)\n",
    "\n",
    "# Evaluate the model on the games_tourney dataset\n",
    "model.evaluate([games_tourney['team_1'], games_tourney['team_2'], games_tourney['home']], games_tourney['score_diff'])"
   ]
  },
  {
   "cell_type": "markdown",
   "metadata": {},
   "source": [
    "### Plotting models"
   ]
  },
  {
   "cell_type": "code",
   "execution_count": null,
   "metadata": {},
   "outputs": [],
   "source": [
    "# Imports\n",
    "import matplotlib.pyplot as plt\n",
    "from keras.utils import plot_model\n",
    "\n",
    "# Plot the model\n",
    "plot_model(model, to_file='model.png')\n",
    "\n",
    "# Display the image\n",
    "data = plt.imread('model.png')\n",
    "plt.imshow(data)\n",
    "plt.show()"
   ]
  },
  {
   "cell_type": "markdown",
   "metadata": {},
   "source": [
    "### Add the model predictions to the tournament data"
   ]
  },
  {
   "cell_type": "code",
   "execution_count": 45,
   "metadata": {},
   "outputs": [],
   "source": [
    "# Predict\n",
    "games_tourney['pred'] = model.predict([games_tourney['team_1'], games_tourney['team_2'], games_tourney['home']])"
   ]
  },
  {
   "cell_type": "markdown",
   "metadata": {},
   "source": [
    "### Create an input layer with multiple columns"
   ]
  },
  {
   "cell_type": "code",
   "execution_count": 46,
   "metadata": {},
   "outputs": [],
   "source": [
    " # Create an input layer with 3 columns\n",
    "input_tensor = Input(shape = (3, ))\n",
    "\n",
    "# Pass it to a Dense layer with 1 unit\n",
    "output_tensor = Dense(1)(input_tensor)\n",
    "\n",
    "# Create a model\n",
    "model = Model(input_tensor, output_tensor)\n",
    "\n",
    "# Compile the model\n",
    "model.compile(optimizer='adam', loss='mean_absolute_error')"
   ]
  },
  {
   "cell_type": "markdown",
   "metadata": {},
   "source": [
    "### Fit the model"
   ]
  },
  {
   "cell_type": "code",
   "execution_count": 48,
   "metadata": {},
   "outputs": [
    {
     "name": "stdout",
     "output_type": "stream",
     "text": [
      "Epoch 1/1\n",
      "3430/3430 [==============================] - 0s 64us/step - loss: 10.2368\n"
     ]
    },
    {
     "data": {
      "text/plain": [
       "<keras.callbacks.History at 0xb26902208>"
      ]
     },
     "execution_count": 48,
     "metadata": {},
     "output_type": "execute_result"
    }
   ],
   "source": [
    "# Fit the model\n",
    "games_tourney_train = games_tourney.iloc[: 3430, :]\n",
    "games_tourney_test = games_tourney.iloc[3430:, :]\n",
    "model.fit(games_tourney_train[['home', 'seed_diff', 'pred']],\n",
    "          games_tourney_train['score_diff'],\n",
    "          epochs=1,\n",
    "          verbose=True)"
   ]
  },
  {
   "cell_type": "markdown",
   "metadata": {},
   "source": [
    "### Evaluate the model"
   ]
  },
  {
   "cell_type": "code",
   "execution_count": 50,
   "metadata": {},
   "outputs": [
    {
     "name": "stdout",
     "output_type": "stream",
     "text": [
      "804/804 [==============================] - 0s 82us/step\n"
     ]
    },
    {
     "data": {
      "text/plain": [
       "9.800892986468416"
      ]
     },
     "execution_count": 50,
     "metadata": {},
     "output_type": "execute_result"
    }
   ],
   "source": [
    "# Evaluate the model on the games_tourney_test dataset\n",
    "model.evaluate(games_tourney_test[['home', 'seed_diff', 'pred']], \n",
    "               games_tourney_test['score_diff'])"
   ]
  },
  {
   "cell_type": "markdown",
   "metadata": {},
   "source": [
    "##  Multiple Outputs\n"
   ]
  },
  {
   "cell_type": "markdown",
   "metadata": {},
   "source": [
    "### Simple two-output model"
   ]
  },
  {
   "cell_type": "code",
   "execution_count": 51,
   "metadata": {},
   "outputs": [],
   "source": [
    "# Define the input\n",
    "input_tensor = Input(shape = (2, ))\n",
    "\n",
    "# Define the output\n",
    "output_tensor = Dense(2)(input_tensor)\n",
    "\n",
    "# Create a model\n",
    "model = Model(input_tensor, output_tensor)\n",
    "\n",
    "# Compile the model\n",
    "model.compile(optimizer = 'adam', loss = 'mean_absolute_error')"
   ]
  },
  {
   "cell_type": "markdown",
   "metadata": {},
   "source": [
    "### Fit a model with two outputs"
   ]
  },
  {
   "cell_type": "code",
   "execution_count": 52,
   "metadata": {},
   "outputs": [
    {
     "name": "stdout",
     "output_type": "stream",
     "text": [
      "Epoch 1/100\n",
      "3430/3430 [==============================] - 0s 46us/step - loss: 71.5107\n",
      "Epoch 2/100\n",
      "3430/3430 [==============================] - 0s 1us/step - loss: 71.5095\n",
      "Epoch 3/100\n",
      "3430/3430 [==============================] - 0s 1us/step - loss: 71.5084\n",
      "Epoch 4/100\n",
      "3430/3430 [==============================] - 0s 2us/step - loss: 71.5073\n",
      "Epoch 5/100\n",
      "3430/3430 [==============================] - 0s 1us/step - loss: 71.5061\n",
      "Epoch 6/100\n",
      "3430/3430 [==============================] - 0s 1us/step - loss: 71.5050\n",
      "Epoch 7/100\n",
      "3430/3430 [==============================] - 0s 2us/step - loss: 71.5039\n",
      "Epoch 8/100\n",
      "3430/3430 [==============================] - 0s 2us/step - loss: 71.5028\n",
      "Epoch 9/100\n",
      "3430/3430 [==============================] - 0s 1us/step - loss: 71.5016\n",
      "Epoch 10/100\n",
      "3430/3430 [==============================] - 0s 1us/step - loss: 71.5005\n",
      "Epoch 11/100\n",
      "3430/3430 [==============================] - 0s 1us/step - loss: 71.4994\n",
      "Epoch 12/100\n",
      "3430/3430 [==============================] - 0s 1us/step - loss: 71.4982\n",
      "Epoch 13/100\n",
      "3430/3430 [==============================] - 0s 1us/step - loss: 71.4971\n",
      "Epoch 14/100\n",
      "3430/3430 [==============================] - 0s 1us/step - loss: 71.4960\n",
      "Epoch 15/100\n",
      "3430/3430 [==============================] - 0s 1us/step - loss: 71.4949\n",
      "Epoch 16/100\n",
      "3430/3430 [==============================] - 0s 1us/step - loss: 71.4937\n",
      "Epoch 17/100\n",
      "3430/3430 [==============================] - 0s 1us/step - loss: 71.4926\n",
      "Epoch 18/100\n",
      "3430/3430 [==============================] - 0s 1us/step - loss: 71.4915\n",
      "Epoch 19/100\n",
      "3430/3430 [==============================] - 0s 1us/step - loss: 71.4903\n",
      "Epoch 20/100\n",
      "3430/3430 [==============================] - 0s 1us/step - loss: 71.4892\n",
      "Epoch 21/100\n",
      "3430/3430 [==============================] - 0s 1us/step - loss: 71.4880\n",
      "Epoch 22/100\n",
      "3430/3430 [==============================] - 0s 1us/step - loss: 71.4869\n",
      "Epoch 23/100\n",
      "3430/3430 [==============================] - 0s 1us/step - loss: 71.4858\n",
      "Epoch 24/100\n",
      "3430/3430 [==============================] - 0s 1us/step - loss: 71.4846\n",
      "Epoch 25/100\n",
      "3430/3430 [==============================] - 0s 1us/step - loss: 71.4835\n",
      "Epoch 26/100\n",
      "3430/3430 [==============================] - 0s 2us/step - loss: 71.4824\n",
      "Epoch 27/100\n",
      "3430/3430 [==============================] - 0s 1us/step - loss: 71.4812\n",
      "Epoch 28/100\n",
      "3430/3430 [==============================] - 0s 1us/step - loss: 71.4801\n",
      "Epoch 29/100\n",
      "3430/3430 [==============================] - 0s 1us/step - loss: 71.4790\n",
      "Epoch 30/100\n",
      "3430/3430 [==============================] - 0s 1us/step - loss: 71.4779\n",
      "Epoch 31/100\n",
      "3430/3430 [==============================] - 0s 1us/step - loss: 71.4767\n",
      "Epoch 32/100\n",
      "3430/3430 [==============================] - 0s 1us/step - loss: 71.4756\n",
      "Epoch 33/100\n",
      "3430/3430 [==============================] - 0s 1us/step - loss: 71.4745\n",
      "Epoch 34/100\n",
      "3430/3430 [==============================] - 0s 1us/step - loss: 71.4734\n",
      "Epoch 35/100\n",
      "3430/3430 [==============================] - 0s 1us/step - loss: 71.4722\n",
      "Epoch 36/100\n",
      "3430/3430 [==============================] - 0s 2us/step - loss: 71.4711\n",
      "Epoch 37/100\n",
      "3430/3430 [==============================] - 0s 1us/step - loss: 71.4700\n",
      "Epoch 38/100\n",
      "3430/3430 [==============================] - 0s 1us/step - loss: 71.4688\n",
      "Epoch 39/100\n",
      "3430/3430 [==============================] - 0s 1us/step - loss: 71.4677\n",
      "Epoch 40/100\n",
      "3430/3430 [==============================] - 0s 1us/step - loss: 71.4666\n",
      "Epoch 41/100\n",
      "3430/3430 [==============================] - 0s 2us/step - loss: 71.4654\n",
      "Epoch 42/100\n",
      "3430/3430 [==============================] - 0s 1us/step - loss: 71.4643\n",
      "Epoch 43/100\n",
      "3430/3430 [==============================] - 0s 1us/step - loss: 71.4632\n",
      "Epoch 44/100\n",
      "3430/3430 [==============================] - 0s 1us/step - loss: 71.4621\n",
      "Epoch 45/100\n",
      "3430/3430 [==============================] - 0s 2us/step - loss: 71.4609\n",
      "Epoch 46/100\n",
      "3430/3430 [==============================] - 0s 1us/step - loss: 71.4598\n",
      "Epoch 47/100\n",
      "3430/3430 [==============================] - 0s 1us/step - loss: 71.4587\n",
      "Epoch 48/100\n",
      "3430/3430 [==============================] - 0s 1us/step - loss: 71.4575\n",
      "Epoch 49/100\n",
      "3430/3430 [==============================] - 0s 1us/step - loss: 71.4564\n",
      "Epoch 50/100\n",
      "3430/3430 [==============================] - 0s 1us/step - loss: 71.4553\n",
      "Epoch 51/100\n",
      "3430/3430 [==============================] - 0s 2us/step - loss: 71.4542\n",
      "Epoch 52/100\n",
      "3430/3430 [==============================] - 0s 1us/step - loss: 71.4530\n",
      "Epoch 53/100\n",
      "3430/3430 [==============================] - 0s 2us/step - loss: 71.4519\n",
      "Epoch 54/100\n",
      "3430/3430 [==============================] - 0s 1us/step - loss: 71.4508\n",
      "Epoch 55/100\n",
      "3430/3430 [==============================] - 0s 1us/step - loss: 71.4496\n",
      "Epoch 56/100\n",
      "3430/3430 [==============================] - 0s 2us/step - loss: 71.4485\n",
      "Epoch 57/100\n",
      "3430/3430 [==============================] - 0s 1us/step - loss: 71.4474\n",
      "Epoch 58/100\n",
      "3430/3430 [==============================] - 0s 1us/step - loss: 71.4463\n",
      "Epoch 59/100\n",
      "3430/3430 [==============================] - 0s 2us/step - loss: 71.4451\n",
      "Epoch 60/100\n",
      "3430/3430 [==============================] - 0s 1us/step - loss: 71.4440\n",
      "Epoch 61/100\n",
      "3430/3430 [==============================] - 0s 2us/step - loss: 71.4429\n",
      "Epoch 62/100\n",
      "3430/3430 [==============================] - 0s 1us/step - loss: 71.4417\n",
      "Epoch 63/100\n",
      "3430/3430 [==============================] - 0s 1us/step - loss: 71.4406\n",
      "Epoch 64/100\n",
      "3430/3430 [==============================] - 0s 1us/step - loss: 71.4395\n",
      "Epoch 65/100\n",
      "3430/3430 [==============================] - 0s 1us/step - loss: 71.4384\n",
      "Epoch 66/100\n",
      "3430/3430 [==============================] - 0s 2us/step - loss: 71.4372\n",
      "Epoch 67/100\n",
      "3430/3430 [==============================] - 0s 2us/step - loss: 71.4361\n",
      "Epoch 68/100\n",
      "3430/3430 [==============================] - 0s 1us/step - loss: 71.4350\n",
      "Epoch 69/100\n",
      "3430/3430 [==============================] - 0s 1us/step - loss: 71.4338\n",
      "Epoch 70/100\n",
      "3430/3430 [==============================] - 0s 2us/step - loss: 71.4327\n",
      "Epoch 71/100\n",
      "3430/3430 [==============================] - 0s 2us/step - loss: 71.4316\n",
      "Epoch 72/100\n",
      "3430/3430 [==============================] - 0s 2us/step - loss: 71.4304\n",
      "Epoch 73/100\n",
      "3430/3430 [==============================] - 0s 1us/step - loss: 71.4293\n",
      "Epoch 74/100\n",
      "3430/3430 [==============================] - 0s 1us/step - loss: 71.4282\n",
      "Epoch 75/100\n",
      "3430/3430 [==============================] - 0s 2us/step - loss: 71.4271\n",
      "Epoch 76/100\n",
      "3430/3430 [==============================] - 0s 1us/step - loss: 71.4259\n",
      "Epoch 77/100\n",
      "3430/3430 [==============================] - 0s 2us/step - loss: 71.4248\n",
      "Epoch 78/100\n",
      "3430/3430 [==============================] - 0s 1us/step - loss: 71.4237\n",
      "Epoch 79/100\n",
      "3430/3430 [==============================] - 0s 2us/step - loss: 71.4225\n",
      "Epoch 80/100\n",
      "3430/3430 [==============================] - 0s 2us/step - loss: 71.4214\n",
      "Epoch 81/100\n",
      "3430/3430 [==============================] - 0s 1us/step - loss: 71.4203\n",
      "Epoch 82/100\n",
      "3430/3430 [==============================] - 0s 1us/step - loss: 71.4192\n",
      "Epoch 83/100\n",
      "3430/3430 [==============================] - 0s 2us/step - loss: 71.4180\n",
      "Epoch 84/100\n",
      "3430/3430 [==============================] - 0s 1us/step - loss: 71.4169\n",
      "Epoch 85/100\n",
      "3430/3430 [==============================] - 0s 1us/step - loss: 71.4158\n",
      "Epoch 86/100\n",
      "3430/3430 [==============================] - 0s 1us/step - loss: 71.4146\n",
      "Epoch 87/100\n",
      "3430/3430 [==============================] - 0s 1us/step - loss: 71.4135\n",
      "Epoch 88/100\n",
      "3430/3430 [==============================] - 0s 1us/step - loss: 71.4123\n",
      "Epoch 89/100\n",
      "3430/3430 [==============================] - 0s 2us/step - loss: 71.4112\n",
      "Epoch 90/100\n",
      "3430/3430 [==============================] - 0s 1us/step - loss: 71.4101\n",
      "Epoch 91/100\n",
      "3430/3430 [==============================] - 0s 1us/step - loss: 71.4089\n",
      "Epoch 92/100\n",
      "3430/3430 [==============================] - 0s 1us/step - loss: 71.4079\n",
      "Epoch 93/100\n",
      "3430/3430 [==============================] - 0s 1us/step - loss: 71.4067\n",
      "Epoch 94/100\n",
      "3430/3430 [==============================] - 0s 1us/step - loss: 71.4056\n",
      "Epoch 95/100\n",
      "3430/3430 [==============================] - 0s 1us/step - loss: 71.4044\n",
      "Epoch 96/100\n",
      "3430/3430 [==============================] - 0s 2us/step - loss: 71.4033\n"
     ]
    },
    {
     "name": "stdout",
     "output_type": "stream",
     "text": [
      "Epoch 97/100\n",
      "3430/3430 [==============================] - 0s 1us/step - loss: 71.4022\n",
      "Epoch 98/100\n",
      "3430/3430 [==============================] - 0s 1us/step - loss: 71.4011\n",
      "Epoch 99/100\n",
      "3430/3430 [==============================] - 0s 1us/step - loss: 71.3999\n",
      "Epoch 100/100\n",
      "3430/3430 [==============================] - 0s 1us/step - loss: 71.3988\n"
     ]
    },
    {
     "data": {
      "text/plain": [
       "<keras.callbacks.History at 0xb26aade80>"
      ]
     },
     "execution_count": 52,
     "metadata": {},
     "output_type": "execute_result"
    }
   ],
   "source": [
    "# Fit the model\n",
    "model.fit(games_tourney_train[['seed_diff','pred']],\n",
    "  \t\t  games_tourney_train[['score_1', 'score_2']],\n",
    "  \t\t  verbose=True,\n",
    "  \t\t  epochs = 100,\n",
    "  \t\t  batch_size = 16384)"
   ]
  },
  {
   "cell_type": "markdown",
   "metadata": {},
   "source": [
    "### Inspect the model (I)"
   ]
  },
  {
   "cell_type": "code",
   "execution_count": 53,
   "metadata": {},
   "outputs": [
    {
     "name": "stdout",
     "output_type": "stream",
     "text": [
      "[array([[-1.2213349 ,  1.1220242 ],\n",
      "       [ 0.76635975,  1.1487168 ]], dtype=float32), array([0.10007598, 0.10007598], dtype=float32)]\n",
      "season        1998.074052\n",
      "team_1        5556.771429\n",
      "team_2        5556.771429\n",
      "home             0.000000\n",
      "seed_diff        0.000000\n",
      "score_diff       0.000000\n",
      "score_1         71.621283\n",
      "score_2         71.621283\n",
      "won              0.500000\n",
      "pred             0.129023\n",
      "dtype: float64\n"
     ]
    }
   ],
   "source": [
    "# Print the model's weights\n",
    "print(model.get_weights())\n",
    "\n",
    "# Print the column means of the training data\n",
    "print(games_tourney_train.mean())"
   ]
  },
  {
   "cell_type": "markdown",
   "metadata": {},
   "source": [
    "### Evaluate the model"
   ]
  },
  {
   "cell_type": "code",
   "execution_count": 54,
   "metadata": {},
   "outputs": [
    {
     "name": "stdout",
     "output_type": "stream",
     "text": [
      "804/804 [==============================] - 0s 67us/step\n"
     ]
    },
    {
     "data": {
      "text/plain": [
       "68.81684845122533"
      ]
     },
     "execution_count": 54,
     "metadata": {},
     "output_type": "execute_result"
    }
   ],
   "source": [
    "# Evaluate the model on the tournament test data\n",
    "model.evaluate(games_tourney_test[['seed_diff','pred']], games_tourney_test[['score_1', 'score_2']])\n"
   ]
  },
  {
   "cell_type": "markdown",
   "metadata": {},
   "source": [
    "### Classification and regression in one model"
   ]
  },
  {
   "cell_type": "code",
   "execution_count": 55,
   "metadata": {},
   "outputs": [],
   "source": [
    "# Create an input layer with 2 columns\n",
    "input_tensor = Input(shape=(2, ))\n",
    "\n",
    "# Create the first output\n",
    "output_tensor_1 = Dense(1, activation='linear', use_bias=False)(input_tensor)\n",
    "\n",
    "# Create the second output (use the first output as input here)\n",
    "output_tensor_2 = Dense(1, activation='sigmoid', use_bias=False)(output_tensor_1)\n",
    "\n",
    "# Create a model with 2 outputs\n",
    "model = Model(input_tensor, [output_tensor_1, output_tensor_2])"
   ]
  },
  {
   "cell_type": "markdown",
   "metadata": {},
   "source": [
    "### Compile and fit the model"
   ]
  },
  {
   "cell_type": "code",
   "execution_count": 56,
   "metadata": {},
   "outputs": [
    {
     "name": "stdout",
     "output_type": "stream",
     "text": [
      "Epoch 1/10\n",
      "3430/3430 [==============================] - 0s 45us/step - loss: 16.7325 - dense_7_loss: 9.2204 - dense_8_loss: 7.5121\n",
      "Epoch 2/10\n",
      "3430/3430 [==============================] - 0s 1us/step - loss: 16.6686 - dense_7_loss: 9.2315 - dense_8_loss: 7.4371\n",
      "Epoch 3/10\n",
      "3430/3430 [==============================] - 0s 2us/step - loss: 16.6188 - dense_7_loss: 9.2426 - dense_8_loss: 7.3762\n",
      "Epoch 4/10\n",
      "3430/3430 [==============================] - 0s 2us/step - loss: 16.5606 - dense_7_loss: 9.2537 - dense_8_loss: 7.3069\n",
      "Epoch 5/10\n",
      "3430/3430 [==============================] - 0s 2us/step - loss: 16.5044 - dense_7_loss: 9.2648 - dense_8_loss: 7.2396\n",
      "Epoch 6/10\n",
      "3430/3430 [==============================] - 0s 2us/step - loss: 16.4456 - dense_7_loss: 9.2759 - dense_8_loss: 7.1697\n",
      "Epoch 7/10\n",
      "3430/3430 [==============================] - 0s 3us/step - loss: 16.3928 - dense_7_loss: 9.2874 - dense_8_loss: 7.1054\n",
      "Epoch 8/10\n",
      "3430/3430 [==============================] - 0s 2us/step - loss: 16.3369 - dense_7_loss: 9.2997 - dense_8_loss: 7.0373\n",
      "Epoch 9/10\n",
      "3430/3430 [==============================] - 0s 2us/step - loss: 16.2851 - dense_7_loss: 9.3125 - dense_8_loss: 6.9727\n",
      "Epoch 10/10\n",
      "3430/3430 [==============================] - 0s 2us/step - loss: 16.2311 - dense_7_loss: 9.3259 - dense_8_loss: 6.9052\n"
     ]
    },
    {
     "data": {
      "text/plain": [
       "<keras.callbacks.History at 0xb26efc748>"
      ]
     },
     "execution_count": 56,
     "metadata": {},
     "output_type": "execute_result"
    }
   ],
   "source": [
    "# Import the Adam optimizer\n",
    "from keras.optimizers import Adam\n",
    "\n",
    "# Compile the model with 2 losses and the Adam optimzer with a higher learning rate\n",
    "model.compile(loss=['mean_absolute_error', 'binary_crossentropy'], optimizer=Adam(0.01))\n",
    "\n",
    "# Fit the model to the tournament training data, with 2 inputs and 2 outputs\n",
    "model.fit(games_tourney_train[['seed_diff', 'pred']],\n",
    "          [games_tourney_train[['score_diff']], games_tourney_train[['won']]],\n",
    "          epochs=10,\n",
    "          verbose=True,\n",
    "          batch_size=16384)"
   ]
  },
  {
   "cell_type": "markdown",
   "metadata": {},
   "source": [
    "### Inspect the model"
   ]
  },
  {
   "cell_type": "code",
   "execution_count": 57,
   "metadata": {},
   "outputs": [
    {
     "name": "stdout",
     "output_type": "stream",
     "text": [
      "[array([[0.88577145],\n",
      "       [0.13118929]], dtype=float32), array([[-1.6194929]], dtype=float32)]\n",
      "season        1998.074052\n",
      "team_1        5556.771429\n",
      "team_2        5556.771429\n",
      "home             0.000000\n",
      "seed_diff        0.000000\n",
      "score_diff       0.000000\n",
      "score_1         71.621283\n",
      "score_2         71.621283\n",
      "won              0.500000\n",
      "pred             0.129023\n",
      "dtype: float64\n"
     ]
    }
   ],
   "source": [
    "# Print the model weights\n",
    "print(model.get_weights())\n",
    "\n",
    "# Print the training data means\n",
    "print(games_tourney_train.mean())"
   ]
  },
  {
   "cell_type": "code",
   "execution_count": 58,
   "metadata": {},
   "outputs": [
    {
     "name": "stdout",
     "output_type": "stream",
     "text": [
      "0.5349429451582145\n",
      "0.8021838885585818\n"
     ]
    }
   ],
   "source": [
    "# Import the sigmoid function from scipy\n",
    "from scipy.special import expit as sigmoid\n",
    "\n",
    "# Weight from the model\n",
    "weight = 0.14\n",
    "\n",
    "# Print the approximate win probability of a predicted close game\n",
    "print(sigmoid(1 * weight))\n",
    "\n",
    "# Print the approximate win probability of a predicted blowout game\n",
    "print(sigmoid(10 * weight))"
   ]
  },
  {
   "cell_type": "markdown",
   "metadata": {},
   "source": [
    "### Evaluate on new data with two metrics"
   ]
  },
  {
   "cell_type": "code",
   "execution_count": 59,
   "metadata": {},
   "outputs": [
    {
     "name": "stdout",
     "output_type": "stream",
     "text": [
      "804/804 [==============================] - 0s 109us/step\n"
     ]
    },
    {
     "data": {
      "text/plain": [
       "[15.595239496942776, 9.223325501626997, 6.371913922959893]"
      ]
     },
     "execution_count": 59,
     "metadata": {},
     "output_type": "execute_result"
    }
   ],
   "source": [
    "# Evaluate the model on new data\n",
    "model.evaluate(games_tourney_test[['seed_diff', 'pred']],\n",
    "          [games_tourney_test[['score_diff']], games_tourney_test[['won']]])\n",
    "               "
   ]
  },
  {
   "cell_type": "code",
   "execution_count": null,
   "metadata": {},
   "outputs": [],
   "source": []
  }
 ],
 "metadata": {
  "kernelspec": {
   "display_name": "Python 3",
   "language": "python",
   "name": "python3"
  },
  "language_info": {
   "codemirror_mode": {
    "name": "ipython",
    "version": 3
   },
   "file_extension": ".py",
   "mimetype": "text/x-python",
   "name": "python",
   "nbconvert_exporter": "python",
   "pygments_lexer": "ipython3",
   "version": "3.6.8"
  }
 },
 "nbformat": 4,
 "nbformat_minor": 2
}
